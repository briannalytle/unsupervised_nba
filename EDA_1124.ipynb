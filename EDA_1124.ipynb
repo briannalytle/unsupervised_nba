{
 "cells": [
  {
   "cell_type": "markdown",
   "metadata": {},
   "source": [
    "The goal of this notebook is to correctly merge all dataframes together"
   ]
  },
  {
   "cell_type": "code",
   "execution_count": 119,
   "metadata": {},
   "outputs": [],
   "source": [
    "import pandas as pd\n",
    "import numpy as np\n",
    "import matplotlib.pyplot as plt"
   ]
  },
  {
   "cell_type": "markdown",
   "metadata": {},
   "source": [
    "# Importing Dataframes"
   ]
  },
  {
   "cell_type": "markdown",
   "metadata": {},
   "source": [
    "## 2019 stats"
   ]
  },
  {
   "cell_type": "code",
   "execution_count": 131,
   "metadata": {},
   "outputs": [],
   "source": [
    "season = pd.read_csv('data/season1920.csv')\n",
    "adv = pd.read_csv('data/ad_1920.csv')\n",
    "salaries = pd.read_csv('data/salaries.csv')\n",
    "scrape538 = pd.read_csv('data/scrape538.csv')"
   ]
  },
  {
   "cell_type": "code",
   "execution_count": 132,
   "metadata": {},
   "outputs": [],
   "source": [
    "season = season.drop(['Unnamed: 0', 'Unnamed: 29'], axis = 1)\n",
    "adv = adv.drop(['Unnamed: 0', 'Pos', 'Age', 'Tm', 'G',\n",
    "                       'MP'], axis = 1)\n",
    "scrape538 = scrape538.drop(['Unnamed: 0', 'Position(s)'], axis = 1)"
   ]
  },
  {
   "cell_type": "code",
   "execution_count": 133,
   "metadata": {},
   "outputs": [],
   "source": [
    "season = season.drop_duplicates(subset = 'Player', keep = 'first')\n",
    "adv = adv.drop_duplicates(subset = 'Player', keep = 'first')\n",
    "df = pd.merge(season, adv, on = 'Player').fillna(0)"
   ]
  },
  {
   "cell_type": "code",
   "execution_count": 134,
   "metadata": {},
   "outputs": [],
   "source": [
    "merged_df = df.merge(salaries, how = 'outer', on = 'Player').merge(scrape538, how = 'outer', on = 'Player')"
   ]
  },
  {
   "cell_type": "code",
   "execution_count": 135,
   "metadata": {
    "scrolled": true
   },
   "outputs": [
    {
     "data": {
      "text/plain": [
       "(583, 67)"
      ]
     },
     "execution_count": 135,
     "metadata": {},
     "output_type": "execute_result"
    }
   ],
   "source": [
    "merged_df.shape"
   ]
  },
  {
   "cell_type": "code",
   "execution_count": 136,
   "metadata": {},
   "outputs": [],
   "source": [
    "problem = merged_df[merged_df.isna().any(axis=1)]"
   ]
  },
  {
   "cell_type": "code",
   "execution_count": 137,
   "metadata": {
    "scrolled": false
   },
   "outputs": [
    {
     "data": {
      "text/plain": [
       "(212, 67)"
      ]
     },
     "execution_count": 137,
     "metadata": {},
     "output_type": "execute_result"
    }
   ],
   "source": [
    "problem.shape"
   ]
  },
  {
   "cell_type": "markdown",
   "metadata": {},
   "source": [
    "export csv and manually clean it."
   ]
  },
  {
   "cell_type": "code",
   "execution_count": 138,
   "metadata": {},
   "outputs": [],
   "source": [
    "problem.to_csv('data/problem_draft.csv')"
   ]
  },
  {
   "cell_type": "markdown",
   "metadata": {},
   "source": [
    "delete the rows that were in the problem csv and then apend the new problem csv to the dataframe "
   ]
  },
  {
   "cell_type": "code",
   "execution_count": 139,
   "metadata": {},
   "outputs": [],
   "source": [
    "merged_df.dropna(inplace = True)"
   ]
  },
  {
   "cell_type": "code",
   "execution_count": 140,
   "metadata": {},
   "outputs": [],
   "source": [
    "fixed19 = pd.read_csv('data/problem.csv')\n",
    "fixed19 = fixed19.drop(['Unnamed: 0', 'Team', 'Minutes'], axis = 1).fillna(0)\n",
    "fixed19 = pd.concat([fixed19, merged_df], ignore_index = True, sort= False)\n",
    "fixed19.to_csv('data/fixed19.csv')"
   ]
  },
  {
   "cell_type": "code",
   "execution_count": 141,
   "metadata": {},
   "outputs": [
    {
     "data": {
      "text/plain": [
       "(470, 67)"
      ]
     },
     "execution_count": 141,
     "metadata": {},
     "output_type": "execute_result"
    }
   ],
   "source": [
    "fixed19.shape"
   ]
  },
  {
   "cell_type": "markdown",
   "metadata": {},
   "source": [
    "## 2018 BR Stats"
   ]
  },
  {
   "cell_type": "code",
   "execution_count": 64,
   "metadata": {},
   "outputs": [],
   "source": [
    "season18 = pd.read_csv('data/season1819.csv', index_col = [0])\n",
    "adv18 = pd.read_csv('data/ad_1819.csv', index_col = [0])"
   ]
  },
  {
   "cell_type": "code",
   "execution_count": 65,
   "metadata": {},
   "outputs": [],
   "source": [
    "season18 = season18.drop(['Unnamed: 29', 'url_list'], axis = 1).fillna(0).drop_duplicates(subset = 'Player', keep = 'first')\n",
    "adv18 = adv18.drop(['Pos', 'Age', 'Tm', 'G', 'MP'], axis =1).fillna(0).drop_duplicates(subset = 'Player', keep = 'first')"
   ]
  },
  {
   "cell_type": "code",
   "execution_count": 66,
   "metadata": {},
   "outputs": [
    {
     "name": "stdout",
     "output_type": "stream",
     "text": [
      "(531, 30)\n",
      "(531, 23)\n"
     ]
    }
   ],
   "source": [
    "print(season18.shape)\n",
    "print(adv18.shape)"
   ]
  },
  {
   "cell_type": "code",
   "execution_count": 67,
   "metadata": {
    "scrolled": false
   },
   "outputs": [
    {
     "data": {
      "text/plain": [
       "(531, 52)"
      ]
     },
     "execution_count": 67,
     "metadata": {},
     "output_type": "execute_result"
    }
   ],
   "source": [
    "stats18 = season18.merge(adv18, how = 'outer', on = 'Player')\n",
    "stats18.shape"
   ]
  },
  {
   "cell_type": "markdown",
   "metadata": {},
   "source": [
    "## 2018 NBA Miner stats"
   ]
  },
  {
   "cell_type": "code",
   "execution_count": 92,
   "metadata": {},
   "outputs": [],
   "source": [
    "misc = pd.read_csv('data/nbam_misc1.csv')\n",
    "dist = pd.read_csv('data/shot_dist18.csv')\n",
    "shot_type = pd.read_csv('data/shot_type18.csv')\n",
    "zone = pd.read_csv('data/shot_zones18.csv')"
   ]
  },
  {
   "cell_type": "code",
   "execution_count": 93,
   "metadata": {},
   "outputs": [],
   "source": [
    "miner = misc.merge(dist, how = 'outer', on = 'Player').merge(shot_type, how = 'outer', on = 'Player').merge(zone, how = 'outer', on = 'Player')"
   ]
  },
  {
   "cell_type": "markdown",
   "metadata": {},
   "source": [
    "## combine 2018 stats"
   ]
  },
  {
   "cell_type": "code",
   "execution_count": 94,
   "metadata": {},
   "outputs": [
    {
     "data": {
      "text/plain": [
       "(595, 100)"
      ]
     },
     "execution_count": 94,
     "metadata": {},
     "output_type": "execute_result"
    }
   ],
   "source": [
    "cstats18 = stats18.merge(miner, how = 'outer', on = 'Player')\n",
    "cstats18.shape"
   ]
  },
  {
   "cell_type": "code",
   "execution_count": 103,
   "metadata": {},
   "outputs": [],
   "source": [
    "cstats18problem = cstats18[cstats18.isna().any(axis = 1)]\n",
    "cstats18.dropna(inplace = True)"
   ]
  },
  {
   "cell_type": "code",
   "execution_count": 104,
   "metadata": {},
   "outputs": [],
   "source": [
    "#export to manually clean\n",
    "cstats18problem.to_csv('data/stat18_probdraft.csv')"
   ]
  },
  {
   "cell_type": "code",
   "execution_count": 105,
   "metadata": {},
   "outputs": [
    {
     "data": {
      "text/plain": [
       "Index(['Player', 'Pos', 'Age', 'Tm', 'G', 'GS', 'MP', 'FG', 'FGA', 'FG%', '3P',\n",
       "       '3PA', '3P%', '2P', '2PA', '2P%', 'FT', 'FTA', 'FT%', 'ORB', 'DRB',\n",
       "       'TRB', 'AST', 'STL', 'BLK', 'TOV', 'PF', 'PTS', 'ORtg', 'DRtg', 'PER',\n",
       "       'TS%', '3PAr', 'FTr', 'ORB%', 'DRB%', 'TRB%', 'AST%', 'STL%', 'BLK%',\n",
       "       'TOV%', 'USG%', 'OWS', 'DWS', 'WS', 'WS/48', 'OBPM', 'DBPM', 'BPM',\n",
       "       'VORP', 'Games18', 'FB', 'PAINTPTS', 'TO_PTS', '2ND_PTS', 'Q1PTS',\n",
       "       'Q2PTS', 'Q3PTS', 'Q4PTS', 'PPP', '>8ft%', '8-16ft%', '16-24ft%',\n",
       "       '24+%', 'BCS%', '>8FTU', '8-16FTU', '16-24FTU', '24+U', 'BCU',\n",
       "       'AVGDISTA', 'AVGDISTM', 'AVGDISTF', 'AFGM', 'JS', 'LU', 'DUN', 'TIPIN',\n",
       "       'JS%', 'Layup%18', 'DUN%', '2PT_m', '3PT_m', 'FT_m', 'AB_3U', 'MRU',\n",
       "       'paint_nonra', 'ra_usage', 'RC_3', 'LC_3', 'backcourt_usage', 'AB3%',\n",
       "       'MR%', 'paint_nonra%', 'RA%', 'RC3%', 'LC3%', 'BC%'],\n",
       "      dtype='object')"
      ]
     },
     "execution_count": 105,
     "metadata": {},
     "output_type": "execute_result"
    }
   ],
   "source": [
    "#import clean code\n",
    "stat18_clean = pd.read_csv('data/stat18_prob.csv')\n",
    "stat18_clean.columns"
   ]
  },
  {
   "cell_type": "code",
   "execution_count": 106,
   "metadata": {},
   "outputs": [
    {
     "data": {
      "text/plain": [
       "Index(['Player', 'Pos', 'Age', 'Tm', 'G', 'GS', 'MP', 'FG', 'FGA', 'FG%', '3P',\n",
       "       '3PA', '3P%', '2P', '2PA', '2P%', 'FT', 'FTA', 'FT%', 'ORB', 'DRB',\n",
       "       'TRB', 'AST', 'STL', 'BLK', 'TOV', 'PF', 'PTS', 'ORtg', 'DRtg', 'PER',\n",
       "       'TS%', '3PAr', 'FTr', 'ORB%', 'DRB%', 'TRB%', 'AST%', 'STL%', 'BLK%',\n",
       "       'TOV%', 'USG%', 'OWS', 'DWS', 'WS', 'WS/48', 'OBPM', 'DBPM', 'BPM',\n",
       "       'VORP', 'Games18', 'FB', 'PAINTPTS', 'TO_PTS', '2ND_PTS', 'Q1PTS',\n",
       "       'Q2PTS', 'Q3PTS', 'Q4PTS', 'PPP', '>8ft%', '8-16ft%', '16-24ft%',\n",
       "       '24+%', 'BCS%', '>8FTU', '8-16FTU', '16-24FTU', '24+U', 'BCU',\n",
       "       'AVGDISTA', 'AVGDISTM', 'AVGDISTF', 'AFGM', 'JS', 'LU', 'DUN', 'TIPIN',\n",
       "       'JS%', 'Layup%18', 'DUN%', '2PT_m', '3PT_m', 'FT_m', 'AB_3U', 'MRU',\n",
       "       'paint_nonra', 'ra_usage', 'RC_3', 'LC_3', 'backcourt_usage', 'AB3%',\n",
       "       'MR%', 'paint_nonra%', 'RA%', 'RC3%', 'LC3%', 'BC%', ' ', ' .1'],\n",
       "      dtype='object')"
      ]
     },
     "execution_count": 106,
     "metadata": {},
     "output_type": "execute_result"
    }
   ],
   "source": [
    "stat18_clean = pd.concat([stat18_clean, cstats18], sort= False)\n",
    "stat18_clean.columns"
   ]
  },
  {
   "cell_type": "markdown",
   "metadata": {},
   "source": [
    "## Putting it together"
   ]
  },
  {
   "cell_type": "code",
   "execution_count": 25,
   "metadata": {},
   "outputs": [],
   "source": [
    "together = merged_df.merge(scrape538, how = 'outer', on = 'Player').merge(miner, how = 'outer', on = 'Player')"
   ]
  },
  {
   "cell_type": "code",
   "execution_count": 26,
   "metadata": {},
   "outputs": [
    {
     "data": {
      "text/plain": [
       "(673, 115)"
      ]
     },
     "execution_count": 26,
     "metadata": {},
     "output_type": "execute_result"
    }
   ],
   "source": [
    "together.shape"
   ]
  },
  {
   "cell_type": "code",
   "execution_count": 27,
   "metadata": {},
   "outputs": [],
   "source": [
    "problem = together[together.isna().any(axis=1)]"
   ]
  },
  {
   "cell_type": "code",
   "execution_count": 28,
   "metadata": {},
   "outputs": [
    {
     "data": {
      "text/plain": [
       "(356, 115)"
      ]
     },
     "execution_count": 28,
     "metadata": {},
     "output_type": "execute_result"
    }
   ],
   "source": [
    "problem.shape"
   ]
  },
  {
   "cell_type": "code",
   "execution_count": 29,
   "metadata": {},
   "outputs": [],
   "source": [
    "problem.to_csv('data/problem.csv')"
   ]
  },
  {
   "cell_type": "code",
   "execution_count": 24,
   "metadata": {
    "scrolled": true
   },
   "outputs": [
    {
     "data": {
      "text/html": [
       "<div>\n",
       "<style scoped>\n",
       "    .dataframe tbody tr th:only-of-type {\n",
       "        vertical-align: middle;\n",
       "    }\n",
       "\n",
       "    .dataframe tbody tr th {\n",
       "        vertical-align: top;\n",
       "    }\n",
       "\n",
       "    .dataframe thead th {\n",
       "        text-align: right;\n",
       "    }\n",
       "</style>\n",
       "<table border=\"1\" class=\"dataframe\">\n",
       "  <thead>\n",
       "    <tr style=\"text-align: right;\">\n",
       "      <th></th>\n",
       "      <th>Unnamed: 0</th>\n",
       "      <th>Player</th>\n",
       "      <th>Pos</th>\n",
       "      <th>Age</th>\n",
       "      <th>Tm</th>\n",
       "      <th>G</th>\n",
       "      <th>GS</th>\n",
       "      <th>MP</th>\n",
       "      <th>FG</th>\n",
       "      <th>FGA</th>\n",
       "      <th>...</th>\n",
       "      <th>RC_3</th>\n",
       "      <th>LC_3</th>\n",
       "      <th>backcourt_usage</th>\n",
       "      <th>AB3%</th>\n",
       "      <th>MR%</th>\n",
       "      <th>paint_nonra%</th>\n",
       "      <th>RA%</th>\n",
       "      <th>RC3%</th>\n",
       "      <th>LC3%</th>\n",
       "      <th>BC%</th>\n",
       "    </tr>\n",
       "  </thead>\n",
       "  <tbody>\n",
       "    <tr>\n",
       "      <td>0</td>\n",
       "      <td>3</td>\n",
       "      <td>Nickeil Alexander-Walker</td>\n",
       "      <td>SG</td>\n",
       "      <td>21.0</td>\n",
       "      <td>NOP</td>\n",
       "      <td>15.0</td>\n",
       "      <td>0.0</td>\n",
       "      <td>226.0</td>\n",
       "      <td>7.3</td>\n",
       "      <td>22.2</td>\n",
       "      <td>...</td>\n",
       "      <td>NaN</td>\n",
       "      <td>NaN</td>\n",
       "      <td>NaN</td>\n",
       "      <td>NaN</td>\n",
       "      <td>NaN</td>\n",
       "      <td>NaN</td>\n",
       "      <td>NaN</td>\n",
       "      <td>NaN</td>\n",
       "      <td>NaN</td>\n",
       "      <td>NaN</td>\n",
       "    </tr>\n",
       "    <tr>\n",
       "      <td>1</td>\n",
       "      <td>11</td>\n",
       "      <td>Thanasis Antetokounmpo</td>\n",
       "      <td>SF</td>\n",
       "      <td>27.0</td>\n",
       "      <td>MIL</td>\n",
       "      <td>3.0</td>\n",
       "      <td>0.0</td>\n",
       "      <td>13.0</td>\n",
       "      <td>6.9</td>\n",
       "      <td>13.9</td>\n",
       "      <td>...</td>\n",
       "      <td>NaN</td>\n",
       "      <td>NaN</td>\n",
       "      <td>NaN</td>\n",
       "      <td>NaN</td>\n",
       "      <td>NaN</td>\n",
       "      <td>NaN</td>\n",
       "      <td>NaN</td>\n",
       "      <td>NaN</td>\n",
       "      <td>NaN</td>\n",
       "      <td>NaN</td>\n",
       "    </tr>\n",
       "    <tr>\n",
       "      <td>2</td>\n",
       "      <td>19</td>\n",
       "      <td>Marvin Bagley</td>\n",
       "      <td>PF</td>\n",
       "      <td>20.0</td>\n",
       "      <td>SAC</td>\n",
       "      <td>1.0</td>\n",
       "      <td>1.0</td>\n",
       "      <td>28.0</td>\n",
       "      <td>10.5</td>\n",
       "      <td>28.0</td>\n",
       "      <td>...</td>\n",
       "      <td>NaN</td>\n",
       "      <td>NaN</td>\n",
       "      <td>NaN</td>\n",
       "      <td>NaN</td>\n",
       "      <td>NaN</td>\n",
       "      <td>NaN</td>\n",
       "      <td>NaN</td>\n",
       "      <td>NaN</td>\n",
       "      <td>NaN</td>\n",
       "      <td>NaN</td>\n",
       "    </tr>\n",
       "    <tr>\n",
       "      <td>3</td>\n",
       "      <td>24</td>\n",
       "      <td>RJ Barrett</td>\n",
       "      <td>SG</td>\n",
       "      <td>19.0</td>\n",
       "      <td>NYK</td>\n",
       "      <td>16.0</td>\n",
       "      <td>16.0</td>\n",
       "      <td>534.0</td>\n",
       "      <td>8.4</td>\n",
       "      <td>20.4</td>\n",
       "      <td>...</td>\n",
       "      <td>NaN</td>\n",
       "      <td>NaN</td>\n",
       "      <td>NaN</td>\n",
       "      <td>NaN</td>\n",
       "      <td>NaN</td>\n",
       "      <td>NaN</td>\n",
       "      <td>NaN</td>\n",
       "      <td>NaN</td>\n",
       "      <td>NaN</td>\n",
       "      <td>NaN</td>\n",
       "    </tr>\n",
       "    <tr>\n",
       "      <td>4</td>\n",
       "      <td>30</td>\n",
       "      <td>Darius Bazley</td>\n",
       "      <td>PF</td>\n",
       "      <td>19.0</td>\n",
       "      <td>OKC</td>\n",
       "      <td>15.0</td>\n",
       "      <td>0.0</td>\n",
       "      <td>262.0</td>\n",
       "      <td>5.0</td>\n",
       "      <td>11.0</td>\n",
       "      <td>...</td>\n",
       "      <td>NaN</td>\n",
       "      <td>NaN</td>\n",
       "      <td>NaN</td>\n",
       "      <td>NaN</td>\n",
       "      <td>NaN</td>\n",
       "      <td>NaN</td>\n",
       "      <td>NaN</td>\n",
       "      <td>NaN</td>\n",
       "      <td>NaN</td>\n",
       "      <td>NaN</td>\n",
       "    </tr>\n",
       "    <tr>\n",
       "      <td>...</td>\n",
       "      <td>...</td>\n",
       "      <td>...</td>\n",
       "      <td>...</td>\n",
       "      <td>...</td>\n",
       "      <td>...</td>\n",
       "      <td>...</td>\n",
       "      <td>...</td>\n",
       "      <td>...</td>\n",
       "      <td>...</td>\n",
       "      <td>...</td>\n",
       "      <td>...</td>\n",
       "      <td>...</td>\n",
       "      <td>...</td>\n",
       "      <td>...</td>\n",
       "      <td>...</td>\n",
       "      <td>...</td>\n",
       "      <td>...</td>\n",
       "      <td>...</td>\n",
       "      <td>...</td>\n",
       "      <td>...</td>\n",
       "      <td>...</td>\n",
       "    </tr>\n",
       "    <tr>\n",
       "      <td>351</td>\n",
       "      <td>668</td>\n",
       "      <td>Tyler Ulis</td>\n",
       "      <td>NaN</td>\n",
       "      <td>NaN</td>\n",
       "      <td>NaN</td>\n",
       "      <td>NaN</td>\n",
       "      <td>NaN</td>\n",
       "      <td>NaN</td>\n",
       "      <td>NaN</td>\n",
       "      <td>NaN</td>\n",
       "      <td>...</td>\n",
       "      <td>0.0</td>\n",
       "      <td>0.0</td>\n",
       "      <td>0.0</td>\n",
       "      <td>0.0</td>\n",
       "      <td>0.0</td>\n",
       "      <td>0.0</td>\n",
       "      <td>0.0</td>\n",
       "      <td>0.0</td>\n",
       "      <td>0.0</td>\n",
       "      <td>0.0</td>\n",
       "    </tr>\n",
       "    <tr>\n",
       "      <td>352</td>\n",
       "      <td>669</td>\n",
       "      <td>George King</td>\n",
       "      <td>NaN</td>\n",
       "      <td>NaN</td>\n",
       "      <td>NaN</td>\n",
       "      <td>NaN</td>\n",
       "      <td>NaN</td>\n",
       "      <td>NaN</td>\n",
       "      <td>NaN</td>\n",
       "      <td>NaN</td>\n",
       "      <td>...</td>\n",
       "      <td>0.0</td>\n",
       "      <td>0.0</td>\n",
       "      <td>0.0</td>\n",
       "      <td>0.0</td>\n",
       "      <td>0.0</td>\n",
       "      <td>0.0</td>\n",
       "      <td>0.0</td>\n",
       "      <td>0.0</td>\n",
       "      <td>0.0</td>\n",
       "      <td>0.0</td>\n",
       "    </tr>\n",
       "    <tr>\n",
       "      <td>353</td>\n",
       "      <td>670</td>\n",
       "      <td>Okaro White</td>\n",
       "      <td>NaN</td>\n",
       "      <td>NaN</td>\n",
       "      <td>NaN</td>\n",
       "      <td>NaN</td>\n",
       "      <td>NaN</td>\n",
       "      <td>NaN</td>\n",
       "      <td>NaN</td>\n",
       "      <td>NaN</td>\n",
       "      <td>...</td>\n",
       "      <td>50.0</td>\n",
       "      <td>0.0</td>\n",
       "      <td>0.0</td>\n",
       "      <td>0.0</td>\n",
       "      <td>0.0</td>\n",
       "      <td>0.0</td>\n",
       "      <td>0.0</td>\n",
       "      <td>0.0</td>\n",
       "      <td>0.0</td>\n",
       "      <td>0.0</td>\n",
       "    </tr>\n",
       "    <tr>\n",
       "      <td>354</td>\n",
       "      <td>671</td>\n",
       "      <td>Zach Lofton</td>\n",
       "      <td>NaN</td>\n",
       "      <td>NaN</td>\n",
       "      <td>NaN</td>\n",
       "      <td>NaN</td>\n",
       "      <td>NaN</td>\n",
       "      <td>NaN</td>\n",
       "      <td>NaN</td>\n",
       "      <td>NaN</td>\n",
       "      <td>...</td>\n",
       "      <td>0.0</td>\n",
       "      <td>0.0</td>\n",
       "      <td>0.0</td>\n",
       "      <td>0.0</td>\n",
       "      <td>0.0</td>\n",
       "      <td>0.0</td>\n",
       "      <td>0.0</td>\n",
       "      <td>0.0</td>\n",
       "      <td>0.0</td>\n",
       "      <td>0.0</td>\n",
       "    </tr>\n",
       "    <tr>\n",
       "      <td>355</td>\n",
       "      <td>672</td>\n",
       "      <td>Tyler Davis</td>\n",
       "      <td>NaN</td>\n",
       "      <td>NaN</td>\n",
       "      <td>NaN</td>\n",
       "      <td>NaN</td>\n",
       "      <td>NaN</td>\n",
       "      <td>NaN</td>\n",
       "      <td>NaN</td>\n",
       "      <td>NaN</td>\n",
       "      <td>...</td>\n",
       "      <td>0.0</td>\n",
       "      <td>0.0</td>\n",
       "      <td>0.0</td>\n",
       "      <td>0.0</td>\n",
       "      <td>0.0</td>\n",
       "      <td>0.0</td>\n",
       "      <td>0.0</td>\n",
       "      <td>0.0</td>\n",
       "      <td>0.0</td>\n",
       "      <td>0.0</td>\n",
       "    </tr>\n",
       "  </tbody>\n",
       "</table>\n",
       "<p>356 rows × 116 columns</p>\n",
       "</div>"
      ],
      "text/plain": [
       "     Unnamed: 0                    Player  Pos   Age   Tm     G    GS     MP  \\\n",
       "0             3  Nickeil Alexander-Walker   SG  21.0  NOP  15.0   0.0  226.0   \n",
       "1            11    Thanasis Antetokounmpo   SF  27.0  MIL   3.0   0.0   13.0   \n",
       "2            19             Marvin Bagley   PF  20.0  SAC   1.0   1.0   28.0   \n",
       "3            24                RJ Barrett   SG  19.0  NYK  16.0  16.0  534.0   \n",
       "4            30             Darius Bazley   PF  19.0  OKC  15.0   0.0  262.0   \n",
       "..          ...                       ...  ...   ...  ...   ...   ...    ...   \n",
       "351         668                Tyler Ulis  NaN   NaN  NaN   NaN   NaN    NaN   \n",
       "352         669               George King  NaN   NaN  NaN   NaN   NaN    NaN   \n",
       "353         670               Okaro White  NaN   NaN  NaN   NaN   NaN    NaN   \n",
       "354         671               Zach Lofton  NaN   NaN  NaN   NaN   NaN    NaN   \n",
       "355         672               Tyler Davis  NaN   NaN  NaN   NaN   NaN    NaN   \n",
       "\n",
       "       FG   FGA  ...  RC_3  LC_3  backcourt_usage  AB3%  MR%  paint_nonra%  \\\n",
       "0     7.3  22.2  ...   NaN   NaN              NaN   NaN  NaN           NaN   \n",
       "1     6.9  13.9  ...   NaN   NaN              NaN   NaN  NaN           NaN   \n",
       "2    10.5  28.0  ...   NaN   NaN              NaN   NaN  NaN           NaN   \n",
       "3     8.4  20.4  ...   NaN   NaN              NaN   NaN  NaN           NaN   \n",
       "4     5.0  11.0  ...   NaN   NaN              NaN   NaN  NaN           NaN   \n",
       "..    ...   ...  ...   ...   ...              ...   ...  ...           ...   \n",
       "351   NaN   NaN  ...   0.0   0.0              0.0   0.0  0.0           0.0   \n",
       "352   NaN   NaN  ...   0.0   0.0              0.0   0.0  0.0           0.0   \n",
       "353   NaN   NaN  ...  50.0   0.0              0.0   0.0  0.0           0.0   \n",
       "354   NaN   NaN  ...   0.0   0.0              0.0   0.0  0.0           0.0   \n",
       "355   NaN   NaN  ...   0.0   0.0              0.0   0.0  0.0           0.0   \n",
       "\n",
       "     RA%  RC3%  LC3%  BC%  \n",
       "0    NaN   NaN   NaN  NaN  \n",
       "1    NaN   NaN   NaN  NaN  \n",
       "2    NaN   NaN   NaN  NaN  \n",
       "3    NaN   NaN   NaN  NaN  \n",
       "4    NaN   NaN   NaN  NaN  \n",
       "..   ...   ...   ...  ...  \n",
       "351  0.0   0.0   0.0  0.0  \n",
       "352  0.0   0.0   0.0  0.0  \n",
       "353  0.0   0.0   0.0  0.0  \n",
       "354  0.0   0.0   0.0  0.0  \n",
       "355  0.0   0.0   0.0  0.0  \n",
       "\n",
       "[356 rows x 116 columns]"
      ]
     },
     "execution_count": 24,
     "metadata": {},
     "output_type": "execute_result"
    }
   ],
   "source": [
    "trying = pd.read_csv('data/problem.csv')\n",
    "trying"
   ]
  },
  {
   "cell_type": "code",
   "execution_count": null,
   "metadata": {},
   "outputs": [],
   "source": []
  }
 ],
 "metadata": {
  "kernelspec": {
   "display_name": "Python 3",
   "language": "python",
   "name": "python3"
  },
  "language_info": {
   "codemirror_mode": {
    "name": "ipython",
    "version": 3
   },
   "file_extension": ".py",
   "mimetype": "text/x-python",
   "name": "python",
   "nbconvert_exporter": "python",
   "pygments_lexer": "ipython3",
   "version": "3.7.4"
  }
 },
 "nbformat": 4,
 "nbformat_minor": 2
}
