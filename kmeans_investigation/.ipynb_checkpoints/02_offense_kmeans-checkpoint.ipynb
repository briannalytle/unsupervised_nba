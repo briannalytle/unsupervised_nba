{
 "cells": [
  {
   "cell_type": "code",
   "execution_count": 1,
   "metadata": {},
   "outputs": [],
   "source": [
    "import pandas as pd\n",
    "import numpy as np\n",
    "import seaborn as sns\n",
    "import matplotlib.pyplot as plt\n",
    "\n",
    "import pickle\n",
    "\n",
    "from scipy import sparse\n",
    "from sklearn.metrics.pairwise import pairwise_distances\n",
    "from sklearn.metrics import silhouette_score\n",
    "from sklearn.decomposition import PCA\n",
    "from sklearn.cluster import KMeans\n",
    "from sklearn.preprocessing import StandardScaler"
   ]
  },
  {
   "cell_type": "markdown",
   "metadata": {},
   "source": [
    "# Import DataFrame"
   ]
  },
  {
   "cell_type": "code",
   "execution_count": 2,
   "metadata": {},
   "outputs": [],
   "source": [
    "nba_stats19 = pd.read_csv('../data/nba_stats19.csv', index_col = [0])"
   ]
  },
  {
   "cell_type": "markdown",
   "metadata": {},
   "source": [
    "## Renaming columns"
   ]
  },
  {
   "cell_type": "code",
   "execution_count": 3,
   "metadata": {},
   "outputs": [],
   "source": [
    "nba_stats19.drop(columns = ['DREB_y', 'T_DREB%_y', 'T_STL%_y', 'T_BLK%_y', 'Age_y','FT%_y'], inplace = True)\n",
    "nba_stats19.rename(columns = {'Age_x': 'Age', 'FT%_x': 'FT%', 'DREB_x': 'DREB', 'T_DREB%_x' : 'T_DREB%',\n",
    "                             'T_STL%_x': 'T_STL%', 'T_BLK%_x': 'T_BLK%'}, inplace = True)"
   ]
  },
  {
   "cell_type": "markdown",
   "metadata": {},
   "source": [
    "# label stats"
   ]
  },
  {
   "cell_type": "code",
   "execution_count": 4,
   "metadata": {},
   "outputs": [],
   "source": [
    "offensive_stats = ['FG%', '3P%', 'OREB', 'TOV', 'DD2',\n",
    "            'TD3', 'T_FGM%', 'T_FGA%', 'T_3PM%', 'T_3PA%', 'T_OREB%',\n",
    "            'T_TOV%', 'T_STL%', '2ND_CH_PTS', 'FB_PTS', 'BSR Off.',\n",
    "            'OOR Off.', 'OVR Off.', 'WAR', 'FP', 'STL', 'USG%', 'PAINT_PTS', 'FGM_AST%', 'FGM_UAST%',\n",
    "                  'AST', 'FGA_2P%', '2PT_MR%'] \n",
    "#Only adding in player and salary for this notebook modeling"
   ]
  },
  {
   "cell_type": "markdown",
   "metadata": {},
   "source": [
    "# kmeans clustering"
   ]
  },
  {
   "cell_type": "code",
   "execution_count": 5,
   "metadata": {},
   "outputs": [
    {
     "name": "stdout",
     "output_type": "stream",
     "text": [
      "Cumulative Explained Variance: 0.6991680655502114\n"
     ]
    }
   ],
   "source": [
    "X = nba_stats19[offensive_stats]\n",
    "y = nba_stats19['Player']\n",
    "\n",
    "#scale data\n",
    "sc = StandardScaler()\n",
    "X_sc = sc.fit_transform(X)\n",
    "\n",
    "#dimensionality reduction\n",
    "pca = PCA(n_components = 5)\n",
    "pca.fit(X_sc)\n",
    "X_pca = pca.transform(X_sc)\n",
    "print(\"Cumulative Explained Variance:\", pca.explained_variance_ratio_.sum())"
   ]
  },
  {
   "cell_type": "code",
   "execution_count": 6,
   "metadata": {},
   "outputs": [
    {
     "data": {
      "text/plain": [
       "0.2065449452829016"
      ]
     },
     "execution_count": 6,
     "metadata": {},
     "output_type": "execute_result"
    }
   ],
   "source": [
    "#creating clusters\n",
    "offensive = KMeans(n_clusters = 3,random_state= 248)\n",
    "offensive.fit(X_pca)\n",
    "y_kmeans = offensive.predict(X_pca)\n",
    "nba_stats19['off_kmean'] = offensive.labels_\n",
    "off_sil = silhouette_score(X_sc, offensive.labels_)\n",
    "silhouette_score(X_sc, offensive.labels_)"
   ]
  },
  {
   "cell_type": "markdown",
   "metadata": {},
   "source": [
    "There are 3 clusters"
   ]
  },
  {
   "cell_type": "code",
   "execution_count": 7,
   "metadata": {},
   "outputs": [],
   "source": [
    "off_cluster0 = nba_stats19[nba_stats19['off_kmean'] == 0]\n",
    "off_cluster1 = nba_stats19[nba_stats19['off_kmean'] == 1]\n",
    "off_cluster2 = nba_stats19[nba_stats19['off_kmean'] == 2]"
   ]
  },
  {
   "cell_type": "markdown",
   "metadata": {},
   "source": [
    "## EDA"
   ]
  },
  {
   "cell_type": "code",
   "execution_count": 8,
   "metadata": {},
   "outputs": [
    {
     "data": {
      "text/html": [
       "<div>\n",
       "<style scoped>\n",
       "    .dataframe tbody tr th:only-of-type {\n",
       "        vertical-align: middle;\n",
       "    }\n",
       "\n",
       "    .dataframe tbody tr th {\n",
       "        vertical-align: top;\n",
       "    }\n",
       "\n",
       "    .dataframe thead th {\n",
       "        text-align: right;\n",
       "    }\n",
       "</style>\n",
       "<table border=\"1\" class=\"dataframe\">\n",
       "  <thead>\n",
       "    <tr style=\"text-align: right;\">\n",
       "      <th></th>\n",
       "      <th>Player</th>\n",
       "      <th>Age</th>\n",
       "      <th>W</th>\n",
       "      <th>L</th>\n",
       "      <th>MP</th>\n",
       "      <th>FGM</th>\n",
       "      <th>FGA</th>\n",
       "      <th>FG%</th>\n",
       "      <th>3PM</th>\n",
       "      <th>3PA</th>\n",
       "      <th>...</th>\n",
       "      <th>BSR Total</th>\n",
       "      <th>OOR Off.</th>\n",
       "      <th>OOR Def.</th>\n",
       "      <th>OOR Total</th>\n",
       "      <th>OVR Off.</th>\n",
       "      <th>OVR Def.</th>\n",
       "      <th>OVR total</th>\n",
       "      <th>WAR</th>\n",
       "      <th>salary</th>\n",
       "      <th>off_kmean</th>\n",
       "    </tr>\n",
       "  </thead>\n",
       "  <tbody>\n",
       "    <tr>\n",
       "      <td>0</td>\n",
       "      <td>Ante Zizic</td>\n",
       "      <td>22</td>\n",
       "      <td>0</td>\n",
       "      <td>6</td>\n",
       "      <td>11.7</td>\n",
       "      <td>1.8</td>\n",
       "      <td>3.5</td>\n",
       "      <td>52.4</td>\n",
       "      <td>0.0</td>\n",
       "      <td>0.0</td>\n",
       "      <td>...</td>\n",
       "      <td>-6.6</td>\n",
       "      <td>0.1</td>\n",
       "      <td>-6.0</td>\n",
       "      <td>-5.9</td>\n",
       "      <td>-3.7</td>\n",
       "      <td>-3.0</td>\n",
       "      <td>-6.7</td>\n",
       "      <td>-0.1</td>\n",
       "      <td>$2,281,800</td>\n",
       "      <td>0</td>\n",
       "    </tr>\n",
       "    <tr>\n",
       "      <td>1</td>\n",
       "      <td>Boban Marjanovic</td>\n",
       "      <td>31</td>\n",
       "      <td>6</td>\n",
       "      <td>3</td>\n",
       "      <td>12.0</td>\n",
       "      <td>2.8</td>\n",
       "      <td>5.4</td>\n",
       "      <td>51.0</td>\n",
       "      <td>0.0</td>\n",
       "      <td>0.1</td>\n",
       "      <td>...</td>\n",
       "      <td>-2.2</td>\n",
       "      <td>14.4</td>\n",
       "      <td>-1.8</td>\n",
       "      <td>12.6</td>\n",
       "      <td>3.3</td>\n",
       "      <td>-2.8</td>\n",
       "      <td>0.6</td>\n",
       "      <td>0.2</td>\n",
       "      <td>$3,500,000</td>\n",
       "      <td>0</td>\n",
       "    </tr>\n",
       "    <tr>\n",
       "      <td>2</td>\n",
       "      <td>Bogdan Bogdanovic</td>\n",
       "      <td>27</td>\n",
       "      <td>8</td>\n",
       "      <td>10</td>\n",
       "      <td>27.5</td>\n",
       "      <td>5.2</td>\n",
       "      <td>12.7</td>\n",
       "      <td>40.6</td>\n",
       "      <td>2.8</td>\n",
       "      <td>7.2</td>\n",
       "      <td>...</td>\n",
       "      <td>3.2</td>\n",
       "      <td>-0.5</td>\n",
       "      <td>-0.1</td>\n",
       "      <td>-0.7</td>\n",
       "      <td>2.8</td>\n",
       "      <td>-0.1</td>\n",
       "      <td>2.6</td>\n",
       "      <td>1.3</td>\n",
       "      <td>$8,529,386</td>\n",
       "      <td>1</td>\n",
       "    </tr>\n",
       "    <tr>\n",
       "      <td>3</td>\n",
       "      <td>Bojan Bogdanovic</td>\n",
       "      <td>30</td>\n",
       "      <td>12</td>\n",
       "      <td>8</td>\n",
       "      <td>33.1</td>\n",
       "      <td>7.3</td>\n",
       "      <td>15.3</td>\n",
       "      <td>47.4</td>\n",
       "      <td>3.1</td>\n",
       "      <td>6.8</td>\n",
       "      <td>...</td>\n",
       "      <td>-0.1</td>\n",
       "      <td>7.8</td>\n",
       "      <td>-2.2</td>\n",
       "      <td>5.6</td>\n",
       "      <td>2.7</td>\n",
       "      <td>-1.6</td>\n",
       "      <td>1.1</td>\n",
       "      <td>1.3</td>\n",
       "      <td>$17,000,000</td>\n",
       "      <td>1</td>\n",
       "    </tr>\n",
       "    <tr>\n",
       "      <td>4</td>\n",
       "      <td>Brandon Goodwin</td>\n",
       "      <td>24</td>\n",
       "      <td>1</td>\n",
       "      <td>0</td>\n",
       "      <td>2.5</td>\n",
       "      <td>0.0</td>\n",
       "      <td>0.0</td>\n",
       "      <td>0.0</td>\n",
       "      <td>0.0</td>\n",
       "      <td>0.0</td>\n",
       "      <td>...</td>\n",
       "      <td>-4.2</td>\n",
       "      <td>-6.6</td>\n",
       "      <td>-13.3</td>\n",
       "      <td>-19.9</td>\n",
       "      <td>-22.9</td>\n",
       "      <td>15.1</td>\n",
       "      <td>-7.8</td>\n",
       "      <td>0.0</td>\n",
       "      <td>0</td>\n",
       "      <td>2</td>\n",
       "    </tr>\n",
       "  </tbody>\n",
       "</table>\n",
       "<p>5 rows × 88 columns</p>\n",
       "</div>"
      ],
      "text/plain": [
       "              Player  Age   W   L    MP  FGM   FGA   FG%  3PM  3PA  ...  \\\n",
       "0         Ante Zizic   22   0   6  11.7  1.8   3.5  52.4  0.0  0.0  ...   \n",
       "1   Boban Marjanovic   31   6   3  12.0  2.8   5.4  51.0  0.0  0.1  ...   \n",
       "2  Bogdan Bogdanovic   27   8  10  27.5  5.2  12.7  40.6  2.8  7.2  ...   \n",
       "3   Bojan Bogdanovic   30  12   8  33.1  7.3  15.3  47.4  3.1  6.8  ...   \n",
       "4    Brandon Goodwin   24   1   0   2.5  0.0   0.0   0.0  0.0  0.0  ...   \n",
       "\n",
       "   BSR Total  OOR Off.  OOR Def.  OOR Total  OVR Off.  OVR Def.  OVR total  \\\n",
       "0       -6.6       0.1      -6.0       -5.9      -3.7      -3.0       -6.7   \n",
       "1       -2.2      14.4      -1.8       12.6       3.3      -2.8        0.6   \n",
       "2        3.2      -0.5      -0.1       -0.7       2.8      -0.1        2.6   \n",
       "3       -0.1       7.8      -2.2        5.6       2.7      -1.6        1.1   \n",
       "4       -4.2      -6.6     -13.3      -19.9     -22.9      15.1       -7.8   \n",
       "\n",
       "   WAR        salary  off_kmean  \n",
       "0 -0.1   $2,281,800           0  \n",
       "1  0.2   $3,500,000           0  \n",
       "2  1.3   $8,529,386           1  \n",
       "3  1.3  $17,000,000           1  \n",
       "4  0.0             0          2  \n",
       "\n",
       "[5 rows x 88 columns]"
      ]
     },
     "execution_count": 8,
     "metadata": {},
     "output_type": "execute_result"
    }
   ],
   "source": [
    "nba_stats19.head()"
   ]
  },
  {
   "cell_type": "code",
   "execution_count": 9,
   "metadata": {},
   "outputs": [
    {
     "data": {
      "text/plain": [
       "<matplotlib.axes._subplots.AxesSubplot at 0x1aeae1c92c8>"
      ]
     },
     "execution_count": 9,
     "metadata": {},
     "output_type": "execute_result"
    },
    {
     "data": {
      "image/png": "[encoded data removed]",
      "text/plain": [
       "<Figure size 1080x648 with 18 Axes>"
      ]
     },
     "metadata": {
      "needs_background": "light"
     },
     "output_type": "display_data"
    }
   ],
   "source": [
    "fig, axes = plt.subplots(6, 3, figsize = (15, 9))\n",
    "plt.subplots_adjust(hspace = 0.8)\n",
    "sns.boxplot(x = 'T_OREB%', y = 'off_kmean', data = nba_stats19, orient=\"h\", palette=\"Set2\", ax = axes[0,0])\n",
    "sns.boxplot(x = 'T_OREB%', y = 'off_kmean', data = nba_stats19, orient=\"h\", palette=\"Set2\", ax = axes[0,1])\n",
    "sns.boxplot(x = 'USG%', y = 'off_kmean', data = nba_stats19, orient=\"h\", palette=\"Set2\", ax = axes[0,2])\n",
    "#---------------------- line 2\n",
    "sns.boxplot(x = 'T_FGA%', y = 'off_kmean', data = nba_stats19, orient=\"h\", palette=\"Set2\", ax = axes[1,0])\n",
    "sns.boxplot(x = 'FG%', y = 'off_kmean', data = nba_stats19, orient=\"h\", palette=\"Set2\", ax = axes[1,1])\n",
    "sns.boxplot(x = '3P%', y = 'off_kmean', data = nba_stats19, orient=\"h\", palette=\"Set2\", ax = axes[1,2])\n",
    "#---------------------- LINE 3\n",
    "sns.boxplot(x = 'T_STL%', y = 'off_kmean', data = nba_stats19, orient=\"h\", ax = axes[2,0])\n",
    "sns.boxplot(x = 'T_3PA%', y = 'off_kmean', data = nba_stats19, orient=\"h\", ax = axes[2,1])\n",
    "sns.boxplot(x = 'DD2', y = 'off_kmean', data = nba_stats19, orient=\"h\", ax = axes[2,2])\n",
    "#---------------------- LINE 4\n",
    "sns.boxplot(x = '2ND_CH_PTS', y = 'off_kmean', data = nba_stats19, orient=\"h\", ax = axes[3,0])\n",
    "sns.boxplot(x = 'FB_PTS', y = 'off_kmean', data = nba_stats19, orient=\"h\", ax = axes[3,1])\n",
    "sns.boxplot(x = 'PAINT_PTS', y = 'off_kmean', data = nba_stats19, orient=\"h\", ax = axes[3,2])\n",
    "#---------------------- LINE 5\n",
    "sns.boxplot(x = 'AST', y = 'off_kmean', data = nba_stats19, orient=\"h\", palette=\"Set1\", ax = axes[4,0])\n",
    "sns.boxplot(x = 'FGM_AST%', y = 'off_kmean', data = nba_stats19, orient=\"h\", palette=\"Set1\", ax = axes[4,1])\n",
    "sns.boxplot(x = 'FGM_UAST%', y = 'off_kmean', data = nba_stats19, orient=\"h\", palette=\"Set1\", ax = axes[4,2])\n",
    "#---------------------- LINE 6\n",
    "sns.boxplot(x = 'TOV', y = 'off_kmean', data = nba_stats19, orient=\"h\", palette=\"Set1\", ax = axes[5,0])\n",
    "sns.boxplot(x = 'FGA_2P%', y = 'off_kmean', data = nba_stats19, orient=\"h\", palette=\"Set1\", ax = axes[5,1])\n",
    "sns.boxplot(x = '2PT_MR%', y = 'off_kmean', data = nba_stats19, orient=\"h\", palette=\"Set1\", ax = axes[5,2])"
   ]
  },
  {
   "cell_type": "code",
   "execution_count": 10,
   "metadata": {},
   "outputs": [
    {
     "name": "stdout",
     "output_type": "stream",
     "text": [
      "There are 103 players in Cluster 0\n",
      "There are 84 players in Cluster 1\n",
      "There are 279 players in Cluster 2\n"
     ]
    }
   ],
   "source": [
    "print(f'There are {len(off_cluster0)} players in Cluster 0')\n",
    "print(f'There are {len(off_cluster1)} players in Cluster 1')\n",
    "print(f'There are {len(off_cluster2)} players in Cluster 2')"
   ]
  },
  {
   "cell_type": "markdown",
   "metadata": {},
   "source": [
    "**Cluster 0 - Rising Star:** Cluser 0 players are the not as agressive, they aren't used for steals and very few of them have earned any double doubles this season so far. These players are still figuring out their offense strategies. Most of their shots are assisted but about 25% mostly take unassisted shots. However they aren't afraid to shoot when given the ball. They have the biggest spread among the FG%, 2PA%, 3PA% .\n",
    "- honerable mentions - Tristan Thompson, Steven Adams, Ivan Zubac, Tyson Chandler\n",
    "\n",
    "**Cluster 1 - The Agressive Offense:** Used the most in their team's play while they are on the floor. They have the most FG attempts, but not the highest total FG%. This group has the lowest spread of FG%, showing that they can probably be dependent to make about 40-50% of their FG. They look to be the most agressive players as they have the biggest spread of steals and 2nd chance points. These players are more likley to score their points unassisted. Since they are used more in plays, they are going to have a more diverse offense role.\n",
    " - honerable mentions - Ky Bowman, Kyle Kuzma, Patrick Beverly, Avery Bradley\n",
    "\n",
    "**Cluster 2 - Risk Taker:** Used for turnovers and making points, less about rebounds and making passes. These players are used for riskier shots. They are more likely to shoot 3 pointers and fast break points. Cluster 2 players are morel likely than any other cluster to be used in a play when on the floor. You can depend on this player to score, but they will need an assist from another team member.\n",
    " - honerable mentions - Blake Griffin, Jimmy Butler, Ja Morant, Lou Williams"
   ]
  },
  {
   "cell_type": "markdown",
   "metadata": {},
   "source": [
    "## Highest payed and Lowest payed player in each cluster\n"
   ]
  },
  {
   "cell_type": "markdown",
   "metadata": {},
   "source": [
    "Player | Cluster | Salary ($) | Current Team | Named Pos\n",
    "----- | -------| ------ | ------| -------|\n",
    "Paul Millsap | 0 | 30,500,000 | DEN | PF\n",
    "Al Horford | 0 |  28,000,000 | PHI | C\n",
    "Kristaps Porzingis | 0 | 27,285,000 | DAL | PF\n",
    "Eric Paschall | 0 | 898,310 | GSW | PF\n",
    "Daniel Gafford | 0 | 898,310 | CHI | C\n",
    "Nicolas Claxton | 0 | 898,310 | BRK | PF\n",
    "Otto Porter Jr. | 1 | 27,259,576 | CHI | SF\n",
    "Marc Gasol | 1 | 25,595,700 | TOR | C\n",
    "Nicolas Batum | 1 | 25,565,217 | CHO | SF\n",
    "Matt Thomas | 1 | 898,310 | TOR | SG\n",
    "Terence Davis | 1 | 898,310 | TOR | SG\n",
    "Patrick Patterson | 1 | 737,067 | OKC | PF\n",
    "Stephen Curry | 2 | 40,231,758 | GSW |  PG\n",
    "Chris Paul | 2 | 38,506,482 | OKC |  PG\n",
    "Russell Westbrook | 2 | 38,178,000 | HOU | PG\n",
    "Camelo Anthony | 2 | 2,159,092 | POR | PF\n",
    "Kendrick Nunn | 2 | 1,416,852 | MIA | SG\n",
    "Devonte' Graham | 2 | 1,416,852 | CHO | PG"
   ]
  }
 ],
 "metadata": {
  "kernelspec": {
   "display_name": "Python 3",
   "language": "python",
   "name": "python3"
  },
  "language_info": {
   "codemirror_mode": {
    "name": "ipython",
    "version": 3
   },
   "file_extension": ".py",
   "mimetype": "text/x-python",
   "name": "python",
   "nbconvert_exporter": "python",
   "pygments_lexer": "ipython3",
   "version": "3.7.4"
  }
 },
 "nbformat": 4,
 "nbformat_minor": 2
}
