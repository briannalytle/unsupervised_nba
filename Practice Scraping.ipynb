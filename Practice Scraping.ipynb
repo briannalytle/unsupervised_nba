{
 "cells": [
  {
   "cell_type": "markdown",
   "metadata": {},
   "source": [
    "Scraping based on 100 possessions. "
   ]
  },
  {
   "cell_type": "markdown",
   "metadata": {},
   "source": [
    "## Practice Scraping"
   ]
  },
  {
   "cell_type": "code",
   "execution_count": 1,
   "metadata": {},
   "outputs": [],
   "source": [
    "import pandas as pd\n",
    "import requests\n",
    "from time import sleep\n",
    "from bs4 import BeautifulSoup"
   ]
  },
  {
   "cell_type": "code",
   "execution_count": 2,
   "metadata": {},
   "outputs": [],
   "source": [
    "url = 'https://www.basketball-reference.com/leagues/NBA_2019_per_poss.html'\n",
    "res = requests.get(url)\n",
    "res.status_code\n",
    "\n",
    "soup = BeautifulSoup(res.content, 'lxml')"
   ]
  },
  {
   "cell_type": "code",
   "execution_count": null,
   "metadata": {},
   "outputs": [],
   "source": [
    "table = soup.find('table', {'id': 'per_poss_stats'})"
   ]
  },
  {
   "cell_type": "markdown",
   "metadata": {},
   "source": [
    "# BasketballReference Players by Season"
   ]
  },
  {
   "cell_type": "markdown",
   "metadata": {},
   "source": [
    "## Season '18 - '19 DataFrame"
   ]
  },
  {
   "cell_type": "code",
   "execution_count": null,
   "metadata": {},
   "outputs": [],
   "source": [
    "link = 'https://www.basketball-reference.com'"
   ]
  },
  {
   "cell_type": "code",
   "execution_count": null,
   "metadata": {},
   "outputs": [],
   "source": [
    "table.find_all('tr')[1:][0].find('a')['href']"
   ]
  },
  {
   "cell_type": "code",
   "execution_count": null,
   "metadata": {},
   "outputs": [],
   "source": [
    "player_page = table.find_all('tr')[1:][0].find('a')['href']"
   ]
  },
  {
   "cell_type": "code",
   "execution_count": null,
   "metadata": {},
   "outputs": [],
   "source": [
    "link + player_page"
   ]
  },
  {
   "cell_type": "code",
   "execution_count": null,
   "metadata": {},
   "outputs": [],
   "source": [
    "len(table.find_all('tr')[1:])"
   ]
  },
  {
   "cell_type": "code",
   "execution_count": 29,
   "metadata": {
    "scrolled": true
   },
   "outputs": [],
   "source": [
    "def grab_stats(year):\n",
    "    res = requests.get(year)\n",
    "    soup = BeautifulSoup(res.content, 'lxml')\n",
    "    table = soup.find('table', {'id' : 'per_poss_stats'})\n",
    "    statistics = []\n",
    "    url_list = []\n",
    "    link = 'https://www.basketball-reference.com'\n",
    "    for label in table.find_all('thead'):\n",
    "        header = {}\n",
    "        header = label.findAll('th')\n",
    "        labels = [i.text for i in header][1:]\n",
    "    for row in table.find_all('tr')[1:]:\n",
    "        numbers = [stat.text for stat in row.find_all('td')]\n",
    "        statistics.append(numbers)\n",
    "    for z in range(len(table.find_all('tr')[1:])):\n",
    "        try:\n",
    "            player_page = link + table.find_all('tr')[1:][z].find('a')['href']\n",
    "            url_list.append(player_page)\n",
    "        except:\n",
    "            error = (f'Error on row {z}')\n",
    "            url_list.append(error)\n",
    "    \n",
    "    df = pd.DataFrame(statistics, columns = labels)\n",
    "    df['url_list'] = url_list\n",
    "#     for position in range(len(table.find_all('tr')[1:]))\n",
    "        \n",
    "    return df.drop_duplicates(subset = 'Player', keep = 'first')\n",
    "        \n",
    "\n",
    "season1819 = grab_stats('https://www.basketball-reference.com/leagues/NBA_2019_per_poss.html')"
   ]
  },
  {
   "cell_type": "code",
   "execution_count": 32,
   "metadata": {
    "scrolled": false
   },
   "outputs": [
    {
     "data": {
      "text/plain": [
       "'https://www.basketball-reference.com/players/a/adebaba01.html'"
      ]
     },
     "execution_count": 32,
     "metadata": {},
     "output_type": "execute_result"
    }
   ],
   "source": [
    "season1819['url_list'][4]"
   ]
  },
  {
   "cell_type": "code",
   "execution_count": null,
   "metadata": {},
   "outputs": [],
   "source": []
  },
  {
   "cell_type": "code",
   "execution_count": 36,
   "metadata": {},
   "outputs": [],
   "source": [
    "res = requests.get('https://www.basketball-reference.com/players/a/adebaba01.html')\n",
    "res = requests.get(profile)\n",
    "soup = BeautifulSoup(res.content, 'lxml')\n",
    "info = soup.find('div', {'itemtype': 'https://schema.org/Person'})"
   ]
  },
  {
   "cell_type": "code",
   "execution_count": 37,
   "metadata": {},
   "outputs": [
    {
     "data": {
      "text/plain": [
       "['6-7,', '240lb', '(201cm,', '108kg)']"
      ]
     },
     "execution_count": 37,
     "metadata": {},
     "output_type": "execute_result"
    }
   ],
   "source": [
    "info.find_all('p')[2].text.split() # height, weight"
   ]
  },
  {
   "cell_type": "code",
   "execution_count": 38,
   "metadata": {},
   "outputs": [
    {
     "data": {
      "text/plain": [
       "'\\n\\n  Position:\\n  \\n  Power Forward and Small Forward\\n\\n\\n  \\n  ▪\\n  \\n  \\n  Shoots:\\n  \\n  Right\\n'"
      ]
     },
     "execution_count": 38,
     "metadata": {},
     "output_type": "execute_result"
    }
   ],
   "source": [
    "info.find_all('p')[1].text # left hand or right hand"
   ]
  },
  {
   "cell_type": "code",
   "execution_count": 11,
   "metadata": {},
   "outputs": [
    {
     "name": "stdout",
     "output_type": "stream",
     "text": [
      "<p>\n",
      "<strong>\n",
      "  Position:\n",
      "  </strong>\n",
      "  Shooting Guard\n",
      "\n",
      "\n",
      "  \n",
      "  ▪\n",
      "  \n",
      "  <strong>\n",
      "  Shoots:\n",
      "  </strong>\n",
      "  Right\n",
      "</p>\n"
     ]
    },
    {
     "ename": "KeyboardInterrupt",
     "evalue": "",
     "output_type": "error",
     "traceback": [
      "\u001b[1;31m---------------------------------------------------------------------------\u001b[0m",
      "\u001b[1;31mKeyboardInterrupt\u001b[0m                         Traceback (most recent call last)",
      "\u001b[1;32m<ipython-input-11-77d4d41fe396>\u001b[0m in \u001b[0;36m<module>\u001b[1;34m\u001b[0m\n\u001b[0;32m      5\u001b[0m     \u001b[1;32mfor\u001b[0m \u001b[0mi\u001b[0m \u001b[1;32min\u001b[0m \u001b[0minfo\u001b[0m\u001b[1;33m.\u001b[0m\u001b[0mfind_all\u001b[0m\u001b[1;33m(\u001b[0m\u001b[1;34m'p'\u001b[0m\u001b[1;33m)\u001b[0m\u001b[1;33m[\u001b[0m\u001b[1;36m2\u001b[0m\u001b[1;33m:\u001b[0m\u001b[1;36m3\u001b[0m\u001b[1;33m]\u001b[0m\u001b[1;33m:\u001b[0m\u001b[1;33m\u001b[0m\u001b[1;33m\u001b[0m\u001b[0m\n\u001b[0;32m      6\u001b[0m         \u001b[0mthing\u001b[0m \u001b[1;33m=\u001b[0m \u001b[0mi\u001b[0m\u001b[1;33m\u001b[0m\u001b[1;33m\u001b[0m\u001b[0m\n\u001b[1;32m----> 7\u001b[1;33m     \u001b[0msleep\u001b[0m\u001b[1;33m(\u001b[0m\u001b[1;36m5\u001b[0m\u001b[1;33m)\u001b[0m\u001b[1;33m\u001b[0m\u001b[1;33m\u001b[0m\u001b[0m\n\u001b[0m\u001b[0;32m      8\u001b[0m     \u001b[0mprint\u001b[0m\u001b[1;33m(\u001b[0m\u001b[0mthing\u001b[0m\u001b[1;33m)\u001b[0m\u001b[1;33m\u001b[0m\u001b[1;33m\u001b[0m\u001b[0m\n",
      "\u001b[1;31mKeyboardInterrupt\u001b[0m: "
     ]
    }
   ],
   "source": [
    "for profile in season1819['url_list']:\n",
    "    res = requests.get(profile)\n",
    "    soup = BeautifulSoup(res.content, 'lxml')\n",
    "    info = soup.find('div', {'itemtype': 'https://schema.org/Person'})\n",
    "    for i in info.find_all('p')[2:3]:\n",
    "        thing = i\n",
    "    sleep(5)\n",
    "    print(thing)"
   ]
  },
  {
   "cell_type": "code",
   "execution_count": null,
   "metadata": {
    "scrolled": true
   },
   "outputs": [],
   "source": [
    "season1819.head()"
   ]
  },
  {
   "cell_type": "code",
   "execution_count": null,
   "metadata": {},
   "outputs": [],
   "source": [
    "season1819.dropna(inplace = True)\n",
    "season1819.drop(columns = '', inplace = True)\n",
    "season1819.shape"
   ]
  },
  {
   "cell_type": "code",
   "execution_count": null,
   "metadata": {},
   "outputs": [],
   "source": [
    "season1819.head(30)"
   ]
  },
  {
   "cell_type": "markdown",
   "metadata": {},
   "source": [
    "## Season '17 - '18 DataFrame"
   ]
  },
  {
   "cell_type": "code",
   "execution_count": null,
   "metadata": {},
   "outputs": [],
   "source": [
    "def grab_stats(year):\n",
    "    res = requests.get(year)\n",
    "    soup = BeautifulSoup(res.content, 'lxml')\n",
    "    table = soup.find('table', {'id' : 'per_poss_stats'})\n",
    "    statistics = []\n",
    "    for label in table.find_all('thead'):\n",
    "        header = {}\n",
    "        header = label.findAll('th')\n",
    "        labels = [i.text for i in header][1:]\n",
    "    for row in table.find_all('tr')[1:]:\n",
    "        numbers = [stat.text for stat in row.find_all('td')]\n",
    "        statistics.append(numbers)\n",
    "        \n",
    "    return pd.DataFrame(statistics, columns = labels).drop_duplicates(subset = 'Player', keep = 'first')\n",
    "        \n",
    "\n",
    "season1718 = grab_stats('https://www.basketball-reference.com/leagues/NBA_2018_per_poss.html')"
   ]
  },
  {
   "cell_type": "code",
   "execution_count": null,
   "metadata": {},
   "outputs": [],
   "source": [
    "season1718.shape"
   ]
  },
  {
   "cell_type": "code",
   "execution_count": null,
   "metadata": {},
   "outputs": [],
   "source": [
    "season1718.dropna(inplace = True)\n",
    "season1718.drop(columns = '', inplace = True)\n",
    "season1718.shape"
   ]
  },
  {
   "cell_type": "code",
   "execution_count": null,
   "metadata": {},
   "outputs": [],
   "source": [
    "season1718.head()"
   ]
  },
  {
   "cell_type": "markdown",
   "metadata": {},
   "source": [
    "## Season '16 - '17 DataFrame"
   ]
  },
  {
   "cell_type": "code",
   "execution_count": null,
   "metadata": {},
   "outputs": [],
   "source": [
    "def grab_stats(year):\n",
    "    res = requests.get(year)\n",
    "    soup = BeautifulSoup(res.content, 'lxml')\n",
    "    table = soup.find('table', {'id' : 'per_poss_stats'})\n",
    "    statistics = []\n",
    "    for label in table.find_all('thead'):\n",
    "        header = {}\n",
    "        header = label.findAll('th')\n",
    "        labels = [i.text for i in header][1:]\n",
    "    for row in table.find_all('tr')[1:]:\n",
    "        numbers = [stat.text for stat in row.find_all('td')]\n",
    "        statistics.append(numbers)\n",
    "        \n",
    "    return pd.DataFrame(statistics, columns = labels).drop_duplicates(subset = 'Player', keep = 'first')\n",
    "        \n",
    "\n",
    "season1617 = grab_stats('https://www.basketball-reference.com/leagues/NBA_2017_per_poss.html')"
   ]
  },
  {
   "cell_type": "code",
   "execution_count": null,
   "metadata": {},
   "outputs": [],
   "source": [
    "season1617.shape"
   ]
  },
  {
   "cell_type": "code",
   "execution_count": null,
   "metadata": {},
   "outputs": [],
   "source": [
    "season1617.dropna(inplace = True)\n",
    "season1617.drop(columns = '', inplace = True)\n",
    "season1617.shape"
   ]
  },
  {
   "cell_type": "code",
   "execution_count": null,
   "metadata": {},
   "outputs": [],
   "source": [
    "season1617.head()"
   ]
  },
  {
   "cell_type": "code",
   "execution_count": null,
   "metadata": {},
   "outputs": [],
   "source": []
  }
 ],
 "metadata": {
  "kernelspec": {
   "display_name": "Python 3",
   "language": "python",
   "name": "python3"
  },
  "language_info": {
   "codemirror_mode": {
    "name": "ipython",
    "version": 3
   },
   "file_extension": ".py",
   "mimetype": "text/x-python",
   "name": "python",
   "nbconvert_exporter": "python",
   "pygments_lexer": "ipython3",
   "version": "3.7.4"
  }
 },
 "nbformat": 4,
 "nbformat_minor": 2
}
