{
 "cells": [
  {
   "cell_type": "markdown",
   "metadata": {},
   "source": [
    "https://stats.nba.com/players/list/"
   ]
  },
  {
   "cell_type": "code",
   "execution_count": 1,
   "metadata": {},
   "outputs": [],
   "source": [
    "import pandas as pd\n",
    "import requests\n",
    "import time\n",
    "from time import sleep\n",
    "from bs4 import BeautifulSoup"
   ]
  },
  {
   "cell_type": "markdown",
   "metadata": {},
   "source": [
    "## Practice player scrape"
   ]
  },
  {
   "cell_type": "code",
   "execution_count": 3,
   "metadata": {},
   "outputs": [],
   "source": [
    "nba_players = 'https://stats.nba.com/players/list/'\n",
    "res = requests.get(nba_players)\n",
    "soup = BeautifulSoup(res.content, 'lxml')"
   ]
  },
  {
   "cell_type": "code",
   "execution_count": 7,
   "metadata": {},
   "outputs": [],
   "source": [
    "chart = soup.find_all('section', {'class' : 'row collapse players-list__section'})"
   ]
  },
  {
   "cell_type": "code",
   "execution_count": 8,
   "metadata": {},
   "outputs": [
    {
     "data": {
      "text/plain": [
       "1"
      ]
     },
     "execution_count": 8,
     "metadata": {},
     "output_type": "execute_result"
    }
   ],
   "source": [
    "len(chart)"
   ]
  },
  {
   "cell_type": "code",
   "execution_count": 9,
   "metadata": {},
   "outputs": [
    {
     "data": {
      "text/plain": [
       "[<section class=\"row collapse players-list__section\" data-last-initial=\"{{ ::letter.initial }}\" ng-repeat=\"letter in playersByLastName\" ng-show=\"letter.items.length&gt;0 &amp;&amp; !isLoading\">\n",
       " <div class=\"spacer small-12\"></div>\n",
       " <header class=\"small-12 large-2 columns players-list__header\">\n",
       " <h1 class=\"players-list__initial\">{{ ::letter.group }}</h1>\n",
       " </header>\n",
       " <div class=\"large-10 columns\">\n",
       " <ul class=\"players-list__names\">\n",
       " <li class=\"players-list__name\" ng-repeat=\"player in letter.items\"><a href=\"/player/{{ ::player.id }}/\">{{ ::player.name }}</a></li>\n",
       " </ul>\n",
       " </div>\n",
       " </section>]"
      ]
     },
     "execution_count": 9,
     "metadata": {},
     "output_type": "execute_result"
    }
   ],
   "source": [
    "chart"
   ]
  },
  {
   "cell_type": "code",
   "execution_count": null,
   "metadata": {},
   "outputs": [],
   "source": []
  }
 ],
 "metadata": {
  "kernelspec": {
   "display_name": "Python 3",
   "language": "python",
   "name": "python3"
  },
  "language_info": {
   "codemirror_mode": {
    "name": "ipython",
    "version": 3
   },
   "file_extension": ".py",
   "mimetype": "text/x-python",
   "name": "python",
   "nbconvert_exporter": "python",
   "pygments_lexer": "ipython3",
   "version": "3.7.4"
  }
 },
 "nbformat": 4,
 "nbformat_minor": 2
}
