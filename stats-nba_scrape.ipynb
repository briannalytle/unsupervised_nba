{
 "cells": [
  {
   "cell_type": "markdown",
   "metadata": {},
   "source": [
    "https://stats.nba.com/players/list/"
   ]
  },
  {
   "cell_type": "code",
   "execution_count": 4,
   "metadata": {},
   "outputs": [],
   "source": [
    "import pandas as pd\n",
    "import requests\n",
    "import time\n",
    "from time import sleep\n",
    "from bs4 import BeautifulSoup\n",
    "from selenium import webdriver\n",
    "from selenium.common import exceptions"
   ]
  },
  {
   "cell_type": "markdown",
   "metadata": {},
   "source": [
    "## Traditional Stats"
   ]
  },
  {
   "cell_type": "code",
   "execution_count": 5,
   "metadata": {},
   "outputs": [],
   "source": [
    "nba_players = 'https://stats.nba.com/players/traditional/?sort=PTS&dir=-1'\n",
    "driver = webdriver.Chrome(executable_path=\"./chromedriver/windows/chromedriver.exe\")\n",
    "driver.get(nba_players)\n",
    "player = driver.find_elements_by_xpath('/html/body/main/div[2]/div/div[2]/div/div/nba-stat-table/div[2]/div[1]/table/tbody/tr')\n",
    "player_stats = []\n",
    "new_split = []\n",
    "\n",
    "i = 0\n",
    "while i < 10:\n",
    "    try: \n",
    "        player = driver.find_elements_by_xpath('/html/body/main/div[2]/div/div[2]/div/div/nba-stat-table/div[2]/div[1]/table/tbody/tr')\n",
    "        \n",
    "        for q in player:\n",
    "            player_stats.append(q.text.split('\\n'))\n",
    "            for z in player_stats:\n",
    "                new_split.append(z[2].split(' '))\n",
    "                    \n",
    "        button = driver.find_element_by_xpath('/html/body/main/div[2]/div/div[2]/div/div/nba-stat-table/div[1]/div/div/a[2]')\n",
    "        button.click()\n",
    "        i += 1\n",
    "        \n",
    "    except exceptions.StaleElementReferenceException:\n",
    "         pass\n",
    "\n",
    "player_stats = pd.DataFrame(player_stats).reset_index(drop = True)\n",
    "new_split = pd.DataFrame(new_split).drop_duplicates(keep = 'first').reset_index(drop = True)\n",
    "final = pd.concat([player_stats, new_split], axis = 1).drop(columns = [0, 2], axis = 1)"
   ]
  },
  {
   "cell_type": "code",
   "execution_count": 6,
   "metadata": {},
   "outputs": [],
   "source": [
    "trad_columns = ['Player', 'Age', 'W', 'L', 'MP', 'PTS',\n",
    "               'FGM', 'FGA', 'FG%', '3PM', '3PA', '3P%', 'FTM',\n",
    "               'FTA', 'FT%', 'OREB', 'DREB', 'REB', 'AST', 'TOV',\n",
    "               'STL', 'BLK', 'PF', 'FP', 'DD2', 'TD3', '+/-']\n",
    "final.columns = trad_columns"
   ]
  },
  {
   "cell_type": "code",
   "execution_count": 7,
   "metadata": {},
   "outputs": [],
   "source": [
    "final.drop(columns = ['PTS', 'STL', 'BLK'], inplace = True)"
   ]
  },
  {
   "cell_type": "markdown",
   "metadata": {},
   "source": [
    "## Opponent Stats"
   ]
  },
  {
   "cell_type": "code",
   "execution_count": 8,
   "metadata": {},
   "outputs": [],
   "source": [
    "nba_players = 'https://stats.nba.com/players/opponent/?sort=GP&dir=-1'\n",
    "driver = webdriver.Chrome(executable_path=\"./chromedriver/windows/chromedriver.exe\")\n",
    "driver.get(nba_players)\n",
    "player = driver.find_elements_by_xpath('/html/body/main/div[2]/div/div[2]/div/div/nba-stat-table/div[2]/div[1]/table/tbody/tr')\n",
    "player_stats = []\n",
    "new_split = []\n",
    "i = 0\n",
    "while i < 10:\n",
    "    try: \n",
    "        player = driver.find_elements_by_xpath('/html/body/main/div[2]/div/div[2]/div/div/nba-stat-table/div[2]/div[1]/table/tbody/tr')\n",
    "        \n",
    "        for q in player:\n",
    "            player_stats.append(q.text.split('\\n'))\n",
    "            for z in player_stats:\n",
    "                new_split.append(z[2].split(' '))\n",
    "                    \n",
    "        button = driver.find_element_by_xpath('/html/body/main/div[2]/div/div[2]/div/div/nba-stat-table/div[1]/div/div/a[2]')\n",
    "        button.click()\n",
    "        i += 1\n",
    "        \n",
    "    except exceptions.StaleElementReferenceException:\n",
    "         pass\n",
    "\n",
    "player_stats = pd.DataFrame(player_stats).reset_index(drop = True)\n",
    "new_split = pd.DataFrame(new_split).drop_duplicates(keep = 'first').reset_index(drop = True)\n",
    "opponent = pd.concat([player_stats, new_split], axis = 1).drop(columns = [0, 2], axis = 1)"
   ]
  },
  {
   "cell_type": "code",
   "execution_count": 9,
   "metadata": {},
   "outputs": [],
   "source": [
    "opp_columns = ['Player', 'GP', 'L', 'MP', 'OOPFGM', 'OOPFGA',\n",
    "              'OOPFG%', 'OOP3PM', 'OOP3PA', 'OOP3P%', 'OOPFTM', 'OOPFTA',\n",
    "              'OOPFT%', 'OOPOREB', 'OOPDREB', 'OOPREB', 'OOPAST',\n",
    "              'OOPTOV', 'OOPSTL', 'OOPBLK', 'OOPBLKA', 'OOPPF',\n",
    "              'OOPPFD', 'OOPPTS', '+/-']"
   ]
  },
  {
   "cell_type": "code",
   "execution_count": 10,
   "metadata": {},
   "outputs": [],
   "source": [
    "opponent.columns = opp_columns"
   ]
  },
  {
   "cell_type": "markdown",
   "metadata": {},
   "source": [
    "## Defense Stats"
   ]
  },
  {
   "cell_type": "code",
   "execution_count": 11,
   "metadata": {},
   "outputs": [],
   "source": [
    "nba_players = 'https://stats.nba.com/players/defense/?sort=DEF_WS&dir=-1'\n",
    "driver = webdriver.Chrome(executable_path=\"./chromedriver/windows/chromedriver.exe\")\n",
    "driver.get(nba_players)\n",
    "player = driver.find_elements_by_xpath('/html/body/main/div[2]/div/div[2]/div/div/nba-stat-table/div[2]/div[1]/table/tbody/tr')\n",
    "player_stats = []\n",
    "new_split = []\n",
    "i = 0\n",
    "while i < 10:\n",
    "    try: \n",
    "        player = driver.find_elements_by_xpath('/html/body/main/div[2]/div/div[2]/div/div/nba-stat-table/div[2]/div[1]/table/tbody/tr')\n",
    "        \n",
    "        for q in player:\n",
    "            player_stats.append(q.text.split('\\n'))\n",
    "            for z in player_stats:\n",
    "                new_split.append(z[2].split(' '))\n",
    "                    \n",
    "        button = driver.find_element_by_xpath('/html/body/main/div[2]/div/div[2]/div/div/nba-stat-table/div[1]/div/div/a[2]')\n",
    "        button.click()\n",
    "        i += 1\n",
    "        \n",
    "    except exceptions.StaleElementReferenceException:\n",
    "         pass\n",
    "\n",
    "player_stats = pd.DataFrame(player_stats).reset_index(drop = True)\n",
    "new_split = pd.DataFrame(new_split).drop_duplicates(keep = 'first').reset_index(drop = True)\n",
    "defense = pd.concat([player_stats, new_split], axis = 1).drop(columns = [0, 2], axis = 1)"
   ]
  },
  {
   "cell_type": "code",
   "execution_count": 12,
   "metadata": {},
   "outputs": [],
   "source": [
    "def_columns= ['Player', 'Age', 'GP', 'W', 'L', 'MP', 'DEF_RTG', 'DREB',\n",
    "            'DREB%', 'T_DREB%', 'STL', 'T_STL%', 'BLK', 'T_BLK%',\n",
    "            'OP_TOV', 'OP_2NDPTS', 'OP_PAINT', 'DEF_WS']\n",
    "defense.columns = def_columns\n",
    "defense.drop(columns = ['Age', 'GP', 'W', 'L', 'MP'], inplace = True)"
   ]
  },
  {
   "cell_type": "markdown",
   "metadata": {},
   "source": [
    "## usage"
   ]
  },
  {
   "cell_type": "code",
   "execution_count": 13,
   "metadata": {},
   "outputs": [],
   "source": [
    "nba_players = 'https://stats.nba.com/players/usage/?sort=USG_PCT&dir=-1'\n",
    "driver = webdriver.Chrome(executable_path=\"./chromedriver/windows/chromedriver.exe\")\n",
    "driver.get(nba_players)\n",
    "player = driver.find_elements_by_xpath('/html/body/main/div[2]/div/div[2]/div/div/nba-stat-table/div[2]/div[1]/table/tbody/tr')\n",
    "player_stats = []\n",
    "new_split = []\n",
    "i = 0\n",
    "while i < 10:\n",
    "    try: \n",
    "        player = driver.find_elements_by_xpath('/html/body/main/div[2]/div/div[2]/div/div/nba-stat-table/div[2]/div[1]/table/tbody/tr')\n",
    "        \n",
    "        for q in player:\n",
    "            player_stats.append(q.text.split('\\n'))\n",
    "            for z in player_stats:\n",
    "                new_split.append(z[2].split(' '))\n",
    "                    \n",
    "        button = driver.find_element_by_xpath('/html/body/main/div[2]/div/div[2]/div/div/nba-stat-table/div[1]/div/div/a[2]')\n",
    "        button.click()\n",
    "        i += 1\n",
    "        \n",
    "    except exceptions.StaleElementReferenceException:\n",
    "         pass\n",
    "\n",
    "player_stats = pd.DataFrame(player_stats).reset_index(drop = True)\n",
    "new_split = pd.DataFrame(new_split).drop_duplicates(keep = 'first').reset_index(drop = True)\n",
    "usage = pd.concat([player_stats, new_split], axis = 1).drop(columns = [0, 2], axis = 1)"
   ]
  },
  {
   "cell_type": "code",
   "execution_count": 14,
   "metadata": {},
   "outputs": [],
   "source": [
    "use_columns = ['Player', 'Age', 'W', 'L', 'MP', 'USG%',\n",
    "              'T_FGM%', 'T_FGA%', 'T_3PM%', 'T_3PA%', 'T_FTM%',\n",
    "              'T_FTA%', 'T_OREB%', 'T_DREB%', 'T_REB%', 'T_AST%', 'T_TOV%',\n",
    "              'T_STL%', 'T_BLK%', 'T_BLKA%', 'T_PF%', 'T_PFD%', 'T_PTS%']\n",
    "usage.columns = use_columns\n",
    "usage.drop(columns = ['Age', 'W', 'L', 'MP'], inplace = True)"
   ]
  },
  {
   "cell_type": "markdown",
   "metadata": {},
   "source": [
    "## Shooting"
   ]
  },
  {
   "cell_type": "code",
   "execution_count": 15,
   "metadata": {},
   "outputs": [],
   "source": [
    "nba_players = 'https://stats.nba.com/players/scoring/?sort=GP&dir=-1'\n",
    "driver = webdriver.Chrome(executable_path=\"./chromedriver/windows/chromedriver.exe\")\n",
    "driver.get(nba_players)\n",
    "player = driver.find_elements_by_xpath('/html/body/main/div[2]/div/div[2]/div/div/nba-stat-table/div[2]/div[1]/table/tbody/tr')\n",
    "player_stats = []\n",
    "new_split = []\n",
    "i = 0\n",
    "while i < 10:\n",
    "    try: \n",
    "        player = driver.find_elements_by_xpath('/html/body/main/div[2]/div/div[2]/div/div/nba-stat-table/div[2]/div[1]/table/tbody/tr')\n",
    "        \n",
    "        for q in player:\n",
    "            player_stats.append(q.text.split('\\n'))\n",
    "            for z in player_stats:\n",
    "                new_split.append(z[2].split(' '))\n",
    "                    \n",
    "        button = driver.find_element_by_xpath('/html/body/main/div[2]/div/div[2]/div/div/nba-stat-table/div[1]/div/div/a[2]')\n",
    "        button.click()\n",
    "        i += 1\n",
    "        \n",
    "    except exceptions.StaleElementReferenceException:\n",
    "         pass\n",
    "\n",
    "player_stats = pd.DataFrame(player_stats).reset_index(drop = True)\n",
    "new_split = pd.DataFrame(new_split).drop_duplicates(keep = 'first').reset_index(drop = True)\n",
    "shooting = pd.concat([player_stats, new_split], axis = 1).drop(columns = [0, 2], axis = 1)"
   ]
  },
  {
   "cell_type": "code",
   "execution_count": 16,
   "metadata": {},
   "outputs": [],
   "source": [
    "shoot_col = ['Player', 'Age', 'W', 'L', 'MP', 'FGA_2P%', 'FGA_3P%',\n",
    "            '2PT%', '2PT_MR%', '3PT%', 'FBPTS%', 'FT%', 'OFFTOV%', 'PAINTPTS%',\n",
    "            'AST_2FGM%', 'UAST_2FGM%', 'AST_3FGM%', 'UAST_3FGM%',\n",
    "            'FGM_AST%', 'FGM_UAST%']\n",
    "shooting.columns = shoot_col\n",
    "shooting.drop(columns = ['W', 'L', 'MP'], inplace= True)"
   ]
  },
  {
   "cell_type": "markdown",
   "metadata": {},
   "source": [
    "## MISC"
   ]
  },
  {
   "cell_type": "code",
   "execution_count": 17,
   "metadata": {},
   "outputs": [],
   "source": [
    "nba_players = 'https://stats.nba.com/players/misc/?sort=GP&dir=-1'\n",
    "driver = webdriver.Chrome(executable_path=\"./chromedriver/windows/chromedriver.exe\")\n",
    "driver.get(nba_players)\n",
    "player = driver.find_elements_by_xpath('/html/body/main/div[2]/div/div[2]/div/div/nba-stat-table/div[2]/div[1]/table/tbody/tr')\n",
    "player_stats = []\n",
    "new_split = []\n",
    "i = 0\n",
    "while i < 10:\n",
    "    try: \n",
    "        player = driver.find_elements_by_xpath('/html/body/main/div[2]/div/div[2]/div/div/nba-stat-table/div[2]/div[1]/table/tbody/tr')\n",
    "        \n",
    "        for q in player:\n",
    "            player_stats.append(q.text.split('\\n'))\n",
    "            for z in player_stats:\n",
    "                new_split.append(z[2].split(' '))\n",
    "                    \n",
    "        button = driver.find_element_by_xpath('/html/body/main/div[2]/div/div[2]/div/div/nba-stat-table/div[1]/div/div/a[2]')\n",
    "        button.click()\n",
    "        i += 1\n",
    "        \n",
    "    except exceptions.StaleElementReferenceException:\n",
    "         pass\n",
    "\n",
    "player_stats = pd.DataFrame(player_stats).reset_index(drop = True)\n",
    "new_split = pd.DataFrame(new_split).drop_duplicates(keep = 'first').reset_index(drop = True)\n",
    "misc = pd.concat([player_stats, new_split], axis = 1).drop(columns = [0, 2], axis = 1)"
   ]
  },
  {
   "cell_type": "code",
   "execution_count": 18,
   "metadata": {},
   "outputs": [],
   "source": [
    "misc_col = ['Player', 'Age', 'W', 'L', 'MP', 'PTS_TOV', '2ND_CH_PTS',\n",
    "           'FB_PTS', 'PAINT_PTS', 'OPP_PTS_TOV', 'OPP_2ND_PTS', 'OPP_FBPTS',\n",
    "           'OPP_PAINT_PTS', 'BLK', 'BLKA', 'PF', 'PFD']\n",
    "misc.columns = misc_col\n",
    "misc.drop(columns = ['Age', 'W', 'L', 'MP', 'BLK', 'PF'], inplace = True)"
   ]
  },
  {
   "cell_type": "markdown",
   "metadata": {},
   "source": [
    "# Combining all stats into one dataframe (except opponent)"
   ]
  },
  {
   "cell_type": "code",
   "execution_count": 51,
   "metadata": {},
   "outputs": [],
   "source": [
    "nba_stats = final.merge(defense, how = 'outer', on = 'Player').merge(usage, how = 'outer', on = 'Player').merge(shooting, how = 'outer', on = 'Player').merge(misc, on = 'Player').drop_duplicates(keep = 'first')"
   ]
  },
  {
   "cell_type": "code",
   "execution_count": 38,
   "metadata": {
    "scrolled": true
   },
   "outputs": [
    {
     "data": {
      "text/plain": [
       "(457, 80)"
      ]
     },
     "execution_count": 38,
     "metadata": {},
     "output_type": "execute_result"
    }
   ],
   "source": [
    "nba_stats.shape"
   ]
  },
  {
   "cell_type": "code",
   "execution_count": 39,
   "metadata": {
    "scrolled": true
   },
   "outputs": [
    {
     "data": {
      "text/html": [
       "<div>\n",
       "<style scoped>\n",
       "    .dataframe tbody tr th:only-of-type {\n",
       "        vertical-align: middle;\n",
       "    }\n",
       "\n",
       "    .dataframe tbody tr th {\n",
       "        vertical-align: top;\n",
       "    }\n",
       "\n",
       "    .dataframe thead th {\n",
       "        text-align: right;\n",
       "    }\n",
       "</style>\n",
       "<table border=\"1\" class=\"dataframe\">\n",
       "  <thead>\n",
       "    <tr style=\"text-align: right;\">\n",
       "      <th></th>\n",
       "      <th>Player</th>\n",
       "      <th>Age_x</th>\n",
       "      <th>W</th>\n",
       "      <th>L</th>\n",
       "      <th>MP</th>\n",
       "      <th>FGM</th>\n",
       "      <th>FGA</th>\n",
       "      <th>FG%</th>\n",
       "      <th>3PM</th>\n",
       "      <th>3PA</th>\n",
       "      <th>...</th>\n",
       "      <th>PTS_TOV</th>\n",
       "      <th>2ND_CH_PTS</th>\n",
       "      <th>FB_PTS</th>\n",
       "      <th>PAINT_PTS</th>\n",
       "      <th>OPP_PTS_TOV</th>\n",
       "      <th>OPP_2ND_PTS</th>\n",
       "      <th>OPP_FBPTS</th>\n",
       "      <th>OPP_PAINT_PTS</th>\n",
       "      <th>BLKA</th>\n",
       "      <th>PFD</th>\n",
       "    </tr>\n",
       "  </thead>\n",
       "  <tbody>\n",
       "    <tr>\n",
       "      <td>0</td>\n",
       "      <td>James Harden</td>\n",
       "      <td>30</td>\n",
       "      <td>13</td>\n",
       "      <td>6</td>\n",
       "      <td>36.8</td>\n",
       "      <td>10.7</td>\n",
       "      <td>24.1</td>\n",
       "      <td>44.6</td>\n",
       "      <td>4.9</td>\n",
       "      <td>13.9</td>\n",
       "      <td>...</td>\n",
       "      <td>5.7</td>\n",
       "      <td>3.2</td>\n",
       "      <td>2.9</td>\n",
       "      <td>11.4</td>\n",
       "      <td>14.8</td>\n",
       "      <td>10.1</td>\n",
       "      <td>14.1</td>\n",
       "      <td>37.8</td>\n",
       "      <td>0.9</td>\n",
       "      <td>8.8</td>\n",
       "    </tr>\n",
       "    <tr>\n",
       "      <td>1</td>\n",
       "      <td>Giannis Antetokounmpo</td>\n",
       "      <td>24</td>\n",
       "      <td>17</td>\n",
       "      <td>3</td>\n",
       "      <td>32.4</td>\n",
       "      <td>11.5</td>\n",
       "      <td>20.6</td>\n",
       "      <td>56.0</td>\n",
       "      <td>1.4</td>\n",
       "      <td>4.9</td>\n",
       "      <td>...</td>\n",
       "      <td>6.2</td>\n",
       "      <td>4.4</td>\n",
       "      <td>6.8</td>\n",
       "      <td>19.0</td>\n",
       "      <td>10.8</td>\n",
       "      <td>6.3</td>\n",
       "      <td>8.3</td>\n",
       "      <td>25.7</td>\n",
       "      <td>1.2</td>\n",
       "      <td>9.0</td>\n",
       "    </tr>\n",
       "    <tr>\n",
       "      <td>2</td>\n",
       "      <td>Luka Doncic</td>\n",
       "      <td>20</td>\n",
       "      <td>12</td>\n",
       "      <td>6</td>\n",
       "      <td>34.2</td>\n",
       "      <td>9.8</td>\n",
       "      <td>20.2</td>\n",
       "      <td>48.6</td>\n",
       "      <td>3.1</td>\n",
       "      <td>9.4</td>\n",
       "      <td>...</td>\n",
       "      <td>2.9</td>\n",
       "      <td>2.7</td>\n",
       "      <td>2.4</td>\n",
       "      <td>12.7</td>\n",
       "      <td>11.5</td>\n",
       "      <td>10.3</td>\n",
       "      <td>10.1</td>\n",
       "      <td>33.7</td>\n",
       "      <td>0.4</td>\n",
       "      <td>7.6</td>\n",
       "    </tr>\n",
       "    <tr>\n",
       "      <td>3</td>\n",
       "      <td>Kyrie Irving</td>\n",
       "      <td>27</td>\n",
       "      <td>4</td>\n",
       "      <td>7</td>\n",
       "      <td>33.8</td>\n",
       "      <td>10.2</td>\n",
       "      <td>22.9</td>\n",
       "      <td>44.4</td>\n",
       "      <td>2.8</td>\n",
       "      <td>8.3</td>\n",
       "      <td>...</td>\n",
       "      <td>3.5</td>\n",
       "      <td>2.2</td>\n",
       "      <td>2.6</td>\n",
       "      <td>11.3</td>\n",
       "      <td>11.8</td>\n",
       "      <td>7.8</td>\n",
       "      <td>7.7</td>\n",
       "      <td>38.4</td>\n",
       "      <td>0.8</td>\n",
       "      <td>4.6</td>\n",
       "    </tr>\n",
       "    <tr>\n",
       "      <td>4</td>\n",
       "      <td>Trae Young</td>\n",
       "      <td>21</td>\n",
       "      <td>4</td>\n",
       "      <td>15</td>\n",
       "      <td>34.5</td>\n",
       "      <td>9.3</td>\n",
       "      <td>20.4</td>\n",
       "      <td>45.4</td>\n",
       "      <td>3.4</td>\n",
       "      <td>8.8</td>\n",
       "      <td>...</td>\n",
       "      <td>3.9</td>\n",
       "      <td>1.5</td>\n",
       "      <td>3.2</td>\n",
       "      <td>10.1</td>\n",
       "      <td>14.8</td>\n",
       "      <td>11.0</td>\n",
       "      <td>10.5</td>\n",
       "      <td>37.8</td>\n",
       "      <td>1.3</td>\n",
       "      <td>7.1</td>\n",
       "    </tr>\n",
       "  </tbody>\n",
       "</table>\n",
       "<p>5 rows × 80 columns</p>\n",
       "</div>"
      ],
      "text/plain": [
       "                  Player Age_x   W   L    MP   FGM   FGA   FG%  3PM   3PA  \\\n",
       "0           James Harden    30  13   6  36.8  10.7  24.1  44.6  4.9  13.9   \n",
       "1  Giannis Antetokounmpo    24  17   3  32.4  11.5  20.6  56.0  1.4   4.9   \n",
       "2            Luka Doncic    20  12   6  34.2   9.8  20.2  48.6  3.1   9.4   \n",
       "3           Kyrie Irving    27   4   7  33.8  10.2  22.9  44.4  2.8   8.3   \n",
       "4             Trae Young    21   4  15  34.5   9.3  20.4  45.4  3.4   8.8   \n",
       "\n",
       "   ... PTS_TOV 2ND_CH_PTS FB_PTS PAINT_PTS OPP_PTS_TOV OPP_2ND_PTS OPP_FBPTS  \\\n",
       "0  ...     5.7        3.2    2.9      11.4        14.8        10.1      14.1   \n",
       "1  ...     6.2        4.4    6.8      19.0        10.8         6.3       8.3   \n",
       "2  ...     2.9        2.7    2.4      12.7        11.5        10.3      10.1   \n",
       "3  ...     3.5        2.2    2.6      11.3        11.8         7.8       7.7   \n",
       "4  ...     3.9        1.5    3.2      10.1        14.8        11.0      10.5   \n",
       "\n",
       "  OPP_PAINT_PTS BLKA  PFD  \n",
       "0          37.8  0.9  8.8  \n",
       "1          25.7  1.2  9.0  \n",
       "2          33.7  0.4  7.6  \n",
       "3          38.4  0.8  4.6  \n",
       "4          37.8  1.3  7.1  \n",
       "\n",
       "[5 rows x 80 columns]"
      ]
     },
     "execution_count": 39,
     "metadata": {},
     "output_type": "execute_result"
    }
   ],
   "source": [
    "nba_stats.head()"
   ]
  },
  {
   "cell_type": "markdown",
   "metadata": {},
   "source": [
    "# adding in salaries and 538 numbers"
   ]
  },
  {
   "cell_type": "code",
   "execution_count": 48,
   "metadata": {},
   "outputs": [],
   "source": [
    "salaries = pd.read_csv('data/salaries.csv')\n",
    "scrape538 = pd.read_csv('data/scrape538.csv')\n",
    "scrape538 = scrape538.drop(['Unnamed: 0', 'Position(s)'], axis = 1)\n",
    "nba_stats = nba_stats.merge(scrape538, how = 'outer', on = 'Player').merge(salaries, how = 'outer', on = 'Player')"
   ]
  },
  {
   "cell_type": "code",
   "execution_count": 41,
   "metadata": {},
   "outputs": [],
   "source": [
    "problem19 = nba_stats[nba_stats.isna().any(axis=1)]\n",
    "problem19.to_csv('data/problem19.csv')\n",
    "nba_stats.dropna(inplace = True)"
   ]
  },
  {
   "cell_type": "code",
   "execution_count": 42,
   "metadata": {},
   "outputs": [
    {
     "data": {
      "text/plain": [
       "(212, 94)"
      ]
     },
     "execution_count": 42,
     "metadata": {},
     "output_type": "execute_result"
    }
   ],
   "source": [
    "problem19.shape"
   ]
  },
  {
   "cell_type": "code",
   "execution_count": 43,
   "metadata": {},
   "outputs": [
    {
     "data": {
      "text/plain": [
       "(461, 92)"
      ]
     },
     "execution_count": 43,
     "metadata": {},
     "output_type": "execute_result"
    }
   ],
   "source": [
    "fixed19 = pd.read_csv('data/problem19_fixed.csv')\n",
    "nba_stats = pd.concat([fixed19, nba_stats], ignore_index = True, sort= False).drop(columns = ['Team', 'Unnamed: 0']).fillna(0)\n",
    "nba_stats.shape"
   ]
  },
  {
   "cell_type": "code",
   "execution_count": 44,
   "metadata": {},
   "outputs": [
    {
     "data": {
      "text/html": [
       "<div>\n",
       "<style scoped>\n",
       "    .dataframe tbody tr th:only-of-type {\n",
       "        vertical-align: middle;\n",
       "    }\n",
       "\n",
       "    .dataframe tbody tr th {\n",
       "        vertical-align: top;\n",
       "    }\n",
       "\n",
       "    .dataframe thead th {\n",
       "        text-align: right;\n",
       "    }\n",
       "</style>\n",
       "<table border=\"1\" class=\"dataframe\">\n",
       "  <thead>\n",
       "    <tr style=\"text-align: right;\">\n",
       "      <th></th>\n",
       "      <th>Player</th>\n",
       "      <th>Age_x</th>\n",
       "      <th>W</th>\n",
       "      <th>L</th>\n",
       "      <th>MP</th>\n",
       "      <th>FGM</th>\n",
       "      <th>FGA</th>\n",
       "      <th>FG%</th>\n",
       "      <th>3PM</th>\n",
       "      <th>3PA</th>\n",
       "      <th>...</th>\n",
       "      <th>BSR Def.</th>\n",
       "      <th>BSR Total</th>\n",
       "      <th>OOR Off.</th>\n",
       "      <th>OOR Def.</th>\n",
       "      <th>OOR Total</th>\n",
       "      <th>OVR Off.</th>\n",
       "      <th>OVR Def.</th>\n",
       "      <th>OVR total</th>\n",
       "      <th>WAR</th>\n",
       "      <th>salary</th>\n",
       "    </tr>\n",
       "  </thead>\n",
       "  <tbody>\n",
       "    <tr>\n",
       "      <td>0</td>\n",
       "      <td>Ante Zizic</td>\n",
       "      <td>22</td>\n",
       "      <td>0</td>\n",
       "      <td>5</td>\n",
       "      <td>13.3</td>\n",
       "      <td>2</td>\n",
       "      <td>3.6</td>\n",
       "      <td>55.6</td>\n",
       "      <td>0</td>\n",
       "      <td>0</td>\n",
       "      <td>...</td>\n",
       "      <td>-1.4</td>\n",
       "      <td>-4.9</td>\n",
       "      <td>1.6</td>\n",
       "      <td>-8.0</td>\n",
       "      <td>-6.4</td>\n",
       "      <td>-2.7</td>\n",
       "      <td>-2.6</td>\n",
       "      <td>-5.3</td>\n",
       "      <td>-0.1</td>\n",
       "      <td>$2,281,800</td>\n",
       "    </tr>\n",
       "    <tr>\n",
       "      <td>1</td>\n",
       "      <td>Boban Marjanovic</td>\n",
       "      <td>31</td>\n",
       "      <td>5</td>\n",
       "      <td>3</td>\n",
       "      <td>13</td>\n",
       "      <td>3</td>\n",
       "      <td>6</td>\n",
       "      <td>50</td>\n",
       "      <td>0</td>\n",
       "      <td>0.1</td>\n",
       "      <td>...</td>\n",
       "      <td>-2.1</td>\n",
       "      <td>-1.9</td>\n",
       "      <td>13.7</td>\n",
       "      <td>-1.2</td>\n",
       "      <td>12.5</td>\n",
       "      <td>2.6</td>\n",
       "      <td>-2.1</td>\n",
       "      <td>0.5</td>\n",
       "      <td>0.2</td>\n",
       "      <td>$3,500,000</td>\n",
       "    </tr>\n",
       "    <tr>\n",
       "      <td>2</td>\n",
       "      <td>Bogdan Bogdanovic</td>\n",
       "      <td>27</td>\n",
       "      <td>8</td>\n",
       "      <td>9</td>\n",
       "      <td>27.8</td>\n",
       "      <td>5.2</td>\n",
       "      <td>12.9</td>\n",
       "      <td>40.5</td>\n",
       "      <td>2.8</td>\n",
       "      <td>7.4</td>\n",
       "      <td>...</td>\n",
       "      <td>1.1</td>\n",
       "      <td>5.2</td>\n",
       "      <td>-0.2</td>\n",
       "      <td>1.4</td>\n",
       "      <td>1.3</td>\n",
       "      <td>3.6</td>\n",
       "      <td>1.2</td>\n",
       "      <td>4.8</td>\n",
       "      <td>1.7</td>\n",
       "      <td>$8,529,386</td>\n",
       "    </tr>\n",
       "    <tr>\n",
       "      <td>3</td>\n",
       "      <td>Bojan Bogdanovic</td>\n",
       "      <td>30</td>\n",
       "      <td>12</td>\n",
       "      <td>6</td>\n",
       "      <td>33.3</td>\n",
       "      <td>7.6</td>\n",
       "      <td>15.6</td>\n",
       "      <td>48.8</td>\n",
       "      <td>3.3</td>\n",
       "      <td>7</td>\n",
       "      <td>...</td>\n",
       "      <td>-0.2</td>\n",
       "      <td>1.6</td>\n",
       "      <td>7.9</td>\n",
       "      <td>-1.6</td>\n",
       "      <td>6.3</td>\n",
       "      <td>3.1</td>\n",
       "      <td>-0.5</td>\n",
       "      <td>2.6</td>\n",
       "      <td>1.5</td>\n",
       "      <td>$17,000,000</td>\n",
       "    </tr>\n",
       "    <tr>\n",
       "      <td>4</td>\n",
       "      <td>Brian Bowen II</td>\n",
       "      <td>21</td>\n",
       "      <td>2</td>\n",
       "      <td>1</td>\n",
       "      <td>3.2</td>\n",
       "      <td>0.3</td>\n",
       "      <td>1.3</td>\n",
       "      <td>25</td>\n",
       "      <td>0</td>\n",
       "      <td>0.3</td>\n",
       "      <td>...</td>\n",
       "      <td>7.4</td>\n",
       "      <td>-0.2</td>\n",
       "      <td>-1.1</td>\n",
       "      <td>0.8</td>\n",
       "      <td>-0.3</td>\n",
       "      <td>-6.7</td>\n",
       "      <td>6.5</td>\n",
       "      <td>-0.2</td>\n",
       "      <td>0.0</td>\n",
       "      <td>0</td>\n",
       "    </tr>\n",
       "  </tbody>\n",
       "</table>\n",
       "<p>5 rows × 92 columns</p>\n",
       "</div>"
      ],
      "text/plain": [
       "              Player Age_x   W  L    MP  FGM   FGA   FG%  3PM  3PA  ...  \\\n",
       "0         Ante Zizic    22   0  5  13.3    2   3.6  55.6    0    0  ...   \n",
       "1   Boban Marjanovic    31   5  3    13    3     6    50    0  0.1  ...   \n",
       "2  Bogdan Bogdanovic    27   8  9  27.8  5.2  12.9  40.5  2.8  7.4  ...   \n",
       "3   Bojan Bogdanovic    30  12  6  33.3  7.6  15.6  48.8  3.3    7  ...   \n",
       "4     Brian Bowen II    21   2  1   3.2  0.3   1.3    25    0  0.3  ...   \n",
       "\n",
       "  BSR Def. BSR Total OOR Off. OOR Def. OOR Total OVR Off. OVR Def. OVR total  \\\n",
       "0     -1.4      -4.9      1.6     -8.0      -6.4     -2.7     -2.6      -5.3   \n",
       "1     -2.1      -1.9     13.7     -1.2      12.5      2.6     -2.1       0.5   \n",
       "2      1.1       5.2     -0.2      1.4       1.3      3.6      1.2       4.8   \n",
       "3     -0.2       1.6      7.9     -1.6       6.3      3.1     -0.5       2.6   \n",
       "4      7.4      -0.2     -1.1      0.8      -0.3     -6.7      6.5      -0.2   \n",
       "\n",
       "   WAR        salary  \n",
       "0 -0.1   $2,281,800   \n",
       "1  0.2   $3,500,000   \n",
       "2  1.7   $8,529,386   \n",
       "3  1.5  $17,000,000   \n",
       "4  0.0             0  \n",
       "\n",
       "[5 rows x 92 columns]"
      ]
     },
     "execution_count": 44,
     "metadata": {},
     "output_type": "execute_result"
    }
   ],
   "source": [
    "nba_stats.head()"
   ]
  },
  {
   "cell_type": "code",
   "execution_count": 46,
   "metadata": {},
   "outputs": [],
   "source": [
    "nba_stats.to_csv('data/nba_stats19.csv')"
   ]
  },
  {
   "cell_type": "code",
   "execution_count": null,
   "metadata": {},
   "outputs": [],
   "source": []
  }
 ],
 "metadata": {
  "kernelspec": {
   "display_name": "Python 3",
   "language": "python",
   "name": "python3"
  },
  "language_info": {
   "codemirror_mode": {
    "name": "ipython",
    "version": 3
   },
   "file_extension": ".py",
   "mimetype": "text/x-python",
   "name": "python",
   "nbconvert_exporter": "python",
   "pygments_lexer": "ipython3",
   "version": "3.7.4"
  }
 },
 "nbformat": 4,
 "nbformat_minor": 2
}
