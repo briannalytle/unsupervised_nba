{
 "cells": [
  {
   "cell_type": "code",
   "execution_count": 70,
   "metadata": {},
   "outputs": [],
   "source": [
    "import pandas as pd\n",
    "import requests\n",
    "import time\n",
    "from time import sleep\n",
    "from bs4 import BeautifulSoup"
   ]
  },
  {
   "cell_type": "markdown",
   "metadata": {},
   "source": [
    "# practie scraping 538"
   ]
  },
  {
   "cell_type": "markdown",
   "metadata": {},
   "source": [
    "538 only has player ratings for the current year. So this will be based off their 2020 rankings"
   ]
  },
  {
   "cell_type": "code",
   "execution_count": 71,
   "metadata": {},
   "outputs": [
    {
     "data": {
      "text/plain": [
       "200"
      ]
     },
     "execution_count": 71,
     "metadata": {},
     "output_type": "execute_result"
    }
   ],
   "source": [
    "url = 'https://projects.fivethirtyeight.com/2020-nba-player-ratings/'\n",
    "res = requests.get(url)\n",
    "res.status_code"
   ]
  },
  {
   "cell_type": "code",
   "execution_count": 72,
   "metadata": {},
   "outputs": [],
   "source": [
    "soup = BeautifulSoup(res.content, 'lxml')"
   ]
  },
  {
   "cell_type": "code",
   "execution_count": 73,
   "metadata": {},
   "outputs": [],
   "source": [
    "table538 = soup.find('table', {'id' : 'table'})"
   ]
  },
  {
   "cell_type": "code",
   "execution_count": 74,
   "metadata": {},
   "outputs": [
    {
     "data": {
      "text/plain": [
       "449"
      ]
     },
     "execution_count": 74,
     "metadata": {},
     "output_type": "execute_result"
    }
   ],
   "source": [
    "len(table538.find_all('tr'))"
   ]
  },
  {
   "cell_type": "markdown",
   "metadata": {},
   "source": [
    "Grabbing column names - Some of the labels have a double heading. I'm only grabbing the last column heading row and will rename it later just for the sake of time"
   ]
  },
  {
   "cell_type": "code",
   "execution_count": 79,
   "metadata": {
    "scrolled": false
   },
   "outputs": [
    {
     "data": {
      "text/plain": [
       "<tr><th>Player</th><th class=\"team drop-small\" data-tsorter=\"data-str\">Team</th><th class=\"drop-small\" data-tsorter=\"data-str\">Position(s)</th><th class=\"num drop-small\" data-tsorter=\"data-val\">Minutes</th><th class=\"num lower drop-mid\" data-tsorter=\"data-val\">Off.</th><th class=\"num lower drop-mid\" data-tsorter=\"data-val\">Def.</th><th class=\"num lower drop-mid\" data-tsorter=\"data-val\">Total</th><th class=\"num lower drop-mid\" data-tsorter=\"data-val\">Off.</th><th class=\"num lower drop-mid\" data-tsorter=\"data-val\">Def.</th><th class=\"num lower drop-mid\" data-tsorter=\"data-val\">Total</th><th class=\"num lower\" data-tsorter=\"data-val\">Off.</th><th class=\"num lower\" data-tsorter=\"data-val\">Def.</th><th class=\"num lower\" data-tsorter=\"data-val\">Total</th><th class=\"num sorted\" data-tsorter=\"data-val\">WAR</th></tr>"
      ]
     },
     "execution_count": 79,
     "metadata": {},
     "output_type": "execute_result"
    }
   ],
   "source": [
    "table538.find_all('tr')[1]"
   ]
  },
  {
   "cell_type": "code",
   "execution_count": 95,
   "metadata": {},
   "outputs": [
    {
     "data": {
      "text/plain": [
       "'WAR'"
      ]
     },
     "execution_count": 95,
     "metadata": {},
     "output_type": "execute_result"
    }
   ],
   "source": [
    "labels"
   ]
  },
  {
   "cell_type": "code",
   "execution_count": 76,
   "metadata": {},
   "outputs": [],
   "source": [
    "#searching for all Tr in the chart \n",
    "#starting with 3rd index because that's where James Harden starts\n",
    "players = table538.find_all('tr')[2:]"
   ]
  },
  {
   "cell_type": "code",
   "execution_count": 100,
   "metadata": {},
   "outputs": [],
   "source": [
    "scrape = []\n",
    "col_names = []\n",
    "for label in table538.find_all('tr')[1]:\n",
    "    find = label.text\n",
    "    col_names.append(find)\n",
    "for i in range(len(players)):\n",
    "    look = [details.text for details in players[i].find_all('td')]\n",
    "    scrape.append(look)"
   ]
  },
  {
   "cell_type": "code",
   "execution_count": 101,
   "metadata": {},
   "outputs": [],
   "source": [
    "#turning scrape into dataframe\n",
    "scrape538  = pd.DataFrame(scrape, columns = col_names)"
   ]
  },
  {
   "cell_type": "code",
   "execution_count": 102,
   "metadata": {},
   "outputs": [
    {
     "data": {
      "text/html": [
       "<div>\n",
       "<style scoped>\n",
       "    .dataframe tbody tr th:only-of-type {\n",
       "        vertical-align: middle;\n",
       "    }\n",
       "\n",
       "    .dataframe tbody tr th {\n",
       "        vertical-align: top;\n",
       "    }\n",
       "\n",
       "    .dataframe thead th {\n",
       "        text-align: right;\n",
       "    }\n",
       "</style>\n",
       "<table border=\"1\" class=\"dataframe\">\n",
       "  <thead>\n",
       "    <tr style=\"text-align: right;\">\n",
       "      <th></th>\n",
       "      <th>Player</th>\n",
       "      <th>Team</th>\n",
       "      <th>Position(s)</th>\n",
       "      <th>Minutes</th>\n",
       "      <th>Off.</th>\n",
       "      <th>Def.</th>\n",
       "      <th>Total</th>\n",
       "      <th>Off.</th>\n",
       "      <th>Def.</th>\n",
       "      <th>Total</th>\n",
       "      <th>Off.</th>\n",
       "      <th>Def.</th>\n",
       "      <th>Total</th>\n",
       "      <th>WAR</th>\n",
       "    </tr>\n",
       "  </thead>\n",
       "  <tbody>\n",
       "    <tr>\n",
       "      <td>0</td>\n",
       "      <td>James Harden</td>\n",
       "      <td>Rockets</td>\n",
       "      <td>PG, SG</td>\n",
       "      <td>513</td>\n",
       "      <td>+11.7</td>\n",
       "      <td>-0.7</td>\n",
       "      <td>+11.0</td>\n",
       "      <td>+2.5</td>\n",
       "      <td>+10.8</td>\n",
       "      <td>+13.3</td>\n",
       "      <td>+10.9</td>\n",
       "      <td>+0.9</td>\n",
       "      <td>+11.8</td>\n",
       "      <td>3.8</td>\n",
       "    </tr>\n",
       "    <tr>\n",
       "      <td>1</td>\n",
       "      <td>LeBron James</td>\n",
       "      <td>Lakers</td>\n",
       "      <td>PG, SF, PF</td>\n",
       "      <td>489</td>\n",
       "      <td>+8.0</td>\n",
       "      <td>+0.6</td>\n",
       "      <td>+8.6</td>\n",
       "      <td>+14.4</td>\n",
       "      <td>+1.8</td>\n",
       "      <td>+16.3</td>\n",
       "      <td>+9.2</td>\n",
       "      <td>+0.8</td>\n",
       "      <td>+10.0</td>\n",
       "      <td>3.2</td>\n",
       "    </tr>\n",
       "    <tr>\n",
       "      <td>2</td>\n",
       "      <td>Luka Doncic</td>\n",
       "      <td>Mavericks</td>\n",
       "      <td>PG, SG, SF</td>\n",
       "      <td>455</td>\n",
       "      <td>+9.5</td>\n",
       "      <td>+1.1</td>\n",
       "      <td>+10.6</td>\n",
       "      <td>+3.2</td>\n",
       "      <td>-6.7</td>\n",
       "      <td>-3.6</td>\n",
       "      <td>+8.9</td>\n",
       "      <td>+0.1</td>\n",
       "      <td>+9.0</td>\n",
       "      <td>2.7</td>\n",
       "    </tr>\n",
       "    <tr>\n",
       "      <td>3</td>\n",
       "      <td>Damian Lillard</td>\n",
       "      <td>Trail Blazers</td>\n",
       "      <td>PG</td>\n",
       "      <td>536</td>\n",
       "      <td>+8.6</td>\n",
       "      <td>-2.1</td>\n",
       "      <td>+6.5</td>\n",
       "      <td>+6.4</td>\n",
       "      <td>-0.5</td>\n",
       "      <td>+6.0</td>\n",
       "      <td>+8.6</td>\n",
       "      <td>-1.9</td>\n",
       "      <td>+6.7</td>\n",
       "      <td>2.6</td>\n",
       "    </tr>\n",
       "    <tr>\n",
       "      <td>4</td>\n",
       "      <td>Karl-Anthony Towns</td>\n",
       "      <td>Timberwolves</td>\n",
       "      <td>C</td>\n",
       "      <td>394</td>\n",
       "      <td>+5.5</td>\n",
       "      <td>+4.7</td>\n",
       "      <td>+10.2</td>\n",
       "      <td>+3.8</td>\n",
       "      <td>-1.0</td>\n",
       "      <td>+2.8</td>\n",
       "      <td>+5.5</td>\n",
       "      <td>+4.1</td>\n",
       "      <td>+9.7</td>\n",
       "      <td>2.5</td>\n",
       "    </tr>\n",
       "  </tbody>\n",
       "</table>\n",
       "</div>"
      ],
      "text/plain": [
       "               Player           Team Position(s) Minutes   Off.  Def.  Total  \\\n",
       "0        James Harden        Rockets      PG, SG     513  +11.7  -0.7  +11.0   \n",
       "1        LeBron James         Lakers  PG, SF, PF     489   +8.0  +0.6   +8.6   \n",
       "2         Luka Doncic      Mavericks  PG, SG, SF     455   +9.5  +1.1  +10.6   \n",
       "3      Damian Lillard  Trail Blazers          PG     536   +8.6  -2.1   +6.5   \n",
       "4  Karl-Anthony Towns   Timberwolves           C     394   +5.5  +4.7  +10.2   \n",
       "\n",
       "    Off.   Def.  Total   Off.  Def.  Total  WAR  \n",
       "0   +2.5  +10.8  +13.3  +10.9  +0.9  +11.8  3.8  \n",
       "1  +14.4   +1.8  +16.3   +9.2  +0.8  +10.0  3.2  \n",
       "2   +3.2   -6.7   -3.6   +8.9  +0.1   +9.0  2.7  \n",
       "3   +6.4   -0.5   +6.0   +8.6  -1.9   +6.7  2.6  \n",
       "4   +3.8   -1.0   +2.8   +5.5  +4.1   +9.7  2.5  "
      ]
     },
     "execution_count": 102,
     "metadata": {},
     "output_type": "execute_result"
    }
   ],
   "source": [
    "scrape538.head()"
   ]
  },
  {
   "cell_type": "code",
   "execution_count": 104,
   "metadata": {},
   "outputs": [
    {
     "data": {
      "text/plain": [
       "'Team'"
      ]
     },
     "execution_count": 104,
     "metadata": {},
     "output_type": "execute_result"
    }
   ],
   "source": [
    "scrape538.columns[1]"
   ]
  },
  {
   "cell_type": "code",
   "execution_count": 105,
   "metadata": {},
   "outputs": [],
   "source": [
    "scrape538.columns = ['Player', 'Team', 'Position(s)', 'Minutes', 'BSR Off.', 'BSR Def.', 'BSR Total',\n",
    "                    'OOR Off.', 'OOR Def.', 'OOR Total', 'OVR Off.', 'OVR Def.', 'OVR total', 'WAR']"
   ]
  },
  {
   "cell_type": "code",
   "execution_count": null,
   "metadata": {},
   "outputs": [],
   "source": [
    "scrape538.rename()"
   ]
  }
 ],
 "metadata": {
  "kernelspec": {
   "display_name": "Python 3",
   "language": "python",
   "name": "python3"
  },
  "language_info": {
   "codemirror_mode": {
    "name": "ipython",
    "version": 3
   },
   "file_extension": ".py",
   "mimetype": "text/x-python",
   "name": "python",
   "nbconvert_exporter": "python",
   "pygments_lexer": "ipython3",
   "version": "3.7.4"
  }
 },
 "nbformat": 4,
 "nbformat_minor": 2
}
