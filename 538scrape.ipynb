{
 "cells": [
  {
   "cell_type": "code",
   "execution_count": 7,
   "metadata": {},
   "outputs": [],
   "source": [
    "import pandas as pd\n",
    "import requests\n",
    "import time\n",
    "from time import sleep\n",
    "from bs4 import BeautifulSoup\n",
    "import matplotlib.pyplot as plt\n",
    "\n",
    "%matplotlib inline"
   ]
  },
  {
   "cell_type": "markdown",
   "metadata": {},
   "source": [
    "# practie scraping 538"
   ]
  },
  {
   "cell_type": "markdown",
   "metadata": {},
   "source": [
    "538 only has player ratings for the current year. So this will be based off their 2020 rankings"
   ]
  },
  {
   "cell_type": "code",
   "execution_count": 8,
   "metadata": {},
   "outputs": [
    {
     "data": {
      "text/plain": [
       "200"
      ]
     },
     "execution_count": 8,
     "metadata": {},
     "output_type": "execute_result"
    }
   ],
   "source": [
    "url = 'https://projects.fivethirtyeight.com/2020-nba-player-ratings/'\n",
    "res = requests.get(url)\n",
    "res.status_code"
   ]
  },
  {
   "cell_type": "code",
   "execution_count": 9,
   "metadata": {},
   "outputs": [
    {
     "data": {
      "text/plain": [
       "457"
      ]
     },
     "execution_count": 9,
     "metadata": {},
     "output_type": "execute_result"
    }
   ],
   "source": [
    "soup = BeautifulSoup(res.content, 'lxml')\n",
    "table538 = soup.find('table', {'id' : 'table'})\n",
    "len(table538.find_all('tr'))"
   ]
  },
  {
   "cell_type": "markdown",
   "metadata": {},
   "source": [
    "Grabbing column names - Some of the labels have a double heading. I'm only grabbing the last column heading row and will rename it later just for the sake of time"
   ]
  },
  {
   "cell_type": "code",
   "execution_count": 10,
   "metadata": {},
   "outputs": [],
   "source": [
    "#searching for all Tr in the chart \n",
    "#starting with 3rd index because that's where James Harden starts\n",
    "players = table538.find_all('tr')[2:]"
   ]
  },
  {
   "cell_type": "code",
   "execution_count": 11,
   "metadata": {},
   "outputs": [],
   "source": [
    "scrape = []\n",
    "col_names = []\n",
    "for label in table538.find_all('tr')[1]:\n",
    "    find = label.text\n",
    "    col_names.append(find)\n",
    "for i in range(len(players)):\n",
    "    look = [details.text for details in players[i].find_all('td')]\n",
    "    scrape.append(look)"
   ]
  },
  {
   "cell_type": "code",
   "execution_count": 12,
   "metadata": {},
   "outputs": [],
   "source": [
    "#turning scrape into dataframe\n",
    "scrape538  = pd.DataFrame(scrape, columns = col_names)"
   ]
  },
  {
   "cell_type": "code",
   "execution_count": 13,
   "metadata": {},
   "outputs": [
    {
     "data": {
      "text/html": [
       "<div>\n",
       "<style scoped>\n",
       "    .dataframe tbody tr th:only-of-type {\n",
       "        vertical-align: middle;\n",
       "    }\n",
       "\n",
       "    .dataframe tbody tr th {\n",
       "        vertical-align: top;\n",
       "    }\n",
       "\n",
       "    .dataframe thead th {\n",
       "        text-align: right;\n",
       "    }\n",
       "</style>\n",
       "<table border=\"1\" class=\"dataframe\">\n",
       "  <thead>\n",
       "    <tr style=\"text-align: right;\">\n",
       "      <th></th>\n",
       "      <th>Player</th>\n",
       "      <th>Team</th>\n",
       "      <th>Position(s)</th>\n",
       "      <th>Minutes</th>\n",
       "      <th>Off.</th>\n",
       "      <th>Def.</th>\n",
       "      <th>Total</th>\n",
       "      <th>Off.</th>\n",
       "      <th>Def.</th>\n",
       "      <th>Total</th>\n",
       "      <th>Off.</th>\n",
       "      <th>Def.</th>\n",
       "      <th>Total</th>\n",
       "      <th>WAR</th>\n",
       "    </tr>\n",
       "  </thead>\n",
       "  <tbody>\n",
       "    <tr>\n",
       "      <td>0</td>\n",
       "      <td>James Harden</td>\n",
       "      <td>Rockets</td>\n",
       "      <td>PG, SG</td>\n",
       "      <td>669</td>\n",
       "      <td>+10.2</td>\n",
       "      <td>-0.1</td>\n",
       "      <td>+10.1</td>\n",
       "      <td>+2.7</td>\n",
       "      <td>+9.5</td>\n",
       "      <td>+12.1</td>\n",
       "      <td>+9.4</td>\n",
       "      <td>+1.7</td>\n",
       "      <td>+11.1</td>\n",
       "      <td>4.7</td>\n",
       "    </tr>\n",
       "    <tr>\n",
       "      <td>1</td>\n",
       "      <td>LeBron James</td>\n",
       "      <td>Lakers</td>\n",
       "      <td>PG, SF, PF</td>\n",
       "      <td>636</td>\n",
       "      <td>+7.5</td>\n",
       "      <td>+0.5</td>\n",
       "      <td>+8.0</td>\n",
       "      <td>+9.8</td>\n",
       "      <td>+4.9</td>\n",
       "      <td>+14.7</td>\n",
       "      <td>+8.2</td>\n",
       "      <td>+1.3</td>\n",
       "      <td>+9.5</td>\n",
       "      <td>4.0</td>\n",
       "    </tr>\n",
       "    <tr>\n",
       "      <td>2</td>\n",
       "      <td>Luka Doncic</td>\n",
       "      <td>Mavericks</td>\n",
       "      <td>PG, SG, SF</td>\n",
       "      <td>578</td>\n",
       "      <td>+10.2</td>\n",
       "      <td>+1.4</td>\n",
       "      <td>+11.6</td>\n",
       "      <td>+7.2</td>\n",
       "      <td>-5.1</td>\n",
       "      <td>+2.2</td>\n",
       "      <td>+10.0</td>\n",
       "      <td>+0.3</td>\n",
       "      <td>+10.3</td>\n",
       "      <td>3.9</td>\n",
       "    </tr>\n",
       "    <tr>\n",
       "      <td>3</td>\n",
       "      <td>Giannis Antetokounmpo</td>\n",
       "      <td>Bucks</td>\n",
       "      <td>SF, PF</td>\n",
       "      <td>595</td>\n",
       "      <td>+5.7</td>\n",
       "      <td>+2.6</td>\n",
       "      <td>+8.3</td>\n",
       "      <td>+3.7</td>\n",
       "      <td>+6.3</td>\n",
       "      <td>+10.0</td>\n",
       "      <td>+5.5</td>\n",
       "      <td>+3.4</td>\n",
       "      <td>+8.9</td>\n",
       "      <td>3.6</td>\n",
       "    </tr>\n",
       "    <tr>\n",
       "      <td>4</td>\n",
       "      <td>Montrezl Harrell</td>\n",
       "      <td>Clippers</td>\n",
       "      <td>C</td>\n",
       "      <td>572</td>\n",
       "      <td>+1.5</td>\n",
       "      <td>+6.6</td>\n",
       "      <td>+8.2</td>\n",
       "      <td>+5.0</td>\n",
       "      <td>+1.8</td>\n",
       "      <td>+6.8</td>\n",
       "      <td>+2.3</td>\n",
       "      <td>+6.0</td>\n",
       "      <td>+8.3</td>\n",
       "      <td>3.2</td>\n",
       "    </tr>\n",
       "  </tbody>\n",
       "</table>\n",
       "</div>"
      ],
      "text/plain": [
       "                  Player       Team Position(s) Minutes   Off.  Def.  Total  \\\n",
       "0           James Harden    Rockets      PG, SG     669  +10.2  -0.1  +10.1   \n",
       "1           LeBron James     Lakers  PG, SF, PF     636   +7.5  +0.5   +8.0   \n",
       "2            Luka Doncic  Mavericks  PG, SG, SF     578  +10.2  +1.4  +11.6   \n",
       "3  Giannis Antetokounmpo      Bucks      SF, PF     595   +5.7  +2.6   +8.3   \n",
       "4       Montrezl Harrell   Clippers           C     572   +1.5  +6.6   +8.2   \n",
       "\n",
       "   Off.  Def.  Total   Off.  Def.  Total  WAR  \n",
       "0  +2.7  +9.5  +12.1   +9.4  +1.7  +11.1  4.7  \n",
       "1  +9.8  +4.9  +14.7   +8.2  +1.3   +9.5  4.0  \n",
       "2  +7.2  -5.1   +2.2  +10.0  +0.3  +10.3  3.9  \n",
       "3  +3.7  +6.3  +10.0   +5.5  +3.4   +8.9  3.6  \n",
       "4  +5.0  +1.8   +6.8   +2.3  +6.0   +8.3  3.2  "
      ]
     },
     "execution_count": 13,
     "metadata": {},
     "output_type": "execute_result"
    }
   ],
   "source": [
    "scrape538.head()"
   ]
  },
  {
   "cell_type": "code",
   "execution_count": 14,
   "metadata": {},
   "outputs": [
    {
     "data": {
      "text/plain": [
       "(455, 14)"
      ]
     },
     "execution_count": 14,
     "metadata": {},
     "output_type": "execute_result"
    }
   ],
   "source": [
    "scrape538.shape"
   ]
  },
  {
   "cell_type": "code",
   "execution_count": 15,
   "metadata": {
    "scrolled": true
   },
   "outputs": [
    {
     "data": {
      "text/plain": [
       "'Team'"
      ]
     },
     "execution_count": 15,
     "metadata": {},
     "output_type": "execute_result"
    }
   ],
   "source": [
    "scrape538.columns[1]"
   ]
  },
  {
   "cell_type": "code",
   "execution_count": 16,
   "metadata": {},
   "outputs": [],
   "source": [
    "scrape538.columns = ['Player', 'Team', 'Position(s)', 'Minutes', 'BSR Off.', 'BSR Def.', 'BSR Total',\n",
    "                    'OOR Off.', 'OOR Def.', 'OOR Total', 'OVR Off.', 'OVR Def.', 'OVR total', 'WAR']"
   ]
  },
  {
   "cell_type": "code",
   "execution_count": 17,
   "metadata": {},
   "outputs": [],
   "source": [
    "scrape538.to_csv('data/scrape538.csv')"
   ]
  },
  {
   "cell_type": "code",
   "execution_count": 18,
   "metadata": {
    "scrolled": false
   },
   "outputs": [
    {
     "data": {
      "text/html": [
       "<div>\n",
       "<style scoped>\n",
       "    .dataframe tbody tr th:only-of-type {\n",
       "        vertical-align: middle;\n",
       "    }\n",
       "\n",
       "    .dataframe tbody tr th {\n",
       "        vertical-align: top;\n",
       "    }\n",
       "\n",
       "    .dataframe thead th {\n",
       "        text-align: right;\n",
       "    }\n",
       "</style>\n",
       "<table border=\"1\" class=\"dataframe\">\n",
       "  <thead>\n",
       "    <tr style=\"text-align: right;\">\n",
       "      <th></th>\n",
       "      <th>Player</th>\n",
       "      <th>Team</th>\n",
       "      <th>Position(s)</th>\n",
       "      <th>Minutes</th>\n",
       "      <th>BSR Off.</th>\n",
       "      <th>BSR Def.</th>\n",
       "      <th>BSR Total</th>\n",
       "      <th>OOR Off.</th>\n",
       "      <th>OOR Def.</th>\n",
       "      <th>OOR Total</th>\n",
       "      <th>OVR Off.</th>\n",
       "      <th>OVR Def.</th>\n",
       "      <th>OVR total</th>\n",
       "      <th>WAR</th>\n",
       "    </tr>\n",
       "  </thead>\n",
       "  <tbody>\n",
       "    <tr>\n",
       "      <td>0</td>\n",
       "      <td>James Harden</td>\n",
       "      <td>Rockets</td>\n",
       "      <td>PG, SG</td>\n",
       "      <td>669</td>\n",
       "      <td>+10.2</td>\n",
       "      <td>-0.1</td>\n",
       "      <td>+10.1</td>\n",
       "      <td>+2.7</td>\n",
       "      <td>+9.5</td>\n",
       "      <td>+12.1</td>\n",
       "      <td>+9.4</td>\n",
       "      <td>+1.7</td>\n",
       "      <td>+11.1</td>\n",
       "      <td>4.7</td>\n",
       "    </tr>\n",
       "    <tr>\n",
       "      <td>1</td>\n",
       "      <td>LeBron James</td>\n",
       "      <td>Lakers</td>\n",
       "      <td>PG, SF, PF</td>\n",
       "      <td>636</td>\n",
       "      <td>+7.5</td>\n",
       "      <td>+0.5</td>\n",
       "      <td>+8.0</td>\n",
       "      <td>+9.8</td>\n",
       "      <td>+4.9</td>\n",
       "      <td>+14.7</td>\n",
       "      <td>+8.2</td>\n",
       "      <td>+1.3</td>\n",
       "      <td>+9.5</td>\n",
       "      <td>4.0</td>\n",
       "    </tr>\n",
       "    <tr>\n",
       "      <td>2</td>\n",
       "      <td>Luka Doncic</td>\n",
       "      <td>Mavericks</td>\n",
       "      <td>PG, SG, SF</td>\n",
       "      <td>578</td>\n",
       "      <td>+10.2</td>\n",
       "      <td>+1.4</td>\n",
       "      <td>+11.6</td>\n",
       "      <td>+7.2</td>\n",
       "      <td>-5.1</td>\n",
       "      <td>+2.2</td>\n",
       "      <td>+10.0</td>\n",
       "      <td>+0.3</td>\n",
       "      <td>+10.3</td>\n",
       "      <td>3.9</td>\n",
       "    </tr>\n",
       "    <tr>\n",
       "      <td>3</td>\n",
       "      <td>Giannis Antetokounmpo</td>\n",
       "      <td>Bucks</td>\n",
       "      <td>SF, PF</td>\n",
       "      <td>595</td>\n",
       "      <td>+5.7</td>\n",
       "      <td>+2.6</td>\n",
       "      <td>+8.3</td>\n",
       "      <td>+3.7</td>\n",
       "      <td>+6.3</td>\n",
       "      <td>+10.0</td>\n",
       "      <td>+5.5</td>\n",
       "      <td>+3.4</td>\n",
       "      <td>+8.9</td>\n",
       "      <td>3.6</td>\n",
       "    </tr>\n",
       "    <tr>\n",
       "      <td>4</td>\n",
       "      <td>Montrezl Harrell</td>\n",
       "      <td>Clippers</td>\n",
       "      <td>C</td>\n",
       "      <td>572</td>\n",
       "      <td>+1.5</td>\n",
       "      <td>+6.6</td>\n",
       "      <td>+8.2</td>\n",
       "      <td>+5.0</td>\n",
       "      <td>+1.8</td>\n",
       "      <td>+6.8</td>\n",
       "      <td>+2.3</td>\n",
       "      <td>+6.0</td>\n",
       "      <td>+8.3</td>\n",
       "      <td>3.2</td>\n",
       "    </tr>\n",
       "  </tbody>\n",
       "</table>\n",
       "</div>"
      ],
      "text/plain": [
       "                  Player       Team Position(s) Minutes BSR Off. BSR Def.  \\\n",
       "0           James Harden    Rockets      PG, SG     669    +10.2     -0.1   \n",
       "1           LeBron James     Lakers  PG, SF, PF     636     +7.5     +0.5   \n",
       "2            Luka Doncic  Mavericks  PG, SG, SF     578    +10.2     +1.4   \n",
       "3  Giannis Antetokounmpo      Bucks      SF, PF     595     +5.7     +2.6   \n",
       "4       Montrezl Harrell   Clippers           C     572     +1.5     +6.6   \n",
       "\n",
       "  BSR Total OOR Off. OOR Def. OOR Total OVR Off. OVR Def. OVR total  WAR  \n",
       "0     +10.1     +2.7     +9.5     +12.1     +9.4     +1.7     +11.1  4.7  \n",
       "1      +8.0     +9.8     +4.9     +14.7     +8.2     +1.3      +9.5  4.0  \n",
       "2     +11.6     +7.2     -5.1      +2.2    +10.0     +0.3     +10.3  3.9  \n",
       "3      +8.3     +3.7     +6.3     +10.0     +5.5     +3.4      +8.9  3.6  \n",
       "4      +8.2     +5.0     +1.8      +6.8     +2.3     +6.0      +8.3  3.2  "
      ]
     },
     "execution_count": 18,
     "metadata": {},
     "output_type": "execute_result"
    }
   ],
   "source": [
    "scrape538.head()"
   ]
  },
  {
   "cell_type": "markdown",
   "metadata": {},
   "source": [
    "# Perform Kmeans on only 538 Data"
   ]
  },
  {
   "cell_type": "code",
   "execution_count": 2,
   "metadata": {},
   "outputs": [],
   "source": [
    "# Import from sklearn.\n",
    "from sklearn.model_selection import train_test_split\n",
    "from sklearn.linear_model import LinearRegression\n",
    "from sklearn.metrics import r2_score, silhouette_score\n",
    "from sklearn.decomposition import PCA\n",
    "from sklearn.cluster import KMeans\n",
    "from sklearn.metrics.pairwise import pairwise_distances\n",
    "from sklearn.preprocessing import PolynomialFeatures, StandardScaler\n"
   ]
  },
  {
   "cell_type": "code",
   "execution_count": 17,
   "metadata": {},
   "outputs": [
    {
     "data": {
      "text/plain": [
       "447"
      ]
     },
     "execution_count": 17,
     "metadata": {},
     "output_type": "execute_result"
    }
   ],
   "source": [
    "len(scrape538)"
   ]
  },
  {
   "cell_type": "code",
   "execution_count": 18,
   "metadata": {},
   "outputs": [
    {
     "data": {
      "text/plain": [
       "Index(['Player', 'Team', 'Position(s)', 'Minutes', 'BSR Off.', 'BSR Def.',\n",
       "       'BSR Total', 'OOR Off.', 'OOR Def.', 'OOR Total', 'OVR Off.',\n",
       "       'OVR Def.', 'OVR total', 'WAR'],\n",
       "      dtype='object')"
      ]
     },
     "execution_count": 18,
     "metadata": {},
     "output_type": "execute_result"
    }
   ],
   "source": [
    "scrape538.columns"
   ]
  },
  {
   "cell_type": "code",
   "execution_count": 21,
   "metadata": {},
   "outputs": [],
   "source": [
    "X = scrape538.drop(['Player', 'Team', 'Position(s)'], axis = 1)\n",
    "y = scrape538['Player']"
   ]
  },
  {
   "cell_type": "code",
   "execution_count": 22,
   "metadata": {},
   "outputs": [],
   "source": [
    "# scale data\n",
    "sc = StandardScaler()\n",
    "X_sc = sc.fit_transform(X)"
   ]
  },
  {
   "cell_type": "code",
   "execution_count": 34,
   "metadata": {},
   "outputs": [],
   "source": [
    "#dimensionality reduction\n",
    "pca = PCA(n_components = 4)\n",
    "pca.fit(X_sc)\n",
    "X_pca = pca.transform(X_sc)"
   ]
  },
  {
   "cell_type": "code",
   "execution_count": 35,
   "metadata": {},
   "outputs": [
    {
     "data": {
      "text/plain": [
       "0.2352700137580218"
      ]
     },
     "execution_count": 35,
     "metadata": {},
     "output_type": "execute_result"
    }
   ],
   "source": [
    "#creating clusters\n",
    "km = KMeans(n_clusters = 5, random_state = 248)\n",
    "km.fit(X_pca)\n",
    "y_kmeans = km.predict(X_pca)\n",
    "silhouette_score(X_sc, km.labels_)"
   ]
  },
  {
   "cell_type": "code",
   "execution_count": 36,
   "metadata": {},
   "outputs": [
    {
     "data": {
      "text/plain": [
       "array([[-1.82930892, -0.23108414,  0.49488871,  0.90045467],\n",
       "       [ 3.21311114, -0.55796388, -0.88598129, -0.24273692],\n",
       "       [ 8.84519924,  1.45931632,  1.43564058,  1.08692484],\n",
       "       [ 0.35189478, -0.26045362, -0.01350523, -0.32217047],\n",
       "       [-1.70775714,  1.64314428, -0.68137757, -0.78390537]])"
      ]
     },
     "execution_count": 36,
     "metadata": {},
     "output_type": "execute_result"
    }
   ],
   "source": [
    "km.cluster_centers_"
   ]
  },
  {
   "cell_type": "code",
   "execution_count": 37,
   "metadata": {},
   "outputs": [],
   "source": [
    "# kmeans cluster labels I have really no idea what any\n",
    "#of these are doing but I'm just practicing \n",
    "from sklearn.cluster import SpectralClustering\n",
    "from sklearn.metrics import pairwise_distances_argmin"
   ]
  },
  {
   "cell_type": "code",
   "execution_count": 29,
   "metadata": {},
   "outputs": [],
   "source": [
    "#creating columns for km labels\n",
    "scrape538['cluster'] = km.labels_"
   ]
  }
 ],
 "metadata": {
  "kernelspec": {
   "display_name": "Python 3",
   "language": "python",
   "name": "python3"
  },
  "language_info": {
   "codemirror_mode": {
    "name": "ipython",
    "version": 3
   },
   "file_extension": ".py",
   "mimetype": "text/x-python",
   "name": "python",
   "nbconvert_exporter": "python",
   "pygments_lexer": "ipython3",
   "version": "3.7.4"
  }
 },
 "nbformat": 4,
 "nbformat_minor": 2
}
