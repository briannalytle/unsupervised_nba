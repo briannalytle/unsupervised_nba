{
 "cells": [
  {
   "cell_type": "markdown",
   "metadata": {},
   "source": [
    "Scraping based on 100 possessions. "
   ]
  },
  {
   "cell_type": "code",
   "execution_count": 1,
   "metadata": {},
   "outputs": [],
   "source": [
    "import pandas as pd\n",
    "import requests\n",
    "import time\n",
    "from time import sleep\n",
    "from bs4 import BeautifulSoup"
   ]
  },
  {
   "cell_type": "code",
   "execution_count": 2,
   "metadata": {},
   "outputs": [],
   "source": [
    "url = 'https://www.basketball-reference.com/leagues/NBA_2019_per_poss.html'\n",
    "res = requests.get(url)\n",
    "\n",
    "soup = BeautifulSoup(res.content, 'lxml')\n",
    "table = soup.find('table', {'id': 'per_poss_stats'})"
   ]
  },
  {
   "cell_type": "code",
   "execution_count": 3,
   "metadata": {},
   "outputs": [],
   "source": [
    "numeric_cols = ['Age', 'G', 'GS', 'MP', 'FG', 'FGA', 'FG%', '3P',\n",
    "       '3PA', '3P%', '2P', '2PA', '2P%', 'FT', 'FTA', 'FT%', 'ORB', 'DRB',\n",
    "       'TRB', 'AST', 'STL', 'BLK', 'TOV', 'PF', 'PTS', 'ORtg', 'DRtg']"
   ]
  },
  {
   "cell_type": "markdown",
   "metadata": {},
   "source": [
    "# BasketballReference Players by Season"
   ]
  },
  {
   "cell_type": "markdown",
   "metadata": {},
   "source": [
    "# Season '19-20 DataFrame"
   ]
  },
  {
   "cell_type": "code",
   "execution_count": 4,
   "metadata": {},
   "outputs": [],
   "source": [
    "def grab_stats(year):\n",
    "    res = requests.get(year)\n",
    "    soup = BeautifulSoup(res.content, 'lxml')\n",
    "    table = soup.find('table', {'id' : 'per_poss_stats'})\n",
    "    statistics = []\n",
    "    url_list = []\n",
    "    link = 'https://www.basketball-reference.com'\n",
    "    \n",
    "    #creating list of column names\n",
    "    for label in table.find_all('thead'):\n",
    "        header = {}\n",
    "        header = label.findAll('th')\n",
    "        labels = [i.text for i in header][1:]\n",
    "    \n",
    "    #appending row information\n",
    "    for row in table.find_all('tr')[1:]:\n",
    "        numbers = [stat.text for stat in row.find_all('td')]\n",
    "        statistics.append(numbers)\n",
    "        time.sleep(3)\n",
    "#         print('this is a row being gathered'\n",
    "    \n",
    "    #scrape urls of players\n",
    "    for z in range(len(table.find_all('tr')[1:])):\n",
    "        try:\n",
    "            player_page = link + table.find_all('tr')[1:][z].find('a')['href']\n",
    "            url_list.append(player_page)\n",
    "        except:\n",
    "            error = (f'Error on row {z}')\n",
    "            url_list.append(error)\n",
    "            \n",
    "    df = pd.DataFrame(statistics, columns = labels)\n",
    "    df['url_list'] = url_list\n",
    "    df.drop_duplicates(subset = 'Player', keep = 'first').drop(columns = '')\n",
    "    df.to_csv('data/season1920.csv')\n",
    "        \n",
    "    return df\n",
    "        \n",
    "season1920 = grab_stats('https://www.basketball-reference.com/leagues/NBA_2020_per_poss.html')"
   ]
  },
  {
   "cell_type": "markdown",
   "metadata": {},
   "source": [
    "## Season 19-20 Advanced Stats"
   ]
  },
  {
   "cell_type": "code",
   "execution_count": 5,
   "metadata": {},
   "outputs": [],
   "source": [
    "def grab_stats(year):\n",
    "    res = requests.get(year)\n",
    "    soup = BeautifulSoup(res.content, 'lxml')\n",
    "    table = soup.find('table', {'id' : 'advanced_stats'})\n",
    "    statistics = []\n",
    "    \n",
    "    #creating list of column names\n",
    "    for label in table.find_all('thead'):\n",
    "        header = {}\n",
    "        header = label.findAll('th')\n",
    "        labels = [i.text for i in header][1:]\n",
    "    \n",
    "    #appending row informationv\n",
    "    for row in table.find_all('tr')[1:]:\n",
    "        numbers = [stat.text for stat in row.find_all('td')]\n",
    "        statistics.append(numbers)\n",
    "        time.sleep(3)\n",
    "#         print('this is a row being gathered')\n",
    "            \n",
    "    df = pd.DataFrame(statistics, columns = labels)\n",
    "    df.drop_duplicates(subset = 'Player', keep = 'first')\n",
    "    df.to_csv('data/ad_1920.csv')\n",
    "        \n",
    "    return df\n",
    "        \n",
    "ad_1920 = grab_stats('https://www.basketball-reference.com/leagues/NBA_2020_advanced.html')"
   ]
  }
 ],
 "metadata": {
  "kernelspec": {
   "display_name": "Python 3",
   "language": "python",
   "name": "python3"
  },
  "language_info": {
   "codemirror_mode": {
    "name": "ipython",
    "version": 3
   },
   "file_extension": ".py",
   "mimetype": "text/x-python",
   "name": "python",
   "nbconvert_exporter": "python",
   "pygments_lexer": "ipython3",
   "version": "3.7.4"
  }
 },
 "nbformat": 4,
 "nbformat_minor": 2
}
