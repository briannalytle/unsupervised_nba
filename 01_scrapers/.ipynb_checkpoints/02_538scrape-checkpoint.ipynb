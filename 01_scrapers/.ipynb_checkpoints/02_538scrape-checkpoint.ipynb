{
 "cells": [
  {
   "cell_type": "code",
   "execution_count": 1,
   "metadata": {},
   "outputs": [],
   "source": [
    "import pandas as pd\n",
    "import requests\n",
    "import time\n",
    "from time import sleep\n",
    "from bs4 import BeautifulSoup\n",
    "import matplotlib.pyplot as plt\n",
    "\n",
    "%matplotlib inline"
   ]
  },
  {
   "cell_type": "markdown",
   "metadata": {},
   "source": [
    "# practie scraping 538"
   ]
  },
  {
   "cell_type": "markdown",
   "metadata": {},
   "source": [
    "538 only has player ratings for the current year. So this will be based off their 2020 rankings"
   ]
  },
  {
   "cell_type": "code",
   "execution_count": 2,
   "metadata": {},
   "outputs": [
    {
     "data": {
      "text/plain": [
       "200"
      ]
     },
     "execution_count": 2,
     "metadata": {},
     "output_type": "execute_result"
    }
   ],
   "source": [
    "url = 'https://projects.fivethirtyeight.com/2020-nba-player-ratings/'\n",
    "res = requests.get(url)\n",
    "res.status_code"
   ]
  },
  {
   "cell_type": "code",
   "execution_count": 3,
   "metadata": {},
   "outputs": [
    {
     "data": {
      "text/plain": [
       "462"
      ]
     },
     "execution_count": 3,
     "metadata": {},
     "output_type": "execute_result"
    }
   ],
   "source": [
    "soup = BeautifulSoup(res.content, 'lxml')\n",
    "table538 = soup.find('table', {'id' : 'table'})\n",
    "len(table538.find_all('tr'))"
   ]
  },
  {
   "cell_type": "markdown",
   "metadata": {},
   "source": [
    "Grabbing column names - Some of the labels have a double heading. I'm only grabbing the last column heading row and will rename it later just for the sake of time"
   ]
  },
  {
   "cell_type": "code",
   "execution_count": 4,
   "metadata": {},
   "outputs": [],
   "source": [
    "#searching for all Tr in the chart \n",
    "#starting with 3rd index because that's where James Harden starts\n",
    "players = table538.find_all('tr')[2:]"
   ]
  },
  {
   "cell_type": "code",
   "execution_count": 5,
   "metadata": {},
   "outputs": [],
   "source": [
    "scrape = []\n",
    "col_names = []\n",
    "for label in table538.find_all('tr')[1]:\n",
    "    find = label.text\n",
    "    col_names.append(find)\n",
    "for i in range(len(players)):\n",
    "    look = [details.text for details in players[i].find_all('td')]\n",
    "    scrape.append(look)"
   ]
  },
  {
   "cell_type": "code",
   "execution_count": 6,
   "metadata": {},
   "outputs": [],
   "source": [
    "#turning scrape into dataframe\n",
    "scrape538  = pd.DataFrame(scrape, columns = col_names)"
   ]
  },
  {
   "cell_type": "code",
   "execution_count": 7,
   "metadata": {},
   "outputs": [
    {
     "data": {
      "text/html": [
       "<div>\n",
       "<style scoped>\n",
       "    .dataframe tbody tr th:only-of-type {\n",
       "        vertical-align: middle;\n",
       "    }\n",
       "\n",
       "    .dataframe tbody tr th {\n",
       "        vertical-align: top;\n",
       "    }\n",
       "\n",
       "    .dataframe thead th {\n",
       "        text-align: right;\n",
       "    }\n",
       "</style>\n",
       "<table border=\"1\" class=\"dataframe\">\n",
       "  <thead>\n",
       "    <tr style=\"text-align: right;\">\n",
       "      <th></th>\n",
       "      <th>Player</th>\n",
       "      <th>Team</th>\n",
       "      <th>Position(s)</th>\n",
       "      <th>Minutes</th>\n",
       "      <th>Off.</th>\n",
       "      <th>Def.</th>\n",
       "      <th>Total</th>\n",
       "      <th>Off.</th>\n",
       "      <th>Def.</th>\n",
       "      <th>Total</th>\n",
       "      <th>Off.</th>\n",
       "      <th>Def.</th>\n",
       "      <th>Total</th>\n",
       "      <th>WAR</th>\n",
       "    </tr>\n",
       "  </thead>\n",
       "  <tbody>\n",
       "    <tr>\n",
       "      <td>0</td>\n",
       "      <td>James Harden</td>\n",
       "      <td>Rockets</td>\n",
       "      <td>PG, SG</td>\n",
       "      <td>748</td>\n",
       "      <td>+11.5</td>\n",
       "      <td>+0.3</td>\n",
       "      <td>+11.8</td>\n",
       "      <td>+2.4</td>\n",
       "      <td>+9.2</td>\n",
       "      <td>+11.7</td>\n",
       "      <td>+10.3</td>\n",
       "      <td>+2.2</td>\n",
       "      <td>+12.5</td>\n",
       "      <td>5.8</td>\n",
       "    </tr>\n",
       "    <tr>\n",
       "      <td>1</td>\n",
       "      <td>Luka Doncic</td>\n",
       "      <td>Mavericks</td>\n",
       "      <td>PG, SG, SF</td>\n",
       "      <td>676</td>\n",
       "      <td>+10.8</td>\n",
       "      <td>+1.3</td>\n",
       "      <td>+12.1</td>\n",
       "      <td>+5.8</td>\n",
       "      <td>-4.2</td>\n",
       "      <td>+1.6</td>\n",
       "      <td>+10.2</td>\n",
       "      <td>+0.3</td>\n",
       "      <td>+10.4</td>\n",
       "      <td>4.6</td>\n",
       "    </tr>\n",
       "    <tr>\n",
       "      <td>2</td>\n",
       "      <td>Giannis Antetokounmpo</td>\n",
       "      <td>Bucks</td>\n",
       "      <td>SF, PF</td>\n",
       "      <td>669</td>\n",
       "      <td>+6.9</td>\n",
       "      <td>+2.6</td>\n",
       "      <td>+9.5</td>\n",
       "      <td>+2.7</td>\n",
       "      <td>+7.9</td>\n",
       "      <td>+10.7</td>\n",
       "      <td>+6.2</td>\n",
       "      <td>+3.8</td>\n",
       "      <td>+10.0</td>\n",
       "      <td>4.4</td>\n",
       "    </tr>\n",
       "    <tr>\n",
       "      <td>3</td>\n",
       "      <td>LeBron James</td>\n",
       "      <td>Lakers</td>\n",
       "      <td>PG, SF, PF</td>\n",
       "      <td>734</td>\n",
       "      <td>+6.7</td>\n",
       "      <td>+0.3</td>\n",
       "      <td>+7.0</td>\n",
       "      <td>+8.1</td>\n",
       "      <td>+3.4</td>\n",
       "      <td>+11.5</td>\n",
       "      <td>+7.3</td>\n",
       "      <td>+0.9</td>\n",
       "      <td>+8.2</td>\n",
       "      <td>4.1</td>\n",
       "    </tr>\n",
       "    <tr>\n",
       "      <td>4</td>\n",
       "      <td>Montrezl Harrell</td>\n",
       "      <td>Clippers</td>\n",
       "      <td>C</td>\n",
       "      <td>654</td>\n",
       "      <td>+1.9</td>\n",
       "      <td>+5.9</td>\n",
       "      <td>+7.8</td>\n",
       "      <td>+5.9</td>\n",
       "      <td>+1.7</td>\n",
       "      <td>+7.6</td>\n",
       "      <td>+2.8</td>\n",
       "      <td>+5.3</td>\n",
       "      <td>+8.1</td>\n",
       "      <td>3.6</td>\n",
       "    </tr>\n",
       "  </tbody>\n",
       "</table>\n",
       "</div>"
      ],
      "text/plain": [
       "                  Player       Team Position(s) Minutes   Off.  Def.  Total  \\\n",
       "0           James Harden    Rockets      PG, SG     748  +11.5  +0.3  +11.8   \n",
       "1            Luka Doncic  Mavericks  PG, SG, SF     676  +10.8  +1.3  +12.1   \n",
       "2  Giannis Antetokounmpo      Bucks      SF, PF     669   +6.9  +2.6   +9.5   \n",
       "3           LeBron James     Lakers  PG, SF, PF     734   +6.7  +0.3   +7.0   \n",
       "4       Montrezl Harrell   Clippers           C     654   +1.9  +5.9   +7.8   \n",
       "\n",
       "   Off.  Def.  Total   Off.  Def.  Total  WAR  \n",
       "0  +2.4  +9.2  +11.7  +10.3  +2.2  +12.5  5.8  \n",
       "1  +5.8  -4.2   +1.6  +10.2  +0.3  +10.4  4.6  \n",
       "2  +2.7  +7.9  +10.7   +6.2  +3.8  +10.0  4.4  \n",
       "3  +8.1  +3.4  +11.5   +7.3  +0.9   +8.2  4.1  \n",
       "4  +5.9  +1.7   +7.6   +2.8  +5.3   +8.1  3.6  "
      ]
     },
     "execution_count": 7,
     "metadata": {},
     "output_type": "execute_result"
    }
   ],
   "source": [
    "scrape538.head()"
   ]
  },
  {
   "cell_type": "code",
   "execution_count": 8,
   "metadata": {},
   "outputs": [
    {
     "data": {
      "text/plain": [
       "(460, 14)"
      ]
     },
     "execution_count": 8,
     "metadata": {},
     "output_type": "execute_result"
    }
   ],
   "source": [
    "scrape538.shape"
   ]
  },
  {
   "cell_type": "code",
   "execution_count": 9,
   "metadata": {},
   "outputs": [],
   "source": [
    "scrape538.columns = ['Player', 'Team', 'Position(s)', 'Minutes', 'BSR Off.', 'BSR Def.', 'BSR Total',\n",
    "                    'OOR Off.', 'OOR Def.', 'OOR Total', 'OVR Off.', 'OVR Def.', 'OVR total', 'WAR']"
   ]
  },
  {
   "cell_type": "code",
   "execution_count": 10,
   "metadata": {},
   "outputs": [],
   "source": [
    "scrape538.to_csv('../data/scrape538.csv')"
   ]
  },
  {
   "cell_type": "code",
   "execution_count": 11,
   "metadata": {
    "scrolled": false
   },
   "outputs": [
    {
     "data": {
      "text/html": [
       "<div>\n",
       "<style scoped>\n",
       "    .dataframe tbody tr th:only-of-type {\n",
       "        vertical-align: middle;\n",
       "    }\n",
       "\n",
       "    .dataframe tbody tr th {\n",
       "        vertical-align: top;\n",
       "    }\n",
       "\n",
       "    .dataframe thead th {\n",
       "        text-align: right;\n",
       "    }\n",
       "</style>\n",
       "<table border=\"1\" class=\"dataframe\">\n",
       "  <thead>\n",
       "    <tr style=\"text-align: right;\">\n",
       "      <th></th>\n",
       "      <th>Player</th>\n",
       "      <th>Team</th>\n",
       "      <th>Position(s)</th>\n",
       "      <th>Minutes</th>\n",
       "      <th>BSR Off.</th>\n",
       "      <th>BSR Def.</th>\n",
       "      <th>BSR Total</th>\n",
       "      <th>OOR Off.</th>\n",
       "      <th>OOR Def.</th>\n",
       "      <th>OOR Total</th>\n",
       "      <th>OVR Off.</th>\n",
       "      <th>OVR Def.</th>\n",
       "      <th>OVR total</th>\n",
       "      <th>WAR</th>\n",
       "    </tr>\n",
       "  </thead>\n",
       "  <tbody>\n",
       "    <tr>\n",
       "      <td>0</td>\n",
       "      <td>James Harden</td>\n",
       "      <td>Rockets</td>\n",
       "      <td>PG, SG</td>\n",
       "      <td>748</td>\n",
       "      <td>+11.5</td>\n",
       "      <td>+0.3</td>\n",
       "      <td>+11.8</td>\n",
       "      <td>+2.4</td>\n",
       "      <td>+9.2</td>\n",
       "      <td>+11.7</td>\n",
       "      <td>+10.3</td>\n",
       "      <td>+2.2</td>\n",
       "      <td>+12.5</td>\n",
       "      <td>5.8</td>\n",
       "    </tr>\n",
       "    <tr>\n",
       "      <td>1</td>\n",
       "      <td>Luka Doncic</td>\n",
       "      <td>Mavericks</td>\n",
       "      <td>PG, SG, SF</td>\n",
       "      <td>676</td>\n",
       "      <td>+10.8</td>\n",
       "      <td>+1.3</td>\n",
       "      <td>+12.1</td>\n",
       "      <td>+5.8</td>\n",
       "      <td>-4.2</td>\n",
       "      <td>+1.6</td>\n",
       "      <td>+10.2</td>\n",
       "      <td>+0.3</td>\n",
       "      <td>+10.4</td>\n",
       "      <td>4.6</td>\n",
       "    </tr>\n",
       "    <tr>\n",
       "      <td>2</td>\n",
       "      <td>Giannis Antetokounmpo</td>\n",
       "      <td>Bucks</td>\n",
       "      <td>SF, PF</td>\n",
       "      <td>669</td>\n",
       "      <td>+6.9</td>\n",
       "      <td>+2.6</td>\n",
       "      <td>+9.5</td>\n",
       "      <td>+2.7</td>\n",
       "      <td>+7.9</td>\n",
       "      <td>+10.7</td>\n",
       "      <td>+6.2</td>\n",
       "      <td>+3.8</td>\n",
       "      <td>+10.0</td>\n",
       "      <td>4.4</td>\n",
       "    </tr>\n",
       "    <tr>\n",
       "      <td>3</td>\n",
       "      <td>LeBron James</td>\n",
       "      <td>Lakers</td>\n",
       "      <td>PG, SF, PF</td>\n",
       "      <td>734</td>\n",
       "      <td>+6.7</td>\n",
       "      <td>+0.3</td>\n",
       "      <td>+7.0</td>\n",
       "      <td>+8.1</td>\n",
       "      <td>+3.4</td>\n",
       "      <td>+11.5</td>\n",
       "      <td>+7.3</td>\n",
       "      <td>+0.9</td>\n",
       "      <td>+8.2</td>\n",
       "      <td>4.1</td>\n",
       "    </tr>\n",
       "    <tr>\n",
       "      <td>4</td>\n",
       "      <td>Montrezl Harrell</td>\n",
       "      <td>Clippers</td>\n",
       "      <td>C</td>\n",
       "      <td>654</td>\n",
       "      <td>+1.9</td>\n",
       "      <td>+5.9</td>\n",
       "      <td>+7.8</td>\n",
       "      <td>+5.9</td>\n",
       "      <td>+1.7</td>\n",
       "      <td>+7.6</td>\n",
       "      <td>+2.8</td>\n",
       "      <td>+5.3</td>\n",
       "      <td>+8.1</td>\n",
       "      <td>3.6</td>\n",
       "    </tr>\n",
       "  </tbody>\n",
       "</table>\n",
       "</div>"
      ],
      "text/plain": [
       "                  Player       Team Position(s) Minutes BSR Off. BSR Def.  \\\n",
       "0           James Harden    Rockets      PG, SG     748    +11.5     +0.3   \n",
       "1            Luka Doncic  Mavericks  PG, SG, SF     676    +10.8     +1.3   \n",
       "2  Giannis Antetokounmpo      Bucks      SF, PF     669     +6.9     +2.6   \n",
       "3           LeBron James     Lakers  PG, SF, PF     734     +6.7     +0.3   \n",
       "4       Montrezl Harrell   Clippers           C     654     +1.9     +5.9   \n",
       "\n",
       "  BSR Total OOR Off. OOR Def. OOR Total OVR Off. OVR Def. OVR total  WAR  \n",
       "0     +11.8     +2.4     +9.2     +11.7    +10.3     +2.2     +12.5  5.8  \n",
       "1     +12.1     +5.8     -4.2      +1.6    +10.2     +0.3     +10.4  4.6  \n",
       "2      +9.5     +2.7     +7.9     +10.7     +6.2     +3.8     +10.0  4.4  \n",
       "3      +7.0     +8.1     +3.4     +11.5     +7.3     +0.9      +8.2  4.1  \n",
       "4      +7.8     +5.9     +1.7      +7.6     +2.8     +5.3      +8.1  3.6  "
      ]
     },
     "execution_count": 11,
     "metadata": {},
     "output_type": "execute_result"
    }
   ],
   "source": [
    "scrape538.head()"
   ]
  }
 ],
 "metadata": {
  "kernelspec": {
   "display_name": "Python 3",
   "language": "python",
   "name": "python3"
  },
  "language_info": {
   "codemirror_mode": {
    "name": "ipython",
    "version": 3
   },
   "file_extension": ".py",
   "mimetype": "text/x-python",
   "name": "python",
   "nbconvert_exporter": "python",
   "pygments_lexer": "ipython3",
   "version": "3.7.4"
  }
 },
 "nbformat": 4,
 "nbformat_minor": 2
}
