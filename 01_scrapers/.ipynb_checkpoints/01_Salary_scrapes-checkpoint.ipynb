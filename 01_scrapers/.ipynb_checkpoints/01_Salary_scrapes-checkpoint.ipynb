{
 "cells": [
  {
   "cell_type": "code",
   "execution_count": 1,
   "metadata": {},
   "outputs": [],
   "source": [
    "import numpy as np\n",
    "import seaborn as sns\n",
    "import pandas as pd\n",
    "import requests\n",
    "from bs4 import BeautifulSoup\n",
    "from selenium import webdriver\n",
    "import time"
   ]
  },
  {
   "cell_type": "markdown",
   "metadata": {},
   "source": [
    "# scraping salaries from home page"
   ]
  },
  {
   "cell_type": "code",
   "execution_count": 2,
   "metadata": {},
   "outputs": [
    {
     "data": {
      "text/plain": [
       "200"
      ]
     },
     "execution_count": 2,
     "metadata": {},
     "output_type": "execute_result"
    }
   ],
   "source": [
    "url = 'https://www.basketball-reference.com/'\n",
    "res = requests.get(url)\n",
    "res.status_code"
   ]
  },
  {
   "cell_type": "code",
   "execution_count": 3,
   "metadata": {},
   "outputs": [],
   "source": [
    "teams = []\n",
    "def sports_page(url):\n",
    "    res = requests.get(url)\n",
    "    soup = BeautifulSoup(res.content, 'lxml')\n",
    "    wc_table = soup.find('table', {'id' : 'confs_standings_W'})\n",
    "    ec_table = soup.find('table', {'id' : 'confs_standings_E'})\n",
    "    \n",
    "    #wc teams\n",
    "    for row in wc_table.find_all('tr')[1:]:\n",
    "        wc_team = {}\n",
    "        wc_team['slug'] = row.find('a').attrs['title']\n",
    "        wc_team['link'] = row.find('a').attrs['href']\n",
    "        teams.append(wc_team)\n",
    "    #ec teams\n",
    "    for row in ec_table.find_all('tr')[1:]:\n",
    "        ec_team = {}\n",
    "        ec_team['slug'] = row.find('a').attrs['title']\n",
    "        ec_team['link'] = row.find('a').attrs['href']\n",
    "        teams.append(ec_team)\n",
    "        \n",
    "    df = pd.DataFrame(teams)\n",
    "        \n",
    "        \n",
    "    return df\n",
    "        \n",
    "team_links = 'https://www.basketball-reference.com/'"
   ]
  },
  {
   "cell_type": "code",
   "execution_count": 4,
   "metadata": {},
   "outputs": [],
   "source": [
    "df = sports_page(url)"
   ]
  },
  {
   "cell_type": "code",
   "execution_count": 5,
   "metadata": {},
   "outputs": [
    {
     "data": {
      "text/html": [
       "<div>\n",
       "<style scoped>\n",
       "    .dataframe tbody tr th:only-of-type {\n",
       "        vertical-align: middle;\n",
       "    }\n",
       "\n",
       "    .dataframe tbody tr th {\n",
       "        vertical-align: top;\n",
       "    }\n",
       "\n",
       "    .dataframe thead th {\n",
       "        text-align: right;\n",
       "    }\n",
       "</style>\n",
       "<table border=\"1\" class=\"dataframe\">\n",
       "  <thead>\n",
       "    <tr style=\"text-align: right;\">\n",
       "      <th></th>\n",
       "      <th>slug</th>\n",
       "      <th>link</th>\n",
       "    </tr>\n",
       "  </thead>\n",
       "  <tbody>\n",
       "    <tr>\n",
       "      <td>0</td>\n",
       "      <td>Los Angeles Lakers</td>\n",
       "      <td>/teams/LAL/2020.html</td>\n",
       "    </tr>\n",
       "    <tr>\n",
       "      <td>1</td>\n",
       "      <td>Los Angeles Clippers</td>\n",
       "      <td>/teams/LAC/2020.html</td>\n",
       "    </tr>\n",
       "    <tr>\n",
       "      <td>2</td>\n",
       "      <td>Denver Nuggets</td>\n",
       "      <td>/teams/DEN/2020.html</td>\n",
       "    </tr>\n",
       "    <tr>\n",
       "      <td>3</td>\n",
       "      <td>Dallas Mavericks</td>\n",
       "      <td>/teams/DAL/2020.html</td>\n",
       "    </tr>\n",
       "    <tr>\n",
       "      <td>4</td>\n",
       "      <td>Houston Rockets</td>\n",
       "      <td>/teams/HOU/2020.html</td>\n",
       "    </tr>\n",
       "  </tbody>\n",
       "</table>\n",
       "</div>"
      ],
      "text/plain": [
       "                   slug                  link\n",
       "0    Los Angeles Lakers  /teams/LAL/2020.html\n",
       "1  Los Angeles Clippers  /teams/LAC/2020.html\n",
       "2        Denver Nuggets  /teams/DEN/2020.html\n",
       "3      Dallas Mavericks  /teams/DAL/2020.html\n",
       "4       Houston Rockets  /teams/HOU/2020.html"
      ]
     },
     "execution_count": 5,
     "metadata": {},
     "output_type": "execute_result"
    }
   ],
   "source": [
    "df.head()"
   ]
  },
  {
   "cell_type": "code",
   "execution_count": 6,
   "metadata": {
    "scrolled": true
   },
   "outputs": [],
   "source": [
    "df.to_csv('../data/team_links.csv')"
   ]
  },
  {
   "cell_type": "markdown",
   "metadata": {},
   "source": [
    "## find salary table on team page"
   ]
  },
  {
   "cell_type": "markdown",
   "metadata": {},
   "source": [
    "This will be salary based on the 2019-2020 season"
   ]
  },
  {
   "cell_type": "code",
   "execution_count": 7,
   "metadata": {},
   "outputs": [],
   "source": [
    "url = 'https://www.basketball-reference.com'\n",
    "driver = webdriver.Chrome(executable_path=\"../chromedriver/windows/chromedriver.exe\")\n",
    "play = []\n",
    "for page in df['link']:\n",
    "    time.sleep(3)\n",
    "    team_page = url + page\n",
    "    driver.get(team_page)\n",
    "    html = driver.page_source\n",
    "    html = BeautifulSoup(html, 'lxml')\n",
    "    ad_table = html.find('table', {'id' : 'salaries2'})\n",
    "    chart = ad_table.find('tbody')\n",
    "    players = chart.find_all('tr')\n",
    "    for stat in players:\n",
    "        number = [row.text for row in stat.find_all('td')]\n",
    "        play.append(number)"
   ]
  },
  {
   "cell_type": "code",
   "execution_count": 8,
   "metadata": {},
   "outputs": [],
   "source": [
    "salaries = pd.DataFrame(play)\n",
    "salaries.columns = ['Player', 'salary']\n",
    "salaries.to_csv('../data/salaries.csv')"
   ]
  },
  {
   "cell_type": "code",
   "execution_count": null,
   "metadata": {},
   "outputs": [],
   "source": []
  }
 ],
 "metadata": {
  "kernelspec": {
   "display_name": "Python 3",
   "language": "python",
   "name": "python3"
  },
  "language_info": {
   "codemirror_mode": {
    "name": "ipython",
    "version": 3
   },
   "file_extension": ".py",
   "mimetype": "text/x-python",
   "name": "python",
   "nbconvert_exporter": "python",
   "pygments_lexer": "ipython3",
   "version": "3.7.4"
  }
 },
 "nbformat": 4,
 "nbformat_minor": 2
}
