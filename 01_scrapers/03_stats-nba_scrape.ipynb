{
 "cells": [
  {
   "cell_type": "code",
   "execution_count": 1,
   "metadata": {},
   "outputs": [],
   "source": [
    "import pandas as pd\n",
    "import requests\n",
    "import time\n",
    "from bs4 import BeautifulSoup\n",
    "from selenium import webdriver\n",
    "from selenium.common import exceptions"
   ]
  },
  {
   "cell_type": "markdown",
   "metadata": {},
   "source": [
    "# Scraping Season 2019-2020 stats from stats.nba.com"
   ]
  },
  {
   "cell_type": "markdown",
   "metadata": {},
   "source": [
    "## Player Traditional Stats"
   ]
  },
  {
   "cell_type": "code",
   "execution_count": 2,
   "metadata": {},
   "outputs": [],
   "source": [
    "nba_players = 'https://stats.nba.com/players/traditional/?sort=PTS&dir=-1'\n",
    "driver = webdriver.Chrome(executable_path=\"../chromedriver/windows/chromedriver.exe\")\n",
    "driver.get(nba_players)\n",
    "player = driver.find_elements_by_xpath('/html/body/main/div[2]/div/div[2]/div/div/nba-stat-table/div[2]/div[1]/table/tbody/tr')\n",
    "player_stats = []\n",
    "new_split = []\n",
    "\n",
    "i = 0\n",
    "while i < 10:\n",
    "    try: \n",
    "        player = driver.find_elements_by_xpath('/html/body/main/div[2]/div/div[2]/div/div/nba-stat-table/div[2]/div[1]/table/tbody/tr')\n",
    "        \n",
    "        for q in player:\n",
    "            player_stats.append(q.text.split('\\n'))\n",
    "            for z in player_stats:\n",
    "                new_split.append(z[2].split(' '))\n",
    "                \n",
    "                    \n",
    "        button = driver.find_element_by_xpath('/html/body/main/div[2]/div/div[2]/div/div/nba-stat-table/div[1]/div/div/a[2]')\n",
    "        button.click()\n",
    "        i += 1\n",
    "        \n",
    "    except exceptions.StaleElementReferenceException:\n",
    "         pass\n",
    "\n",
    "player_stats = pd.DataFrame(player_stats).reset_index(drop = True)\n",
    "new_split = pd.DataFrame(new_split).drop_duplicates(keep = 'first').reset_index(drop = True)\n",
    "final = pd.concat([player_stats, new_split], axis = 1).drop(columns = [0,2], axis = 1)"
   ]
  },
  {
   "cell_type": "code",
   "execution_count": 3,
   "metadata": {},
   "outputs": [],
   "source": [
    "trad_columns = ['Player', 'Age', 'W', 'L', 'MP', 'PTS',\n",
    "               'FGM', 'FGA', 'FG%', '3PM', '3PA', '3P%', 'FTM',\n",
    "               'FTA', 'FT%', 'OREB', 'DREB', 'REB', 'AST', 'TOV',\n",
    "               'STL', 'BLK', 'PF', 'FP', 'DD2', 'TD3', '+/-']\n",
    "final.columns = trad_columns"
   ]
  },
  {
   "cell_type": "code",
   "execution_count": 5,
   "metadata": {},
   "outputs": [],
   "source": [
    "final.drop(columns = ['PTS', 'STL', 'BLK'], inplace = True)"
   ]
  },
  {
   "cell_type": "markdown",
   "metadata": {},
   "source": [
    "## Player Defense Stats"
   ]
  },
  {
   "cell_type": "code",
   "execution_count": 6,
   "metadata": {},
   "outputs": [],
   "source": [
    "nba_players = 'https://stats.nba.com/players/defense/?sort=DEF_WS&dir=-1'\n",
    "driver = webdriver.Chrome(executable_path=\"../chromedriver/windows/chromedriver.exe\")\n",
    "driver.get(nba_players)\n",
    "player = driver.find_elements_by_xpath('/html/body/main/div[2]/div/div[2]/div/div/nba-stat-table/div[2]/div[1]/table/tbody/tr')\n",
    "player_stats = []\n",
    "new_split = []\n",
    "i = 0\n",
    "while i < 10:\n",
    "    try: \n",
    "        player = driver.find_elements_by_xpath('/html/body/main/div[2]/div/div[2]/div/div/nba-stat-table/div[2]/div[1]/table/tbody/tr')\n",
    "        \n",
    "        for q in player:\n",
    "            player_stats.append(q.text.split('\\n'))\n",
    "            for z in player_stats:\n",
    "                new_split.append(z[2].split(' '))\n",
    "                    \n",
    "        button = driver.find_element_by_xpath('/html/body/main/div[2]/div/div[2]/div/div/nba-stat-table/div[1]/div/div/a[2]')\n",
    "        button.click()\n",
    "        i += 1\n",
    "        time.sleep(10)\n",
    "        \n",
    "    except exceptions.StaleElementReferenceException:\n",
    "         pass\n",
    "\n",
    "player_stats = pd.DataFrame(player_stats).reset_index(drop = True)\n",
    "new_split = pd.DataFrame(new_split).drop_duplicates(keep = 'first').reset_index(drop = True)\n",
    "defense = pd.concat([player_stats, new_split], axis = 1).drop(columns = [0, 2], axis = 1)"
   ]
  },
  {
   "cell_type": "code",
   "execution_count": 7,
   "metadata": {},
   "outputs": [],
   "source": [
    "def_columns= ['Player', 'Age', 'GP', 'W', 'L', 'MP', 'DEF_RTG', 'DREB',\n",
    "            'DREB%', 'T_DREB%', 'STL', 'T_STL%', 'BLK', 'T_BLK%',\n",
    "            'OP_TOV', 'OP_2NDPTS', 'OP_PAINT', 'DEF_WS']\n",
    "defense.columns = def_columns\n",
    "defense.drop(columns = ['Age', 'GP', 'W', 'L', 'MP'], inplace = True)"
   ]
  },
  {
   "cell_type": "markdown",
   "metadata": {},
   "source": [
    "## Player Usage"
   ]
  },
  {
   "cell_type": "code",
   "execution_count": 8,
   "metadata": {},
   "outputs": [],
   "source": [
    "nba_players = 'https://stats.nba.com/players/usage/?sort=USG_PCT&dir=-1'\n",
    "driver = webdriver.Chrome(executable_path=\"../chromedriver/windows/chromedriver.exe\")\n",
    "driver.get(nba_players)\n",
    "player = driver.find_elements_by_xpath('/html/body/main/div[2]/div/div[2]/div/div/nba-stat-table/div[2]/div[1]/table/tbody/tr')\n",
    "player_stats = []\n",
    "new_split = []\n",
    "i = 0\n",
    "while i < 10:\n",
    "    try: \n",
    "        player = driver.find_elements_by_xpath('/html/body/main/div[2]/div/div[2]/div/div/nba-stat-table/div[2]/div[1]/table/tbody/tr')\n",
    "        \n",
    "        for q in player:\n",
    "            player_stats.append(q.text.split('\\n'))\n",
    "            for z in player_stats:\n",
    "                new_split.append(z[2].split(' '))\n",
    "                    \n",
    "        button = driver.find_element_by_xpath('/html/body/main/div[2]/div/div[2]/div/div/nba-stat-table/div[1]/div/div/a[2]')\n",
    "        button.click()\n",
    "        i += 1\n",
    "        time.sleep(10)\n",
    "        \n",
    "    except exceptions.StaleElementReferenceException:\n",
    "         pass\n",
    "\n",
    "player_stats = pd.DataFrame(player_stats).reset_index(drop = True)\n",
    "new_split = pd.DataFrame(new_split).drop_duplicates(keep = 'first').reset_index(drop = True)\n",
    "usage = pd.concat([player_stats, new_split], axis = 1).drop(columns = [0, 2], axis = 1)"
   ]
  },
  {
   "cell_type": "code",
   "execution_count": 9,
   "metadata": {},
   "outputs": [],
   "source": [
    "use_columns = ['Player', 'Age', 'W', 'L', 'MP', 'USG%',\n",
    "              'T_FGM%', 'T_FGA%', 'T_3PM%', 'T_3PA%', 'T_FTM%',\n",
    "              'T_FTA%', 'T_OREB%', 'T_DREB%', 'T_REB%', 'T_AST%', 'T_TOV%',\n",
    "              'T_STL%', 'T_BLK%', 'T_BLKA%', 'T_PF%', 'T_PFD%', 'T_PTS%']\n",
    "usage.columns = use_columns\n",
    "usage.drop(columns = ['Age', 'W', 'L', 'MP'], inplace = True)"
   ]
  },
  {
   "cell_type": "markdown",
   "metadata": {},
   "source": [
    "## Player Shooting Stats"
   ]
  },
  {
   "cell_type": "code",
   "execution_count": 10,
   "metadata": {},
   "outputs": [],
   "source": [
    "nba_players = 'https://stats.nba.com/players/scoring/?sort=GP&dir=-1'\n",
    "driver = webdriver.Chrome(executable_path=\"../chromedriver/windows/chromedriver.exe\")\n",
    "driver.get(nba_players)\n",
    "player = driver.find_elements_by_xpath('/html/body/main/div[2]/div/div[2]/div/div/nba-stat-table/div[2]/div[1]/table/tbody/tr')\n",
    "player_stats = []\n",
    "new_split = []\n",
    "i = 0\n",
    "while i < 10:\n",
    "    try: \n",
    "        player = driver.find_elements_by_xpath('/html/body/main/div[2]/div/div[2]/div/div/nba-stat-table/div[2]/div[1]/table/tbody/tr')\n",
    "        \n",
    "        for q in player:\n",
    "            player_stats.append(q.text.split('\\n'))\n",
    "            for z in player_stats:\n",
    "                new_split.append(z[2].split(' '))\n",
    "                    \n",
    "        button = driver.find_element_by_xpath('/html/body/main/div[2]/div/div[2]/div/div/nba-stat-table/div[1]/div/div/a[2]')\n",
    "        button.click()\n",
    "        i += 1\n",
    "        time.sleep(10)\n",
    "        \n",
    "    except exceptions.StaleElementReferenceException:\n",
    "         pass\n",
    "\n",
    "player_stats = pd.DataFrame(player_stats).reset_index(drop = True)\n",
    "new_split = pd.DataFrame(new_split).drop_duplicates(keep = 'first').reset_index(drop = True)\n",
    "shooting = pd.concat([player_stats, new_split], axis = 1).drop(columns = [0, 2], axis = 1)"
   ]
  },
  {
   "cell_type": "code",
   "execution_count": 11,
   "metadata": {},
   "outputs": [],
   "source": [
    "shoot_col = ['Player', 'Age', 'W', 'L', 'MP', 'FGA_2P%', 'FGA_3P%',\n",
    "            '2PT%', '2PT_MR%', '3PT%', 'FBPTS%', 'FT%', 'OFFTOV%', 'PAINTPTS%',\n",
    "            'AST_2FGM%', 'UAST_2FGM%', 'AST_3FGM%', 'UAST_3FGM%',\n",
    "            'FGM_AST%', 'FGM_UAST%']\n",
    "shooting.columns = shoot_col\n",
    "shooting.drop(columns = ['W', 'L', 'MP'], inplace= True)"
   ]
  },
  {
   "cell_type": "markdown",
   "metadata": {},
   "source": [
    "## Player Misc Stats"
   ]
  },
  {
   "cell_type": "code",
   "execution_count": 12,
   "metadata": {},
   "outputs": [],
   "source": [
    "nba_players = 'https://stats.nba.com/players/misc/?sort=GP&dir=-1'\n",
    "driver = webdriver.Chrome(executable_path=\"../chromedriver/windows/chromedriver.exe\")\n",
    "driver.get(nba_players)\n",
    "player = driver.find_elements_by_xpath('/html/body/main/div[2]/div/div[2]/div/div/nba-stat-table/div[2]/div[1]/table/tbody/tr')\n",
    "player_stats = []\n",
    "new_split = []\n",
    "i = 0\n",
    "while i < 10:\n",
    "    try: \n",
    "        player = driver.find_elements_by_xpath('/html/body/main/div[2]/div/div[2]/div/div/nba-stat-table/div[2]/div[1]/table/tbody/tr')\n",
    "        \n",
    "        for q in player:\n",
    "            player_stats.append(q.text.split('\\n'))\n",
    "            for z in player_stats:\n",
    "                new_split.append(z[2].split(' '))\n",
    "                    \n",
    "        button = driver.find_element_by_xpath('/html/body/main/div[2]/div/div[2]/div/div/nba-stat-table/div[1]/div/div/a[2]')\n",
    "        button.click()\n",
    "        i += 1\n",
    "        time.sleep(10)\n",
    "        \n",
    "    except exceptions.StaleElementReferenceException:\n",
    "         pass\n",
    "\n",
    "player_stats = pd.DataFrame(player_stats).reset_index(drop = True)\n",
    "new_split = pd.DataFrame(new_split).drop_duplicates(keep = 'first').reset_index(drop = True)\n",
    "misc = pd.concat([player_stats, new_split], axis = 1).drop(columns = [0, 2], axis = 1)"
   ]
  },
  {
   "cell_type": "code",
   "execution_count": 13,
   "metadata": {},
   "outputs": [],
   "source": [
    "misc_col = ['Player', 'Age', 'W', 'L', 'MP', 'PTS_TOV', '2ND_CH_PTS',\n",
    "           'FB_PTS', 'PAINT_PTS', 'OPP_PTS_TOV', 'OPP_2ND_PTS', 'OPP_FBPTS',\n",
    "           'OPP_PAINT_PTS', 'BLK', 'BLKA', 'PF', 'PFD']\n",
    "misc.columns = misc_col\n",
    "misc.drop(columns = ['Age', 'W', 'L', 'MP', 'BLK', 'PF'], inplace = True)"
   ]
  },
  {
   "cell_type": "markdown",
   "metadata": {},
   "source": [
    "# Combining all stats into one dataframe (except opponent)"
   ]
  },
  {
   "cell_type": "code",
   "execution_count": 14,
   "metadata": {},
   "outputs": [],
   "source": [
    "nba_stats = final.merge(defense, how = 'outer', on = 'Player').merge(usage, how = 'outer', on = 'Player').merge(shooting, how = 'outer', on = 'Player').merge(misc, on = 'Player').drop_duplicates(keep = 'first')"
   ]
  },
  {
   "cell_type": "code",
   "execution_count": 15,
   "metadata": {
    "scrolled": true
   },
   "outputs": [
    {
     "data": {
      "text/plain": [
       "(461, 80)"
      ]
     },
     "execution_count": 15,
     "metadata": {},
     "output_type": "execute_result"
    }
   ],
   "source": [
    "nba_stats.shape"
   ]
  },
  {
   "cell_type": "code",
   "execution_count": 16,
   "metadata": {
    "scrolled": true
   },
   "outputs": [
    {
     "data": {
      "text/html": [
       "<div>\n",
       "<style scoped>\n",
       "    .dataframe tbody tr th:only-of-type {\n",
       "        vertical-align: middle;\n",
       "    }\n",
       "\n",
       "    .dataframe tbody tr th {\n",
       "        vertical-align: top;\n",
       "    }\n",
       "\n",
       "    .dataframe thead th {\n",
       "        text-align: right;\n",
       "    }\n",
       "</style>\n",
       "<table border=\"1\" class=\"dataframe\">\n",
       "  <thead>\n",
       "    <tr style=\"text-align: right;\">\n",
       "      <th></th>\n",
       "      <th>Player</th>\n",
       "      <th>Age_x</th>\n",
       "      <th>W</th>\n",
       "      <th>L</th>\n",
       "      <th>MP</th>\n",
       "      <th>FGM</th>\n",
       "      <th>FGA</th>\n",
       "      <th>FG%</th>\n",
       "      <th>3PM</th>\n",
       "      <th>3PA</th>\n",
       "      <th>...</th>\n",
       "      <th>PTS_TOV</th>\n",
       "      <th>2ND_CH_PTS</th>\n",
       "      <th>FB_PTS</th>\n",
       "      <th>PAINT_PTS</th>\n",
       "      <th>OPP_PTS_TOV</th>\n",
       "      <th>OPP_2ND_PTS</th>\n",
       "      <th>OPP_FBPTS</th>\n",
       "      <th>OPP_PAINT_PTS</th>\n",
       "      <th>BLKA</th>\n",
       "      <th>PFD</th>\n",
       "    </tr>\n",
       "  </thead>\n",
       "  <tbody>\n",
       "    <tr>\n",
       "      <td>0</td>\n",
       "      <td>James Harden</td>\n",
       "      <td>30</td>\n",
       "      <td>13</td>\n",
       "      <td>7</td>\n",
       "      <td>37.4</td>\n",
       "      <td>10.8</td>\n",
       "      <td>24.8</td>\n",
       "      <td>43.3</td>\n",
       "      <td>4.9</td>\n",
       "      <td>14.3</td>\n",
       "      <td>...</td>\n",
       "      <td>5.7</td>\n",
       "      <td>3.6</td>\n",
       "      <td>3.3</td>\n",
       "      <td>11.5</td>\n",
       "      <td>14.7</td>\n",
       "      <td>10.2</td>\n",
       "      <td>14.1</td>\n",
       "      <td>38.5</td>\n",
       "      <td>1.1</td>\n",
       "      <td>9.1</td>\n",
       "    </tr>\n",
       "    <tr>\n",
       "      <td>1</td>\n",
       "      <td>Giannis Antetokounmpo</td>\n",
       "      <td>24</td>\n",
       "      <td>19</td>\n",
       "      <td>3</td>\n",
       "      <td>31.7</td>\n",
       "      <td>11.5</td>\n",
       "      <td>20.3</td>\n",
       "      <td>56.5</td>\n",
       "      <td>1.6</td>\n",
       "      <td>5.0</td>\n",
       "      <td>...</td>\n",
       "      <td>5.8</td>\n",
       "      <td>4.2</td>\n",
       "      <td>6.5</td>\n",
       "      <td>18.5</td>\n",
       "      <td>10.4</td>\n",
       "      <td>5.9</td>\n",
       "      <td>8.1</td>\n",
       "      <td>25.3</td>\n",
       "      <td>1.1</td>\n",
       "      <td>8.8</td>\n",
       "    </tr>\n",
       "    <tr>\n",
       "      <td>2</td>\n",
       "      <td>Luka Doncic</td>\n",
       "      <td>20</td>\n",
       "      <td>15</td>\n",
       "      <td>6</td>\n",
       "      <td>33.7</td>\n",
       "      <td>9.7</td>\n",
       "      <td>20.3</td>\n",
       "      <td>47.8</td>\n",
       "      <td>3.1</td>\n",
       "      <td>9.5</td>\n",
       "      <td>...</td>\n",
       "      <td>3.1</td>\n",
       "      <td>2.8</td>\n",
       "      <td>2.6</td>\n",
       "      <td>12.2</td>\n",
       "      <td>10.6</td>\n",
       "      <td>10.1</td>\n",
       "      <td>10.5</td>\n",
       "      <td>33.3</td>\n",
       "      <td>0.6</td>\n",
       "      <td>7.3</td>\n",
       "    </tr>\n",
       "    <tr>\n",
       "      <td>3</td>\n",
       "      <td>Bradley Beal</td>\n",
       "      <td>26</td>\n",
       "      <td>6</td>\n",
       "      <td>13</td>\n",
       "      <td>36.8</td>\n",
       "      <td>10.2</td>\n",
       "      <td>21.5</td>\n",
       "      <td>47.2</td>\n",
       "      <td>2.7</td>\n",
       "      <td>7.9</td>\n",
       "      <td>...</td>\n",
       "      <td>3.5</td>\n",
       "      <td>1.8</td>\n",
       "      <td>2.9</td>\n",
       "      <td>10.8</td>\n",
       "      <td>12.5</td>\n",
       "      <td>10.5</td>\n",
       "      <td>11.6</td>\n",
       "      <td>40.9</td>\n",
       "      <td>0.8</td>\n",
       "      <td>6.0</td>\n",
       "    </tr>\n",
       "    <tr>\n",
       "      <td>4</td>\n",
       "      <td>Trae Young</td>\n",
       "      <td>21</td>\n",
       "      <td>5</td>\n",
       "      <td>16</td>\n",
       "      <td>34.6</td>\n",
       "      <td>9.5</td>\n",
       "      <td>20.5</td>\n",
       "      <td>46.3</td>\n",
       "      <td>3.4</td>\n",
       "      <td>8.7</td>\n",
       "      <td>...</td>\n",
       "      <td>4.1</td>\n",
       "      <td>1.7</td>\n",
       "      <td>3.0</td>\n",
       "      <td>10.6</td>\n",
       "      <td>14.6</td>\n",
       "      <td>11.6</td>\n",
       "      <td>10.0</td>\n",
       "      <td>38.8</td>\n",
       "      <td>1.3</td>\n",
       "      <td>7.0</td>\n",
       "    </tr>\n",
       "  </tbody>\n",
       "</table>\n",
       "<p>5 rows × 80 columns</p>\n",
       "</div>"
      ],
      "text/plain": [
       "                  Player Age_x   W   L    MP   FGM   FGA   FG%  3PM   3PA  \\\n",
       "0           James Harden    30  13   7  37.4  10.8  24.8  43.3  4.9  14.3   \n",
       "1  Giannis Antetokounmpo    24  19   3  31.7  11.5  20.3  56.5  1.6   5.0   \n",
       "2            Luka Doncic    20  15   6  33.7   9.7  20.3  47.8  3.1   9.5   \n",
       "3           Bradley Beal    26   6  13  36.8  10.2  21.5  47.2  2.7   7.9   \n",
       "4             Trae Young    21   5  16  34.6   9.5  20.5  46.3  3.4   8.7   \n",
       "\n",
       "   ... PTS_TOV 2ND_CH_PTS FB_PTS PAINT_PTS OPP_PTS_TOV OPP_2ND_PTS OPP_FBPTS  \\\n",
       "0  ...     5.7        3.6    3.3      11.5        14.7        10.2      14.1   \n",
       "1  ...     5.8        4.2    6.5      18.5        10.4         5.9       8.1   \n",
       "2  ...     3.1        2.8    2.6      12.2        10.6        10.1      10.5   \n",
       "3  ...     3.5        1.8    2.9      10.8        12.5        10.5      11.6   \n",
       "4  ...     4.1        1.7    3.0      10.6        14.6        11.6      10.0   \n",
       "\n",
       "  OPP_PAINT_PTS BLKA  PFD  \n",
       "0          38.5  1.1  9.1  \n",
       "1          25.3  1.1  8.8  \n",
       "2          33.3  0.6  7.3  \n",
       "3          40.9  0.8  6.0  \n",
       "4          38.8  1.3  7.0  \n",
       "\n",
       "[5 rows x 80 columns]"
      ]
     },
     "execution_count": 16,
     "metadata": {},
     "output_type": "execute_result"
    }
   ],
   "source": [
    "nba_stats.head()"
   ]
  },
  {
   "cell_type": "markdown",
   "metadata": {},
   "source": [
    "# adding in salaries and 538 numbers"
   ]
  },
  {
   "cell_type": "markdown",
   "metadata": {},
   "source": [
    "Adding the salaries dataframe scraped from basketball-reference and the 538 player raptor projects."
   ]
  },
  {
   "cell_type": "code",
   "execution_count": 17,
   "metadata": {},
   "outputs": [],
   "source": [
    "salaries = pd.read_csv('../data/salaries.csv')\n",
    "scrape538 = pd.read_csv('../data/scrape538.csv')\n",
    "scrape538 = scrape538.drop(['Unnamed: 0', 'Position(s)'], axis = 1)\n",
    "nba_stats = nba_stats.merge(scrape538, how = 'outer', on = 'Player').merge(salaries, how = 'outer', on = 'Player')"
   ]
  },
  {
   "cell_type": "markdown",
   "metadata": {},
   "source": [
    "After merging the dataframes, we realize that there are a lot of players with null values. We take care of this by making another dataframe with all of the null values and manually cleaning it. We have null values because each of these sources spell the player names differently. Also, some players were accounted for in the salaries dataframe, however they were recently waived by a their team and are no longer on the roster. Examples of this situation is provided in the technical report. Since I am planning to manually clean the dataframe with all of the null values and later improt the cleaned version, I can drop call null values in the main nba_stats dataframe"
   ]
  },
  {
   "cell_type": "code",
   "execution_count": 18,
   "metadata": {},
   "outputs": [],
   "source": [
    "problem19 = nba_stats[nba_stats.isna().any(axis=1)]\n",
    "problem19.to_csv('../data/problem19.csv')\n",
    "nba_stats.dropna(inplace = True)"
   ]
  },
  {
   "cell_type": "code",
   "execution_count": 19,
   "metadata": {},
   "outputs": [
    {
     "data": {
      "text/plain": [
       "(214, 94)"
      ]
     },
     "execution_count": 19,
     "metadata": {},
     "output_type": "execute_result"
    }
   ],
   "source": [
    "problem19.shape"
   ]
  },
  {
   "cell_type": "markdown",
   "metadata": {},
   "source": [
    "Once I manually cleaned the data, I import the csv back in and concat it to the bottom of the nba_stats dataframe. I also fill in all of the remaining null values. Some null values would be a result of missing salary numbers or 538 rankings. I am not planning on using the salaries as a feature in my model, and will assume if there is a 0, that means the player salary is unknown. If a player doesn't have any 538 rankings, this means that the player has not played enough minutes in a game to recieve a score from 538. Players who have not played that many minutes are irrelevant to my recommendation system because their stats will be inflated anyway (ex. A player who has made all of their FG; however, they have only made one FGA and have played a total of 5 minutes on the court this season)."
   ]
  },
  {
   "cell_type": "code",
   "execution_count": 20,
   "metadata": {},
   "outputs": [
    {
     "data": {
      "text/plain": [
       "(466, 93)"
      ]
     },
     "execution_count": 20,
     "metadata": {},
     "output_type": "execute_result"
    }
   ],
   "source": [
    "fixed19 = pd.read_csv('../data/problem19_fixed.csv')\n",
    "nba_stats = pd.concat([fixed19, nba_stats], ignore_index = True, sort= False).drop(columns = ['Unnamed: 0']).fillna(0)\n",
    "nba_stats.shape"
   ]
  },
  {
   "cell_type": "code",
   "execution_count": 21,
   "metadata": {},
   "outputs": [
    {
     "data": {
      "text/html": [
       "<div>\n",
       "<style scoped>\n",
       "    .dataframe tbody tr th:only-of-type {\n",
       "        vertical-align: middle;\n",
       "    }\n",
       "\n",
       "    .dataframe tbody tr th {\n",
       "        vertical-align: top;\n",
       "    }\n",
       "\n",
       "    .dataframe thead th {\n",
       "        text-align: right;\n",
       "    }\n",
       "</style>\n",
       "<table border=\"1\" class=\"dataframe\">\n",
       "  <thead>\n",
       "    <tr style=\"text-align: right;\">\n",
       "      <th></th>\n",
       "      <th>Player</th>\n",
       "      <th>Age_x</th>\n",
       "      <th>W</th>\n",
       "      <th>L</th>\n",
       "      <th>MP</th>\n",
       "      <th>FGM</th>\n",
       "      <th>FGA</th>\n",
       "      <th>FG%</th>\n",
       "      <th>3PM</th>\n",
       "      <th>3PA</th>\n",
       "      <th>...</th>\n",
       "      <th>BSR Def.</th>\n",
       "      <th>BSR Total</th>\n",
       "      <th>OOR Off.</th>\n",
       "      <th>OOR Def.</th>\n",
       "      <th>OOR Total</th>\n",
       "      <th>OVR Off.</th>\n",
       "      <th>OVR Def.</th>\n",
       "      <th>OVR total</th>\n",
       "      <th>WAR</th>\n",
       "      <th>salary</th>\n",
       "    </tr>\n",
       "  </thead>\n",
       "  <tbody>\n",
       "    <tr>\n",
       "      <td>0</td>\n",
       "      <td>Ante Zizic</td>\n",
       "      <td>22</td>\n",
       "      <td>0</td>\n",
       "      <td>6</td>\n",
       "      <td>11.7</td>\n",
       "      <td>1.8</td>\n",
       "      <td>3.5</td>\n",
       "      <td>52.4</td>\n",
       "      <td>0</td>\n",
       "      <td>0</td>\n",
       "      <td>...</td>\n",
       "      <td>-2.2</td>\n",
       "      <td>-6.6</td>\n",
       "      <td>0.1</td>\n",
       "      <td>-6.0</td>\n",
       "      <td>-5.9</td>\n",
       "      <td>-3.7</td>\n",
       "      <td>-3.0</td>\n",
       "      <td>-6.7</td>\n",
       "      <td>-0.1</td>\n",
       "      <td>$2,281,800</td>\n",
       "    </tr>\n",
       "    <tr>\n",
       "      <td>1</td>\n",
       "      <td>Boban Marjanovic</td>\n",
       "      <td>31</td>\n",
       "      <td>6</td>\n",
       "      <td>3</td>\n",
       "      <td>12</td>\n",
       "      <td>2.8</td>\n",
       "      <td>5.4</td>\n",
       "      <td>51</td>\n",
       "      <td>0</td>\n",
       "      <td>0.1</td>\n",
       "      <td>...</td>\n",
       "      <td>-2.8</td>\n",
       "      <td>-2.2</td>\n",
       "      <td>14.4</td>\n",
       "      <td>-1.8</td>\n",
       "      <td>12.6</td>\n",
       "      <td>3.3</td>\n",
       "      <td>-2.8</td>\n",
       "      <td>0.6</td>\n",
       "      <td>0.2</td>\n",
       "      <td>$3,500,000</td>\n",
       "    </tr>\n",
       "    <tr>\n",
       "      <td>2</td>\n",
       "      <td>Bogdan Bogdanovic</td>\n",
       "      <td>27</td>\n",
       "      <td>8</td>\n",
       "      <td>10</td>\n",
       "      <td>27.5</td>\n",
       "      <td>5.2</td>\n",
       "      <td>12.7</td>\n",
       "      <td>40.6</td>\n",
       "      <td>2.8</td>\n",
       "      <td>7.2</td>\n",
       "      <td>...</td>\n",
       "      <td>-0.2</td>\n",
       "      <td>3.2</td>\n",
       "      <td>-0.5</td>\n",
       "      <td>-0.1</td>\n",
       "      <td>-0.7</td>\n",
       "      <td>2.8</td>\n",
       "      <td>-0.1</td>\n",
       "      <td>2.6</td>\n",
       "      <td>1.3</td>\n",
       "      <td>$8,529,386</td>\n",
       "    </tr>\n",
       "    <tr>\n",
       "      <td>3</td>\n",
       "      <td>Bojan Bogdanovic</td>\n",
       "      <td>30</td>\n",
       "      <td>12</td>\n",
       "      <td>8</td>\n",
       "      <td>33.1</td>\n",
       "      <td>7.3</td>\n",
       "      <td>15.3</td>\n",
       "      <td>47.4</td>\n",
       "      <td>3.1</td>\n",
       "      <td>6.8</td>\n",
       "      <td>...</td>\n",
       "      <td>-1.4</td>\n",
       "      <td>-0.1</td>\n",
       "      <td>7.8</td>\n",
       "      <td>-2.2</td>\n",
       "      <td>5.6</td>\n",
       "      <td>2.7</td>\n",
       "      <td>-1.6</td>\n",
       "      <td>1.1</td>\n",
       "      <td>1.3</td>\n",
       "      <td>$17,000,000</td>\n",
       "    </tr>\n",
       "    <tr>\n",
       "      <td>4</td>\n",
       "      <td>Brandon Goodwin</td>\n",
       "      <td>24</td>\n",
       "      <td>1</td>\n",
       "      <td>0</td>\n",
       "      <td>2.5</td>\n",
       "      <td>0</td>\n",
       "      <td>0</td>\n",
       "      <td>0</td>\n",
       "      <td>0</td>\n",
       "      <td>0</td>\n",
       "      <td>...</td>\n",
       "      <td>21.0</td>\n",
       "      <td>-4.2</td>\n",
       "      <td>-6.6</td>\n",
       "      <td>-13.3</td>\n",
       "      <td>-19.9</td>\n",
       "      <td>-22.9</td>\n",
       "      <td>15.1</td>\n",
       "      <td>-7.8</td>\n",
       "      <td>0.0</td>\n",
       "      <td>0</td>\n",
       "    </tr>\n",
       "  </tbody>\n",
       "</table>\n",
       "<p>5 rows × 93 columns</p>\n",
       "</div>"
      ],
      "text/plain": [
       "              Player Age_x   W   L    MP  FGM   FGA   FG%  3PM  3PA  ...  \\\n",
       "0         Ante Zizic    22   0   6  11.7  1.8   3.5  52.4    0    0  ...   \n",
       "1   Boban Marjanovic    31   6   3    12  2.8   5.4    51    0  0.1  ...   \n",
       "2  Bogdan Bogdanovic    27   8  10  27.5  5.2  12.7  40.6  2.8  7.2  ...   \n",
       "3   Bojan Bogdanovic    30  12   8  33.1  7.3  15.3  47.4  3.1  6.8  ...   \n",
       "4    Brandon Goodwin    24   1   0   2.5    0     0     0    0    0  ...   \n",
       "\n",
       "  BSR Def. BSR Total OOR Off. OOR Def. OOR Total OVR Off. OVR Def. OVR total  \\\n",
       "0     -2.2      -6.6      0.1     -6.0      -5.9     -3.7     -3.0      -6.7   \n",
       "1     -2.8      -2.2     14.4     -1.8      12.6      3.3     -2.8       0.6   \n",
       "2     -0.2       3.2     -0.5     -0.1      -0.7      2.8     -0.1       2.6   \n",
       "3     -1.4      -0.1      7.8     -2.2       5.6      2.7     -1.6       1.1   \n",
       "4     21.0      -4.2     -6.6    -13.3     -19.9    -22.9     15.1      -7.8   \n",
       "\n",
       "   WAR        salary  \n",
       "0 -0.1   $2,281,800   \n",
       "1  0.2   $3,500,000   \n",
       "2  1.3   $8,529,386   \n",
       "3  1.3  $17,000,000   \n",
       "4  0.0             0  \n",
       "\n",
       "[5 rows x 93 columns]"
      ]
     },
     "execution_count": 21,
     "metadata": {},
     "output_type": "execute_result"
    }
   ],
   "source": [
    "nba_stats.head()"
   ]
  },
  {
   "cell_type": "markdown",
   "metadata": {},
   "source": [
    "I export the updated dataframe so that I can use it during EDA and modeling."
   ]
  },
  {
   "cell_type": "code",
   "execution_count": 22,
   "metadata": {},
   "outputs": [],
   "source": [
    "nba_stats.to_csv('../data/nba_stats19.csv')"
   ]
  },
  {
   "cell_type": "code",
   "execution_count": null,
   "metadata": {},
   "outputs": [],
   "source": []
  },
  {
   "cell_type": "code",
   "execution_count": 13,
   "metadata": {},
   "outputs": [
    {
     "data": {
      "text/plain": [
       "'a'"
      ]
     },
     "execution_count": 13,
     "metadata": {},
     "output_type": "execute_result"
    }
   ],
   "source": [
    "string_1 = 'ajgbb wejnfwe'\n",
    "string_1[0:2:4]"
   ]
  },
  {
   "cell_type": "code",
   "execution_count": null,
   "metadata": {},
   "outputs": [],
   "source": [
    "string_1 = 'ajgbb wejnfwe'\n",
    "string_2 = 'aefnewonrfoawengh'\n",
    "\n",
    "def checking(str_1, str_2):\n",
    "    str_1_len = 0\n",
    "    str_1_list = []\n",
    "    for i in range(len(str_1)):\n",
    "        for z in str_1[i]:\n",
    "            single_str1 = z\n",
    "            str_1_list.append(single_str1)\n",
    "    for i2 "
   ]
  }
 ],
 "metadata": {
  "kernelspec": {
   "display_name": "Python 3",
   "language": "python",
   "name": "python3"
  },
  "language_info": {
   "codemirror_mode": {
    "name": "ipython",
    "version": 3
   },
   "file_extension": ".py",
   "mimetype": "text/x-python",
   "name": "python",
   "nbconvert_exporter": "python",
   "pygments_lexer": "ipython3",
   "version": "3.7.4"
  }
 },
 "nbformat": 4,
 "nbformat_minor": 2
}
