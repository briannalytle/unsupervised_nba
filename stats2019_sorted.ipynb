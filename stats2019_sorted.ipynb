{
 "cells": [
  {
   "cell_type": "code",
   "execution_count": 44,
   "metadata": {},
   "outputs": [],
   "source": [
    "import numpy as np\n",
    "import pandas as pd\n",
    "import seaborn as sns\n",
    "import matplotlib.pyplot as plt\n",
    "\n",
    "%matplotlib inline\n",
    "\n",
    "from scipy import sparse\n",
    "from sklearn.metrics.pairwise import pairwise_distances\n",
    "\n",
    "from sklearn.model_selection import train_test_split\n",
    "from sklearn.linear_model import LinearRegression\n",
    "from sklearn.metrics import r2_score, silhouette_score\n",
    "from sklearn.decomposition import PCA\n",
    "from sklearn.cluster import KMeans\n",
    "from sklearn.metrics.pairwise import pairwise_distances\n",
    "from sklearn.preprocessing import PolynomialFeatures, StandardScaler"
   ]
  },
  {
   "cell_type": "markdown",
   "metadata": {},
   "source": [
    "# Dataframe 2019"
   ]
  },
  {
   "cell_type": "markdown",
   "metadata": {},
   "source": [
    "this dataframe consists of up to date stasitcs of the 2019 season. The stats from this dataframe is included from basketball-reference satistcs per 100 team possessions and their advanced statistics. 538 raptor scor ratings are included in  this as well. \n",
    "\n",
    "Note: 538 raptor score ratings turn individual players into team talent estimates. The on/off ratpor scores evaluates how a player's team performs while he was on the floor, how the player's courtmates performed without player, how the courtmates' other courtmates performed when they were on the floor without player's courtmates. The raptor box scores takes into account individual player statistics. "
   ]
  },
  {
   "cell_type": "code",
   "execution_count": 65,
   "metadata": {},
   "outputs": [],
   "source": [
    "df19 = pd.read_csv('data/fixed19.csv', index_col = [0])\n",
    "df19 = df19.iloc[:, :-3]\n",
    "df19['G'] = df19['G'].astype(int)"
   ]
  },
  {
   "cell_type": "code",
   "execution_count": 66,
   "metadata": {},
   "outputs": [
    {
     "data": {
      "text/plain": [
       "(470, 64)"
      ]
     },
     "execution_count": 66,
     "metadata": {},
     "output_type": "execute_result"
    }
   ],
   "source": [
    "df19.shape"
   ]
  },
  {
   "cell_type": "markdown",
   "metadata": {},
   "source": [
    "## Data Preprocessing"
   ]
  },
  {
   "cell_type": "markdown",
   "metadata": {},
   "source": [
    "I'm dropping all players who haven't played more than 30 minutes. There has been less than 20 games per season so I am taking minutes into account"
   ]
  },
  {
   "cell_type": "code",
   "execution_count": 67,
   "metadata": {},
   "outputs": [],
   "source": [
    "df_bline = (df19[df19['MP'] > 48])"
   ]
  },
  {
   "cell_type": "code",
   "execution_count": 68,
   "metadata": {},
   "outputs": [
    {
     "data": {
      "text/plain": [
       "(378, 64)"
      ]
     },
     "execution_count": 68,
     "metadata": {},
     "output_type": "execute_result"
    }
   ],
   "source": [
    "df_bline.shape"
   ]
  },
  {
   "cell_type": "markdown",
   "metadata": {},
   "source": [
    "### Quick feature engineering of specific values"
   ]
  },
  {
   "cell_type": "markdown",
   "metadata": {},
   "source": [
    "There are some stats that are valuable on the court but low in numbers. For example, steals are valuable for any competitive game, but even the best players would have less than 3 steals per game. So we want to put more emphasis on these stats."
   ]
  },
  {
   "cell_type": "code",
   "execution_count": 69,
   "metadata": {},
   "outputs": [
    {
     "name": "stderr",
     "output_type": "stream",
     "text": [
      "C:\\Users\\Brianna Lytle\\Anaconda3\\lib\\site-packages\\ipykernel_launcher.py:1: SettingWithCopyWarning: \n",
      "A value is trying to be set on a copy of a slice from a DataFrame.\n",
      "Try using .loc[row_indexer,col_indexer] = value instead\n",
      "\n",
      "See the caveats in the documentation: http://pandas.pydata.org/pandas-docs/stable/user_guide/indexing.html#returning-a-view-versus-a-copy\n",
      "  \"\"\"Entry point for launching an IPython kernel.\n",
      "C:\\Users\\Brianna Lytle\\Anaconda3\\lib\\site-packages\\ipykernel_launcher.py:2: SettingWithCopyWarning: \n",
      "A value is trying to be set on a copy of a slice from a DataFrame.\n",
      "Try using .loc[row_indexer,col_indexer] = value instead\n",
      "\n",
      "See the caveats in the documentation: http://pandas.pydata.org/pandas-docs/stable/user_guide/indexing.html#returning-a-view-versus-a-copy\n",
      "  \n",
      "C:\\Users\\Brianna Lytle\\Anaconda3\\lib\\site-packages\\ipykernel_launcher.py:3: SettingWithCopyWarning: \n",
      "A value is trying to be set on a copy of a slice from a DataFrame.\n",
      "Try using .loc[row_indexer,col_indexer] = value instead\n",
      "\n",
      "See the caveats in the documentation: http://pandas.pydata.org/pandas-docs/stable/user_guide/indexing.html#returning-a-view-versus-a-copy\n",
      "  This is separate from the ipykernel package so we can avoid doing imports until\n"
     ]
    }
   ],
   "source": [
    "df_bline['AST_2x'] = (df_bline['AST'] * 2)\n",
    "df_bline['STL_2x'] = (df_bline['STL'] * 2)\n",
    "df_bline['BLK_2x'] = (df_bline['BLK'] * 2)"
   ]
  },
  {
   "cell_type": "markdown",
   "metadata": {},
   "source": [
    "### Sorting features into categories"
   ]
  },
  {
   "cell_type": "code",
   "execution_count": 70,
   "metadata": {},
   "outputs": [
    {
     "data": {
      "text/plain": [
       "Index(['Player', 'Pos', 'Age', 'Tm', 'G', 'GS', 'MP', 'FG', 'FGA', 'FG%', '3P',\n",
       "       '3PA', '3P%', '2P', '2PA', '2P%', 'FT', 'FTA', 'FT%', 'ORB', 'DRB',\n",
       "       'TRB', 'AST', 'STL', 'BLK', 'TOV', 'PF', 'PTS', 'ORtg', 'DRtg',\n",
       "       'url_list', 'PER', 'TS%', '3PAr', 'FTr', 'ORB%', 'DRB%', 'TRB%', 'AST%',\n",
       "       'STL%', 'BLK%', 'TOV%', 'USG%', 'OWS', 'DWS', 'WS', 'WS/48', 'OBPM',\n",
       "       'DBPM', 'BPM', 'VORP', 'salary', 'Team', 'Minutes', 'BSR Off.',\n",
       "       'BSR Def.', 'BSR Total', 'OOR Off.', 'OOR Def.', 'OOR Total',\n",
       "       'OVR Off.', 'OVR Def.', 'OVR total', 'WAR', 'AST_2x', 'STL_2x',\n",
       "       'BLK_2x'],\n",
       "      dtype='object')"
      ]
     },
     "execution_count": 70,
     "metadata": {},
     "output_type": "execute_result"
    }
   ],
   "source": [
    "df_bline.columns"
   ]
  },
  {
   "cell_type": "code",
   "execution_count": 71,
   "metadata": {},
   "outputs": [],
   "source": [
    "offensive = ['FG%', '3PA', '2PA', 'ORB', 'AST_2x', 'TOV',\n",
    "            'ORtg', 'DRtg', '3PAr', 'ORB%', 'AST%', 'TOV%',\n",
    "            'OWS', 'OBPM', 'BSR Off.', 'OOR Off.', 'OVR Off.',\n",
    "            'WAR']"
   ]
  },
  {
   "cell_type": "code",
   "execution_count": 72,
   "metadata": {},
   "outputs": [],
   "source": [
    "defensive = ['DRB', 'STL_2x', 'BLK_2x', 'DRtg', 'DRB%', \n",
    "            'BLK%', 'DWS', 'DBPM', 'BSR Def.', 'OOR Def.',\n",
    "            'OVR Def.', 'WAR']"
   ]
  },
  {
   "cell_type": "code",
   "execution_count": 73,
   "metadata": {},
   "outputs": [],
   "source": [
    "overall = ['FG', 'FT%', 'TRB', 'PER', 'TS%', 'TRB%',\n",
    "          'WS/48', 'BPM', 'BSR Total', 'OOR Total',\n",
    "          'OVR total', 'WAR']"
   ]
  },
  {
   "cell_type": "markdown",
   "metadata": {},
   "source": [
    "### Offensive Practice"
   ]
  },
  {
   "cell_type": "code",
   "execution_count": 74,
   "metadata": {},
   "outputs": [],
   "source": [
    "X = df_bline[offensive]\n",
    "y = df_bline['Player']\n",
    "\n",
    "#scale data\n",
    "sc = StandardScaler()\n",
    "X_sc = sc.fit_transform(X)"
   ]
  },
  {
   "cell_type": "code",
   "execution_count": 75,
   "metadata": {},
   "outputs": [
    {
     "name": "stdout",
     "output_type": "stream",
     "text": [
      "Cumulative Explained Variance: 0.8336167309711154\n"
     ]
    }
   ],
   "source": [
    "#dimensionality reduction\n",
    "pca = PCA(n_components = 5)\n",
    "pca.fit(X_sc)\n",
    "X_pca = pca.transform(X_sc)\n",
    "print(\"Cumulative Explained Variance:\", pca.explained_variance_ratio_.sum())"
   ]
  },
  {
   "cell_type": "code",
   "execution_count": 76,
   "metadata": {},
   "outputs": [
    {
     "data": {
      "text/plain": [
       "0.13628004697176288"
      ]
     },
     "execution_count": 76,
     "metadata": {},
     "output_type": "execute_result"
    }
   ],
   "source": [
    "#creating clusters\n",
    "km = KMeans(n_clusters = 10, random_state= 248)\n",
    "km.fit(X_pca)\n",
    "y_kmeans = km.predict(X_pca)\n",
    "silhouette_score(X_sc, km.labels_)"
   ]
  },
  {
   "cell_type": "markdown",
   "metadata": {},
   "source": [
    "### Defensive Practice"
   ]
  },
  {
   "cell_type": "code",
   "execution_count": 77,
   "metadata": {},
   "outputs": [],
   "source": [
    "X = df_bline[defensive]\n",
    "X_sc = sc.fit_transform(X)\n",
    "\n",
    "#dimensionality reduction\n",
    "pca = PCA(n_components = 5)\n",
    "pca.fit(X_sc)\n",
    "X_pca = pca.transform(X_sc)"
   ]
  },
  {
   "cell_type": "code",
   "execution_count": 78,
   "metadata": {},
   "outputs": [
    {
     "data": {
      "text/plain": [
       "0.14006248737510987"
      ]
     },
     "execution_count": 78,
     "metadata": {},
     "output_type": "execute_result"
    }
   ],
   "source": [
    "#creating clusters\n",
    "km = KMeans(n_clusters = 10, random_state= 248)\n",
    "km.fit(X_pca)\n",
    "y_kmeans = km.predict(X_pca)\n",
    "silhouette_score(X_sc, km.labels_)"
   ]
  },
  {
   "cell_type": "markdown",
   "metadata": {},
   "source": [
    "### Overall Practice"
   ]
  },
  {
   "cell_type": "code",
   "execution_count": 79,
   "metadata": {},
   "outputs": [
    {
     "name": "stdout",
     "output_type": "stream",
     "text": [
      "Cumulative Explained Variance: 0.9019742486885843\n"
     ]
    }
   ],
   "source": [
    "X = df_bline[overall]\n",
    "X_sc = sc.fit_transform(X)\n",
    "\n",
    "#dimensionality reduction\n",
    "pca = PCA(n_components = 5)\n",
    "pca.fit(X_sc)\n",
    "X_pca = pca.transform(X_sc)\n",
    "\n",
    "#dimensionality reduction\n",
    "pca = PCA(n_components = 5)\n",
    "pca.fit(X_sc)\n",
    "X_pca = pca.transform(X_sc)\n",
    "print(\"Cumulative Explained Variance:\", pca.explained_variance_ratio_.sum())"
   ]
  },
  {
   "cell_type": "code",
   "execution_count": 80,
   "metadata": {},
   "outputs": [
    {
     "data": {
      "text/plain": [
       "0.14741566799713737"
      ]
     },
     "execution_count": 80,
     "metadata": {},
     "output_type": "execute_result"
    }
   ],
   "source": [
    "#creating clusters\n",
    "km = KMeans(n_clusters = 10, random_state = 248)\n",
    "km.fit(X_pca)\n",
    "y_kmeans = km.predict(X_pca)\n",
    "silhouette_score(X_sc, km.labels_)"
   ]
  }
 ],
 "metadata": {
  "kernelspec": {
   "display_name": "Python 3",
   "language": "python",
   "name": "python3"
  },
  "language_info": {
   "codemirror_mode": {
    "name": "ipython",
    "version": 3
   },
   "file_extension": ".py",
   "mimetype": "text/x-python",
   "name": "python",
   "nbconvert_exporter": "python",
   "pygments_lexer": "ipython3",
   "version": "3.7.4"
  }
 },
 "nbformat": 4,
 "nbformat_minor": 2
}
