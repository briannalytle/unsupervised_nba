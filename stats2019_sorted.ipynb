{
 "cells": [
  {
   "cell_type": "code",
   "execution_count": 75,
   "metadata": {},
   "outputs": [],
   "source": [
    "import numpy as np\n",
    "import pandas as pd\n",
    "import seaborn as sns\n",
    "import matplotlib.pyplot as plt\n",
    "\n",
    "%matplotlib inline\n",
    "\n",
    "from scipy import sparse\n",
    "from sklearn.metrics.pairwise import pairwise_distances\n",
    "\n",
    "from sklearn.model_selection import train_test_split\n",
    "from sklearn.linear_model import LinearRegression\n",
    "from sklearn.metrics import r2_score, silhouette_score\n",
    "from sklearn.decomposition import PCA\n",
    "from sklearn.cluster import KMeans\n",
    "from sklearn.metrics.pairwise import pairwise_distances\n",
    "from sklearn.preprocessing import PolynomialFeatures, StandardScaler\n",
    "\n",
    "#hierarchial clustering\n",
    "import scipy.cluster.hierarchy as sch\n",
    "from sklearn.cluster import AgglomerativeClustering \n",
    "\n",
    "#lda stuff\n",
    "from sklearn.discriminant_analysis import LinearDiscriminantAnalysis\n",
    "\n"
   ]
  },
  {
   "cell_type": "markdown",
   "metadata": {},
   "source": [
    "# Dataframe 2019"
   ]
  },
  {
   "cell_type": "markdown",
   "metadata": {},
   "source": [
    "this dataframe consists of up to date stasitcs of the 2019 season. The stats from this dataframe is included from basketball-reference satistcs per 100 team possessions and their advanced statistics. 538 raptor scor ratings are included in  this as well. \n",
    "\n",
    "Note: 538 raptor score ratings turn individual players into team talent estimates. The on/off ratpor scores evaluates how a player's team performs while he was on the floor, how the player's courtmates performed without player, how the courtmates' other courtmates performed when they were on the floor without player's courtmates. The raptor box scores takes into account individual player statistics. "
   ]
  },
  {
   "cell_type": "code",
   "execution_count": 76,
   "metadata": {},
   "outputs": [],
   "source": [
    "df19 = pd.read_csv('data/fixed19.csv')\n",
    "#index_col = [0]\n",
    "df19 = df19.iloc[:, :-3]\n",
    "df19['G'] = df19['G'].astype(int)"
   ]
  },
  {
   "cell_type": "code",
   "execution_count": 77,
   "metadata": {
    "scrolled": true
   },
   "outputs": [
    {
     "data": {
      "text/plain": [
       "(542, 208)"
      ]
     },
     "execution_count": 77,
     "metadata": {},
     "output_type": "execute_result"
    }
   ],
   "source": [
    "df19.shape"
   ]
  },
  {
   "cell_type": "markdown",
   "metadata": {},
   "source": [
    "## Data Preprocessing"
   ]
  },
  {
   "cell_type": "markdown",
   "metadata": {},
   "source": [
    "I'm dropping all players who haven't played more than 30 minutes. There has been less than 20 games per season so I am taking minutes into account"
   ]
  },
  {
   "cell_type": "code",
   "execution_count": 78,
   "metadata": {},
   "outputs": [],
   "source": [
    "pd.set_option('display.max_columns', 500)\n",
    "pd.set_option('display.max_rows', 500)"
   ]
  },
  {
   "cell_type": "code",
   "execution_count": 79,
   "metadata": {},
   "outputs": [],
   "source": [
    "df_bline = (df19[df19['MP'] > 48])"
   ]
  },
  {
   "cell_type": "code",
   "execution_count": 80,
   "metadata": {
    "scrolled": false
   },
   "outputs": [
    {
     "data": {
      "text/plain": [
       "(445, 208)"
      ]
     },
     "execution_count": 80,
     "metadata": {},
     "output_type": "execute_result"
    }
   ],
   "source": [
    "df_bline.shape"
   ]
  },
  {
   "cell_type": "code",
   "execution_count": 81,
   "metadata": {},
   "outputs": [
    {
     "name": "stdout",
     "output_type": "stream",
     "text": [
      "['Unnamed: 0', 'Player', 'Pos', 'Age', 'Tm', 'G', 'GS', 'MP', 'FG', 'FGA', 'FG%', '3P', '3PA', '3P%', '2P', '2PA', '2P%', 'FT', 'FTA', 'FT%', 'ORB', 'DRB', 'TRB', 'AST', 'STL', 'BLK', 'TOV', 'PF', 'PTS', 'ORtg', 'DRtg', 'PER', 'TS%', '3PAr', 'FTr', 'ORB%', 'DRB%', 'TRB%', 'AST%', 'STL%', 'BLK%', 'TOV%', 'USG%', 'OWS', 'DWS', 'WS', 'WS/48', 'OBPM', 'DBPM', 'BPM', 'VORP', 'salary', 'BSR Off.', 'BSR Def.', 'BSR Total', 'OOR Off.', 'OOR Def.', 'OOR Total', 'OVR Off.', 'OVR Def.', 'OVR total', 'WAR', 'Tm18', 'G18', 'GS18', 'MP18', 'FG18', 'FGA18', 'FG%18', '3P18', '3PA18', '3P%18', '2P18', '2PA18', '2P%18', 'FT18', 'FTA18', 'FT%18', 'ORB18', 'DRB18', 'TRB18', 'AST18', 'STL18', 'BLK18', 'TOV18', 'PF18', 'PTS18', 'ORtg18', 'DRtg18', 'PER18', 'TS%18', '3PAr18', 'FTr18', 'ORB%18', 'DRB%18', 'TRB%18', 'AST%18', 'STL%18', 'BLK%18', 'TOV%18', 'USG%18', 'OWS18', 'DWS18', 'WS18', 'WS/4818', 'OBPM18', 'DBPM18', 'BPM18', 'VORP18', 'Games1818', 'FB18', 'PAINTPTS18', 'TO_PTS18', '2ND_PTS18', 'Q1PTS18', 'Q2PTS18', 'Q3PTS18', 'Q4PTS18', 'PPP18', '>8ft%18', '8-16ft%18', '16-24ft%18', '24+%18', 'BCS%18', '>8FTU18', '8-16FTU18', '16-24FTU18', '24+U18', 'BCU18', 'AVGDISTA18', 'AVGDISTM18', 'AVGDISTF18', 'AFGM18', 'JS18', 'LU18', 'DUN18', 'TIPIN18', 'JS%18', 'Layup%1818', 'DUN%18', '2PT_m18', '3PT_m18', 'FT_m18', 'AB_3U18', 'MRU18', 'paint_nonra18', 'ra_usage18', 'RC_318', 'LC_318', 'backcourt_usage18', 'AB3%18', 'MR%18', 'paint_nonra%18', 'RA%18', 'RC3%18', 'LC3%18', 'BC%18', 'Games18', 'FB', 'PAINTPTS', 'TO_PTS', '2ND_PTS', 'Q1PTS', 'Q2PTS', 'Q3PTS', 'Q4PTS', 'PPP', '>8ft%', '8-16ft%', '16-24ft%', '24+%', 'BCS%', '>8FTU', '8-16FTU', '16-24FTU', '24+U', 'BCU', 'AVGDISTA', 'AVGDISTM', 'AVGDISTF', 'AFGM', 'JS', 'LU', 'DUN', 'TIPIN', 'JS%', 'Layup%18', 'DUN%', '2PT_m', '3PT_m', 'FT_m', 'AB_3U', 'MRU', 'paint_nonra', 'ra_usage', 'RC_3', 'LC_3', 'backcourt_usage', 'AB3%', 'MR%', 'paint_nonra%', 'RA%', 'RC3%', 'LC3%', 'BC%', 'url_list', '\\xa0', '\\xa0.1']\n"
     ]
    }
   ],
   "source": [
    "print(df_bline.columns.tolist())"
   ]
  },
  {
   "cell_type": "code",
   "execution_count": 82,
   "metadata": {},
   "outputs": [],
   "source": [
    "df_bline = df_bline.drop(['Unnamed: 0', 'Games1818', 'url_list', '\\xa0', '\\xa0.1'], axis = 1)"
   ]
  },
  {
   "cell_type": "markdown",
   "metadata": {},
   "source": [
    "### Quick feature engineering of specific values"
   ]
  },
  {
   "cell_type": "markdown",
   "metadata": {},
   "source": [
    "There are some stats that are valuable on the court but low in numbers. For example, steals are valuable for any competitive game, but even the best players would have less than 3 steals per game. So we want to put more emphasis on these stats."
   ]
  },
  {
   "cell_type": "code",
   "execution_count": 83,
   "metadata": {},
   "outputs": [],
   "source": [
    "df_bline['AST_2x'] = (df_bline['AST'] * 2)\n",
    "df_bline['STL_2x'] = (df_bline['STL'] * 2)\n",
    "df_bline['BLK_2x'] = (df_bline['BLK'] * 2)"
   ]
  },
  {
   "cell_type": "markdown",
   "metadata": {},
   "source": [
    "### Sorting features into categories"
   ]
  },
  {
   "cell_type": "code",
   "execution_count": 84,
   "metadata": {},
   "outputs": [
    {
     "data": {
      "text/plain": [
       "count    445.000000\n",
       "mean       2.793708\n",
       "std        1.295072\n",
       "min        0.000000\n",
       "25%        1.900000\n",
       "50%        2.600000\n",
       "75%        3.500000\n",
       "max        8.200000\n",
       "Name: TOV, dtype: float64"
      ]
     },
     "execution_count": 84,
     "metadata": {},
     "output_type": "execute_result"
    }
   ],
   "source": [
    "df_bline['TOV'].describe()"
   ]
  },
  {
   "cell_type": "code",
   "execution_count": 107,
   "metadata": {},
   "outputs": [],
   "source": [
    "offensive = ['FG%', '3PA', '2PA', 'ORB', 'AST_2x', 'TOV',\n",
    "            'ORtg', 'DRtg', '3PAr', 'ORB%', 'AST%', 'TOV%',\n",
    "            'OWS', 'OBPM', 'BSR Off.', 'OOR Off.', 'OVR Off.',\n",
    "            'WAR','WS/48', 'WS']"
   ]
  },
  {
   "cell_type": "code",
   "execution_count": 108,
   "metadata": {},
   "outputs": [],
   "source": [
    "defensive = ['DRB', 'STL_2x', 'BLK_2x', 'DRtg', 'DRB%', \n",
    "            'BLK%', 'DWS', 'DBPM', 'BSR Def.', 'OOR Def.',\n",
    "            'OVR Def.', 'VORP', 'WAR']"
   ]
  },
  {
   "cell_type": "code",
   "execution_count": 109,
   "metadata": {},
   "outputs": [],
   "source": [
    "overall = ['FG', 'FT%', 'TRB', 'PER', 'TS%', 'TRB%',\n",
    "          'WS/48', 'BPM', 'BSR Total', 'OOR Total',\n",
    "          'OVR total', 'WAR', 'VORP']"
   ]
  },
  {
   "cell_type": "markdown",
   "metadata": {},
   "source": [
    "### Offensive Practice"
   ]
  },
  {
   "cell_type": "code",
   "execution_count": 98,
   "metadata": {},
   "outputs": [],
   "source": [
    "X = df_bline[offensive]\n",
    "y = df_bline['Player']\n",
    "\n",
    "#scale data\n",
    "sc = StandardScaler()\n",
    "X_sc = sc.fit_transform(X)"
   ]
  },
  {
   "cell_type": "code",
   "execution_count": 99,
   "metadata": {},
   "outputs": [
    {
     "name": "stdout",
     "output_type": "stream",
     "text": [
      "Cumulative Explained Variance: 0.8083967714449711\n"
     ]
    }
   ],
   "source": [
    "#dimensionality reduction\n",
    "pca = PCA(n_components = 5)\n",
    "pca.fit(X_sc)\n",
    "X_pca = pca.transform(X_sc)\n",
    "print(\"Cumulative Explained Variance:\", pca.explained_variance_ratio_.sum())"
   ]
  },
  {
   "cell_type": "code",
   "execution_count": 100,
   "metadata": {},
   "outputs": [
    {
     "data": {
      "text/plain": [
       "0.12991450889179088"
      ]
     },
     "execution_count": 100,
     "metadata": {},
     "output_type": "execute_result"
    }
   ],
   "source": [
    "#creating clusters\n",
    "km = KMeans(n_clusters = 10, random_state= 248)\n",
    "km.fit(X_pca)\n",
    "y_kmeans = km.predict(X_pca)\n",
    "silhouette_score(X_sc, km.labels_)"
   ]
  },
  {
   "cell_type": "code",
   "execution_count": 28,
   "metadata": {
    "scrolled": true
   },
   "outputs": [
    {
     "data": {
      "image/png": "[encoded data removed]",
      "text/plain": [
       "<Figure size 432x288 with 1 Axes>"
      ]
     },
     "metadata": {
      "needs_background": "light"
     },
     "output_type": "display_data"
    }
   ],
   "source": [
    "#hierarchial clustering\n",
    "dn = sch.dendrogram(sch.linkage(X, method = 'ward'))"
   ]
  },
  {
   "cell_type": "code",
   "execution_count": 16,
   "metadata": {},
   "outputs": [
    {
     "data": {
      "image/png": "[encoded data removed]",
      "text/plain": [
       "<Figure size 432x288 with 1 Axes>"
      ]
     },
     "metadata": {
      "needs_background": "light"
     },
     "output_type": "display_data"
    }
   ],
   "source": [
    "#hierarchial clustering\n",
    "dn = sch.dendrogram(sch.linkage(X, method = 'complete'))"
   ]
  },
  {
   "cell_type": "code",
   "execution_count": 17,
   "metadata": {},
   "outputs": [],
   "source": [
    "hc = AgglomerativeClustering(n_clusters = 5, affinity = 'euclidean', linkage ='ward')\n",
    "y_hc=hc.fit_predict(X)\n",
    "#stuck at this point in hierarcial clustering"
   ]
  },
  {
   "cell_type": "markdown",
   "metadata": {},
   "source": [
    "### Defensive Practice"
   ]
  },
  {
   "cell_type": "code",
   "execution_count": 101,
   "metadata": {},
   "outputs": [],
   "source": [
    "X = df_bline[defensive]\n",
    "X_sc = sc.fit_transform(X)\n",
    "\n",
    "#dimensionality reduction\n",
    "pca = PCA(n_components = 5)\n",
    "pca.fit(X_sc)\n",
    "X_pca = pca.transform(X_sc)"
   ]
  },
  {
   "cell_type": "code",
   "execution_count": 102,
   "metadata": {
    "scrolled": true
   },
   "outputs": [
    {
     "data": {
      "text/plain": [
       "0.12687593016361423"
      ]
     },
     "execution_count": 102,
     "metadata": {},
     "output_type": "execute_result"
    }
   ],
   "source": [
    "#creating clusters\n",
    "km = KMeans(n_clusters = 10, random_state= 248)\n",
    "km.fit(X_pca)\n",
    "y_kmeans = km.predict(X_pca)\n",
    "silhouette_score(X_sc, km.labels_)"
   ]
  },
  {
   "cell_type": "markdown",
   "metadata": {},
   "source": [
    "### Overall Practice"
   ]
  },
  {
   "cell_type": "code",
   "execution_count": 103,
   "metadata": {},
   "outputs": [
    {
     "name": "stdout",
     "output_type": "stream",
     "text": [
      "Cumulative Explained Variance: 0.8457716118205094\n"
     ]
    }
   ],
   "source": [
    "X = df_bline[overall]\n",
    "X_sc = sc.fit_transform(X)\n",
    "\n",
    "#dimensionality reduction\n",
    "pca = PCA(n_components = 5)\n",
    "pca.fit(X_sc)\n",
    "X_pca = pca.transform(X_sc)\n",
    "\n",
    "#dimensionality reduction\n",
    "pca = PCA(n_components = 5)\n",
    "pca.fit(X_sc)\n",
    "X_pca = pca.transform(X_sc)\n",
    "print(\"Cumulative Explained Variance:\", pca.explained_variance_ratio_.sum())"
   ]
  },
  {
   "cell_type": "code",
   "execution_count": 104,
   "metadata": {},
   "outputs": [
    {
     "data": {
      "text/plain": [
       "0.1706760018711229"
      ]
     },
     "execution_count": 104,
     "metadata": {},
     "output_type": "execute_result"
    }
   ],
   "source": [
    "#creating clusters\n",
    "km = KMeans(n_clusters = 5, random_state = 248)\n",
    "km.fit(X_pca)\n",
    "y_kmeans = km.predict(X_pca)\n",
    "silhouette_score(X_sc, km.labels_)"
   ]
  },
  {
   "cell_type": "code",
   "execution_count": null,
   "metadata": {},
   "outputs": [],
   "source": []
  }
 ],
 "metadata": {
  "kernelspec": {
   "display_name": "Python 3",
   "language": "python",
   "name": "python3"
  },
  "language_info": {
   "codemirror_mode": {
    "name": "ipython",
    "version": 3
   },
   "file_extension": ".py",
   "mimetype": "text/x-python",
   "name": "python",
   "nbconvert_exporter": "python",
   "pygments_lexer": "ipython3",
   "version": "3.7.4"
  }
 },
 "nbformat": 4,
 "nbformat_minor": 2
}
