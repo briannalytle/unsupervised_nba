{
 "cells": [
  {
   "cell_type": "code",
   "execution_count": 1,
   "metadata": {},
   "outputs": [],
   "source": [
    "import pandas as pd\n",
    "import numpy as np\n",
    "\n",
    "import pickle\n",
    "\n",
    "from scipy import sparse\n",
    "from sklearn.metrics.pairwise import pairwise_distances\n",
    "from sklearn.metrics import silhouette_score\n",
    "from sklearn.decomposition import PCA\n",
    "from sklearn.cluster import KMeans\n",
    "from sklearn.preprocessing import StandardScaler"
   ]
  },
  {
   "cell_type": "markdown",
   "metadata": {},
   "source": [
    "## Import DataFrame"
   ]
  },
  {
   "cell_type": "code",
   "execution_count": 2,
   "metadata": {},
   "outputs": [],
   "source": [
    "nba_stats19 = pd.read_csv('../data/nba_stats19.csv', index_col = [0])"
   ]
  },
  {
   "cell_type": "markdown",
   "metadata": {},
   "source": [
    "Some tables contained the same metrics. I will drop one of of each duplicated column and rename the rest"
   ]
  },
  {
   "cell_type": "code",
   "execution_count": 3,
   "metadata": {},
   "outputs": [],
   "source": [
    "nba_stats19.drop(columns = ['DREB_y', 'T_DREB%_y', 'T_STL%_y', 'T_BLK%_y', 'Age_y','FT%_y'], inplace = True)\n",
    "nba_stats19.rename(columns = {'Age_x': 'Age', 'FT%_x': 'FT%', 'DREB_x': 'DREB', 'T_DREB%_x' : 'T_DREB%',\n",
    "                             'T_STL%_x': 'T_STL%', 'T_BLK%_x': 'T_BLK%'}, inplace = True)"
   ]
  },
  {
   "cell_type": "code",
   "execution_count": 4,
   "metadata": {},
   "outputs": [
    {
     "data": {
      "text/plain": [
       "(466, 87)"
      ]
     },
     "execution_count": 4,
     "metadata": {},
     "output_type": "execute_result"
    }
   ],
   "source": [
    "nba_stats19.shape"
   ]
  },
  {
   "cell_type": "markdown",
   "metadata": {},
   "source": [
    "## Sorting features into categories"
   ]
  },
  {
   "cell_type": "markdown",
   "metadata": {},
   "source": [
    "I want to make a recommendation system for offensive, defensive, overall, and shooting styles on the court. I am sorting categories of different features to use in my clustering models"
   ]
  },
  {
   "cell_type": "code",
   "execution_count": 5,
   "metadata": {
    "scrolled": true
   },
   "outputs": [],
   "source": [
    "offensive_stats = ['FG%', '3P%', 'OREB', 'TOV', 'DD2',\n",
    "            'TD3', 'T_FGM%', 'T_FGA%', 'T_3PM%', 'T_3PA%', 'T_OREB%',\n",
    "            'T_TOV%', '2ND_CH_PTS', 'FB_PTS', 'BSR Off.',\n",
    "            'OOR Off.', 'OVR Off.', 'FP', 'STL', 'USG%', \n",
    "                'FGM_UAST%',\n",
    "                  'AST'] "
   ]
  },
  {
   "cell_type": "code",
   "execution_count": 6,
   "metadata": {},
   "outputs": [],
   "source": [
    "defensive_stats = ['DREB', 'DEF_RTG', 'DREB%', 'T_DREB%', 'STL', 'T_STL%',\n",
    "            'BLK', 'DEF_WS', 'T_BLK%', 'T_BLKA%',\n",
    "            'BLKA', 'BSR Def.', 'OVR Def.', 'WAR', 'FP']"
   ]
  },
  {
   "cell_type": "code",
   "execution_count": 7,
   "metadata": {},
   "outputs": [],
   "source": [
    "overall_stats = ['REB','AST', 'DD2', 'TD3', 'USG%', 'T_REB%',\n",
    "          'T_AST%', 'PTS_TOV', 'BLK', 'T_BLKA%', 'AST_2FGM%', 'AST_3FGM%', 'STL', 'T_STL%',\n",
    "                'FG%', 'FGA_2P%', 'T_FGA%', 'TOV', 'T_DREB%', 'T_OREB%', 'MP']"
   ]
  },
  {
   "cell_type": "code",
   "execution_count": 8,
   "metadata": {},
   "outputs": [],
   "source": [
    "shooting_stats = ['FGA_2P%', 'FGA_3P%', '2PT%', '2PT_MR%', '3P%',\n",
    "           'FBPTS%', 'OFFTOV%', 'PAINTPTS%', 'AST_2FGM%', 'UAST_2FGM%',\n",
    "           'AST_3FGM%', 'UAST_3FGM%', 'FGM_AST%', 'FGM_UAST%'\n",
    "           ]"
   ]
  },
  {
   "cell_type": "markdown",
   "metadata": {},
   "source": [
    "I am only including players that on average plays more than 6 minutes a game. I am using this metric since some teams have played less than 20 games when a season contains 82. In the future I plan on narrowing my player search based on how many games a player has participated in during the season"
   ]
  },
  {
   "cell_type": "code",
   "execution_count": 9,
   "metadata": {},
   "outputs": [],
   "source": [
    "nba_stats19 = nba_stats19[nba_stats19['MP'] > 6]"
   ]
  },
  {
   "cell_type": "code",
   "execution_count": 10,
   "metadata": {},
   "outputs": [
    {
     "data": {
      "text/plain": [
       "(416, 87)"
      ]
     },
     "execution_count": 10,
     "metadata": {},
     "output_type": "execute_result"
    }
   ],
   "source": [
    "nba_stats19.shape"
   ]
  },
  {
   "cell_type": "markdown",
   "metadata": {},
   "source": [
    "# KMEANS & PCA"
   ]
  },
  {
   "cell_type": "markdown",
   "metadata": {},
   "source": [
    "The strength of our clusters will determine how accurate our recommendation systems will be"
   ]
  },
  {
   "cell_type": "code",
   "execution_count": 11,
   "metadata": {},
   "outputs": [],
   "source": [
    "sc = StandardScaler()\n",
    "pca = PCA(n_components = 6)\n",
    "clusters = KMeans(n_clusters = 3, random_state =248)"
   ]
  },
  {
   "cell_type": "code",
   "execution_count": 12,
   "metadata": {},
   "outputs": [],
   "source": [
    "def nba_stats(category):\n",
    "    X = nba_stats19[category]\n",
    "    y = nba_stats19['Player']\n",
    "    #Scale Data\n",
    "    X_sc = sc.fit_transform(X)\n",
    "    pca.fit(X_sc)\n",
    "    #dimensionality reduction\n",
    "    X_pca = pca.transform(X_sc)\n",
    "    print(\"Cumulative Explained Variance:\", pca.explained_variance_ratio_.sum())\n",
    "    #create clusters\n",
    "    clusters.fit(X_pca)\n",
    "    y_kmeans = clusters.predict(X_pca)\n",
    "    print(\"Silhouette Score:\", silhouette_score(X_sc, clusters.labels_))"
   ]
  },
  {
   "cell_type": "markdown",
   "metadata": {},
   "source": [
    "### Offensive Clusters"
   ]
  },
  {
   "cell_type": "code",
   "execution_count": 13,
   "metadata": {},
   "outputs": [
    {
     "name": "stdout",
     "output_type": "stream",
     "text": [
      "Cumulative Explained Variance: 0.8053770412125152\n",
      "Silhouette Score: 0.2405207113200336\n"
     ]
    }
   ],
   "source": [
    "nba_stats(offensive_stats)"
   ]
  },
  {
   "cell_type": "markdown",
   "metadata": {},
   "source": [
    "### Defensive"
   ]
  },
  {
   "cell_type": "code",
   "execution_count": 14,
   "metadata": {},
   "outputs": [
    {
     "name": "stdout",
     "output_type": "stream",
     "text": [
      "Cumulative Explained Variance: 0.8889370304947651\n",
      "Silhouette Score: 0.18771922566788357\n"
     ]
    }
   ],
   "source": [
    "nba_stats(defensive_stats)"
   ]
  },
  {
   "cell_type": "markdown",
   "metadata": {},
   "source": [
    "### Shooting"
   ]
  },
  {
   "cell_type": "code",
   "execution_count": 15,
   "metadata": {},
   "outputs": [
    {
     "name": "stdout",
     "output_type": "stream",
     "text": [
      "Cumulative Explained Variance: 0.9023852707439991\n",
      "Silhouette Score: 0.2589192755988837\n"
     ]
    }
   ],
   "source": [
    "nba_stats(shooting_stats)"
   ]
  },
  {
   "cell_type": "markdown",
   "metadata": {},
   "source": [
    "### Overall"
   ]
  },
  {
   "cell_type": "code",
   "execution_count": 16,
   "metadata": {},
   "outputs": [
    {
     "name": "stdout",
     "output_type": "stream",
     "text": [
      "Cumulative Explained Variance: 0.7704451289818448\n",
      "Silhouette Score: 0.243719363925963\n"
     ]
    }
   ],
   "source": [
    "nba_stats(overall_stats)"
   ]
  },
  {
   "cell_type": "markdown",
   "metadata": {},
   "source": [
    "Category | PCA Explained Variance | KMEANS Silhouette Score\n",
    "------- | ------ | -----\n",
    "Offensive | .80538 | .240521\n",
    "Defensive | .88894 | .187719\n",
    "Shooting | .90238 | .25892\n",
    "Overall | .77044 | .24372"
   ]
  },
  {
   "cell_type": "markdown",
   "metadata": {},
   "source": [
    "This dataframe can be used for eda investigation of players and their clusters"
   ]
  },
  {
   "cell_type": "code",
   "execution_count": 17,
   "metadata": {},
   "outputs": [],
   "source": [
    "nba_stats19.to_csv('../data/nba_2eda.csv')"
   ]
  },
  {
   "cell_type": "markdown",
   "metadata": {},
   "source": [
    "# Creating Recommendation DataFrames"
   ]
  },
  {
   "cell_type": "markdown",
   "metadata": {},
   "source": [
    "#### Offensive"
   ]
  },
  {
   "cell_type": "code",
   "execution_count": 18,
   "metadata": {},
   "outputs": [],
   "source": [
    "#create pivot table\n",
    "off_piv = pd.pivot_table(nba_stats19[offensive_stats], index = nba_stats19['Player'])\n",
    "#create sparse matrix\n",
    "off_sparse = sparse.csr_matrix(off_piv.fillna(0))\n",
    "# #calculate cosine similarity\n",
    "off_recommender = pairwise_distances(off_sparse, metric = 'cosine')\n",
    "# #creating recommender dataframe\n",
    "off_rec_df = pd.DataFrame(off_recommender, columns = off_piv.index, index = off_piv.index)"
   ]
  },
  {
   "cell_type": "markdown",
   "metadata": {},
   "source": [
    "### Defensive"
   ]
  },
  {
   "cell_type": "code",
   "execution_count": 19,
   "metadata": {
    "scrolled": true
   },
   "outputs": [],
   "source": [
    "def_piv = pd.pivot_table(nba_stats19[defensive_stats], index = nba_stats19['Player'])\n",
    "def_sparse = sparse.csr_matrix(def_piv.fillna(0))\n",
    "def_recommender = pairwise_distances(def_sparse, metric = 'cosine')\n",
    "def_rec_df = pd.DataFrame(def_recommender, columns = def_piv.index, index = def_piv.index)"
   ]
  },
  {
   "cell_type": "markdown",
   "metadata": {},
   "source": [
    "### Overall"
   ]
  },
  {
   "cell_type": "code",
   "execution_count": 20,
   "metadata": {},
   "outputs": [],
   "source": [
    "over_piv = pd.pivot_table(nba_stats19[overall_stats], index = nba_stats19['Player'])\n",
    "over_sparse = sparse.csr_matrix(over_piv.fillna(0))\n",
    "over_recommender = pairwise_distances(over_sparse, metric = 'cosine')\n",
    "over_rec_df = pd.DataFrame(over_recommender, columns = over_piv.index, index = over_piv.index)"
   ]
  },
  {
   "cell_type": "markdown",
   "metadata": {},
   "source": [
    "### Shooting"
   ]
  },
  {
   "cell_type": "code",
   "execution_count": 21,
   "metadata": {},
   "outputs": [],
   "source": [
    "shoot_piv = pd.pivot_table(nba_stats19[shooting_stats], index = nba_stats19['Player'])\n",
    "shoot_sparse = sparse.csr_matrix(shoot_piv.fillna(0))\n",
    "shoot_recommender = pairwise_distances(shoot_sparse, metric = 'cosine')\n",
    "shoot_rec_df = pd.DataFrame(shoot_recommender, columns = shoot_piv.index, index = shoot_piv.index)"
   ]
  },
  {
   "cell_type": "markdown",
   "metadata": {},
   "source": [
    "# Pickles"
   ]
  },
  {
   "cell_type": "markdown",
   "metadata": {},
   "source": [
    "Pickles of all given recommendation systems"
   ]
  },
  {
   "cell_type": "code",
   "execution_count": 22,
   "metadata": {},
   "outputs": [],
   "source": [
    "pickle.dump(off_rec_df, open('../pickles/offensive.p', 'wb+'))\n",
    "pickle.dump(def_rec_df, open('../pickles/defensive.p', 'wb+'))\n",
    "pickle.dump(over_rec_df, open('../pickles/overall.p', 'wb+'))\n",
    "pickle.dump(shoot_rec_df, open('../pickles/shoot.p', 'wb+'))"
   ]
  },
  {
   "cell_type": "markdown",
   "metadata": {},
   "source": [
    "Pickling Salary "
   ]
  },
  {
   "cell_type": "code",
   "execution_count": 23,
   "metadata": {
    "scrolled": true
   },
   "outputs": [],
   "source": [
    "player_salary = ['Player', 'salary']\n",
    "player_salary = nba_stats19[player_salary]\n",
    "play_sal = player_salary.set_index('Player')\n",
    "pickle.dump(play_sal, open('../pickles/salaries.p', 'wb+'))"
   ]
  },
  {
   "cell_type": "code",
   "execution_count": 24,
   "metadata": {},
   "outputs": [
    {
     "data": {
      "text/plain": [
       "Index(['Luka Doncic', 'Bradley Beal', 'Kawhi Leonard'], dtype='object', name='Player')"
      ]
     },
     "execution_count": 24,
     "metadata": {},
     "output_type": "execute_result"
    }
   ],
   "source": [
    "players = off_rec_df['LeBron James'].sort_values()[1:4].index\n",
    "players"
   ]
  },
  {
   "cell_type": "code",
   "execution_count": 25,
   "metadata": {},
   "outputs": [
    {
     "data": {
      "text/html": [
       "<div>\n",
       "<style scoped>\n",
       "    .dataframe tbody tr th:only-of-type {\n",
       "        vertical-align: middle;\n",
       "    }\n",
       "\n",
       "    .dataframe tbody tr th {\n",
       "        vertical-align: top;\n",
       "    }\n",
       "\n",
       "    .dataframe thead th {\n",
       "        text-align: right;\n",
       "    }\n",
       "</style>\n",
       "<table border=\"1\" class=\"dataframe\">\n",
       "  <thead>\n",
       "    <tr style=\"text-align: right;\">\n",
       "      <th></th>\n",
       "      <th>salary</th>\n",
       "    </tr>\n",
       "    <tr>\n",
       "      <th>Player</th>\n",
       "      <th></th>\n",
       "    </tr>\n",
       "  </thead>\n",
       "  <tbody>\n",
       "    <tr>\n",
       "      <td>Ante Zizic</td>\n",
       "      <td>$2,281,800</td>\n",
       "    </tr>\n",
       "    <tr>\n",
       "      <td>Boban Marjanovic</td>\n",
       "      <td>$3,500,000</td>\n",
       "    </tr>\n",
       "    <tr>\n",
       "      <td>Bogdan Bogdanovic</td>\n",
       "      <td>$8,529,386</td>\n",
       "    </tr>\n",
       "    <tr>\n",
       "      <td>Bojan Bogdanovic</td>\n",
       "      <td>$17,000,000</td>\n",
       "    </tr>\n",
       "    <tr>\n",
       "      <td>CJ Miles</td>\n",
       "      <td>$8,730,158</td>\n",
       "    </tr>\n",
       "  </tbody>\n",
       "</table>\n",
       "</div>"
      ],
      "text/plain": [
       "                         salary\n",
       "Player                         \n",
       "Ante Zizic          $2,281,800 \n",
       "Boban Marjanovic    $3,500,000 \n",
       "Bogdan Bogdanovic   $8,529,386 \n",
       "Bojan Bogdanovic   $17,000,000 \n",
       "CJ Miles            $8,730,158 "
      ]
     },
     "execution_count": 25,
     "metadata": {},
     "output_type": "execute_result"
    }
   ],
   "source": [
    "play_sal.head()"
   ]
  },
  {
   "cell_type": "markdown",
   "metadata": {},
   "source": [
    "--------------------------------------"
   ]
  },
  {
   "cell_type": "markdown",
   "metadata": {},
   "source": [
    "pickling for team name - still in progress - need to figureout how to shape my database best for SQL query in flask app"
   ]
  },
  {
   "cell_type": "code",
   "execution_count": null,
   "metadata": {},
   "outputs": [],
   "source": [
    "player_team = ['Player', 'Team']\n",
    "player_team = nba_stats19[player_team]\n",
    "play_team = player_team.set_index('Player')\n",
    "pickle.dump(play_team, open('../pickles/teams.p', 'wb+'))"
   ]
  },
  {
   "cell_type": "code",
   "execution_count": null,
   "metadata": {
    "scrolled": true
   },
   "outputs": [],
   "source": [
    "for i in players:\n",
    "    listen = play_sal[play_sal['Player'] == i]"
   ]
  },
  {
   "cell_type": "code",
   "execution_count": null,
   "metadata": {},
   "outputs": [],
   "source": [
    "listen"
   ]
  },
  {
   "cell_type": "code",
   "execution_count": null,
   "metadata": {},
   "outputs": [],
   "source": []
  }
 ],
 "metadata": {
  "kernelspec": {
   "display_name": "Python 3",
   "language": "python",
   "name": "python3"
  },
  "language_info": {
   "codemirror_mode": {
    "name": "ipython",
    "version": 3
   },
   "file_extension": ".py",
   "mimetype": "text/x-python",
   "name": "python",
   "nbconvert_exporter": "python",
   "pygments_lexer": "ipython3",
   "version": "3.7.4"
  }
 },
 "nbformat": 4,
 "nbformat_minor": 2
}
