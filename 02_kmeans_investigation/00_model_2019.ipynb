{
 "cells": [
  {
   "cell_type": "code",
   "execution_count": 5,
   "metadata": {},
   "outputs": [],
   "source": [
    "import pandas as pd\n",
    "import numpy as np\n",
    "\n",
    "import pickle\n",
    "\n",
    "from scipy import sparse\n",
    "from sklearn.metrics.pairwise import pairwise_distances\n",
    "from sklearn.metrics import silhouette_score\n",
    "from sklearn.decomposition import PCA\n",
    "from sklearn.cluster import KMeans\n",
    "from sklearn.preprocessing import StandardScaler"
   ]
  },
  {
   "cell_type": "markdown",
   "metadata": {},
   "source": [
    "## Import DataFrame"
   ]
  },
  {
   "cell_type": "code",
   "execution_count": 6,
   "metadata": {},
   "outputs": [],
   "source": [
    "nba_stats19 = pd.read_csv('../data/nba_later_eda.csv', index_col = [0])"
   ]
  },
  {
   "cell_type": "markdown",
   "metadata": {},
   "source": [
    "Some tables contained the same metrics. I will drop one of of each duplicated column and rename the rest"
   ]
  },
  {
   "cell_type": "code",
   "execution_count": 9,
   "metadata": {},
   "outputs": [],
   "source": [
    "# nba_stats19.drop(columns = ['DREB_y', 'T_DREB%_y', 'T_STL%_y', 'T_BLK%_y', 'Age_y','FT%_y'], inplace = True)\n",
    "nba_stats19.rename(columns = {'Age_x': 'Age', 'FT%_x': 'FT%', 'DREB_x': 'DREB', 'T_DREB%_x' : 'T_DREB%',\n",
    "                             'T_STL%_x': 'T_STL%', 'T_BLK%_x': 'T_BLK%'}, inplace = True)"
   ]
  },
  {
   "cell_type": "code",
   "execution_count": 10,
   "metadata": {},
   "outputs": [
    {
     "data": {
      "text/plain": [
       "(427, 74)"
      ]
     },
     "execution_count": 10,
     "metadata": {},
     "output_type": "execute_result"
    }
   ],
   "source": [
    "nba_stats19.shape"
   ]
  },
  {
   "cell_type": "markdown",
   "metadata": {},
   "source": [
    "## Sorting features into categories"
   ]
  },
  {
   "cell_type": "markdown",
   "metadata": {},
   "source": [
    "I want to make a recommendation system for offensive, defensive, overall, and shooting styles on the court. I am sorting categories of different features to use in my clustering models"
   ]
  },
  {
   "cell_type": "code",
   "execution_count": 21,
   "metadata": {
    "scrolled": true
   },
   "outputs": [],
   "source": [
    "offensive_stats = ['FG%', '3P%', 'OREB', 'TOV', 'DD2',\n",
    "            'TD3', 'T_FGM%', 'T_FGA%', 'T_3PM%', 'T_3PA%', 'T_OREB%',\n",
    "            'T_TOV%', '2ND_CH_PTS', 'FB_PTS', 'FP', 'STL', 'USG%', \n",
    "                'FGM_UAST%',\n",
    "                  'AST'] "
   ]
  },
  {
   "cell_type": "code",
   "execution_count": 24,
   "metadata": {},
   "outputs": [],
   "source": [
    "defensive_stats = ['DREB', 'DEF_RTG', 'DREB%', 'T_DREB%', 'STL', 'T_STL%',\n",
    "            'BLK', 'DEF_WS', 'T_BLK%', 'T_BLKA%',\n",
    "            'BLKA', 'FP']"
   ]
  },
  {
   "cell_type": "code",
   "execution_count": 13,
   "metadata": {},
   "outputs": [],
   "source": [
    "overall_stats = ['REB','AST', 'DD2', 'TD3', 'USG%', 'T_REB%',\n",
    "          'T_AST%', 'PTS_TOV', 'BLK', 'T_BLKA%', 'AST_2FGM%', 'AST_3FGM%', 'STL', 'T_STL%',\n",
    "                'FG%', 'FGA_2P%', 'T_FGA%', 'TOV', 'T_DREB%', 'T_OREB%', 'MP']"
   ]
  },
  {
   "cell_type": "code",
   "execution_count": 14,
   "metadata": {},
   "outputs": [],
   "source": [
    "shooting_stats = ['FGA_2P%', 'FGA_3P%', '2PT%', '2PT_MR%', '3P%',\n",
    "           'FBPTS%', 'OFFTOV%', 'PAINTPTS%', 'AST_2FGM%', 'UAST_2FGM%',\n",
    "           'AST_3FGM%', 'UAST_3FGM%', 'FGM_AST%', 'FGM_UAST%'\n",
    "           ]"
   ]
  },
  {
   "cell_type": "markdown",
   "metadata": {},
   "source": [
    "I am only including players that on average plays more than 6 minutes a game. I am using this metric since some teams have played less than 20 games when a season contains 82. In the future I plan on narrowing my player search based on how many games a player has participated in during the season"
   ]
  },
  {
   "cell_type": "code",
   "execution_count": 15,
   "metadata": {},
   "outputs": [],
   "source": [
    "nba_stats19 = nba_stats19[nba_stats19['MP'] > 6]"
   ]
  },
  {
   "cell_type": "code",
   "execution_count": 16,
   "metadata": {},
   "outputs": [
    {
     "data": {
      "text/plain": [
       "(427, 74)"
      ]
     },
     "execution_count": 16,
     "metadata": {},
     "output_type": "execute_result"
    }
   ],
   "source": [
    "nba_stats19.shape"
   ]
  },
  {
   "cell_type": "markdown",
   "metadata": {},
   "source": [
    "# KMEANS & PCA"
   ]
  },
  {
   "cell_type": "markdown",
   "metadata": {},
   "source": [
    "The strength of our clusters will determine how accurate our recommendation systems will be"
   ]
  },
  {
   "cell_type": "code",
   "execution_count": 17,
   "metadata": {},
   "outputs": [],
   "source": [
    "sc = StandardScaler()\n",
    "pca = PCA(n_components = 6)\n",
    "clusters = KMeans(n_clusters = 3, random_state =248)"
   ]
  },
  {
   "cell_type": "code",
   "execution_count": 38,
   "metadata": {},
   "outputs": [],
   "source": [
    "def nba_stats(category):\n",
    "    X = nba_stats19[category]\n",
    "    y = nba_stats19['Player']\n",
    "    #Scale Data\n",
    "    X_sc = sc.fit_transform(X)\n",
    "    pca.fit(X_sc)\n",
    "    #dimensionality reduction\n",
    "    X_pca = pca.transform(X_sc)\n",
    "    print(\"Cumulative Explained Variance:\", pca.explained_variance_ratio_.sum())\n",
    "    #create clusters\n",
    "    clusters.fit(X_pca)\n",
    "    y_kmeans = clusters.predict(X_pca)\n",
    "#     globals()[nba_stats19[cluster_name]] = clusters.labels_\n",
    "    print(\"Silhouette Score:\", silhouette_score(X_sc, clusters.labels_))"
   ]
  },
  {
   "cell_type": "markdown",
   "metadata": {},
   "source": [
    "### Offensive Clusters"
   ]
  },
  {
   "cell_type": "code",
   "execution_count": 39,
   "metadata": {},
   "outputs": [
    {
     "name": "stdout",
     "output_type": "stream",
     "text": [
      "Cumulative Explained Variance: 0.8598057643491612\n",
      "Silhouette Score: 0.28182522603841853\n"
     ]
    }
   ],
   "source": [
    "nba_stats(offensive_stats)\n",
    "nba_stats19['off_cluster'] = clusters.labels_"
   ]
  },
  {
   "cell_type": "markdown",
   "metadata": {},
   "source": [
    "### Defensive"
   ]
  },
  {
   "cell_type": "code",
   "execution_count": 42,
   "metadata": {},
   "outputs": [
    {
     "name": "stdout",
     "output_type": "stream",
     "text": [
      "Cumulative Explained Variance: 0.9556884831615446\n",
      "Silhouette Score: 0.2478296641201051\n"
     ]
    }
   ],
   "source": [
    "nba_stats(defensive_stats)\n",
    "nba_stats19['def_cluster'] = clusters.labels_"
   ]
  },
  {
   "cell_type": "markdown",
   "metadata": {},
   "source": [
    "### Shooting"
   ]
  },
  {
   "cell_type": "code",
   "execution_count": 43,
   "metadata": {},
   "outputs": [
    {
     "name": "stdout",
     "output_type": "stream",
     "text": [
      "Cumulative Explained Variance: 0.9335493622178543\n",
      "Silhouette Score: 0.28157497817930127\n"
     ]
    }
   ],
   "source": [
    "nba_stats(shooting_stats)\n",
    "nba_stats19['shoot_cluster'] = clusters.labels_"
   ]
  },
  {
   "cell_type": "markdown",
   "metadata": {},
   "source": [
    "### Overall"
   ]
  },
  {
   "cell_type": "code",
   "execution_count": 44,
   "metadata": {},
   "outputs": [
    {
     "name": "stdout",
     "output_type": "stream",
     "text": [
      "Cumulative Explained Variance: 0.8144377238696634\n",
      "Silhouette Score: 0.2547030793927546\n"
     ]
    }
   ],
   "source": [
    "nba_stats(overall_stats)\n",
    "nba_stats19['overall_cluster'] = clusters.labels_"
   ]
  },
  {
   "cell_type": "markdown",
   "metadata": {},
   "source": [
    "Category | PCA Explained Variance | KMEANS Silhouette Score\n",
    "------- | ------ | -----\n",
    "Offensive | .80538 | .240521\n",
    "Defensive | .88894 | .187719\n",
    "Shooting | .90238 | .25892\n",
    "Overall | .77044 | .24372"
   ]
  },
  {
   "cell_type": "markdown",
   "metadata": {},
   "source": [
    "This dataframe can be used for eda investigation of players and their clusters"
   ]
  },
  {
   "cell_type": "code",
   "execution_count": 45,
   "metadata": {},
   "outputs": [],
   "source": [
    "nba_stats19.to_csv('../data/nba_2eda.csv')"
   ]
  },
  {
   "cell_type": "markdown",
   "metadata": {},
   "source": [
    "# Creating Recommendation DataFrames"
   ]
  },
  {
   "cell_type": "markdown",
   "metadata": {},
   "source": [
    "#### Offensive"
   ]
  },
  {
   "cell_type": "code",
   "execution_count": 18,
   "metadata": {},
   "outputs": [],
   "source": [
    "#create pivot table\n",
    "off_piv = pd.pivot_table(nba_stats19[offensive_stats], index = nba_stats19['Player'])\n",
    "#create sparse matrix\n",
    "off_sparse = sparse.csr_matrix(off_piv.fillna(0))\n",
    "# #calculate cosine similarity\n",
    "off_recommender = pairwise_distances(off_sparse, metric = 'cosine')\n",
    "# #creating recommender dataframe\n",
    "off_rec_df = pd.DataFrame(off_recommender, columns = off_piv.index, index = off_piv.index)"
   ]
  },
  {
   "cell_type": "markdown",
   "metadata": {},
   "source": [
    "### Defensive"
   ]
  },
  {
   "cell_type": "code",
   "execution_count": 19,
   "metadata": {
    "scrolled": true
   },
   "outputs": [],
   "source": [
    "def_piv = pd.pivot_table(nba_stats19[defensive_stats], index = nba_stats19['Player'])\n",
    "def_sparse = sparse.csr_matrix(def_piv.fillna(0))\n",
    "def_recommender = pairwise_distances(def_sparse, metric = 'cosine')\n",
    "def_rec_df = pd.DataFrame(def_recommender, columns = def_piv.index, index = def_piv.index)"
   ]
  },
  {
   "cell_type": "markdown",
   "metadata": {},
   "source": [
    "### Overall"
   ]
  },
  {
   "cell_type": "code",
   "execution_count": 20,
   "metadata": {},
   "outputs": [],
   "source": [
    "over_piv = pd.pivot_table(nba_stats19[overall_stats], index = nba_stats19['Player'])\n",
    "over_sparse = sparse.csr_matrix(over_piv.fillna(0))\n",
    "over_recommender = pairwise_distances(over_sparse, metric = 'cosine')\n",
    "over_rec_df = pd.DataFrame(over_recommender, columns = over_piv.index, index = over_piv.index)"
   ]
  },
  {
   "cell_type": "markdown",
   "metadata": {},
   "source": [
    "### Shooting"
   ]
  },
  {
   "cell_type": "code",
   "execution_count": 21,
   "metadata": {},
   "outputs": [],
   "source": [
    "shoot_piv = pd.pivot_table(nba_stats19[shooting_stats], index = nba_stats19['Player'])\n",
    "shoot_sparse = sparse.csr_matrix(shoot_piv.fillna(0))\n",
    "shoot_recommender = pairwise_distances(shoot_sparse, metric = 'cosine')\n",
    "shoot_rec_df = pd.DataFrame(shoot_recommender, columns = shoot_piv.index, index = shoot_piv.index)"
   ]
  },
  {
   "cell_type": "markdown",
   "metadata": {},
   "source": [
    "# Pickles"
   ]
  },
  {
   "cell_type": "markdown",
   "metadata": {},
   "source": [
    "Pickles of all given recommendation systems"
   ]
  },
  {
   "cell_type": "code",
   "execution_count": 22,
   "metadata": {},
   "outputs": [],
   "source": [
    "pickle.dump(off_rec_df, open('../pickles/offensive.p', 'wb+'))\n",
    "pickle.dump(def_rec_df, open('../pickles/defensive.p', 'wb+'))\n",
    "pickle.dump(over_rec_df, open('../pickles/overall.p', 'wb+'))\n",
    "pickle.dump(shoot_rec_df, open('../pickles/shoot.p', 'wb+'))"
   ]
  },
  {
   "cell_type": "markdown",
   "metadata": {},
   "source": [
    "Pickling Salary "
   ]
  },
  {
   "cell_type": "code",
   "execution_count": 23,
   "metadata": {
    "scrolled": true
   },
   "outputs": [],
   "source": [
    "player_salary = ['Player', 'salary']\n",
    "player_salary = nba_stats19[player_salary]\n",
    "play_sal = player_salary.set_index('Player')\n",
    "pickle.dump(play_sal, open('../pickles/salaries.p', 'wb+'))"
   ]
  },
  {
   "cell_type": "code",
   "execution_count": 24,
   "metadata": {},
   "outputs": [
    {
     "data": {
      "text/plain": [
       "Index(['Luka Doncic', 'Bradley Beal', 'Kawhi Leonard'], dtype='object', name='Player')"
      ]
     },
     "execution_count": 24,
     "metadata": {},
     "output_type": "execute_result"
    }
   ],
   "source": [
    "players = off_rec_df['LeBron James'].sort_values()[1:4].index\n",
    "players"
   ]
  },
  {
   "cell_type": "code",
   "execution_count": 25,
   "metadata": {},
   "outputs": [
    {
     "data": {
      "text/html": [
       "<div>\n",
       "<style scoped>\n",
       "    .dataframe tbody tr th:only-of-type {\n",
       "        vertical-align: middle;\n",
       "    }\n",
       "\n",
       "    .dataframe tbody tr th {\n",
       "        vertical-align: top;\n",
       "    }\n",
       "\n",
       "    .dataframe thead th {\n",
       "        text-align: right;\n",
       "    }\n",
       "</style>\n",
       "<table border=\"1\" class=\"dataframe\">\n",
       "  <thead>\n",
       "    <tr style=\"text-align: right;\">\n",
       "      <th></th>\n",
       "      <th>salary</th>\n",
       "    </tr>\n",
       "    <tr>\n",
       "      <th>Player</th>\n",
       "      <th></th>\n",
       "    </tr>\n",
       "  </thead>\n",
       "  <tbody>\n",
       "    <tr>\n",
       "      <td>Ante Zizic</td>\n",
       "      <td>$2,281,800</td>\n",
       "    </tr>\n",
       "    <tr>\n",
       "      <td>Boban Marjanovic</td>\n",
       "      <td>$3,500,000</td>\n",
       "    </tr>\n",
       "    <tr>\n",
       "      <td>Bogdan Bogdanovic</td>\n",
       "      <td>$8,529,386</td>\n",
       "    </tr>\n",
       "    <tr>\n",
       "      <td>Bojan Bogdanovic</td>\n",
       "      <td>$17,000,000</td>\n",
       "    </tr>\n",
       "    <tr>\n",
       "      <td>CJ Miles</td>\n",
       "      <td>$8,730,158</td>\n",
       "    </tr>\n",
       "  </tbody>\n",
       "</table>\n",
       "</div>"
      ],
      "text/plain": [
       "                         salary\n",
       "Player                         \n",
       "Ante Zizic          $2,281,800 \n",
       "Boban Marjanovic    $3,500,000 \n",
       "Bogdan Bogdanovic   $8,529,386 \n",
       "Bojan Bogdanovic   $17,000,000 \n",
       "CJ Miles            $8,730,158 "
      ]
     },
     "execution_count": 25,
     "metadata": {},
     "output_type": "execute_result"
    }
   ],
   "source": [
    "play_sal.head()"
   ]
  },
  {
   "cell_type": "markdown",
   "metadata": {},
   "source": [
    "--------------------------------------"
   ]
  },
  {
   "cell_type": "markdown",
   "metadata": {},
   "source": [
    "pickling for team name - still in progress - need to figureout how to shape my database best for SQL query in flask app"
   ]
  },
  {
   "cell_type": "code",
   "execution_count": null,
   "metadata": {},
   "outputs": [],
   "source": [
    "player_team = ['Player', 'Team']\n",
    "player_team = nba_stats19[player_team]\n",
    "play_team = player_team.set_index('Player')\n",
    "pickle.dump(play_team, open('../pickles/teams.p', 'wb+'))"
   ]
  },
  {
   "cell_type": "code",
   "execution_count": null,
   "metadata": {
    "scrolled": true
   },
   "outputs": [],
   "source": [
    "for i in players:\n",
    "    listen = play_sal[play_sal['Player'] == i]"
   ]
  },
  {
   "cell_type": "code",
   "execution_count": null,
   "metadata": {},
   "outputs": [],
   "source": [
    "listen"
   ]
  },
  {
   "cell_type": "code",
   "execution_count": null,
   "metadata": {},
   "outputs": [],
   "source": []
  }
 ],
 "metadata": {
  "kernelspec": {
   "display_name": "Python 3",
   "language": "python",
   "name": "python3"
  },
  "language_info": {
   "codemirror_mode": {
    "name": "ipython",
    "version": 3
   },
   "file_extension": ".py",
   "mimetype": "text/x-python",
   "name": "python",
   "nbconvert_exporter": "python",
   "pygments_lexer": "ipython3",
   "version": "3.7.4"
  }
 },
 "nbformat": 4,
 "nbformat_minor": 2
}
