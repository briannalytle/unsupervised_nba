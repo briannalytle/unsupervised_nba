{
 "cells": [
  {
   "cell_type": "code",
   "execution_count": 1,
   "metadata": {},
   "outputs": [],
   "source": [
    "import pandas as pd\n",
    "import numpy as np\n",
    "\n",
    "import pickle\n",
    "\n",
    "from scipy import sparse\n",
    "from sklearn.metrics.pairwise import pairwise_distances\n",
    "from sklearn.metrics import silhouette_score\n",
    "from sklearn.decomposition import PCA\n",
    "from sklearn.cluster import KMeans\n",
    "from sklearn.preprocessing import StandardScaler"
   ]
  },
  {
   "cell_type": "code",
   "execution_count": 2,
   "metadata": {},
   "outputs": [],
   "source": [
    "nba_later = pd.read_csv('../data/nba_later.csv', index_col = [0])"
   ]
  },
  {
   "cell_type": "code",
   "execution_count": 3,
   "metadata": {},
   "outputs": [
    {
     "data": {
      "text/html": [
       "<div>\n",
       "<style scoped>\n",
       "    .dataframe tbody tr th:only-of-type {\n",
       "        vertical-align: middle;\n",
       "    }\n",
       "\n",
       "    .dataframe tbody tr th {\n",
       "        vertical-align: top;\n",
       "    }\n",
       "\n",
       "    .dataframe thead th {\n",
       "        text-align: right;\n",
       "    }\n",
       "</style>\n",
       "<table border=\"1\" class=\"dataframe\">\n",
       "  <thead>\n",
       "    <tr style=\"text-align: right;\">\n",
       "      <th></th>\n",
       "      <th>Player</th>\n",
       "      <th>Age_x</th>\n",
       "      <th>W</th>\n",
       "      <th>L</th>\n",
       "      <th>MP</th>\n",
       "      <th>FGM</th>\n",
       "      <th>FGA</th>\n",
       "      <th>FG%</th>\n",
       "      <th>3PM</th>\n",
       "      <th>3PA</th>\n",
       "      <th>...</th>\n",
       "      <th>PTS_TOV</th>\n",
       "      <th>2ND_CH_PTS</th>\n",
       "      <th>FB_PTS</th>\n",
       "      <th>PAINT_PTS</th>\n",
       "      <th>OPP_PTS_TOV</th>\n",
       "      <th>OPP_2ND_PTS</th>\n",
       "      <th>OPP_FBPTS</th>\n",
       "      <th>OPP_PAINT_PTS</th>\n",
       "      <th>BLKA</th>\n",
       "      <th>PFD</th>\n",
       "    </tr>\n",
       "  </thead>\n",
       "  <tbody>\n",
       "    <tr>\n",
       "      <td>0</td>\n",
       "      <td>James Harden</td>\n",
       "      <td>30</td>\n",
       "      <td>28</td>\n",
       "      <td>15</td>\n",
       "      <td>37.1</td>\n",
       "      <td>10.4</td>\n",
       "      <td>23.7</td>\n",
       "      <td>43.9</td>\n",
       "      <td>4.7</td>\n",
       "      <td>13.0</td>\n",
       "      <td>...</td>\n",
       "      <td>5.2</td>\n",
       "      <td>3.0</td>\n",
       "      <td>3.5</td>\n",
       "      <td>11.1</td>\n",
       "      <td>14.2</td>\n",
       "      <td>10.5</td>\n",
       "      <td>12.6</td>\n",
       "      <td>37.9</td>\n",
       "      <td>1.5</td>\n",
       "      <td>8.0</td>\n",
       "    </tr>\n",
       "    <tr>\n",
       "      <td>1</td>\n",
       "      <td>Giannis Antetokounmpo</td>\n",
       "      <td>25</td>\n",
       "      <td>37</td>\n",
       "      <td>6</td>\n",
       "      <td>30.7</td>\n",
       "      <td>11.1</td>\n",
       "      <td>19.9</td>\n",
       "      <td>55.7</td>\n",
       "      <td>1.6</td>\n",
       "      <td>5.0</td>\n",
       "      <td>...</td>\n",
       "      <td>5.1</td>\n",
       "      <td>3.5</td>\n",
       "      <td>6.4</td>\n",
       "      <td>17.9</td>\n",
       "      <td>9.0</td>\n",
       "      <td>6.6</td>\n",
       "      <td>7.9</td>\n",
       "      <td>23.7</td>\n",
       "      <td>1.1</td>\n",
       "      <td>8.4</td>\n",
       "    </tr>\n",
       "    <tr>\n",
       "      <td>2</td>\n",
       "      <td>Trae Young</td>\n",
       "      <td>21</td>\n",
       "      <td>9</td>\n",
       "      <td>32</td>\n",
       "      <td>35.1</td>\n",
       "      <td>9.3</td>\n",
       "      <td>20.8</td>\n",
       "      <td>44.5</td>\n",
       "      <td>3.4</td>\n",
       "      <td>9.3</td>\n",
       "      <td>...</td>\n",
       "      <td>4.2</td>\n",
       "      <td>1.9</td>\n",
       "      <td>3.4</td>\n",
       "      <td>10.2</td>\n",
       "      <td>14.2</td>\n",
       "      <td>11.2</td>\n",
       "      <td>10.3</td>\n",
       "      <td>42.0</td>\n",
       "      <td>1.3</td>\n",
       "      <td>7.7</td>\n",
       "    </tr>\n",
       "    <tr>\n",
       "      <td>3</td>\n",
       "      <td>Luka Doncic</td>\n",
       "      <td>20</td>\n",
       "      <td>26</td>\n",
       "      <td>14</td>\n",
       "      <td>32.9</td>\n",
       "      <td>9.5</td>\n",
       "      <td>20.4</td>\n",
       "      <td>46.6</td>\n",
       "      <td>3.0</td>\n",
       "      <td>9.2</td>\n",
       "      <td>...</td>\n",
       "      <td>3.1</td>\n",
       "      <td>2.8</td>\n",
       "      <td>2.8</td>\n",
       "      <td>12.2</td>\n",
       "      <td>10.9</td>\n",
       "      <td>9.7</td>\n",
       "      <td>10.7</td>\n",
       "      <td>34.2</td>\n",
       "      <td>0.9</td>\n",
       "      <td>7.3</td>\n",
       "    </tr>\n",
       "    <tr>\n",
       "      <td>4</td>\n",
       "      <td>Damian Lillard</td>\n",
       "      <td>29</td>\n",
       "      <td>19</td>\n",
       "      <td>25</td>\n",
       "      <td>37.0</td>\n",
       "      <td>8.9</td>\n",
       "      <td>19.7</td>\n",
       "      <td>45.0</td>\n",
       "      <td>3.7</td>\n",
       "      <td>9.8</td>\n",
       "      <td>...</td>\n",
       "      <td>3.0</td>\n",
       "      <td>1.0</td>\n",
       "      <td>2.5</td>\n",
       "      <td>8.3</td>\n",
       "      <td>11.1</td>\n",
       "      <td>12.3</td>\n",
       "      <td>9.8</td>\n",
       "      <td>36.0</td>\n",
       "      <td>1.1</td>\n",
       "      <td>6.1</td>\n",
       "    </tr>\n",
       "  </tbody>\n",
       "</table>\n",
       "<p>5 rows × 80 columns</p>\n",
       "</div>"
      ],
      "text/plain": [
       "                  Player  Age_x   W   L    MP   FGM   FGA   FG%  3PM   3PA  \\\n",
       "0           James Harden     30  28  15  37.1  10.4  23.7  43.9  4.7  13.0   \n",
       "1  Giannis Antetokounmpo     25  37   6  30.7  11.1  19.9  55.7  1.6   5.0   \n",
       "2             Trae Young     21   9  32  35.1   9.3  20.8  44.5  3.4   9.3   \n",
       "3            Luka Doncic     20  26  14  32.9   9.5  20.4  46.6  3.0   9.2   \n",
       "4         Damian Lillard     29  19  25  37.0   8.9  19.7  45.0  3.7   9.8   \n",
       "\n",
       "   ...  PTS_TOV  2ND_CH_PTS  FB_PTS  PAINT_PTS  OPP_PTS_TOV  OPP_2ND_PTS  \\\n",
       "0  ...      5.2         3.0     3.5       11.1         14.2         10.5   \n",
       "1  ...      5.1         3.5     6.4       17.9          9.0          6.6   \n",
       "2  ...      4.2         1.9     3.4       10.2         14.2         11.2   \n",
       "3  ...      3.1         2.8     2.8       12.2         10.9          9.7   \n",
       "4  ...      3.0         1.0     2.5        8.3         11.1         12.3   \n",
       "\n",
       "   OPP_FBPTS  OPP_PAINT_PTS  BLKA  PFD  \n",
       "0       12.6           37.9   1.5  8.0  \n",
       "1        7.9           23.7   1.1  8.4  \n",
       "2       10.3           42.0   1.3  7.7  \n",
       "3       10.7           34.2   0.9  7.3  \n",
       "4        9.8           36.0   1.1  6.1  \n",
       "\n",
       "[5 rows x 80 columns]"
      ]
     },
     "execution_count": 3,
     "metadata": {},
     "output_type": "execute_result"
    }
   ],
   "source": [
    "nba_later.head()"
   ]
  },
  {
   "cell_type": "code",
   "execution_count": 7,
   "metadata": {},
   "outputs": [
    {
     "data": {
      "text/plain": [
       "Index(['Player', 'Age_x', 'W', 'L', 'MP', 'FGM', 'FGA', 'FG%', '3PM', '3PA',\n",
       "       '3P%', 'FTM', 'FTA', 'FT%_x', 'OREB', 'DREB_x', 'REB', 'AST', 'TOV',\n",
       "       'PF', 'FP', 'DD2', 'TD3', '+/-', 'DEF_RTG', 'DREB%', 'T_DREB%_x', 'STL',\n",
       "       'T_STL%_x', 'BLK', 'T_BLK%_x', 'OP_TOV', 'OP_2NDPTS', 'OP_PAINT',\n",
       "       'DEF_WS', 'USG%', 'T_FGM%', 'T_FGA%', 'T_3PM%', 'T_3PA%', 'T_FTM%',\n",
       "       'T_FTA%', 'T_OREB%', 'T_REB%', 'T_AST%', 'T_TOV%', 'T_BLKA%', 'T_PF%',\n",
       "       'T_PFD%', 'T_PTS%', 'FGA_2P%', 'FGA_3P%', '2PT%', '2PT_MR%', '3PT%',\n",
       "       'FBPTS%', 'OFFTOV%', 'PAINTPTS%', 'AST_2FGM%', 'UAST_2FGM%',\n",
       "       'AST_3FGM%', 'UAST_3FGM%', 'FGM_AST%', 'FGM_UAST%', 'PTS_TOV',\n",
       "       '2ND_CH_PTS', 'FB_PTS', 'PAINT_PTS', 'OPP_PTS_TOV', 'OPP_2ND_PTS',\n",
       "       'OPP_FBPTS', 'OPP_PAINT_PTS', 'BLKA', 'PFD'],\n",
       "      dtype='object')"
      ]
     },
     "execution_count": 7,
     "metadata": {},
     "output_type": "execute_result"
    }
   ],
   "source": [
    "nba_later.columns"
   ]
  },
  {
   "cell_type": "code",
   "execution_count": 6,
   "metadata": {},
   "outputs": [],
   "source": [
    "nba_later.drop(columns = ['DREB_y', 'T_STL%_y', 'T_BLK%_y', 'T_DREB%_y', 'Age_y', 'FT%_y'], inplace = True)"
   ]
  },
  {
   "cell_type": "code",
   "execution_count": 9,
   "metadata": {},
   "outputs": [],
   "source": [
    "nba_later.rename(columns = {'Age_x': 'Age', 'FT%_x': 'FT%', 'DREB_x':'DREB', 'T_DREB%_x' : 'T_DREB%',\n",
    "                           'T_STL%_x' : 'T_STL%', 'T_BLK%' : 'T_BLK%'}, inplace = True)"
   ]
  },
  {
   "cell_type": "markdown",
   "metadata": {},
   "source": [
    "# Categories"
   ]
  },
  {
   "cell_type": "code",
   "execution_count": 20,
   "metadata": {},
   "outputs": [],
   "source": [
    "offensive_stats = ['FG%', '3P%', 'OREB', 'TOV', 'DD2',\n",
    "            'TD3', 'T_FGM%', 'T_FGA%', 'T_3PM%', 'T_3PA%', 'T_OREB%',\n",
    "            'T_TOV%', '2ND_CH_PTS', 'FB_PTS', 'FP', 'STL', 'USG%', \n",
    "                'FGM_UAST%',\n",
    "                  'AST'] "
   ]
  },
  {
   "cell_type": "code",
   "execution_count": 27,
   "metadata": {},
   "outputs": [],
   "source": [
    "defensive_stats = ['DREB', 'DEF_RTG', 'DREB%', 'T_DREB%', 'STL', 'T_STL%',\n",
    "            'BLK', 'DEF_WS', 'T_BLKA%',\n",
    "            'BLKA',  'FP']"
   ]
  },
  {
   "cell_type": "code",
   "execution_count": 12,
   "metadata": {},
   "outputs": [],
   "source": [
    "overall_stats = ['REB','AST', 'DD2', 'TD3', 'USG%', 'T_REB%',\n",
    "          'T_AST%', 'PTS_TOV', 'BLK', 'T_BLKA%', 'AST_2FGM%', 'AST_3FGM%', 'STL', 'T_STL%',\n",
    "                'FG%', 'FGA_2P%', 'T_FGA%', 'TOV', 'T_DREB%', 'T_OREB%', 'MP']"
   ]
  },
  {
   "cell_type": "code",
   "execution_count": 13,
   "metadata": {},
   "outputs": [],
   "source": [
    "shooting_stats = ['FGA_2P%', 'FGA_3P%', '2PT%', '2PT_MR%', '3P%',\n",
    "           'FBPTS%', 'OFFTOV%', 'PAINTPTS%', 'AST_2FGM%', 'UAST_2FGM%',\n",
    "           'AST_3FGM%', 'UAST_3FGM%', 'FGM_AST%', 'FGM_UAST%'\n",
    "           ]"
   ]
  },
  {
   "cell_type": "code",
   "execution_count": 14,
   "metadata": {},
   "outputs": [
    {
     "data": {
      "text/plain": [
       "(427, 74)"
      ]
     },
     "execution_count": 14,
     "metadata": {},
     "output_type": "execute_result"
    }
   ],
   "source": [
    "nba_later = nba_later[nba_later['MP'] > 6]\n",
    "nba_later.shape"
   ]
  },
  {
   "cell_type": "markdown",
   "metadata": {},
   "source": [
    "# PCA & KMEANS"
   ]
  },
  {
   "cell_type": "code",
   "execution_count": 21,
   "metadata": {},
   "outputs": [],
   "source": [
    "sc = StandardScaler()\n",
    "pca = PCA(n_components = 6)\n",
    "clusters = KMeans(n_clusters = 3, random_state =248)"
   ]
  },
  {
   "cell_type": "code",
   "execution_count": 22,
   "metadata": {},
   "outputs": [],
   "source": [
    "def nba_stats(category):\n",
    "    X = nba_later[category]\n",
    "    y = nba_later['Player']\n",
    "    #Scale Data\n",
    "    X_sc = sc.fit_transform(X)\n",
    "    pca.fit(X_sc)\n",
    "    #dimensionality reduction\n",
    "    X_pca = pca.transform(X_sc)\n",
    "    print(\"Cumulative Explained Variance:\", pca.explained_variance_ratio_.sum())\n",
    "    #create clusters\n",
    "    clusters.fit(X_pca)\n",
    "    y_kmeans = clusters.predict(X_pca)\n",
    "    print(\"Silhouette Score:\", silhouette_score(X_sc, clusters.labels_))"
   ]
  },
  {
   "cell_type": "markdown",
   "metadata": {},
   "source": [
    "## Offensive"
   ]
  },
  {
   "cell_type": "code",
   "execution_count": 23,
   "metadata": {},
   "outputs": [
    {
     "name": "stdout",
     "output_type": "stream",
     "text": [
      "Cumulative Explained Variance: 0.8598057643491612\n",
      "Silhouette Score: 0.28182522603841853\n"
     ]
    }
   ],
   "source": [
    "nba_stats(offensive_stats)"
   ]
  },
  {
   "cell_type": "markdown",
   "metadata": {},
   "source": [
    "## Defensive"
   ]
  },
  {
   "cell_type": "code",
   "execution_count": 28,
   "metadata": {},
   "outputs": [
    {
     "name": "stdout",
     "output_type": "stream",
     "text": [
      "Cumulative Explained Variance: 0.962632063330381\n",
      "Silhouette Score: 0.24254407862271896\n"
     ]
    }
   ],
   "source": [
    "nba_stats(defensive_stats)"
   ]
  },
  {
   "cell_type": "markdown",
   "metadata": {},
   "source": [
    "## Shooting"
   ]
  },
  {
   "cell_type": "code",
   "execution_count": 29,
   "metadata": {},
   "outputs": [
    {
     "name": "stdout",
     "output_type": "stream",
     "text": [
      "Cumulative Explained Variance: 0.9335493622178543\n",
      "Silhouette Score: 0.28157497817930127\n"
     ]
    }
   ],
   "source": [
    "nba_stats(shooting_stats)"
   ]
  },
  {
   "cell_type": "markdown",
   "metadata": {},
   "source": [
    "## Overall"
   ]
  },
  {
   "cell_type": "code",
   "execution_count": 30,
   "metadata": {
    "scrolled": true
   },
   "outputs": [
    {
     "name": "stdout",
     "output_type": "stream",
     "text": [
      "Cumulative Explained Variance: 0.8144377238696634\n",
      "Silhouette Score: 0.2547030793927546\n"
     ]
    }
   ],
   "source": [
    "nba_stats(overall_stats)"
   ]
  },
  {
   "cell_type": "code",
   "execution_count": 31,
   "metadata": {},
   "outputs": [],
   "source": [
    "nba_later.to_csv('../data/nba_later_eda.csv')"
   ]
  }
 ],
 "metadata": {
  "kernelspec": {
   "display_name": "Python 3",
   "language": "python",
   "name": "python3"
  },
  "language_info": {
   "codemirror_mode": {
    "name": "ipython",
    "version": 3
   },
   "file_extension": ".py",
   "mimetype": "text/x-python",
   "name": "python",
   "nbconvert_exporter": "python",
   "pygments_lexer": "ipython3",
   "version": "3.7.4"
  }
 },
 "nbformat": 4,
 "nbformat_minor": 2
}
