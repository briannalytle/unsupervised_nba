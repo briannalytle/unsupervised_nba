{
 "cells": [
  {
   "cell_type": "code",
   "execution_count": 33,
   "metadata": {},
   "outputs": [],
   "source": [
    "import numpy as np\n",
    "import seaborn as sns\n",
    "import pandas as pd\n",
    "import requests\n",
    "import matplotlib.pyplot as plt\n",
    "from bs4 import BeautifulSoup\n",
    "from selenium import webdriver\n"
   ]
  },
  {
   "cell_type": "markdown",
   "metadata": {},
   "source": [
    "# importing dataframes"
   ]
  },
  {
   "cell_type": "code",
   "execution_count": 7,
   "metadata": {},
   "outputs": [],
   "source": [
    "season1819 = pd.read_csv('season1819.csv')"
   ]
  },
  {
   "cell_type": "code",
   "execution_count": 8,
   "metadata": {},
   "outputs": [],
   "source": [
    "season1819 = season1819.drop_duplicates(subset = 'Player', keep = 'first')\n",
    "season1819 = season1819.drop(['Unnamed: 0', 'Unnamed: 29'], axis = 1)"
   ]
  },
  {
   "cell_type": "code",
   "execution_count": 11,
   "metadata": {},
   "outputs": [
    {
     "data": {
      "text/plain": [
       "'https://www.basketball-reference.com/players/a/acyqu01.html'"
      ]
     },
     "execution_count": 11,
     "metadata": {},
     "output_type": "execute_result"
    }
   ],
   "source": [
    "season1819['url_list'][1]"
   ]
  },
  {
   "cell_type": "markdown",
   "metadata": {},
   "source": [
    "# scraping from front page "
   ]
  },
  {
   "cell_type": "code",
   "execution_count": 2,
   "metadata": {},
   "outputs": [
    {
     "data": {
      "text/plain": [
       "200"
      ]
     },
     "execution_count": 2,
     "metadata": {},
     "output_type": "execute_result"
    }
   ],
   "source": [
    "url = 'https://www.basketball-reference.com/'\n",
    "res = requests.get(url)\n",
    "res.status_code"
   ]
  },
  {
   "cell_type": "code",
   "execution_count": 3,
   "metadata": {},
   "outputs": [],
   "source": [
    "soup = BeautifulSoup(res.content, 'lxml')\n",
    "table = soup.find('table', {'id' : 'confs_standings_W'})"
   ]
  },
  {
   "cell_type": "code",
   "execution_count": 8,
   "metadata": {},
   "outputs": [],
   "source": [
    "findings = table.find_all('tr')[1:]"
   ]
  },
  {
   "cell_type": "code",
   "execution_count": 27,
   "metadata": {},
   "outputs": [
    {
     "data": {
      "text/html": [
       "<div>\n",
       "<style scoped>\n",
       "    .dataframe tbody tr th:only-of-type {\n",
       "        vertical-align: middle;\n",
       "    }\n",
       "\n",
       "    .dataframe tbody tr th {\n",
       "        vertical-align: top;\n",
       "    }\n",
       "\n",
       "    .dataframe thead th {\n",
       "        text-align: right;\n",
       "    }\n",
       "</style>\n",
       "<table border=\"1\" class=\"dataframe\">\n",
       "  <thead>\n",
       "    <tr style=\"text-align: right;\">\n",
       "      <th></th>\n",
       "      <th>slug</th>\n",
       "      <th>link</th>\n",
       "    </tr>\n",
       "  </thead>\n",
       "  <tbody>\n",
       "    <tr>\n",
       "      <td>0</td>\n",
       "      <td>Los Angeles Lakers</td>\n",
       "      <td>/teams/LAL/2020.html</td>\n",
       "    </tr>\n",
       "    <tr>\n",
       "      <td>1</td>\n",
       "      <td>Denver Nuggets</td>\n",
       "      <td>/teams/DEN/2020.html</td>\n",
       "    </tr>\n",
       "    <tr>\n",
       "      <td>2</td>\n",
       "      <td>Houston Rockets</td>\n",
       "      <td>/teams/HOU/2020.html</td>\n",
       "    </tr>\n",
       "    <tr>\n",
       "      <td>3</td>\n",
       "      <td>Los Angeles Clippers</td>\n",
       "      <td>/teams/LAC/2020.html</td>\n",
       "    </tr>\n",
       "    <tr>\n",
       "      <td>4</td>\n",
       "      <td>Utah Jazz</td>\n",
       "      <td>/teams/UTA/2020.html</td>\n",
       "    </tr>\n",
       "    <tr>\n",
       "      <td>5</td>\n",
       "      <td>Dallas Mavericks</td>\n",
       "      <td>/teams/DAL/2020.html</td>\n",
       "    </tr>\n",
       "    <tr>\n",
       "      <td>6</td>\n",
       "      <td>Phoenix Suns</td>\n",
       "      <td>/teams/PHO/2020.html</td>\n",
       "    </tr>\n",
       "    <tr>\n",
       "      <td>7</td>\n",
       "      <td>Minnesota Timberwolves</td>\n",
       "      <td>/teams/MIN/2020.html</td>\n",
       "    </tr>\n",
       "    <tr>\n",
       "      <td>8</td>\n",
       "      <td>Sacramento Kings</td>\n",
       "      <td>/teams/SAC/2020.html</td>\n",
       "    </tr>\n",
       "    <tr>\n",
       "      <td>9</td>\n",
       "      <td>New Orleans Pelicans</td>\n",
       "      <td>/teams/NOP/2020.html</td>\n",
       "    </tr>\n",
       "    <tr>\n",
       "      <td>10</td>\n",
       "      <td>San Antonio Spurs</td>\n",
       "      <td>/teams/SAS/2020.html</td>\n",
       "    </tr>\n",
       "    <tr>\n",
       "      <td>11</td>\n",
       "      <td>Oklahoma City Thunder</td>\n",
       "      <td>/teams/OKC/2020.html</td>\n",
       "    </tr>\n",
       "    <tr>\n",
       "      <td>12</td>\n",
       "      <td>Memphis Grizzlies</td>\n",
       "      <td>/teams/MEM/2020.html</td>\n",
       "    </tr>\n",
       "    <tr>\n",
       "      <td>13</td>\n",
       "      <td>Portland Trail Blazers</td>\n",
       "      <td>/teams/POR/2020.html</td>\n",
       "    </tr>\n",
       "    <tr>\n",
       "      <td>14</td>\n",
       "      <td>Golden State Warriors</td>\n",
       "      <td>/teams/GSW/2020.html</td>\n",
       "    </tr>\n",
       "  </tbody>\n",
       "</table>\n",
       "</div>"
      ],
      "text/plain": [
       "                      slug                  link\n",
       "0       Los Angeles Lakers  /teams/LAL/2020.html\n",
       "1           Denver Nuggets  /teams/DEN/2020.html\n",
       "2          Houston Rockets  /teams/HOU/2020.html\n",
       "3     Los Angeles Clippers  /teams/LAC/2020.html\n",
       "4                Utah Jazz  /teams/UTA/2020.html\n",
       "5         Dallas Mavericks  /teams/DAL/2020.html\n",
       "6             Phoenix Suns  /teams/PHO/2020.html\n",
       "7   Minnesota Timberwolves  /teams/MIN/2020.html\n",
       "8         Sacramento Kings  /teams/SAC/2020.html\n",
       "9     New Orleans Pelicans  /teams/NOP/2020.html\n",
       "10       San Antonio Spurs  /teams/SAS/2020.html\n",
       "11   Oklahoma City Thunder  /teams/OKC/2020.html\n",
       "12       Memphis Grizzlies  /teams/MEM/2020.html\n",
       "13  Portland Trail Blazers  /teams/POR/2020.html\n",
       "14   Golden State Warriors  /teams/GSW/2020.html"
      ]
     },
     "execution_count": 27,
     "metadata": {},
     "output_type": "execute_result"
    }
   ],
   "source": [
    "teams = []\n",
    "for row in table.find_all('tr')[1:]:\n",
    "    team = {}\n",
    "    team['slug'] = row.find('a').attrs['title']\n",
    "    team['link'] = row.find('a').attrs['href']\n",
    "    \n",
    "    teams.append(team)\n",
    "    \n",
    "pd.DataFrame(teams)"
   ]
  },
  {
   "cell_type": "markdown",
   "metadata": {},
   "source": [
    "## find salary table on team page"
   ]
  },
  {
   "cell_type": "code",
   "execution_count": 28,
   "metadata": {},
   "outputs": [
    {
     "data": {
      "text/plain": [
       "200"
      ]
     },
     "execution_count": 28,
     "metadata": {},
     "output_type": "execute_result"
    }
   ],
   "source": [
    "url = 'https://www.basketball-reference.com//teams/LAL/2020.html'\n",
    "res = requests.get(url)\n",
    "res.status_code"
   ]
  },
  {
   "cell_type": "code",
   "execution_count": 31,
   "metadata": {},
   "outputs": [],
   "source": [
    "soup = BeautifulSoup(res.content, 'lxml')\n",
    "table = soup('div', {'id' : 'div_salaries2'})"
   ]
  },
  {
   "cell_type": "code",
   "execution_count": 32,
   "metadata": {
    "scrolled": true
   },
   "outputs": [
    {
     "data": {
      "text/plain": [
       "[]"
      ]
     },
     "execution_count": 32,
     "metadata": {},
     "output_type": "execute_result"
    }
   ],
   "source": [
    "table"
   ]
  },
  {
   "cell_type": "markdown",
   "metadata": {},
   "source": [
    "### Scraping salary using selenium"
   ]
  },
  {
   "cell_type": "code",
   "execution_count": 34,
   "metadata": {},
   "outputs": [],
   "source": [
    "driver = webdriver.Chrome(executable_path=\"./chromedriver/windows/chromedriver.exe\")\n",
    "url = 'https://www.basketball-reference.com//teams/LAL/2020.html'\n",
    "driver.get(url)\n",
    "html = driver.page_source\n",
    "html = BeautifulSoup(html, 'lxml')"
   ]
  },
  {
   "cell_type": "code",
   "execution_count": 35,
   "metadata": {},
   "outputs": [],
   "source": [
    "ad_table = html.find('table', {'id' : 'salaries2' })"
   ]
  },
  {
   "cell_type": "code",
   "execution_count": 42,
   "metadata": {},
   "outputs": [],
   "source": [
    "chart = ad_table.find('tbody')\n",
    "players = chart.find_all('tr')"
   ]
  },
  {
   "cell_type": "code",
   "execution_count": 53,
   "metadata": {},
   "outputs": [],
   "source": [
    "play = []\n",
    "for stat in players:\n",
    "    number = [row.text for row in stat.find_all('td')]\n",
    "    play.append(number)"
   ]
  },
  {
   "cell_type": "code",
   "execution_count": 55,
   "metadata": {},
   "outputs": [
    {
     "data": {
      "text/html": [
       "<div>\n",
       "<style scoped>\n",
       "    .dataframe tbody tr th:only-of-type {\n",
       "        vertical-align: middle;\n",
       "    }\n",
       "\n",
       "    .dataframe tbody tr th {\n",
       "        vertical-align: top;\n",
       "    }\n",
       "\n",
       "    .dataframe thead th {\n",
       "        text-align: right;\n",
       "    }\n",
       "</style>\n",
       "<table border=\"1\" class=\"dataframe\">\n",
       "  <thead>\n",
       "    <tr style=\"text-align: right;\">\n",
       "      <th></th>\n",
       "      <th>0</th>\n",
       "      <th>1</th>\n",
       "    </tr>\n",
       "  </thead>\n",
       "  <tbody>\n",
       "    <tr>\n",
       "      <td>0</td>\n",
       "      <td>LeBron James</td>\n",
       "      <td>$37,436,858</td>\n",
       "    </tr>\n",
       "    <tr>\n",
       "      <td>1</td>\n",
       "      <td>Anthony Davis</td>\n",
       "      <td>$27,093,019</td>\n",
       "    </tr>\n",
       "    <tr>\n",
       "      <td>2</td>\n",
       "      <td>Danny Green</td>\n",
       "      <td>$14,634,146</td>\n",
       "    </tr>\n",
       "    <tr>\n",
       "      <td>3</td>\n",
       "      <td>Kentavious Caldwell-Pope</td>\n",
       "      <td>$8,089,282</td>\n",
       "    </tr>\n",
       "    <tr>\n",
       "      <td>4</td>\n",
       "      <td>Luol Deng</td>\n",
       "      <td>$4,990,000</td>\n",
       "    </tr>\n",
       "    <tr>\n",
       "      <td>5</td>\n",
       "      <td>Avery Bradley</td>\n",
       "      <td>$4,767,000</td>\n",
       "    </tr>\n",
       "    <tr>\n",
       "      <td>6</td>\n",
       "      <td>JaVale McGee</td>\n",
       "      <td>$4,000,000</td>\n",
       "    </tr>\n",
       "    <tr>\n",
       "      <td>7</td>\n",
       "      <td>DeMarcus Cousins</td>\n",
       "      <td>$3,500,000</td>\n",
       "    </tr>\n",
       "    <tr>\n",
       "      <td>8</td>\n",
       "      <td>Quinn Cook</td>\n",
       "      <td>$3,000,000</td>\n",
       "    </tr>\n",
       "    <tr>\n",
       "      <td>9</td>\n",
       "      <td>Alex Caruso</td>\n",
       "      <td>$2,750,000</td>\n",
       "    </tr>\n",
       "    <tr>\n",
       "      <td>10</td>\n",
       "      <td>Jared Dudley</td>\n",
       "      <td>$2,564,753</td>\n",
       "    </tr>\n",
       "    <tr>\n",
       "      <td>11</td>\n",
       "      <td>Rajon Rondo</td>\n",
       "      <td>$2,564,753</td>\n",
       "    </tr>\n",
       "    <tr>\n",
       "      <td>12</td>\n",
       "      <td>Dwight Howard</td>\n",
       "      <td>$2,564,753</td>\n",
       "    </tr>\n",
       "    <tr>\n",
       "      <td>13</td>\n",
       "      <td>Troy Daniels</td>\n",
       "      <td>$2,028,594</td>\n",
       "    </tr>\n",
       "    <tr>\n",
       "      <td>14</td>\n",
       "      <td>Kyle Kuzma</td>\n",
       "      <td>$1,974,600</td>\n",
       "    </tr>\n",
       "    <tr>\n",
       "      <td>15</td>\n",
       "      <td>Talen Horton-Tucker</td>\n",
       "      <td>$898,310</td>\n",
       "    </tr>\n",
       "  </tbody>\n",
       "</table>\n",
       "</div>"
      ],
      "text/plain": [
       "                           0            1\n",
       "0               LeBron James  $37,436,858\n",
       "1              Anthony Davis  $27,093,019\n",
       "2                Danny Green  $14,634,146\n",
       "3   Kentavious Caldwell-Pope   $8,089,282\n",
       "4                  Luol Deng   $4,990,000\n",
       "5              Avery Bradley   $4,767,000\n",
       "6               JaVale McGee   $4,000,000\n",
       "7           DeMarcus Cousins   $3,500,000\n",
       "8                 Quinn Cook   $3,000,000\n",
       "9                Alex Caruso   $2,750,000\n",
       "10              Jared Dudley   $2,564,753\n",
       "11               Rajon Rondo   $2,564,753\n",
       "12             Dwight Howard   $2,564,753\n",
       "13              Troy Daniels   $2,028,594\n",
       "14                Kyle Kuzma   $1,974,600\n",
       "15       Talen Horton-Tucker     $898,310"
      ]
     },
     "execution_count": 55,
     "metadata": {},
     "output_type": "execute_result"
    }
   ],
   "source": [
    "pd.DataFrame(play)"
   ]
  },
  {
   "cell_type": "code",
   "execution_count": 45,
   "metadata": {
    "scrolled": false
   },
   "outputs": [
    {
     "name": "stdout",
     "output_type": "stream",
     "text": [
      "<tr data-row=\"0\"><th class=\"center\" csk=\"1\" data-stat=\"ranker\" scope=\"row\">1</th><td class=\"left\" data-append-csv=\"jamesle01\" data-stat=\"player\"><a href=\"/players/j/jamesle01.html\">LeBron James</a></td><td class=\"right\" csk=\"37436858\" data-stat=\"salary\">$37,436,858</td></tr>\n",
      "<tr data-row=\"1\"><th class=\"center\" csk=\"2\" data-stat=\"ranker\" scope=\"row\">2</th><td class=\"left\" data-append-csv=\"davisan02\" data-stat=\"player\"><a href=\"/players/d/davisan02.html\">Anthony Davis</a></td><td class=\"right\" csk=\"27093019\" data-stat=\"salary\">$27,093,019</td></tr>\n",
      "<tr data-row=\"2\"><th class=\"center\" csk=\"3\" data-stat=\"ranker\" scope=\"row\">3</th><td class=\"left\" data-append-csv=\"greenda02\" data-stat=\"player\"><a href=\"/players/g/greenda02.html\">Danny Green</a></td><td class=\"right\" csk=\"14634146\" data-stat=\"salary\">$14,634,146</td></tr>\n",
      "<tr data-row=\"3\"><th class=\"center\" csk=\"4\" data-stat=\"ranker\" scope=\"row\">4</th><td class=\"left\" data-append-csv=\"caldwke01\" data-stat=\"player\"><a href=\"/players/c/caldwke01.html\">Kentavious Caldwell-Pope</a></td><td class=\"right\" csk=\"8089282\" data-stat=\"salary\">$8,089,282</td></tr>\n",
      "<tr data-row=\"4\"><th class=\"center\" csk=\"5\" data-stat=\"ranker\" scope=\"row\">5</th><td class=\"left\" data-append-csv=\"denglu01\" data-stat=\"player\"><a href=\"/players/d/denglu01.html\">Luol Deng</a></td><td class=\"right\" csk=\"4990000\" data-stat=\"salary\">$4,990,000</td></tr>\n",
      "<tr data-row=\"5\"><th class=\"center\" csk=\"6\" data-stat=\"ranker\" scope=\"row\">6</th><td class=\"left\" data-append-csv=\"bradlav01\" data-stat=\"player\"><a href=\"/players/b/bradlav01.html\">Avery Bradley</a></td><td class=\"right\" csk=\"4767000\" data-stat=\"salary\">$4,767,000</td></tr>\n",
      "<tr data-row=\"6\"><th class=\"center\" csk=\"7\" data-stat=\"ranker\" scope=\"row\">7</th><td class=\"left\" data-append-csv=\"mcgeeja01\" data-stat=\"player\"><a href=\"/players/m/mcgeeja01.html\">JaVale McGee</a></td><td class=\"right\" csk=\"4000000\" data-stat=\"salary\">$4,000,000</td></tr>\n",
      "<tr data-row=\"7\"><th class=\"center\" csk=\"8\" data-stat=\"ranker\" scope=\"row\">8</th><td class=\"left\" data-append-csv=\"couside01\" data-stat=\"player\"><a href=\"/players/c/couside01.html\">DeMarcus Cousins</a></td><td class=\"right\" csk=\"3500000\" data-stat=\"salary\">$3,500,000</td></tr>\n",
      "<tr data-row=\"8\"><th class=\"center\" csk=\"9\" data-stat=\"ranker\" scope=\"row\">9</th><td class=\"left\" data-append-csv=\"cookqu01\" data-stat=\"player\"><a href=\"/players/c/cookqu01.html\">Quinn Cook</a></td><td class=\"right\" csk=\"3000000\" data-stat=\"salary\">$3,000,000</td></tr>\n",
      "<tr data-row=\"9\"><th class=\"center\" csk=\"10\" data-stat=\"ranker\" scope=\"row\">10</th><td class=\"left\" data-append-csv=\"carusal01\" data-stat=\"player\"><a href=\"/players/c/carusal01.html\">Alex Caruso</a></td><td class=\"right\" csk=\"2750000\" data-stat=\"salary\">$2,750,000</td></tr>\n",
      "<tr data-row=\"10\"><th class=\"center\" csk=\"11\" data-stat=\"ranker\" scope=\"row\">11</th><td class=\"left\" data-append-csv=\"dudleja01\" data-stat=\"player\"><a href=\"/players/d/dudleja01.html\">Jared Dudley</a></td><td class=\"right\" csk=\"2564753\" data-stat=\"salary\">$2,564,753</td></tr>\n",
      "<tr data-row=\"11\"><th class=\"center\" csk=\"12\" data-stat=\"ranker\" scope=\"row\">12</th><td class=\"left\" data-append-csv=\"rondora01\" data-stat=\"player\"><a href=\"/players/r/rondora01.html\">Rajon Rondo</a></td><td class=\"right\" csk=\"2564753\" data-stat=\"salary\">$2,564,753</td></tr>\n",
      "<tr data-row=\"12\"><th class=\"center\" csk=\"13\" data-stat=\"ranker\" scope=\"row\">13</th><td class=\"left\" data-append-csv=\"howardw01\" data-stat=\"player\"><a href=\"/players/h/howardw01.html\">Dwight Howard</a></td><td class=\"right\" csk=\"2564753\" data-stat=\"salary\">$2,564,753</td></tr>\n",
      "<tr data-row=\"13\"><th class=\"center\" csk=\"14\" data-stat=\"ranker\" scope=\"row\">14</th><td class=\"left\" data-append-csv=\"danietr01\" data-stat=\"player\"><a href=\"/players/d/danietr01.html\">Troy Daniels</a></td><td class=\"right\" csk=\"2028594\" data-stat=\"salary\">$2,028,594</td></tr>\n",
      "<tr data-row=\"14\"><th class=\"center\" csk=\"15\" data-stat=\"ranker\" scope=\"row\">15</th><td class=\"left\" data-append-csv=\"kuzmaky01\" data-stat=\"player\"><a href=\"/players/k/kuzmaky01.html\">Kyle Kuzma</a></td><td class=\"right\" csk=\"1974600\" data-stat=\"salary\">$1,974,600</td></tr>\n",
      "<tr data-row=\"15\"><th class=\"center\" csk=\"16\" data-stat=\"ranker\" scope=\"row\">16</th><td class=\"left\" data-append-csv=\"hortota01\" data-stat=\"player\"><a href=\"/players/h/hortota01.html\">Talen Horton-Tucker</a></td><td class=\"right\" csk=\"898310\" data-stat=\"salary\">$898,310</td></tr>\n"
     ]
    }
   ],
   "source": [
    "for stat in players:\n",
    "    print(stat)"
   ]
  },
  {
   "cell_type": "markdown",
   "metadata": {},
   "source": [
    "# practicing scraping url list"
   ]
  },
  {
   "cell_type": "code",
   "execution_count": 22,
   "metadata": {},
   "outputs": [
    {
     "data": {
      "text/plain": [
       "200"
      ]
     },
     "execution_count": 22,
     "metadata": {},
     "output_type": "execute_result"
    }
   ],
   "source": [
    "url = 'https://www.basketball-reference.com/players/a/acyqu01.html'\n",
    "res = requests.get(url)\n",
    "res.status_code"
   ]
  },
  {
   "cell_type": "code",
   "execution_count": 23,
   "metadata": {},
   "outputs": [],
   "source": [
    "soup = BeautifulSoup(res.content, 'lxml')"
   ]
  },
  {
   "cell_type": "code",
   "execution_count": 26,
   "metadata": {},
   "outputs": [],
   "source": [
    "looking = soup.find('div', {'class': 'overthrow table_container'})"
   ]
  },
  {
   "cell_type": "code",
   "execution_count": 41,
   "metadata": {},
   "outputs": [],
   "source": [
    "table = soup.find('table', {'id' : 'all_salaries'})"
   ]
  },
  {
   "cell_type": "code",
   "execution_count": 42,
   "metadata": {},
   "outputs": [],
   "source": [
    "table"
   ]
  },
  {
   "cell_type": "code",
   "execution_count": null,
   "metadata": {},
   "outputs": [],
   "source": []
  }
 ],
 "metadata": {
  "kernelspec": {
   "display_name": "Python 3",
   "language": "python",
   "name": "python3"
  },
  "language_info": {
   "codemirror_mode": {
    "name": "ipython",
    "version": 3
   },
   "file_extension": ".py",
   "mimetype": "text/x-python",
   "name": "python",
   "nbconvert_exporter": "python",
   "pygments_lexer": "ipython3",
   "version": "3.7.4"
  }
 },
 "nbformat": 4,
 "nbformat_minor": 2
}
