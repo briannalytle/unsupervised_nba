{
 "cells": [
  {
   "cell_type": "code",
   "execution_count": 15,
   "metadata": {},
   "outputs": [],
   "source": [
    "import numpy as np\n",
    "import pandas as pd\n",
    "import seaborn as sns\n",
    "import matplotlib.pyplot as plt\n",
    "\n",
    "from scipy import sparse\n",
    "from sklearn.metrics.pairwise import pairwise_distances\n",
    "\n",
    "from sklearn.model_selection import train_test_split\n",
    "from sklearn.linear_model import LinearRegression\n",
    "from sklearn.metrics import r2_score, silhouette_score\n",
    "from sklearn.decomposition import PCA\n",
    "from sklearn.cluster import KMeans\n",
    "from sklearn.metrics.pairwise import pairwise_distances\n",
    "from sklearn.preprocessing import PolynomialFeatures, StandardScaler"
   ]
  },
  {
   "cell_type": "markdown",
   "metadata": {},
   "source": [
    "## Basketball Reference Dataframes"
   ]
  },
  {
   "cell_type": "code",
   "execution_count": 2,
   "metadata": {},
   "outputs": [],
   "source": [
    "poss = pd.read_csv('data/season1819.csv')\n",
    "ad_1819 = pd.read_csv('data/ad_1819.csv')"
   ]
  },
  {
   "cell_type": "code",
   "execution_count": 3,
   "metadata": {
    "scrolled": true
   },
   "outputs": [],
   "source": [
    "poss = poss.drop_duplicates(subset = 'Player', keep = 'first')\n",
    "ad_1819 = ad_1819.drop_duplicates(subset = 'Player', keep = 'first')"
   ]
  },
  {
   "cell_type": "code",
   "execution_count": 4,
   "metadata": {},
   "outputs": [],
   "source": [
    "poss = poss.drop(['Unnamed: 0', 'Unnamed: 29'], axis = 1)\n",
    "ad_1819 = ad_1819.drop(['Unnamed: 0', 'Pos', 'Age', 'Tm', 'G',\n",
    "                       'MP'], axis = 1)"
   ]
  },
  {
   "cell_type": "code",
   "execution_count": 5,
   "metadata": {},
   "outputs": [],
   "source": [
    "season = pd.merge(poss, ad_1819, on = 'Player')"
   ]
  },
  {
   "cell_type": "code",
   "execution_count": 6,
   "metadata": {},
   "outputs": [
    {
     "data": {
      "text/plain": [
       "Index(['Player', 'Pos', 'Age', 'Tm', 'G', 'GS', 'MP', 'FG', 'FGA', 'FG%', '3P',\n",
       "       '3PA', '3P%', '2P', '2PA', '2P%', 'FT', 'FTA', 'FT%', 'ORB', 'DRB',\n",
       "       'TRB', 'AST', 'STL', 'BLK', 'TOV', 'PF', 'PTS', 'ORtg', 'DRtg',\n",
       "       'url_list', 'PER', 'TS%', '3PAr', 'FTr', 'ORB%', 'DRB%', 'TRB%', 'AST%',\n",
       "       'STL%', 'BLK%', 'TOV%', 'USG%', ' ', 'OWS', 'DWS', 'WS', 'WS/48', ' .1',\n",
       "       'OBPM', 'DBPM', 'BPM', 'VORP'],\n",
       "      dtype='object')"
      ]
     },
     "execution_count": 6,
     "metadata": {},
     "output_type": "execute_result"
    }
   ],
   "source": [
    "season.columns"
   ]
  },
  {
   "cell_type": "code",
   "execution_count": 7,
   "metadata": {},
   "outputs": [],
   "source": [
    "season = season.fillna(0)"
   ]
  },
  {
   "cell_type": "markdown",
   "metadata": {},
   "source": [
    "## Unsupervised Learning - Kmeans + PCA"
   ]
  },
  {
   "cell_type": "code",
   "execution_count": 83,
   "metadata": {
    "scrolled": true
   },
   "outputs": [
    {
     "data": {
      "text/plain": [
       "Index(['Player', 'Pos', 'Age', 'Tm', 'G', 'GS', 'MP', 'FG', 'FGA', 'FG%', '3P',\n",
       "       '3PA', '3P%', '2P', '2PA', '2P%', 'FT', 'FTA', 'FT%', 'ORB', 'DRB',\n",
       "       'TRB', 'AST', 'STL', 'BLK', 'TOV', 'PF', 'PTS', 'ORtg', 'DRtg',\n",
       "       'url_list', 'PER', 'TS%', '3PAr', 'FTr', 'ORB%', 'DRB%', 'TRB%', 'AST%',\n",
       "       'STL%', 'BLK%', 'TOV%', 'USG%', ' ', 'OWS', 'DWS', 'WS', 'WS/48', ' .1',\n",
       "       'OBPM', 'DBPM', 'BPM', 'VORP', 'cluster'],\n",
       "      dtype='object')"
      ]
     },
     "execution_count": 83,
     "metadata": {},
     "output_type": "execute_result"
    }
   ],
   "source": [
    "season.columns"
   ]
  },
  {
   "cell_type": "code",
   "execution_count": 84,
   "metadata": {},
   "outputs": [],
   "source": [
    "X = season.drop(['Player', 'Pos', 'Tm', 'MP', 'FG',\n",
    "                'FG%', 'FGA', '3P%', '3PA', '2P', '2P%', 'FT', 'FTA',\n",
    "                'TRB', 'STL', 'BLK', 'PTS', 'PF',\n",
    "                'url_list', 'PER', 'TS%', 'OWS', 'DWS', 'WS/48', 'BLK%',\n",
    "                'TOV%', 'FTr', '3PAr'], axis = 1)\n",
    "y = season['Player']"
   ]
  },
  {
   "cell_type": "code",
   "execution_count": 85,
   "metadata": {},
   "outputs": [],
   "source": [
    "#scale data\n",
    "sc = StandardScaler()\n",
    "X_sc = sc.fit_transform(X)"
   ]
  },
  {
   "cell_type": "code",
   "execution_count": 86,
   "metadata": {},
   "outputs": [],
   "source": [
    "#dimensionality reduction\n",
    "pca = PCA(n_components = 2)\n",
    "pca.fit(X_sc)\n",
    "X_pca = pca.transform(X_sc)"
   ]
  },
  {
   "cell_type": "code",
   "execution_count": 87,
   "metadata": {},
   "outputs": [
    {
     "data": {
      "text/plain": [
       "0.0924809560867558"
      ]
     },
     "execution_count": 87,
     "metadata": {},
     "output_type": "execute_result"
    }
   ],
   "source": [
    "#creating clusters\n",
    "km = KMeans(n_clusters = 10, random_state= 248)\n",
    "km.fit(X_pca)\n",
    "y_kmeans = km.predict(X_pca)\n",
    "silhouette_score(X_sc, km.labels_)"
   ]
  },
  {
   "cell_type": "code",
   "execution_count": 88,
   "metadata": {},
   "outputs": [],
   "source": [
    "#creating columns from KM labels\n",
    "season['cluster'] = km.labels_"
   ]
  },
  {
   "cell_type": "code",
   "execution_count": 89,
   "metadata": {},
   "outputs": [
    {
     "data": {
      "text/plain": [
       "1    0.209040\n",
       "5    0.188324\n",
       "2    0.173258\n",
       "4    0.129944\n",
       "9    0.094162\n",
       "7    0.084746\n",
       "8    0.045198\n",
       "6    0.043315\n",
       "3    0.026365\n",
       "0    0.005650\n",
       "Name: cluster, dtype: float64"
      ]
     },
     "execution_count": 89,
     "metadata": {},
     "output_type": "execute_result"
    }
   ],
   "source": [
    "season['cluster'].value_counts(normalize = True)"
   ]
  },
  {
   "cell_type": "markdown",
   "metadata": {},
   "source": [
    "# 538 Dataframe - KMeans + PCA"
   ]
  },
  {
   "cell_type": "code",
   "execution_count": 24,
   "metadata": {},
   "outputs": [],
   "source": [
    "scrape538 = pd.read_csv('data/scrape538.csv') \n",
    "scrape538 = scrape538.drop(['Unnamed: 0'], axis = 1)"
   ]
  },
  {
   "cell_type": "code",
   "execution_count": 25,
   "metadata": {},
   "outputs": [
    {
     "data": {
      "text/plain": [
       "(447, 14)"
      ]
     },
     "execution_count": 25,
     "metadata": {},
     "output_type": "execute_result"
    }
   ],
   "source": [
    "scrape538.shape"
   ]
  },
  {
   "cell_type": "code",
   "execution_count": 26,
   "metadata": {},
   "outputs": [
    {
     "data": {
      "text/plain": [
       "Index(['Player', 'Team', 'Position(s)', 'Minutes', 'BSR Off.', 'BSR Def.',\n",
       "       'BSR Total', 'OOR Off.', 'OOR Def.', 'OOR Total', 'OVR Off.',\n",
       "       'OVR Def.', 'OVR total', 'WAR'],\n",
       "      dtype='object')"
      ]
     },
     "execution_count": 26,
     "metadata": {},
     "output_type": "execute_result"
    }
   ],
   "source": [
    "scrape538.columns"
   ]
  },
  {
   "cell_type": "code",
   "execution_count": 77,
   "metadata": {},
   "outputs": [],
   "source": [
    "X = scrape538.drop(['Player', 'Team', 'Position(s)'], axis = 1)\n",
    "y = scrape538['Player']"
   ]
  },
  {
   "cell_type": "code",
   "execution_count": 78,
   "metadata": {},
   "outputs": [],
   "source": [
    "# scale data\n",
    "sc = StandardScaler()\n",
    "X_sc = sc.fit_transform(X)"
   ]
  },
  {
   "cell_type": "code",
   "execution_count": 79,
   "metadata": {},
   "outputs": [],
   "source": [
    "#dimensionality reduction\n",
    "pca = PCA(n_components = 3)\n",
    "pca.fit(X_sc)\n",
    "X_pca = pca.transform(X_sc)"
   ]
  },
  {
   "cell_type": "code",
   "execution_count": 80,
   "metadata": {
    "scrolled": true
   },
   "outputs": [
    {
     "data": {
      "text/plain": [
       "0.1628076682082633"
      ]
     },
     "execution_count": 80,
     "metadata": {},
     "output_type": "execute_result"
    }
   ],
   "source": [
    "#creating clusters\n",
    "km = KMeans(n_clusters = 10, random_state = 248)\n",
    "km.fit(X_pca)\n",
    "y_kmeans = km.predict(X_pca)\n",
    "silhouette_score(X_sc, km.labels_)"
   ]
  },
  {
   "cell_type": "code",
   "execution_count": 81,
   "metadata": {},
   "outputs": [],
   "source": [
    "#creating columns for km labels\n",
    "scrape538['cluster'] = km.labels_"
   ]
  },
  {
   "cell_type": "code",
   "execution_count": 82,
   "metadata": {
    "scrolled": true
   },
   "outputs": [
    {
     "data": {
      "text/plain": [
       "8    0.290828\n",
       "0    0.196868\n",
       "1    0.187919\n",
       "4    0.129754\n",
       "3    0.067114\n",
       "7    0.055928\n",
       "5    0.040268\n",
       "6    0.020134\n",
       "9    0.006711\n",
       "2    0.004474\n",
       "Name: cluster, dtype: float64"
      ]
     },
     "execution_count": 82,
     "metadata": {},
     "output_type": "execute_result"
    }
   ],
   "source": [
    "scrape538['cluster'].value_counts(normalize = True)"
   ]
  },
  {
   "cell_type": "markdown",
   "metadata": {},
   "source": [
    "# Rec System"
   ]
  },
  {
   "cell_type": "code",
   "execution_count": 8,
   "metadata": {},
   "outputs": [
    {
     "data": {
      "text/plain": [
       "(369, 53)"
      ]
     },
     "execution_count": 8,
     "metadata": {},
     "output_type": "execute_result"
    }
   ],
   "source": [
    "season.shape"
   ]
  },
  {
   "cell_type": "code",
   "execution_count": 11,
   "metadata": {},
   "outputs": [],
   "source": [
    "df= season.drop(columns = ['Pos', 'Age', 'Tm', 'G', 'MP'],\n",
    "               axis = 1)\n",
    "df.dropna(inplace = True)"
   ]
  },
  {
   "cell_type": "code",
   "execution_count": 22,
   "metadata": {},
   "outputs": [
    {
     "data": {
      "text/html": [
       "<div>\n",
       "<style scoped>\n",
       "    .dataframe tbody tr th:only-of-type {\n",
       "        vertical-align: middle;\n",
       "    }\n",
       "\n",
       "    .dataframe tbody tr th {\n",
       "        vertical-align: top;\n",
       "    }\n",
       "\n",
       "    .dataframe thead th {\n",
       "        text-align: right;\n",
       "    }\n",
       "</style>\n",
       "<table border=\"1\" class=\"dataframe\">\n",
       "  <thead>\n",
       "    <tr style=\"text-align: right;\">\n",
       "      <th></th>\n",
       "      <th>2P</th>\n",
       "      <th>2P%</th>\n",
       "      <th>2PA</th>\n",
       "      <th>3P</th>\n",
       "      <th>3P%</th>\n",
       "      <th>3PA</th>\n",
       "      <th>3PAr</th>\n",
       "      <th>AST</th>\n",
       "      <th>AST%</th>\n",
       "      <th>BLK</th>\n",
       "      <th>...</th>\n",
       "      <th>TOV%</th>\n",
       "      <th>TRB</th>\n",
       "      <th>TRB%</th>\n",
       "      <th>TS%</th>\n",
       "      <th>USG%</th>\n",
       "      <th>VORP</th>\n",
       "      <th>WS</th>\n",
       "      <th>WS/48</th>\n",
       "      <th></th>\n",
       "      <th>.1</th>\n",
       "    </tr>\n",
       "    <tr>\n",
       "      <th>Player</th>\n",
       "      <th></th>\n",
       "      <th></th>\n",
       "      <th></th>\n",
       "      <th></th>\n",
       "      <th></th>\n",
       "      <th></th>\n",
       "      <th></th>\n",
       "      <th></th>\n",
       "      <th></th>\n",
       "      <th></th>\n",
       "      <th></th>\n",
       "      <th></th>\n",
       "      <th></th>\n",
       "      <th></th>\n",
       "      <th></th>\n",
       "      <th></th>\n",
       "      <th></th>\n",
       "      <th></th>\n",
       "      <th></th>\n",
       "      <th></th>\n",
       "      <th></th>\n",
       "    </tr>\n",
       "  </thead>\n",
       "  <tbody>\n",
       "    <tr>\n",
       "      <td>Aaron Gordon</td>\n",
       "      <td>6.0</td>\n",
       "      <td>0.491</td>\n",
       "      <td>12.2</td>\n",
       "      <td>1.7</td>\n",
       "      <td>0.283</td>\n",
       "      <td>6.1</td>\n",
       "      <td>0.332</td>\n",
       "      <td>4.6</td>\n",
       "      <td>16.6</td>\n",
       "      <td>0.8</td>\n",
       "      <td>...</td>\n",
       "      <td>12.3</td>\n",
       "      <td>10.0</td>\n",
       "      <td>11.7</td>\n",
       "      <td>0.538</td>\n",
       "      <td>21.8</td>\n",
       "      <td>2.0</td>\n",
       "      <td>5.1</td>\n",
       "      <td>0.093</td>\n",
       "      <td>0.0</td>\n",
       "      <td>0.0</td>\n",
       "    </tr>\n",
       "    <tr>\n",
       "      <td>Aaron Holiday</td>\n",
       "      <td>4.6</td>\n",
       "      <td>0.387</td>\n",
       "      <td>11.9</td>\n",
       "      <td>3.3</td>\n",
       "      <td>0.412</td>\n",
       "      <td>8.1</td>\n",
       "      <td>0.485</td>\n",
       "      <td>8.1</td>\n",
       "      <td>19.3</td>\n",
       "      <td>0.2</td>\n",
       "      <td>...</td>\n",
       "      <td>12.3</td>\n",
       "      <td>6.2</td>\n",
       "      <td>5.8</td>\n",
       "      <td>0.518</td>\n",
       "      <td>21.9</td>\n",
       "      <td>-0.1</td>\n",
       "      <td>0.9</td>\n",
       "      <td>0.065</td>\n",
       "      <td>0.0</td>\n",
       "      <td>0.0</td>\n",
       "    </tr>\n",
       "    <tr>\n",
       "      <td>Abdel Nader</td>\n",
       "      <td>2.8</td>\n",
       "      <td>0.429</td>\n",
       "      <td>6.5</td>\n",
       "      <td>2.3</td>\n",
       "      <td>0.313</td>\n",
       "      <td>7.5</td>\n",
       "      <td>0.465</td>\n",
       "      <td>1.4</td>\n",
       "      <td>3.8</td>\n",
       "      <td>1.4</td>\n",
       "      <td>...</td>\n",
       "      <td>10.1</td>\n",
       "      <td>7.0</td>\n",
       "      <td>8.6</td>\n",
       "      <td>0.522</td>\n",
       "      <td>15.1</td>\n",
       "      <td>-0.5</td>\n",
       "      <td>0.9</td>\n",
       "      <td>0.062</td>\n",
       "      <td>0.0</td>\n",
       "      <td>0.0</td>\n",
       "    </tr>\n",
       "    <tr>\n",
       "      <td>Al Horford</td>\n",
       "      <td>7.1</td>\n",
       "      <td>0.523</td>\n",
       "      <td>13.5</td>\n",
       "      <td>2.2</td>\n",
       "      <td>0.328</td>\n",
       "      <td>6.6</td>\n",
       "      <td>0.281</td>\n",
       "      <td>6.3</td>\n",
       "      <td>21.2</td>\n",
       "      <td>1.3</td>\n",
       "      <td>...</td>\n",
       "      <td>11.8</td>\n",
       "      <td>10.9</td>\n",
       "      <td>12.4</td>\n",
       "      <td>0.605</td>\n",
       "      <td>18.9</td>\n",
       "      <td>3.4</td>\n",
       "      <td>7.5</td>\n",
       "      <td>0.181</td>\n",
       "      <td>0.0</td>\n",
       "      <td>0.0</td>\n",
       "    </tr>\n",
       "    <tr>\n",
       "      <td>Al-Farouq Aminu</td>\n",
       "      <td>2.1</td>\n",
       "      <td>0.333</td>\n",
       "      <td>6.4</td>\n",
       "      <td>1.2</td>\n",
       "      <td>0.286</td>\n",
       "      <td>4.3</td>\n",
       "      <td>0.472</td>\n",
       "      <td>2.6</td>\n",
       "      <td>6.0</td>\n",
       "      <td>1.1</td>\n",
       "      <td>...</td>\n",
       "      <td>9.7</td>\n",
       "      <td>12.1</td>\n",
       "      <td>14.2</td>\n",
       "      <td>0.568</td>\n",
       "      <td>13.7</td>\n",
       "      <td>1.7</td>\n",
       "      <td>5.8</td>\n",
       "      <td>0.121</td>\n",
       "      <td>0.0</td>\n",
       "      <td>0.0</td>\n",
       "    </tr>\n",
       "  </tbody>\n",
       "</table>\n",
       "<p>5 rows × 46 columns</p>\n",
       "</div>"
      ],
      "text/plain": [
       "                  2P    2P%   2PA   3P    3P%  3PA   3PAr  AST  AST%  BLK  \\\n",
       "Player                                                                      \n",
       "Aaron Gordon     6.0  0.491  12.2  1.7  0.283  6.1  0.332  4.6  16.6  0.8   \n",
       "Aaron Holiday    4.6  0.387  11.9  3.3  0.412  8.1  0.485  8.1  19.3  0.2   \n",
       "Abdel Nader      2.8  0.429   6.5  2.3  0.313  7.5  0.465  1.4   3.8  1.4   \n",
       "Al Horford       7.1  0.523  13.5  2.2  0.328  6.6  0.281  6.3  21.2  1.3   \n",
       "Al-Farouq Aminu  2.1  0.333   6.4  1.2  0.286  4.3  0.472  2.6   6.0  1.1   \n",
       "\n",
       "                 ...  TOV%   TRB  TRB%    TS%  USG%  VORP   WS  WS/48       \\\n",
       "Player           ...                                                         \n",
       "Aaron Gordon     ...  12.3  10.0  11.7  0.538  21.8   2.0  5.1  0.093  0.0   \n",
       "Aaron Holiday    ...  12.3   6.2   5.8  0.518  21.9  -0.1  0.9  0.065  0.0   \n",
       "Abdel Nader      ...  10.1   7.0   8.6  0.522  15.1  -0.5  0.9  0.062  0.0   \n",
       "Al Horford       ...  11.8  10.9  12.4  0.605  18.9   3.4  7.5  0.181  0.0   \n",
       "Al-Farouq Aminu  ...   9.7  12.1  14.2  0.568  13.7   1.7  5.8  0.121  0.0   \n",
       "\n",
       "                  .1  \n",
       "Player                \n",
       "Aaron Gordon     0.0  \n",
       "Aaron Holiday    0.0  \n",
       "Abdel Nader      0.0  \n",
       "Al Horford       0.0  \n",
       "Al-Farouq Aminu  0.0  \n",
       "\n",
       "[5 rows x 46 columns]"
      ]
     },
     "execution_count": 22,
     "metadata": {},
     "output_type": "execute_result"
    }
   ],
   "source": [
    "#create pivot table\n",
    "pivot = pd.pivot_table(df, index = 'Player')\n",
    "pivot.drop(0, inplace = True)\n",
    "pivot.head()"
   ]
  },
  {
   "cell_type": "code",
   "execution_count": 23,
   "metadata": {},
   "outputs": [],
   "source": [
    "#create a sparse matrix\n",
    "sparse_pivot = sparse.csr_matrix(pivot.fillna(0))"
   ]
  },
  {
   "cell_type": "code",
   "execution_count": 24,
   "metadata": {},
   "outputs": [],
   "source": [
    "#calculating cosine similarity\n",
    "recommender = pairwise_distances(sparse_pivot, metric = 'cosine')"
   ]
  },
  {
   "cell_type": "code",
   "execution_count": 25,
   "metadata": {},
   "outputs": [
    {
     "data": {
      "text/html": [
       "<div>\n",
       "<style scoped>\n",
       "    .dataframe tbody tr th:only-of-type {\n",
       "        vertical-align: middle;\n",
       "    }\n",
       "\n",
       "    .dataframe tbody tr th {\n",
       "        vertical-align: top;\n",
       "    }\n",
       "\n",
       "    .dataframe thead th {\n",
       "        text-align: right;\n",
       "    }\n",
       "</style>\n",
       "<table border=\"1\" class=\"dataframe\">\n",
       "  <thead>\n",
       "    <tr style=\"text-align: right;\">\n",
       "      <th>Player</th>\n",
       "      <th>Aaron Gordon</th>\n",
       "      <th>Aaron Holiday</th>\n",
       "      <th>Abdel Nader</th>\n",
       "      <th>Al Horford</th>\n",
       "      <th>Al-Farouq Aminu</th>\n",
       "      <th>Alec Burks</th>\n",
       "      <th>Alex Caruso</th>\n",
       "      <th>Alex Len</th>\n",
       "      <th>Alfonzo McKinnie</th>\n",
       "      <th>Alize Johnson</th>\n",
       "      <th>...</th>\n",
       "      <th>Wendell Carter</th>\n",
       "      <th>Wesley Iwundu</th>\n",
       "      <th>Wesley Matthews</th>\n",
       "      <th>Will Barton</th>\n",
       "      <th>Willie Cauley-Stein</th>\n",
       "      <th>Willy Hernangómez</th>\n",
       "      <th>Yogi Ferrell</th>\n",
       "      <th>Yuta Watanabe</th>\n",
       "      <th>Zach Collins</th>\n",
       "      <th>Zach LaVine</th>\n",
       "    </tr>\n",
       "    <tr>\n",
       "      <th>Player</th>\n",
       "      <th></th>\n",
       "      <th></th>\n",
       "      <th></th>\n",
       "      <th></th>\n",
       "      <th></th>\n",
       "      <th></th>\n",
       "      <th></th>\n",
       "      <th></th>\n",
       "      <th></th>\n",
       "      <th></th>\n",
       "      <th></th>\n",
       "      <th></th>\n",
       "      <th></th>\n",
       "      <th></th>\n",
       "      <th></th>\n",
       "      <th></th>\n",
       "      <th></th>\n",
       "      <th></th>\n",
       "      <th></th>\n",
       "      <th></th>\n",
       "      <th></th>\n",
       "    </tr>\n",
       "  </thead>\n",
       "  <tbody>\n",
       "    <tr>\n",
       "      <td>Aaron Gordon</td>\n",
       "      <td>0.000000</td>\n",
       "      <td>0.005508</td>\n",
       "      <td>0.020118</td>\n",
       "      <td>0.003694</td>\n",
       "      <td>0.011642</td>\n",
       "      <td>0.004500</td>\n",
       "      <td>0.011562</td>\n",
       "      <td>0.005331</td>\n",
       "      <td>0.013644</td>\n",
       "      <td>0.028263</td>\n",
       "      <td>...</td>\n",
       "      <td>0.008148</td>\n",
       "      <td>0.014846</td>\n",
       "      <td>0.011967</td>\n",
       "      <td>0.003640</td>\n",
       "      <td>0.005933</td>\n",
       "      <td>0.010947</td>\n",
       "      <td>0.010553</td>\n",
       "      <td>0.069778</td>\n",
       "      <td>0.010281</td>\n",
       "      <td>0.009264</td>\n",
       "    </tr>\n",
       "    <tr>\n",
       "      <td>Aaron Holiday</td>\n",
       "      <td>0.005508</td>\n",
       "      <td>0.000000</td>\n",
       "      <td>0.019212</td>\n",
       "      <td>0.010442</td>\n",
       "      <td>0.020382</td>\n",
       "      <td>0.004763</td>\n",
       "      <td>0.006024</td>\n",
       "      <td>0.012840</td>\n",
       "      <td>0.017534</td>\n",
       "      <td>0.034828</td>\n",
       "      <td>...</td>\n",
       "      <td>0.018336</td>\n",
       "      <td>0.015945</td>\n",
       "      <td>0.010452</td>\n",
       "      <td>0.004879</td>\n",
       "      <td>0.016615</td>\n",
       "      <td>0.020439</td>\n",
       "      <td>0.005305</td>\n",
       "      <td>0.068544</td>\n",
       "      <td>0.013497</td>\n",
       "      <td>0.008194</td>\n",
       "    </tr>\n",
       "    <tr>\n",
       "      <td>Abdel Nader</td>\n",
       "      <td>0.020118</td>\n",
       "      <td>0.019212</td>\n",
       "      <td>0.000000</td>\n",
       "      <td>0.036826</td>\n",
       "      <td>0.011709</td>\n",
       "      <td>0.013402</td>\n",
       "      <td>0.016522</td>\n",
       "      <td>0.011456</td>\n",
       "      <td>0.009037</td>\n",
       "      <td>0.040812</td>\n",
       "      <td>...</td>\n",
       "      <td>0.034966</td>\n",
       "      <td>0.005808</td>\n",
       "      <td>0.024727</td>\n",
       "      <td>0.025143</td>\n",
       "      <td>0.027946</td>\n",
       "      <td>0.019930</td>\n",
       "      <td>0.011744</td>\n",
       "      <td>0.107485</td>\n",
       "      <td>0.011488</td>\n",
       "      <td>0.032510</td>\n",
       "    </tr>\n",
       "    <tr>\n",
       "      <td>Al Horford</td>\n",
       "      <td>0.003694</td>\n",
       "      <td>0.010442</td>\n",
       "      <td>0.036826</td>\n",
       "      <td>0.000000</td>\n",
       "      <td>0.019572</td>\n",
       "      <td>0.010897</td>\n",
       "      <td>0.018032</td>\n",
       "      <td>0.013445</td>\n",
       "      <td>0.022973</td>\n",
       "      <td>0.031190</td>\n",
       "      <td>...</td>\n",
       "      <td>0.008859</td>\n",
       "      <td>0.027808</td>\n",
       "      <td>0.017593</td>\n",
       "      <td>0.006163</td>\n",
       "      <td>0.006702</td>\n",
       "      <td>0.016400</td>\n",
       "      <td>0.018317</td>\n",
       "      <td>0.061359</td>\n",
       "      <td>0.017922</td>\n",
       "      <td>0.013224</td>\n",
       "    </tr>\n",
       "    <tr>\n",
       "      <td>Al-Farouq Aminu</td>\n",
       "      <td>0.011642</td>\n",
       "      <td>0.020382</td>\n",
       "      <td>0.011709</td>\n",
       "      <td>0.019572</td>\n",
       "      <td>0.000000</td>\n",
       "      <td>0.011787</td>\n",
       "      <td>0.016396</td>\n",
       "      <td>0.005560</td>\n",
       "      <td>0.003324</td>\n",
       "      <td>0.023214</td>\n",
       "      <td>...</td>\n",
       "      <td>0.016146</td>\n",
       "      <td>0.006911</td>\n",
       "      <td>0.019805</td>\n",
       "      <td>0.017020</td>\n",
       "      <td>0.008216</td>\n",
       "      <td>0.008681</td>\n",
       "      <td>0.014773</td>\n",
       "      <td>0.092105</td>\n",
       "      <td>0.004997</td>\n",
       "      <td>0.035931</td>\n",
       "    </tr>\n",
       "  </tbody>\n",
       "</table>\n",
       "<p>5 rows × 368 columns</p>\n",
       "</div>"
      ],
      "text/plain": [
       "Player           Aaron Gordon  Aaron Holiday  Abdel Nader  Al Horford  \\\n",
       "Player                                                                  \n",
       "Aaron Gordon         0.000000       0.005508     0.020118    0.003694   \n",
       "Aaron Holiday        0.005508       0.000000     0.019212    0.010442   \n",
       "Abdel Nader          0.020118       0.019212     0.000000    0.036826   \n",
       "Al Horford           0.003694       0.010442     0.036826    0.000000   \n",
       "Al-Farouq Aminu      0.011642       0.020382     0.011709    0.019572   \n",
       "\n",
       "Player           Al-Farouq Aminu  Alec Burks  Alex Caruso  Alex Len  \\\n",
       "Player                                                                \n",
       "Aaron Gordon            0.011642    0.004500     0.011562  0.005331   \n",
       "Aaron Holiday           0.020382    0.004763     0.006024  0.012840   \n",
       "Abdel Nader             0.011709    0.013402     0.016522  0.011456   \n",
       "Al Horford              0.019572    0.010897     0.018032  0.013445   \n",
       "Al-Farouq Aminu         0.000000    0.011787     0.016396  0.005560   \n",
       "\n",
       "Player           Alfonzo McKinnie  Alize Johnson  ...  Wendell Carter  \\\n",
       "Player                                            ...                   \n",
       "Aaron Gordon             0.013644       0.028263  ...        0.008148   \n",
       "Aaron Holiday            0.017534       0.034828  ...        0.018336   \n",
       "Abdel Nader              0.009037       0.040812  ...        0.034966   \n",
       "Al Horford               0.022973       0.031190  ...        0.008859   \n",
       "Al-Farouq Aminu          0.003324       0.023214  ...        0.016146   \n",
       "\n",
       "Player           Wesley Iwundu  Wesley Matthews  Will Barton  \\\n",
       "Player                                                         \n",
       "Aaron Gordon          0.014846         0.011967     0.003640   \n",
       "Aaron Holiday         0.015945         0.010452     0.004879   \n",
       "Abdel Nader           0.005808         0.024727     0.025143   \n",
       "Al Horford            0.027808         0.017593     0.006163   \n",
       "Al-Farouq Aminu       0.006911         0.019805     0.017020   \n",
       "\n",
       "Player           Willie Cauley-Stein  Willy Hernangómez  Yogi Ferrell  \\\n",
       "Player                                                                  \n",
       "Aaron Gordon                0.005933           0.010947      0.010553   \n",
       "Aaron Holiday               0.016615           0.020439      0.005305   \n",
       "Abdel Nader                 0.027946           0.019930      0.011744   \n",
       "Al Horford                  0.006702           0.016400      0.018317   \n",
       "Al-Farouq Aminu             0.008216           0.008681      0.014773   \n",
       "\n",
       "Player           Yuta Watanabe  Zach Collins  Zach LaVine  \n",
       "Player                                                     \n",
       "Aaron Gordon          0.069778      0.010281     0.009264  \n",
       "Aaron Holiday         0.068544      0.013497     0.008194  \n",
       "Abdel Nader           0.107485      0.011488     0.032510  \n",
       "Al Horford            0.061359      0.017922     0.013224  \n",
       "Al-Farouq Aminu       0.092105      0.004997     0.035931  \n",
       "\n",
       "[5 rows x 368 columns]"
      ]
     },
     "execution_count": 25,
     "metadata": {},
     "output_type": "execute_result"
    }
   ],
   "source": [
    "#creating recommender dataframe\n",
    "rec_df = pd.DataFrame(recommender, columns = pivot.index, index = pivot.index)\n",
    "rec_df.head()"
   ]
  },
  {
   "cell_type": "code",
   "execution_count": 26,
   "metadata": {},
   "outputs": [
    {
     "data": {
      "text/plain": [
       "Player\n",
       "Kyrie Irving         0.004916\n",
       "Luka Dončić          0.005689\n",
       "Nikola Jokić         0.006092\n",
       "Russell Westbrook    0.007458\n",
       "Eric Bledsoe         0.007458\n",
       "Kemba Walker         0.008246\n",
       "Devin Booker         0.008270\n",
       "Damian Lillard       0.009166\n",
       "D'Angelo Russell     0.010287\n",
       "Chris Paul           0.010674\n",
       "Name: LeBron James, dtype: float64"
      ]
     },
     "execution_count": 26,
     "metadata": {},
     "output_type": "execute_result"
    }
   ],
   "source": [
    "#evaluating matrix\n",
    "rec_df['LeBron James'].sort_values()[1:11]"
   ]
  },
  {
   "cell_type": "code",
   "execution_count": null,
   "metadata": {},
   "outputs": [],
   "source": []
  }
 ],
 "metadata": {
  "kernelspec": {
   "display_name": "Python 3",
   "language": "python",
   "name": "python3"
  },
  "language_info": {
   "codemirror_mode": {
    "name": "ipython",
    "version": 3
   },
   "file_extension": ".py",
   "mimetype": "text/x-python",
   "name": "python",
   "nbconvert_exporter": "python",
   "pygments_lexer": "ipython3",
   "version": "3.7.4"
  }
 },
 "nbformat": 4,
 "nbformat_minor": 2
}
