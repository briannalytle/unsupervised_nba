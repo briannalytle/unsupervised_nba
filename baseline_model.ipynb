{
 "cells": [
  {
   "cell_type": "code",
   "execution_count": 1,
   "metadata": {},
   "outputs": [],
   "source": [
    "import numpy as np\n",
    "import pandas as pd\n",
    "import seaborn as sns\n",
    "import matplotlib.pyplot as plt\n",
    "\n",
    "%matplotlib inline\n",
    "\n",
    "from scipy import sparse\n",
    "from sklearn.metrics.pairwise import pairwise_distances\n",
    "\n",
    "from sklearn.model_selection import train_test_split\n",
    "from sklearn.linear_model import LinearRegression\n",
    "from sklearn.metrics import r2_score, silhouette_score\n",
    "from sklearn.decomposition import PCA\n",
    "from sklearn.cluster import KMeans\n",
    "from sklearn.metrics.pairwise import pairwise_distances\n",
    "from sklearn.preprocessing import PolynomialFeatures, StandardScaler\n",
    "\n",
    "\n",
    "from sklearn.discriminant_analysis import LinearDiscriminantAnalysis"
   ]
  },
  {
   "cell_type": "markdown",
   "metadata": {},
   "source": [
    "## Dataframes 2019"
   ]
  },
  {
   "cell_type": "markdown",
   "metadata": {},
   "source": [
    "This dataframe consists of stats from basketball reference & 538. There are some players in the 2019 dataframe that do not have stats because they have not played any games this season/are injured. For now, all of their values are filled with a 0"
   ]
  },
  {
   "cell_type": "code",
   "execution_count": 2,
   "metadata": {},
   "outputs": [],
   "source": [
    "df19 = pd.read_csv('data/fixed19.csv', index_col = [0])\n",
    "df19 = df19.iloc[:, :-3]\n",
    "df19['G'] = df19['G'].astype(int)"
   ]
  },
  {
   "cell_type": "markdown",
   "metadata": {},
   "source": [
    "### Data Preprocessing"
   ]
  },
  {
   "cell_type": "code",
   "execution_count": 3,
   "metadata": {},
   "outputs": [],
   "source": [
    "df_bline = (df19[df19['MP'] > 30])"
   ]
  },
  {
   "cell_type": "code",
   "execution_count": 4,
   "metadata": {
    "scrolled": false
   },
   "outputs": [
    {
     "data": {
      "text/plain": [
       "Index(['Player', 'Pos', 'Age', 'Tm', 'G', 'GS', 'MP', 'FG', 'FGA', 'FG%', '3P',\n",
       "       '3PA', '3P%', '2P', '2PA', '2P%', 'FT', 'FTA', 'FT%', 'ORB', 'DRB',\n",
       "       'TRB', 'AST', 'STL', 'BLK', 'TOV', 'PF', 'PTS', 'ORtg', 'DRtg',\n",
       "       'url_list', 'PER', 'TS%', '3PAr', 'FTr', 'ORB%', 'DRB%', 'TRB%', 'AST%',\n",
       "       'STL%', 'BLK%', 'TOV%', 'USG%', 'OWS', 'DWS', 'WS', 'WS/48', 'OBPM',\n",
       "       'DBPM', 'BPM', 'VORP', 'salary', 'Team', 'Minutes', 'BSR Off.',\n",
       "       'BSR Def.', 'BSR Total', 'OOR Off.', 'OOR Def.', 'OOR Total',\n",
       "       'OVR Off.', 'OVR Def.', 'OVR total', 'WAR'],\n",
       "      dtype='object')"
      ]
     },
     "execution_count": 4,
     "metadata": {},
     "output_type": "execute_result"
    }
   ],
   "source": [
    "df_bline.columns"
   ]
  },
  {
   "cell_type": "code",
   "execution_count": 6,
   "metadata": {},
   "outputs": [],
   "source": [
    "X = df_bline.drop(['Player', 'Pos', 'Tm', 'MP', 'FG', 'FGA', '3P', '3PA', '2P', '2PA', 'FT', 'FTA',\n",
    "              'AST', 'STL', 'BLK', 'PTS', 'url_list', '3PAr', 'FTr', 'STL%', 'BLK%', 'TOV%',\n",
    "              'USG%', 'OWS', 'DWS', 'WS/48', 'salary', 'Team', 'Minutes', 'BSR Off.',\n",
    "              'BSR Def.', 'OOR Off.', 'OOR Def.', 'OVR Off.', 'OVR Def.'], axis = 1)\n",
    "y = df_bline['Player']"
   ]
  },
  {
   "cell_type": "code",
   "execution_count": 7,
   "metadata": {
    "scrolled": true
   },
   "outputs": [],
   "source": [
    "#scale data\n",
    "sc = StandardScaler()\n",
    "X_sc = sc.fit_transform(X)"
   ]
  },
  {
   "cell_type": "markdown",
   "metadata": {},
   "source": [
    "### Unsupervised Learning - Kmeans + PCA"
   ]
  },
  {
   "cell_type": "code",
   "execution_count": 8,
   "metadata": {},
   "outputs": [
    {
     "name": "stdout",
     "output_type": "stream",
     "text": [
      "Cumulative Explained Variance: 0.7196903770947045\n"
     ]
    }
   ],
   "source": [
    "#dimensionality reduction\n",
    "pca = PCA(n_components = 5)\n",
    "pca.fit(X_sc)\n",
    "X_pca = pca.transform(X_sc)\n",
    "print(\"Cumulative Explained Variance:\", pca.explained_variance_ratio_.sum())"
   ]
  },
  {
   "cell_type": "code",
   "execution_count": 9,
   "metadata": {},
   "outputs": [
    {
     "data": {
      "text/plain": [
       "0.08525708825135944"
      ]
     },
     "execution_count": 9,
     "metadata": {},
     "output_type": "execute_result"
    }
   ],
   "source": [
    "#creating clusters\n",
    "km = KMeans(n_clusters = 10, random_state= 248)\n",
    "km.fit(X_pca)\n",
    "y_kmeans = km.predict(X_pca)\n",
    "silhouette_score(X_sc, km.labels_)"
   ]
  },
  {
   "cell_type": "code",
   "execution_count": 10,
   "metadata": {},
   "outputs": [
    {
     "name": "stderr",
     "output_type": "stream",
     "text": [
      "C:\\Users\\Brianna Lytle\\Anaconda3\\lib\\site-packages\\ipykernel_launcher.py:2: SettingWithCopyWarning: \n",
      "A value is trying to be set on a copy of a slice from a DataFrame.\n",
      "Try using .loc[row_indexer,col_indexer] = value instead\n",
      "\n",
      "See the caveats in the documentation: http://pandas.pydata.org/pandas-docs/stable/user_guide/indexing.html#returning-a-view-versus-a-copy\n",
      "  \n"
     ]
    }
   ],
   "source": [
    "#creating columns from KM labels\n",
    "df_bline['cluster'] = km.labels_"
   ]
  },
  {
   "cell_type": "code",
   "execution_count": 11,
   "metadata": {},
   "outputs": [
    {
     "data": {
      "text/plain": [
       "8    0.146154\n",
       "2    0.141026\n",
       "5    0.120513\n",
       "6    0.107692\n",
       "7    0.102564\n",
       "3    0.102564\n",
       "1    0.094872\n",
       "9    0.082051\n",
       "4    0.082051\n",
       "0    0.020513\n",
       "Name: cluster, dtype: float64"
      ]
     },
     "execution_count": 11,
     "metadata": {},
     "output_type": "execute_result"
    }
   ],
   "source": [
    "df_bline['cluster'].value_counts(normalize = True)"
   ]
  },
  {
   "cell_type": "code",
   "execution_count": 13,
   "metadata": {},
   "outputs": [],
   "source": [
    "df_bline.to_csv('baseline.csv')"
   ]
  },
  {
   "cell_type": "code",
   "execution_count": 12,
   "metadata": {
    "scrolled": true
   },
   "outputs": [
    {
     "data": {
      "text/plain": [
       "Index(['Player', 'Pos', 'Age', 'Tm', 'G', 'GS', 'MP', 'FG', 'FGA', 'FG%', '3P',\n",
       "       '3PA', '3P%', '2P', '2PA', '2P%', 'FT', 'FTA', 'FT%', 'ORB', 'DRB',\n",
       "       'TRB', 'AST', 'STL', 'BLK', 'TOV', 'PF', 'PTS', 'ORtg', 'DRtg',\n",
       "       'url_list', 'PER', 'TS%', '3PAr', 'FTr', 'ORB%', 'DRB%', 'TRB%', 'AST%',\n",
       "       'STL%', 'BLK%', 'TOV%', 'USG%', 'OWS', 'DWS', 'WS', 'WS/48', 'OBPM',\n",
       "       'DBPM', 'BPM', 'VORP', 'salary', 'Team', 'Minutes', 'BSR Off.',\n",
       "       'BSR Def.', 'BSR Total', 'OOR Off.', 'OOR Def.', 'OOR Total',\n",
       "       'OVR Off.', 'OVR Def.', 'OVR total', 'WAR', 'cluster'],\n",
       "      dtype='object')"
      ]
     },
     "execution_count": 12,
     "metadata": {},
     "output_type": "execute_result"
    }
   ],
   "source": [
    "df_bline.columns"
   ]
  },
  {
   "cell_type": "code",
   "execution_count": 192,
   "metadata": {},
   "outputs": [],
   "source": [
    "check_col = ['FG%', 'PER', 'VORP', 'OVR total', 'WAR']\n",
    "newplot = df_bline[check_col]"
   ]
  },
  {
   "cell_type": "markdown",
   "metadata": {},
   "source": [
    "# Rec System"
   ]
  },
  {
   "cell_type": "markdown",
   "metadata": {},
   "source": [
    "## Basketball Ref"
   ]
  },
  {
   "cell_type": "code",
   "execution_count": 30,
   "metadata": {},
   "outputs": [
    {
     "data": {
      "text/plain": [
       "(453, 54)"
      ]
     },
     "execution_count": 30,
     "metadata": {},
     "output_type": "execute_result"
    }
   ],
   "source": [
    "season.shape"
   ]
  },
  {
   "cell_type": "code",
   "execution_count": 31,
   "metadata": {},
   "outputs": [],
   "source": [
    "df= season.drop(columns = ['Pos', 'Age', 'Tm', 'G', 'MP'],\n",
    "               axis = 1)\n",
    "df.dropna(inplace = True)"
   ]
  },
  {
   "cell_type": "code",
   "execution_count": 32,
   "metadata": {},
   "outputs": [
    {
     "data": {
      "text/html": [
       "<div>\n",
       "<style scoped>\n",
       "    .dataframe tbody tr th:only-of-type {\n",
       "        vertical-align: middle;\n",
       "    }\n",
       "\n",
       "    .dataframe tbody tr th {\n",
       "        vertical-align: top;\n",
       "    }\n",
       "\n",
       "    .dataframe thead th {\n",
       "        text-align: right;\n",
       "    }\n",
       "</style>\n",
       "<table border=\"1\" class=\"dataframe\">\n",
       "  <thead>\n",
       "    <tr style=\"text-align: right;\">\n",
       "      <th></th>\n",
       "      <th>2P</th>\n",
       "      <th>2P%</th>\n",
       "      <th>2PA</th>\n",
       "      <th>3P</th>\n",
       "      <th>3P%</th>\n",
       "      <th>3PA</th>\n",
       "      <th>3PAr</th>\n",
       "      <th>AST</th>\n",
       "      <th>AST%</th>\n",
       "      <th>BLK</th>\n",
       "      <th>...</th>\n",
       "      <th>TRB</th>\n",
       "      <th>TRB%</th>\n",
       "      <th>TS%</th>\n",
       "      <th>USG%</th>\n",
       "      <th>VORP</th>\n",
       "      <th>WS</th>\n",
       "      <th>WS/48</th>\n",
       "      <th>cluster</th>\n",
       "      <th></th>\n",
       "      <th>.1</th>\n",
       "    </tr>\n",
       "    <tr>\n",
       "      <th>Player</th>\n",
       "      <th></th>\n",
       "      <th></th>\n",
       "      <th></th>\n",
       "      <th></th>\n",
       "      <th></th>\n",
       "      <th></th>\n",
       "      <th></th>\n",
       "      <th></th>\n",
       "      <th></th>\n",
       "      <th></th>\n",
       "      <th></th>\n",
       "      <th></th>\n",
       "      <th></th>\n",
       "      <th></th>\n",
       "      <th></th>\n",
       "      <th></th>\n",
       "      <th></th>\n",
       "      <th></th>\n",
       "      <th></th>\n",
       "      <th></th>\n",
       "      <th></th>\n",
       "    </tr>\n",
       "  </thead>\n",
       "  <tbody>\n",
       "    <tr>\n",
       "      <td>Aaron Gordon</td>\n",
       "      <td>6.0</td>\n",
       "      <td>0.491</td>\n",
       "      <td>12.2</td>\n",
       "      <td>1.7</td>\n",
       "      <td>0.283</td>\n",
       "      <td>6.1</td>\n",
       "      <td>0.333</td>\n",
       "      <td>4.6</td>\n",
       "      <td>15.0</td>\n",
       "      <td>0.8</td>\n",
       "      <td>...</td>\n",
       "      <td>10.0</td>\n",
       "      <td>10.7</td>\n",
       "      <td>0.509</td>\n",
       "      <td>20.2</td>\n",
       "      <td>0.2</td>\n",
       "      <td>0.8</td>\n",
       "      <td>0.092</td>\n",
       "      <td>3</td>\n",
       "      <td>0.0</td>\n",
       "      <td>0.0</td>\n",
       "    </tr>\n",
       "    <tr>\n",
       "      <td>Aaron Holiday</td>\n",
       "      <td>4.6</td>\n",
       "      <td>0.387</td>\n",
       "      <td>11.9</td>\n",
       "      <td>3.3</td>\n",
       "      <td>0.412</td>\n",
       "      <td>8.1</td>\n",
       "      <td>0.405</td>\n",
       "      <td>8.1</td>\n",
       "      <td>23.6</td>\n",
       "      <td>0.2</td>\n",
       "      <td>...</td>\n",
       "      <td>6.2</td>\n",
       "      <td>6.9</td>\n",
       "      <td>0.498</td>\n",
       "      <td>21.1</td>\n",
       "      <td>0.1</td>\n",
       "      <td>0.6</td>\n",
       "      <td>0.088</td>\n",
       "      <td>3</td>\n",
       "      <td>0.0</td>\n",
       "      <td>0.0</td>\n",
       "    </tr>\n",
       "    <tr>\n",
       "      <td>Abdel Nader</td>\n",
       "      <td>2.8</td>\n",
       "      <td>0.429</td>\n",
       "      <td>6.5</td>\n",
       "      <td>2.3</td>\n",
       "      <td>0.313</td>\n",
       "      <td>7.5</td>\n",
       "      <td>0.533</td>\n",
       "      <td>1.4</td>\n",
       "      <td>4.2</td>\n",
       "      <td>1.4</td>\n",
       "      <td>...</td>\n",
       "      <td>7.0</td>\n",
       "      <td>7.9</td>\n",
       "      <td>0.501</td>\n",
       "      <td>19.1</td>\n",
       "      <td>-0.1</td>\n",
       "      <td>-0.1</td>\n",
       "      <td>-0.058</td>\n",
       "      <td>0</td>\n",
       "      <td>0.0</td>\n",
       "      <td>0.0</td>\n",
       "    </tr>\n",
       "    <tr>\n",
       "      <td>Admiral Schofield</td>\n",
       "      <td>2.7</td>\n",
       "      <td>1.000</td>\n",
       "      <td>2.7</td>\n",
       "      <td>3.6</td>\n",
       "      <td>0.571</td>\n",
       "      <td>6.3</td>\n",
       "      <td>0.700</td>\n",
       "      <td>0.9</td>\n",
       "      <td>2.4</td>\n",
       "      <td>0.0</td>\n",
       "      <td>...</td>\n",
       "      <td>7.2</td>\n",
       "      <td>8.5</td>\n",
       "      <td>0.935</td>\n",
       "      <td>9.4</td>\n",
       "      <td>0.0</td>\n",
       "      <td>0.2</td>\n",
       "      <td>0.191</td>\n",
       "      <td>6</td>\n",
       "      <td>0.0</td>\n",
       "      <td>0.0</td>\n",
       "    </tr>\n",
       "    <tr>\n",
       "      <td>Al Horford</td>\n",
       "      <td>7.1</td>\n",
       "      <td>0.523</td>\n",
       "      <td>13.5</td>\n",
       "      <td>2.2</td>\n",
       "      <td>0.328</td>\n",
       "      <td>6.6</td>\n",
       "      <td>0.327</td>\n",
       "      <td>6.3</td>\n",
       "      <td>19.5</td>\n",
       "      <td>1.3</td>\n",
       "      <td>...</td>\n",
       "      <td>10.9</td>\n",
       "      <td>12.7</td>\n",
       "      <td>0.527</td>\n",
       "      <td>20.6</td>\n",
       "      <td>0.6</td>\n",
       "      <td>1.6</td>\n",
       "      <td>0.161</td>\n",
       "      <td>3</td>\n",
       "      <td>0.0</td>\n",
       "      <td>0.0</td>\n",
       "    </tr>\n",
       "  </tbody>\n",
       "</table>\n",
       "<p>5 rows × 47 columns</p>\n",
       "</div>"
      ],
      "text/plain": [
       "                    2P    2P%   2PA   3P    3P%  3PA   3PAr  AST  AST%  BLK  \\\n",
       "Player                                                                        \n",
       "Aaron Gordon       6.0  0.491  12.2  1.7  0.283  6.1  0.333  4.6  15.0  0.8   \n",
       "Aaron Holiday      4.6  0.387  11.9  3.3  0.412  8.1  0.405  8.1  23.6  0.2   \n",
       "Abdel Nader        2.8  0.429   6.5  2.3  0.313  7.5  0.533  1.4   4.2  1.4   \n",
       "Admiral Schofield  2.7  1.000   2.7  3.6  0.571  6.3  0.700  0.9   2.4  0.0   \n",
       "Al Horford         7.1  0.523  13.5  2.2  0.328  6.6  0.327  6.3  19.5  1.3   \n",
       "\n",
       "                   ...   TRB  TRB%    TS%  USG%  VORP   WS  WS/48  cluster  \\\n",
       "Player             ...                                                       \n",
       "Aaron Gordon       ...  10.0  10.7  0.509  20.2   0.2  0.8  0.092        3   \n",
       "Aaron Holiday      ...   6.2   6.9  0.498  21.1   0.1  0.6  0.088        3   \n",
       "Abdel Nader        ...   7.0   7.9  0.501  19.1  -0.1 -0.1 -0.058        0   \n",
       "Admiral Schofield  ...   7.2   8.5  0.935   9.4   0.0  0.2  0.191        6   \n",
       "Al Horford         ...  10.9  12.7  0.527  20.6   0.6  1.6  0.161        3   \n",
       "\n",
       "                         .1  \n",
       "Player                       \n",
       "Aaron Gordon       0.0  0.0  \n",
       "Aaron Holiday      0.0  0.0  \n",
       "Abdel Nader        0.0  0.0  \n",
       "Admiral Schofield  0.0  0.0  \n",
       "Al Horford         0.0  0.0  \n",
       "\n",
       "[5 rows x 47 columns]"
      ]
     },
     "execution_count": 32,
     "metadata": {},
     "output_type": "execute_result"
    }
   ],
   "source": [
    "#create pivot table\n",
    "pivot = pd.pivot_table(df, index = 'Player')\n",
    "pivot.drop(0, inplace = True)\n",
    "pivot.head()"
   ]
  },
  {
   "cell_type": "code",
   "execution_count": 33,
   "metadata": {},
   "outputs": [],
   "source": [
    "#create a sparse matrix\n",
    "sparse_pivot = sparse.csr_matrix(pivot.fillna(0))"
   ]
  },
  {
   "cell_type": "code",
   "execution_count": 34,
   "metadata": {},
   "outputs": [],
   "source": [
    "#calculating cosine similarity\n",
    "recommender = pairwise_distances(sparse_pivot, metric = 'cosine')"
   ]
  },
  {
   "cell_type": "code",
   "execution_count": 35,
   "metadata": {},
   "outputs": [
    {
     "data": {
      "text/html": [
       "<div>\n",
       "<style scoped>\n",
       "    .dataframe tbody tr th:only-of-type {\n",
       "        vertical-align: middle;\n",
       "    }\n",
       "\n",
       "    .dataframe tbody tr th {\n",
       "        vertical-align: top;\n",
       "    }\n",
       "\n",
       "    .dataframe thead th {\n",
       "        text-align: right;\n",
       "    }\n",
       "</style>\n",
       "<table border=\"1\" class=\"dataframe\">\n",
       "  <thead>\n",
       "    <tr style=\"text-align: right;\">\n",
       "      <th>Player</th>\n",
       "      <th>Aaron Gordon</th>\n",
       "      <th>Aaron Holiday</th>\n",
       "      <th>Abdel Nader</th>\n",
       "      <th>Admiral Schofield</th>\n",
       "      <th>Al Horford</th>\n",
       "      <th>Al-Farouq Aminu</th>\n",
       "      <th>Alec Burks</th>\n",
       "      <th>Alex Caruso</th>\n",
       "      <th>Alex Len</th>\n",
       "      <th>Alfonzo McKinnie</th>\n",
       "      <th>...</th>\n",
       "      <th>Wesley Matthews</th>\n",
       "      <th>Will Barton</th>\n",
       "      <th>Willie Cauley-Stein</th>\n",
       "      <th>Willy Hernangómez</th>\n",
       "      <th>Yogi Ferrell</th>\n",
       "      <th>Yuta Watanabe</th>\n",
       "      <th>Zach Collins</th>\n",
       "      <th>Zach LaVine</th>\n",
       "      <th>Zach Norvell</th>\n",
       "      <th>Zylan Cheatham</th>\n",
       "    </tr>\n",
       "    <tr>\n",
       "      <th>Player</th>\n",
       "      <th></th>\n",
       "      <th></th>\n",
       "      <th></th>\n",
       "      <th></th>\n",
       "      <th></th>\n",
       "      <th></th>\n",
       "      <th></th>\n",
       "      <th></th>\n",
       "      <th></th>\n",
       "      <th></th>\n",
       "      <th></th>\n",
       "      <th></th>\n",
       "      <th></th>\n",
       "      <th></th>\n",
       "      <th></th>\n",
       "      <th></th>\n",
       "      <th></th>\n",
       "      <th></th>\n",
       "      <th></th>\n",
       "      <th></th>\n",
       "      <th></th>\n",
       "    </tr>\n",
       "  </thead>\n",
       "  <tbody>\n",
       "    <tr>\n",
       "      <td>Aaron Gordon</td>\n",
       "      <td>0.000000</td>\n",
       "      <td>0.005092</td>\n",
       "      <td>0.026005</td>\n",
       "      <td>0.047285</td>\n",
       "      <td>0.003141</td>\n",
       "      <td>0.012515</td>\n",
       "      <td>0.003444</td>\n",
       "      <td>0.013058</td>\n",
       "      <td>0.006664</td>\n",
       "      <td>0.012920</td>\n",
       "      <td>...</td>\n",
       "      <td>0.012861</td>\n",
       "      <td>0.002353</td>\n",
       "      <td>0.007116</td>\n",
       "      <td>0.010475</td>\n",
       "      <td>0.009878</td>\n",
       "      <td>0.069752</td>\n",
       "      <td>0.013750</td>\n",
       "      <td>0.009428</td>\n",
       "      <td>0.312032</td>\n",
       "      <td>0.088275</td>\n",
       "    </tr>\n",
       "    <tr>\n",
       "      <td>Aaron Holiday</td>\n",
       "      <td>0.005092</td>\n",
       "      <td>0.000000</td>\n",
       "      <td>0.026657</td>\n",
       "      <td>0.054931</td>\n",
       "      <td>0.007413</td>\n",
       "      <td>0.019344</td>\n",
       "      <td>0.006070</td>\n",
       "      <td>0.008788</td>\n",
       "      <td>0.015671</td>\n",
       "      <td>0.019470</td>\n",
       "      <td>...</td>\n",
       "      <td>0.017408</td>\n",
       "      <td>0.007885</td>\n",
       "      <td>0.016705</td>\n",
       "      <td>0.015469</td>\n",
       "      <td>0.006675</td>\n",
       "      <td>0.081204</td>\n",
       "      <td>0.014766</td>\n",
       "      <td>0.007269</td>\n",
       "      <td>0.321320</td>\n",
       "      <td>0.088866</td>\n",
       "    </tr>\n",
       "    <tr>\n",
       "      <td>Abdel Nader</td>\n",
       "      <td>0.026005</td>\n",
       "      <td>0.026657</td>\n",
       "      <td>0.000000</td>\n",
       "      <td>0.090071</td>\n",
       "      <td>0.043484</td>\n",
       "      <td>0.015041</td>\n",
       "      <td>0.024012</td>\n",
       "      <td>0.013019</td>\n",
       "      <td>0.015141</td>\n",
       "      <td>0.013001</td>\n",
       "      <td>...</td>\n",
       "      <td>0.031536</td>\n",
       "      <td>0.037641</td>\n",
       "      <td>0.035885</td>\n",
       "      <td>0.019408</td>\n",
       "      <td>0.014721</td>\n",
       "      <td>0.134351</td>\n",
       "      <td>0.013156</td>\n",
       "      <td>0.033452</td>\n",
       "      <td>0.224840</td>\n",
       "      <td>0.033618</td>\n",
       "    </tr>\n",
       "    <tr>\n",
       "      <td>Admiral Schofield</td>\n",
       "      <td>0.047285</td>\n",
       "      <td>0.054931</td>\n",
       "      <td>0.090071</td>\n",
       "      <td>0.000000</td>\n",
       "      <td>0.042325</td>\n",
       "      <td>0.052243</td>\n",
       "      <td>0.041556</td>\n",
       "      <td>0.051112</td>\n",
       "      <td>0.058510</td>\n",
       "      <td>0.043458</td>\n",
       "      <td>...</td>\n",
       "      <td>0.029014</td>\n",
       "      <td>0.034575</td>\n",
       "      <td>0.038074</td>\n",
       "      <td>0.051008</td>\n",
       "      <td>0.049259</td>\n",
       "      <td>0.052896</td>\n",
       "      <td>0.041505</td>\n",
       "      <td>0.078151</td>\n",
       "      <td>0.480893</td>\n",
       "      <td>0.187254</td>\n",
       "    </tr>\n",
       "    <tr>\n",
       "      <td>Al Horford</td>\n",
       "      <td>0.003141</td>\n",
       "      <td>0.007413</td>\n",
       "      <td>0.043484</td>\n",
       "      <td>0.042325</td>\n",
       "      <td>0.000000</td>\n",
       "      <td>0.021287</td>\n",
       "      <td>0.008154</td>\n",
       "      <td>0.021519</td>\n",
       "      <td>0.014818</td>\n",
       "      <td>0.022236</td>\n",
       "      <td>...</td>\n",
       "      <td>0.019196</td>\n",
       "      <td>0.001104</td>\n",
       "      <td>0.008033</td>\n",
       "      <td>0.016080</td>\n",
       "      <td>0.018828</td>\n",
       "      <td>0.055075</td>\n",
       "      <td>0.023191</td>\n",
       "      <td>0.012520</td>\n",
       "      <td>0.359079</td>\n",
       "      <td>0.118702</td>\n",
       "    </tr>\n",
       "  </tbody>\n",
       "</table>\n",
       "<p>5 rows × 452 columns</p>\n",
       "</div>"
      ],
      "text/plain": [
       "Player             Aaron Gordon  Aaron Holiday  Abdel Nader  \\\n",
       "Player                                                        \n",
       "Aaron Gordon           0.000000       0.005092     0.026005   \n",
       "Aaron Holiday          0.005092       0.000000     0.026657   \n",
       "Abdel Nader            0.026005       0.026657     0.000000   \n",
       "Admiral Schofield      0.047285       0.054931     0.090071   \n",
       "Al Horford             0.003141       0.007413     0.043484   \n",
       "\n",
       "Player             Admiral Schofield  Al Horford  Al-Farouq Aminu  Alec Burks  \\\n",
       "Player                                                                          \n",
       "Aaron Gordon                0.047285    0.003141         0.012515    0.003444   \n",
       "Aaron Holiday               0.054931    0.007413         0.019344    0.006070   \n",
       "Abdel Nader                 0.090071    0.043484         0.015041    0.024012   \n",
       "Admiral Schofield           0.000000    0.042325         0.052243    0.041556   \n",
       "Al Horford                  0.042325    0.000000         0.021287    0.008154   \n",
       "\n",
       "Player             Alex Caruso  Alex Len  Alfonzo McKinnie  ...  \\\n",
       "Player                                                      ...   \n",
       "Aaron Gordon          0.013058  0.006664          0.012920  ...   \n",
       "Aaron Holiday         0.008788  0.015671          0.019470  ...   \n",
       "Abdel Nader           0.013019  0.015141          0.013001  ...   \n",
       "Admiral Schofield     0.051112  0.058510          0.043458  ...   \n",
       "Al Horford            0.021519  0.014818          0.022236  ...   \n",
       "\n",
       "Player             Wesley Matthews  Will Barton  Willie Cauley-Stein  \\\n",
       "Player                                                                 \n",
       "Aaron Gordon              0.012861     0.002353             0.007116   \n",
       "Aaron Holiday             0.017408     0.007885             0.016705   \n",
       "Abdel Nader               0.031536     0.037641             0.035885   \n",
       "Admiral Schofield         0.029014     0.034575             0.038074   \n",
       "Al Horford                0.019196     0.001104             0.008033   \n",
       "\n",
       "Player             Willy Hernangómez  Yogi Ferrell  Yuta Watanabe  \\\n",
       "Player                                                              \n",
       "Aaron Gordon                0.010475      0.009878       0.069752   \n",
       "Aaron Holiday               0.015469      0.006675       0.081204   \n",
       "Abdel Nader                 0.019408      0.014721       0.134351   \n",
       "Admiral Schofield           0.051008      0.049259       0.052896   \n",
       "Al Horford                  0.016080      0.018828       0.055075   \n",
       "\n",
       "Player             Zach Collins  Zach LaVine  Zach Norvell  Zylan Cheatham  \n",
       "Player                                                                      \n",
       "Aaron Gordon           0.013750     0.009428      0.312032        0.088275  \n",
       "Aaron Holiday          0.014766     0.007269      0.321320        0.088866  \n",
       "Abdel Nader            0.013156     0.033452      0.224840        0.033618  \n",
       "Admiral Schofield      0.041505     0.078151      0.480893        0.187254  \n",
       "Al Horford             0.023191     0.012520      0.359079        0.118702  \n",
       "\n",
       "[5 rows x 452 columns]"
      ]
     },
     "execution_count": 35,
     "metadata": {},
     "output_type": "execute_result"
    }
   ],
   "source": [
    "#creating recommender dataframe\n",
    "rec_df = pd.DataFrame(recommender, columns = pivot.index, index = pivot.index)\n",
    "rec_df.head()"
   ]
  },
  {
   "cell_type": "code",
   "execution_count": 36,
   "metadata": {
    "scrolled": true
   },
   "outputs": [
    {
     "data": {
      "text/plain": [
       "Player\n",
       "Malcolm Brogdon      0.004274\n",
       "Luka Dončić          0.004310\n",
       "Kyrie Irving         0.006605\n",
       "Nikola Jokić         0.008260\n",
       "Trae Young           0.008595\n",
       "Kawhi Leonard        0.010061\n",
       "Eric Bledsoe         0.010674\n",
       "Russell Westbrook    0.010957\n",
       "D'Angelo Russell     0.012731\n",
       "Stephen Curry        0.012859\n",
       "Name: LeBron James, dtype: float64"
      ]
     },
     "execution_count": 36,
     "metadata": {},
     "output_type": "execute_result"
    }
   ],
   "source": [
    "#evaluating matrix\n",
    "rec_df['LeBron James'].sort_values()[1:11]"
   ]
  },
  {
   "cell_type": "markdown",
   "metadata": {},
   "source": [
    "## 538 rec system"
   ]
  },
  {
   "cell_type": "code",
   "execution_count": 37,
   "metadata": {},
   "outputs": [
    {
     "data": {
      "text/plain": [
       "(447, 15)"
      ]
     },
     "execution_count": 37,
     "metadata": {},
     "output_type": "execute_result"
    }
   ],
   "source": [
    "scrape538.shape"
   ]
  },
  {
   "cell_type": "code",
   "execution_count": 38,
   "metadata": {},
   "outputs": [
    {
     "data": {
      "text/plain": [
       "Index(['Player', 'Team', 'Position(s)', 'Minutes', 'BSR Off.', 'BSR Def.',\n",
       "       'BSR Total', 'OOR Off.', 'OOR Def.', 'OOR Total', 'OVR Off.',\n",
       "       'OVR Def.', 'OVR total', 'WAR', 'cluster'],\n",
       "      dtype='object')"
      ]
     },
     "execution_count": 38,
     "metadata": {},
     "output_type": "execute_result"
    }
   ],
   "source": [
    "scrape538.columns"
   ]
  }
 ],
 "metadata": {
  "kernelspec": {
   "display_name": "Python 3",
   "language": "python",
   "name": "python3"
  },
  "language_info": {
   "codemirror_mode": {
    "name": "ipython",
    "version": 3
   },
   "file_extension": ".py",
   "mimetype": "text/x-python",
   "name": "python",
   "nbconvert_exporter": "python",
   "pygments_lexer": "ipython3",
   "version": "3.7.4"
  }
 },
 "nbformat": 4,
 "nbformat_minor": 2
}
