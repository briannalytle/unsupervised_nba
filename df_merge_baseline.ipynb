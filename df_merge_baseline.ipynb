{
 "cells": [
  {
   "cell_type": "markdown",
   "metadata": {},
   "source": [
    "The goal of this notebook is to correctly merge all dataframes together"
   ]
  },
  {
   "cell_type": "code",
   "execution_count": 11,
   "metadata": {},
   "outputs": [],
   "source": [
    "import pandas as pd\n",
    "import numpy as np\n",
    "import matplotlib.pyplot as plt"
   ]
  },
  {
   "cell_type": "markdown",
   "metadata": {},
   "source": [
    "# Importing Dataframes"
   ]
  },
  {
   "cell_type": "markdown",
   "metadata": {},
   "source": [
    "## 2019 stats"
   ]
  },
  {
   "cell_type": "code",
   "execution_count": 12,
   "metadata": {},
   "outputs": [],
   "source": [
    "season = pd.read_csv('data/season1920.csv')\n",
    "adv = pd.read_csv('data/ad_1920.csv')\n",
    "salaries = pd.read_csv('data/salaries.csv')\n",
    "scrape538 = pd.read_csv('data/scrape538.csv')"
   ]
  },
  {
   "cell_type": "code",
   "execution_count": 13,
   "metadata": {},
   "outputs": [],
   "source": [
    "season = season.drop(['Unnamed: 0', 'Unnamed: 29'], axis = 1)\n",
    "adv = adv.drop(['Unnamed: 0', 'Pos', 'Age', 'Tm', 'G',\n",
    "                       'MP'], axis = 1)\n",
    "scrape538 = scrape538.drop(['Unnamed: 0', 'Position(s)'], axis = 1)"
   ]
  },
  {
   "cell_type": "code",
   "execution_count": 14,
   "metadata": {},
   "outputs": [],
   "source": [
    "season = season.drop_duplicates(subset = 'Player', keep = 'first')\n",
    "adv = adv.drop_duplicates(subset = 'Player', keep = 'first')\n",
    "df = pd.merge(season, adv, on = 'Player').fillna(0)"
   ]
  },
  {
   "cell_type": "code",
   "execution_count": 15,
   "metadata": {},
   "outputs": [],
   "source": [
    "merged_df = df.merge(salaries, how = 'outer', on = 'Player').merge(scrape538, how = 'outer', on = 'Player')"
   ]
  },
  {
   "cell_type": "code",
   "execution_count": 16,
   "metadata": {
    "scrolled": true
   },
   "outputs": [
    {
     "data": {
      "text/plain": [
       "(586, 67)"
      ]
     },
     "execution_count": 16,
     "metadata": {},
     "output_type": "execute_result"
    }
   ],
   "source": [
    "merged_df.shape"
   ]
  },
  {
   "cell_type": "code",
   "execution_count": 17,
   "metadata": {},
   "outputs": [],
   "source": [
    "problem = merged_df[merged_df.isna().any(axis=1)]"
   ]
  },
  {
   "cell_type": "code",
   "execution_count": 18,
   "metadata": {
    "scrolled": false
   },
   "outputs": [
    {
     "data": {
      "text/plain": [
       "(215, 67)"
      ]
     },
     "execution_count": 18,
     "metadata": {},
     "output_type": "execute_result"
    }
   ],
   "source": [
    "problem.shape"
   ]
  },
  {
   "cell_type": "markdown",
   "metadata": {},
   "source": [
    "export csv and manually clean it."
   ]
  },
  {
   "cell_type": "code",
   "execution_count": 19,
   "metadata": {},
   "outputs": [],
   "source": [
    "problem.to_csv('data/problem_draft.csv')"
   ]
  },
  {
   "cell_type": "markdown",
   "metadata": {},
   "source": [
    "delete the rows that were in the problem csv and then apend the new problem csv to the dataframe "
   ]
  },
  {
   "cell_type": "code",
   "execution_count": 20,
   "metadata": {},
   "outputs": [],
   "source": [
    "merged_df.dropna(inplace = True)"
   ]
  },
  {
   "cell_type": "code",
   "execution_count": 46,
   "metadata": {},
   "outputs": [],
   "source": [
    "fixed19 = pd.read_csv('data/2019rosterfinalfixed.csv')\n",
    "fixed19 = fixed19.drop(['Team', 'Minutes'], axis = 1).fillna(0)\n",
    "fixed19 = pd.concat([fixed19, merged_df], ignore_index = True, sort= False)\n",
    "fixed19.to_csv('data/fixed19.csv')"
   ]
  },
  {
   "cell_type": "code",
   "execution_count": 47,
   "metadata": {},
   "outputs": [
    {
     "data": {
      "text/plain": [
       "(493, 67)"
      ]
     },
     "execution_count": 47,
     "metadata": {},
     "output_type": "execute_result"
    }
   ],
   "source": [
    "fixed19.shape"
   ]
  },
  {
   "cell_type": "markdown",
   "metadata": {},
   "source": [
    "## 2018 BR Stats"
   ]
  },
  {
   "cell_type": "code",
   "execution_count": 29,
   "metadata": {},
   "outputs": [],
   "source": [
    "season18 = pd.read_csv('data/season1819.csv', index_col = [0])\n",
    "adv18 = pd.read_csv('data/ad_1819.csv', index_col = [0])"
   ]
  },
  {
   "cell_type": "code",
   "execution_count": 30,
   "metadata": {},
   "outputs": [],
   "source": [
    "season18 = season18.drop(['Unnamed: 29', 'url_list'], axis = 1).fillna(0).drop_duplicates(subset = 'Player', keep = 'first')\n",
    "adv18 = adv18.drop(['Pos', 'Age', 'Tm', 'G', 'MP'], axis =1).fillna(0).drop_duplicates(subset = 'Player', keep = 'first')"
   ]
  },
  {
   "cell_type": "code",
   "execution_count": 31,
   "metadata": {},
   "outputs": [
    {
     "name": "stdout",
     "output_type": "stream",
     "text": [
      "(531, 30)\n",
      "(531, 23)\n"
     ]
    }
   ],
   "source": [
    "print(season18.shape)\n",
    "print(adv18.shape)"
   ]
  },
  {
   "cell_type": "code",
   "execution_count": 32,
   "metadata": {
    "scrolled": false
   },
   "outputs": [
    {
     "data": {
      "text/plain": [
       "(531, 52)"
      ]
     },
     "execution_count": 32,
     "metadata": {},
     "output_type": "execute_result"
    }
   ],
   "source": [
    "stats18 = season18.merge(adv18, how = 'outer', on = 'Player')\n",
    "stats18.shape"
   ]
  },
  {
   "cell_type": "markdown",
   "metadata": {},
   "source": [
    "## 2018 NBA Miner stats"
   ]
  },
  {
   "cell_type": "code",
   "execution_count": 25,
   "metadata": {},
   "outputs": [],
   "source": [
    "misc = pd.read_csv('data/nbam_misc1.csv')\n",
    "dist = pd.read_csv('data/shot_dist18.csv')\n",
    "shot_type = pd.read_csv('data/shot_type18.csv')\n",
    "zone = pd.read_csv('data/shot_zones18.csv')"
   ]
  },
  {
   "cell_type": "code",
   "execution_count": 26,
   "metadata": {},
   "outputs": [],
   "source": [
    "miner = misc.merge(dist, how = 'outer', on = 'Player').merge(shot_type, how = 'outer', on = 'Player').merge(zone, how = 'outer', on = 'Player')"
   ]
  },
  {
   "cell_type": "code",
   "execution_count": 27,
   "metadata": {
    "scrolled": true
   },
   "outputs": [
    {
     "data": {
      "text/plain": [
       "Index(['Player', 'Games18', 'FB', 'PAINTPTS', 'TO_PTS', '2ND_PTS', 'Q1PTS',\n",
       "       'Q2PTS', 'Q3PTS', 'Q4PTS', 'PPP', '>8ft%', '8-16ft%', '16-24ft%',\n",
       "       '24+%', 'BCS%', '>8FTU', '8-16FTU', '16-24FTU', '24+U', 'BCU',\n",
       "       'AVGDISTA', 'AVGDISTM', 'AVGDISTF', 'AFGM', 'JS', 'LU', 'DUN', 'TIPIN',\n",
       "       'JS%', 'Layup%18', 'DUN%', '2PT_m', '3PT_m', 'FT_m', 'AB_3U', 'MRU',\n",
       "       'paint_nonra', 'ra_usage', 'RC_3', 'LC_3', 'backcourt_usage', 'AB3%',\n",
       "       'MR%', 'paint_nonra%', 'RA%', 'RC3%', 'LC3%', 'BC%'],\n",
       "      dtype='object')"
      ]
     },
     "execution_count": 27,
     "metadata": {},
     "output_type": "execute_result"
    }
   ],
   "source": [
    "miner.columns"
   ]
  },
  {
   "cell_type": "markdown",
   "metadata": {},
   "source": [
    "## combine 2018 stats"
   ]
  },
  {
   "cell_type": "code",
   "execution_count": 33,
   "metadata": {},
   "outputs": [
    {
     "data": {
      "text/plain": [
       "(595, 100)"
      ]
     },
     "execution_count": 33,
     "metadata": {},
     "output_type": "execute_result"
    }
   ],
   "source": [
    "cstats18 = stats18.merge(miner, how = 'outer', on = 'Player')\n",
    "cstats18.shape"
   ]
  },
  {
   "cell_type": "code",
   "execution_count": 34,
   "metadata": {},
   "outputs": [],
   "source": [
    "cstats18problem = cstats18[cstats18.isna().any(axis = 1)]\n",
    "cstats18.dropna(inplace = True)"
   ]
  },
  {
   "cell_type": "code",
   "execution_count": 35,
   "metadata": {},
   "outputs": [],
   "source": [
    "#export to manually clean\n",
    "cstats18problem.to_csv('data/stat18_probdraft.csv')"
   ]
  },
  {
   "cell_type": "code",
   "execution_count": 36,
   "metadata": {},
   "outputs": [],
   "source": [
    "#import clean code\n",
    "stat18_clean = pd.read_csv('data/stat18_prob.csv')"
   ]
  },
  {
   "cell_type": "code",
   "execution_count": 37,
   "metadata": {},
   "outputs": [
    {
     "data": {
      "text/plain": [
       "(530, 100)"
      ]
     },
     "execution_count": 37,
     "metadata": {},
     "output_type": "execute_result"
    }
   ],
   "source": [
    "stat18_clean = pd.concat([stat18_clean, cstats18], sort= False)\n",
    "stat18_clean.shape"
   ]
  },
  {
   "cell_type": "code",
   "execution_count": 38,
   "metadata": {},
   "outputs": [],
   "source": [
    "stat18_clean.columns = [i + '18' for i in stat18_clean.columns]\n",
    "stat18_clean['Player'] = stat18_clean['Player18']"
   ]
  },
  {
   "cell_type": "code",
   "execution_count": 39,
   "metadata": {},
   "outputs": [
    {
     "data": {
      "text/plain": [
       "Index(['Player18', 'Pos18', 'Age18', 'Tm18', 'G18', 'GS18', 'MP18', 'FG18',\n",
       "       'FGA18', 'FG%18',\n",
       "       ...\n",
       "       'AB3%18', 'MR%18', 'paint_nonra%18', 'RA%18', 'RC3%18', 'LC3%18',\n",
       "       'BC%18', ' 18', ' .118', 'Player'],\n",
       "      dtype='object', length=101)"
      ]
     },
     "execution_count": 39,
     "metadata": {},
     "output_type": "execute_result"
    }
   ],
   "source": [
    "stat18_clean.columns"
   ]
  },
  {
   "cell_type": "code",
   "execution_count": 40,
   "metadata": {},
   "outputs": [],
   "source": [
    "#export df to csv\n",
    "stat18_clean.to_csv('data/stat18_clean.csv')"
   ]
  },
  {
   "cell_type": "markdown",
   "metadata": {},
   "source": [
    "## Putting it together - 2018 + 2019 stats"
   ]
  },
  {
   "cell_type": "code",
   "execution_count": 48,
   "metadata": {},
   "outputs": [],
   "source": [
    "stat2year = fixed19.merge(stat18_clean, how = 'outer', on = 'Player').merge(miner, how = 'outer', on = 'Player')"
   ]
  },
  {
   "cell_type": "code",
   "execution_count": 49,
   "metadata": {},
   "outputs": [
    {
     "data": {
      "text/plain": [
       "(674, 215)"
      ]
     },
     "execution_count": 49,
     "metadata": {},
     "output_type": "execute_result"
    }
   ],
   "source": [
    "stat2year.shape"
   ]
  },
  {
   "cell_type": "code",
   "execution_count": 50,
   "metadata": {},
   "outputs": [],
   "source": [
    "problem2year = stat2year[stat2year.isna().any(axis = 1)]\n",
    "problem2year.to_csv('data/problem2year.csv')\n",
    "stat2year.dropna(inplace = True)"
   ]
  },
  {
   "cell_type": "code",
   "execution_count": 54,
   "metadata": {},
   "outputs": [],
   "source": [
    "fixed19 = pd.read_csv('data/combfinal2year.csv')\n",
    "fixed19 = fixed19.fillna(0)\n",
    "fixed19 = pd.concat([fixed19, merged_df], ignore_index = True, sort= False)\n",
    "fixed19.to_csv('data/fixed19.csv')"
   ]
  },
  {
   "cell_type": "code",
   "execution_count": null,
   "metadata": {},
   "outputs": [],
   "source": []
  }
 ],
 "metadata": {
  "kernelspec": {
   "display_name": "Python 3",
   "language": "python",
   "name": "python3"
  },
  "language_info": {
   "codemirror_mode": {
    "name": "ipython",
    "version": 3
   },
   "file_extension": ".py",
   "mimetype": "text/x-python",
   "name": "python",
   "nbconvert_exporter": "python",
   "pygments_lexer": "ipython3",
   "version": "3.7.4"
  }
 },
 "nbformat": 4,
 "nbformat_minor": 2
}
