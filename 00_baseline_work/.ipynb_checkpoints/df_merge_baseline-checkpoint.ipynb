{
 "cells": [
  {
   "cell_type": "markdown",
   "metadata": {},
   "source": [
    "The goal of this notebook is to correctly merge all dataframes together"
   ]
  },
  {
   "cell_type": "code",
   "execution_count": 1,
   "metadata": {},
   "outputs": [],
   "source": [
    "import pandas as pd\n",
    "import numpy as np\n",
    "import matplotlib.pyplot as plt"
   ]
  },
  {
   "cell_type": "markdown",
   "metadata": {},
   "source": [
    "# Importing Dataframes"
   ]
  },
  {
   "cell_type": "markdown",
   "metadata": {},
   "source": [
    "## 2019 stats"
   ]
  },
  {
   "cell_type": "code",
   "execution_count": 121,
   "metadata": {},
   "outputs": [],
   "source": [
    "season = pd.read_csv('data/season1920.csv')\n",
    "adv = pd.read_csv('data/ad_1920.csv')\n",
    "salaries = pd.read_csv('data/salaries.csv')\n",
    "scrape538 = pd.read_csv('data/scrape538.csv')"
   ]
  },
  {
   "cell_type": "code",
   "execution_count": 122,
   "metadata": {},
   "outputs": [],
   "source": [
    "season = season.drop(['Unnamed: 0', 'Unnamed: 29'], axis = 1)\n",
    "adv = adv.drop(['Unnamed: 0', 'Pos', 'Age', 'Tm', 'G',\n",
    "                       'MP'], axis = 1)\n",
    "scrape538 = scrape538.drop(['Unnamed: 0', 'Position(s)'], axis = 1)"
   ]
  },
  {
   "cell_type": "code",
   "execution_count": 123,
   "metadata": {},
   "outputs": [],
   "source": [
    "season = season.drop_duplicates(subset = 'Player', keep = 'first')\n",
    "adv = adv.drop_duplicates(subset = 'Player', keep = 'first')\n",
    "df = pd.merge(season, adv, on = 'Player').fillna(0)"
   ]
  },
  {
   "cell_type": "code",
   "execution_count": 70,
   "metadata": {},
   "outputs": [],
   "source": [
    "merged_df = df.merge(salaries, how = 'outer', on = 'Player').merge(scrape538, how = 'outer', on = 'Player')"
   ]
  },
  {
   "cell_type": "code",
   "execution_count": 71,
   "metadata": {
    "scrolled": true
   },
   "outputs": [
    {
     "data": {
      "text/plain": [
       "(583, 67)"
      ]
     },
     "execution_count": 71,
     "metadata": {},
     "output_type": "execute_result"
    }
   ],
   "source": [
    "merged_df.shape"
   ]
  },
  {
   "cell_type": "code",
   "execution_count": 72,
   "metadata": {},
   "outputs": [],
   "source": [
    "problem = merged_df[merged_df.isna().any(axis=1)]"
   ]
  },
  {
   "cell_type": "code",
   "execution_count": 73,
   "metadata": {
    "scrolled": false
   },
   "outputs": [
    {
     "data": {
      "text/plain": [
       "(212, 67)"
      ]
     },
     "execution_count": 73,
     "metadata": {},
     "output_type": "execute_result"
    }
   ],
   "source": [
    "problem.shape"
   ]
  },
  {
   "cell_type": "markdown",
   "metadata": {},
   "source": [
    "export csv and manually clean it."
   ]
  },
  {
   "cell_type": "code",
   "execution_count": 74,
   "metadata": {},
   "outputs": [],
   "source": [
    "problem.to_csv('data/problem_draft.csv')"
   ]
  },
  {
   "cell_type": "markdown",
   "metadata": {},
   "source": [
    "delete the rows that were in the problem csv and then apend the new problem csv to the dataframe "
   ]
  },
  {
   "cell_type": "code",
   "execution_count": 75,
   "metadata": {},
   "outputs": [],
   "source": [
    "merged_df.dropna(inplace = True)"
   ]
  },
  {
   "cell_type": "code",
   "execution_count": 124,
   "metadata": {},
   "outputs": [],
   "source": [
    "fixed19 = pd.read_csv('data/problem.csv')\n",
    "fixed19 = fixed19.drop(['Unnamed: 0', 'Team', 'Minutes'], axis = 1).fillna(0)\n",
    "fixed19 = pd.concat([fixed19, merged_df], ignore_index = True, sort= False)\n",
    "fixed19.to_csv('data/fixed19.csv')"
   ]
  },
  {
   "cell_type": "code",
   "execution_count": 125,
   "metadata": {},
   "outputs": [
    {
     "data": {
      "text/plain": [
       "(470, 67)"
      ]
     },
     "execution_count": 125,
     "metadata": {},
     "output_type": "execute_result"
    }
   ],
   "source": [
    "fixed19.shape"
   ]
  },
  {
   "cell_type": "markdown",
   "metadata": {},
   "source": [
    "## 2018 BR Stats"
   ]
  },
  {
   "cell_type": "code",
   "execution_count": 118,
   "metadata": {},
   "outputs": [],
   "source": [
    "season18 = pd.read_csv('data/season1819.csv', index_col = [0])\n",
    "adv18 = pd.read_csv('data/ad_1819.csv', index_col = [0])"
   ]
  },
  {
   "cell_type": "code",
   "execution_count": 119,
   "metadata": {},
   "outputs": [],
   "source": [
    "season18 = season18.drop(['Unnamed: 29', 'url_list'], axis = 1).fillna(0).drop_duplicates(subset = 'Player', keep = 'first')\n",
    "adv18 = adv18.drop(['Pos', 'Age', 'Tm', 'G', 'MP'], axis =1).fillna(0).drop_duplicates(subset = 'Player', keep = 'first')"
   ]
  },
  {
   "cell_type": "code",
   "execution_count": null,
   "metadata": {},
   "outputs": [],
   "source": []
  },
  {
   "cell_type": "code",
   "execution_count": 80,
   "metadata": {},
   "outputs": [
    {
     "name": "stdout",
     "output_type": "stream",
     "text": [
      "(531, 30)\n",
      "(531, 23)\n"
     ]
    }
   ],
   "source": [
    "print(season18.shape)\n",
    "print(adv18.shape)"
   ]
  },
  {
   "cell_type": "code",
   "execution_count": 120,
   "metadata": {
    "scrolled": false
   },
   "outputs": [
    {
     "data": {
      "text/plain": [
       "(531, 52)"
      ]
     },
     "execution_count": 120,
     "metadata": {},
     "output_type": "execute_result"
    }
   ],
   "source": [
    "stats18 = season18.merge(adv18, how = 'outer', on = 'Player')\n",
    "stats18.shape"
   ]
  },
  {
   "cell_type": "markdown",
   "metadata": {},
   "source": [
    "## 2018 NBA Miner stats"
   ]
  },
  {
   "cell_type": "code",
   "execution_count": 82,
   "metadata": {},
   "outputs": [],
   "source": [
    "misc = pd.read_csv('data/nbam_misc1.csv')\n",
    "dist = pd.read_csv('data/shot_dist18.csv')\n",
    "shot_type = pd.read_csv('data/shot_type18.csv')\n",
    "zone = pd.read_csv('data/shot_zones18.csv')"
   ]
  },
  {
   "cell_type": "code",
   "execution_count": 83,
   "metadata": {},
   "outputs": [],
   "source": [
    "miner = misc.merge(dist, how = 'outer', on = 'Player').merge(shot_type, how = 'outer', on = 'Player').merge(zone, how = 'outer', on = 'Player')"
   ]
  },
  {
   "cell_type": "markdown",
   "metadata": {},
   "source": [
    "## combine 2018 stats"
   ]
  },
  {
   "cell_type": "code",
   "execution_count": 84,
   "metadata": {},
   "outputs": [
    {
     "data": {
      "text/plain": [
       "(595, 100)"
      ]
     },
     "execution_count": 84,
     "metadata": {},
     "output_type": "execute_result"
    }
   ],
   "source": [
    "cstats18 = stats18.merge(miner, how = 'outer', on = 'Player')\n",
    "cstats18.shape"
   ]
  },
  {
   "cell_type": "code",
   "execution_count": 85,
   "metadata": {},
   "outputs": [],
   "source": [
    "cstats18problem = cstats18[cstats18.isna().any(axis = 1)]\n",
    "cstats18.dropna(inplace = True)"
   ]
  },
  {
   "cell_type": "code",
   "execution_count": 86,
   "metadata": {},
   "outputs": [],
   "source": [
    "#export to manually clean\n",
    "cstats18problem.to_csv('data/stat18_probdraft.csv')"
   ]
  },
  {
   "cell_type": "code",
   "execution_count": 87,
   "metadata": {},
   "outputs": [],
   "source": [
    "#import clean code\n",
    "stat18_clean = pd.read_csv('data/stat18_prob.csv')"
   ]
  },
  {
   "cell_type": "code",
   "execution_count": 88,
   "metadata": {},
   "outputs": [
    {
     "data": {
      "text/plain": [
       "(530, 100)"
      ]
     },
     "execution_count": 88,
     "metadata": {},
     "output_type": "execute_result"
    }
   ],
   "source": [
    "stat18_clean = pd.concat([stat18_clean, cstats18], sort= False)\n",
    "stat18_clean.shape"
   ]
  },
  {
   "cell_type": "code",
   "execution_count": 89,
   "metadata": {},
   "outputs": [],
   "source": [
    "stat18_clean.columns = [i + '18' for i in stat18_clean.columns]\n",
    "stat18_clean['Player'] = stat18_clean['Player18']"
   ]
  },
  {
   "cell_type": "code",
   "execution_count": 90,
   "metadata": {},
   "outputs": [
    {
     "data": {
      "text/plain": [
       "Index(['Player18', 'Pos18', 'Age18', 'Tm18', 'G18', 'GS18', 'MP18', 'FG18',\n",
       "       'FGA18', 'FG%18',\n",
       "       ...\n",
       "       'AB3%18', 'MR%18', 'paint_nonra%18', 'RA%18', 'RC3%18', 'LC3%18',\n",
       "       'BC%18', ' 18', ' .118', 'Player'],\n",
       "      dtype='object', length=101)"
      ]
     },
     "execution_count": 90,
     "metadata": {},
     "output_type": "execute_result"
    }
   ],
   "source": [
    "stat18_clean.columns"
   ]
  },
  {
   "cell_type": "markdown",
   "metadata": {},
   "source": [
    "## Putting it together - 2018 + 2019 stats"
   ]
  },
  {
   "cell_type": "code",
   "execution_count": 152,
   "metadata": {},
   "outputs": [],
   "source": [
    "stat2year = fixed19.merge(stat18_clean, how = 'outer', on = 'Player').merge(miner, how = 'outer', on = 'Player')"
   ]
  },
  {
   "cell_type": "code",
   "execution_count": 153,
   "metadata": {},
   "outputs": [
    {
     "data": {
      "text/plain": [
       "(644, 215)"
      ]
     },
     "execution_count": 153,
     "metadata": {},
     "output_type": "execute_result"
    }
   ],
   "source": [
    "stat2year.shape"
   ]
  },
  {
   "cell_type": "code",
   "execution_count": 154,
   "metadata": {},
   "outputs": [],
   "source": [
    "stat2year.dropna(axis = 0, subset = ['salary'], inplace = True)"
   ]
  },
  {
   "cell_type": "code",
   "execution_count": null,
   "metadata": {},
   "outputs": [],
   "source": [
    "merged_df[merged_df.isna().any(axis=1)]"
   ]
  },
  {
   "cell_type": "code",
   "execution_count": 155,
   "metadata": {},
   "outputs": [],
   "source": [
    "problem2year = stat2year[stat2year.isna().any(axis = 1)]\n",
    "problem2year.to_csv('data/problem2year.csv')\n",
    "stat2year.dropna(inplace = True)"
   ]
  },
  {
   "cell_type": "code",
   "execution_count": null,
   "metadata": {},
   "outputs": [],
   "source": []
  }
 ],
 "metadata": {
  "kernelspec": {
   "display_name": "Python 3",
   "language": "python",
   "name": "python3"
  },
  "language_info": {
   "codemirror_mode": {
    "name": "ipython",
    "version": 3
   },
   "file_extension": ".py",
   "mimetype": "text/x-python",
   "name": "python",
   "nbconvert_exporter": "python",
   "pygments_lexer": "ipython3",
   "version": "3.7.4"
  }
 },
 "nbformat": 4,
 "nbformat_minor": 2
}
