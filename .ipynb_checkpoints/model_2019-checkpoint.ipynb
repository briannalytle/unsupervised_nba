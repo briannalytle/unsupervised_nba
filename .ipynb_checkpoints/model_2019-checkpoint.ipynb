{
 "cells": [
  {
   "cell_type": "code",
   "execution_count": 1,
   "metadata": {},
   "outputs": [],
   "source": [
    "import pandas as pd\n",
    "import numpy as np\n",
    "import matplotlib.pyplot as plt\n",
    "\n",
    "import pickle\n",
    "\n",
    "%matplotlib inline\n",
    "\n",
    "from scipy import sparse\n",
    "from sklearn.metrics.pairwise import pairwise_distances\n",
    "\n",
    "from sklearn.model_selection import train_test_split\n",
    "from sklearn.linear_model import LinearRegression\n",
    "from sklearn.metrics import r2_score, silhouette_score\n",
    "from sklearn.decomposition import PCA\n",
    "from sklearn.cluster import KMeans\n",
    "from sklearn.metrics.pairwise import pairwise_distances\n",
    "from sklearn.preprocessing import PolynomialFeatures, StandardScaler"
   ]
  },
  {
   "cell_type": "markdown",
   "metadata": {},
   "source": [
    "## Import DataFrame"
   ]
  },
  {
   "cell_type": "code",
   "execution_count": 2,
   "metadata": {},
   "outputs": [
    {
     "data": {
      "text/plain": [
       "Index(['Player', 'Age_x', 'W', 'L', 'MP', 'FGM', 'FGA', 'FG%', '3PM', '3PA',\n",
       "       '3P%', 'FTM', 'FTA', 'FT%_x', 'OREB', 'DREB_x', 'REB', 'AST', 'TOV',\n",
       "       'PF', 'FP', 'DD2', 'TD3', '+/-', 'DEF_RTG', 'DREB_y', 'DREB%',\n",
       "       'T_DREB%_x', 'STL', 'T_STL%_x', 'BLK', 'T_BLK%_x', 'OP_TOV',\n",
       "       'OP_2NDPTS', 'OP_PAINT', 'DEF_WS', 'USG%', 'T_FGM%', 'T_FGA%', 'T_3PM%',\n",
       "       'T_3PA%', 'T_FTM%', 'T_FTA%', 'T_OREB%', 'T_DREB%_y', 'T_REB%',\n",
       "       'T_AST%', 'T_TOV%', 'T_STL%_y', 'T_BLK%_y', 'T_BLKA%', 'T_PF%',\n",
       "       'T_PFD%', 'T_PTS%', 'Age_y', 'FGA_2P%', 'FGA_3P%', '2PT%', '2PT_MR%',\n",
       "       '3PT%', 'FBPTS%', 'FT%_y', 'OFFTOV%', 'PAINTPTS%', 'AST_2FGM%',\n",
       "       'UAST_2FGM%', 'AST_3FGM%', 'UAST_3FGM%', 'FGM_AST%', 'FGM_UAST%',\n",
       "       'PTS_TOV', '2ND_CH_PTS', 'FB_PTS', 'PAINT_PTS', 'OPP_PTS_TOV',\n",
       "       'OPP_2ND_PTS', 'OPP_FBPTS', 'OPP_PAINT_PTS', 'BLKA', 'PFD', 'Minutes',\n",
       "       'BSR Off.', 'BSR Def.', 'BSR Total', 'OOR Off.', 'OOR Def.',\n",
       "       'OOR Total', 'OVR Off.', 'OVR Def.', 'OVR total', 'WAR', 'salary'],\n",
       "      dtype='object')"
      ]
     },
     "execution_count": 2,
     "metadata": {},
     "output_type": "execute_result"
    }
   ],
   "source": [
    "nba_stats19 = pd.read_csv('data/nba_stats19.csv', index_col = [0])\n",
    "nba_stats19.columns"
   ]
  },
  {
   "cell_type": "code",
   "execution_count": 3,
   "metadata": {
    "scrolled": true
   },
   "outputs": [
    {
     "name": "stdout",
     "output_type": "stream",
     "text": [
      "<class 'pandas.core.frame.DataFrame'>\n",
      "Int64Index: 461 entries, 0 to 460\n",
      "Data columns (total 92 columns):\n",
      "Player           461 non-null object\n",
      "Age_x            461 non-null float64\n",
      "W                461 non-null float64\n",
      "L                461 non-null float64\n",
      "MP               461 non-null float64\n",
      "FGM              461 non-null float64\n",
      "FGA              461 non-null float64\n",
      "FG%              461 non-null float64\n",
      "3PM              461 non-null float64\n",
      "3PA              461 non-null float64\n",
      "3P%              461 non-null float64\n",
      "FTM              461 non-null float64\n",
      "FTA              461 non-null float64\n",
      "FT%_x            461 non-null float64\n",
      "OREB             461 non-null float64\n",
      "DREB_x           461 non-null float64\n",
      "REB              461 non-null float64\n",
      "AST              461 non-null float64\n",
      "TOV              461 non-null float64\n",
      "PF               461 non-null float64\n",
      "FP               461 non-null float64\n",
      "DD2              461 non-null float64\n",
      "TD3              461 non-null float64\n",
      "+/-              461 non-null float64\n",
      "DEF_RTG          461 non-null float64\n",
      "DREB_y           461 non-null float64\n",
      "DREB%            461 non-null float64\n",
      "T_DREB%_x        461 non-null float64\n",
      "STL              461 non-null float64\n",
      "T_STL%_x         461 non-null float64\n",
      "BLK              461 non-null float64\n",
      "T_BLK%_x         461 non-null float64\n",
      "OP_TOV           461 non-null float64\n",
      "OP_2NDPTS        461 non-null float64\n",
      "OP_PAINT         461 non-null float64\n",
      "DEF_WS           461 non-null float64\n",
      "USG%             461 non-null float64\n",
      "T_FGM%           461 non-null float64\n",
      "T_FGA%           461 non-null float64\n",
      "T_3PM%           461 non-null float64\n",
      "T_3PA%           461 non-null float64\n",
      "T_FTM%           461 non-null float64\n",
      "T_FTA%           461 non-null float64\n",
      "T_OREB%          461 non-null float64\n",
      "T_DREB%_y        461 non-null float64\n",
      "T_REB%           461 non-null float64\n",
      "T_AST%           461 non-null float64\n",
      "T_TOV%           461 non-null float64\n",
      "T_STL%_y         461 non-null float64\n",
      "T_BLK%_y         461 non-null float64\n",
      "T_BLKA%          461 non-null float64\n",
      "T_PF%            461 non-null float64\n",
      "T_PFD%           461 non-null float64\n",
      "T_PTS%           461 non-null float64\n",
      "Age_y            461 non-null float64\n",
      "FGA_2P%          461 non-null float64\n",
      "FGA_3P%          461 non-null float64\n",
      "2PT%             461 non-null float64\n",
      "2PT_MR%          461 non-null float64\n",
      "3PT%             461 non-null float64\n",
      "FBPTS%           461 non-null float64\n",
      "FT%_y            461 non-null float64\n",
      "OFFTOV%          461 non-null float64\n",
      "PAINTPTS%        461 non-null float64\n",
      "AST_2FGM%        461 non-null float64\n",
      "UAST_2FGM%       461 non-null float64\n",
      "AST_3FGM%        461 non-null float64\n",
      "UAST_3FGM%       461 non-null float64\n",
      "FGM_AST%         461 non-null float64\n",
      "FGM_UAST%        461 non-null float64\n",
      "PTS_TOV          461 non-null float64\n",
      "2ND_CH_PTS       461 non-null float64\n",
      "FB_PTS           461 non-null float64\n",
      "PAINT_PTS        461 non-null float64\n",
      "OPP_PTS_TOV      461 non-null float64\n",
      "OPP_2ND_PTS      461 non-null float64\n",
      "OPP_FBPTS        461 non-null float64\n",
      "OPP_PAINT_PTS    461 non-null float64\n",
      "BLKA             461 non-null float64\n",
      "PFD              461 non-null float64\n",
      "Minutes          461 non-null float64\n",
      "BSR Off.         461 non-null float64\n",
      "BSR Def.         461 non-null float64\n",
      "BSR Total        461 non-null float64\n",
      "OOR Off.         461 non-null float64\n",
      "OOR Def.         461 non-null float64\n",
      "OOR Total        461 non-null float64\n",
      "OVR Off.         461 non-null float64\n",
      "OVR Def.         461 non-null float64\n",
      "OVR total        461 non-null float64\n",
      "WAR              461 non-null float64\n",
      "salary           461 non-null object\n",
      "dtypes: float64(90), object(2)\n",
      "memory usage: 334.9+ KB\n"
     ]
    }
   ],
   "source": [
    "nba_stats19.info()"
   ]
  },
  {
   "cell_type": "markdown",
   "metadata": {},
   "source": [
    "## Renaming columns that somehow got messed up"
   ]
  },
  {
   "cell_type": "code",
   "execution_count": 4,
   "metadata": {},
   "outputs": [],
   "source": [
    "nba_stats19.drop(columns = ['DREB_y', 'T_DREB%_y', 'T_STL%_y', 'T_BLK%_y', 'Age_y','FT%_y'], inplace = True)\n",
    "nba_stats19.rename(columns = {'Age_x': 'Age', 'FT%_x': 'FT%', 'DREB_x': 'DREB', 'T_DREB%_x' : 'T_DREB%',\n",
    "                             'T_STL%_x': 'T_STL%', 'T_BLK%_x': 'T_BLK%'}, inplace = True)"
   ]
  },
  {
   "cell_type": "code",
   "execution_count": 5,
   "metadata": {},
   "outputs": [
    {
     "data": {
      "text/plain": [
       "(461, 86)"
      ]
     },
     "execution_count": 5,
     "metadata": {},
     "output_type": "execute_result"
    }
   ],
   "source": [
    "nba_stats19.shape"
   ]
  },
  {
   "cell_type": "code",
   "execution_count": 6,
   "metadata": {
    "scrolled": true
   },
   "outputs": [
    {
     "name": "stdout",
     "output_type": "stream",
     "text": [
      "<class 'pandas.core.frame.DataFrame'>\n",
      "Int64Index: 461 entries, 0 to 460\n",
      "Data columns (total 86 columns):\n",
      "Player           461 non-null object\n",
      "Age              461 non-null float64\n",
      "W                461 non-null float64\n",
      "L                461 non-null float64\n",
      "MP               461 non-null float64\n",
      "FGM              461 non-null float64\n",
      "FGA              461 non-null float64\n",
      "FG%              461 non-null float64\n",
      "3PM              461 non-null float64\n",
      "3PA              461 non-null float64\n",
      "3P%              461 non-null float64\n",
      "FTM              461 non-null float64\n",
      "FTA              461 non-null float64\n",
      "FT%              461 non-null float64\n",
      "OREB             461 non-null float64\n",
      "DREB             461 non-null float64\n",
      "REB              461 non-null float64\n",
      "AST              461 non-null float64\n",
      "TOV              461 non-null float64\n",
      "PF               461 non-null float64\n",
      "FP               461 non-null float64\n",
      "DD2              461 non-null float64\n",
      "TD3              461 non-null float64\n",
      "+/-              461 non-null float64\n",
      "DEF_RTG          461 non-null float64\n",
      "DREB%            461 non-null float64\n",
      "T_DREB%          461 non-null float64\n",
      "STL              461 non-null float64\n",
      "T_STL%           461 non-null float64\n",
      "BLK              461 non-null float64\n",
      "T_BLK%           461 non-null float64\n",
      "OP_TOV           461 non-null float64\n",
      "OP_2NDPTS        461 non-null float64\n",
      "OP_PAINT         461 non-null float64\n",
      "DEF_WS           461 non-null float64\n",
      "USG%             461 non-null float64\n",
      "T_FGM%           461 non-null float64\n",
      "T_FGA%           461 non-null float64\n",
      "T_3PM%           461 non-null float64\n",
      "T_3PA%           461 non-null float64\n",
      "T_FTM%           461 non-null float64\n",
      "T_FTA%           461 non-null float64\n",
      "T_OREB%          461 non-null float64\n",
      "T_REB%           461 non-null float64\n",
      "T_AST%           461 non-null float64\n",
      "T_TOV%           461 non-null float64\n",
      "T_BLKA%          461 non-null float64\n",
      "T_PF%            461 non-null float64\n",
      "T_PFD%           461 non-null float64\n",
      "T_PTS%           461 non-null float64\n",
      "FGA_2P%          461 non-null float64\n",
      "FGA_3P%          461 non-null float64\n",
      "2PT%             461 non-null float64\n",
      "2PT_MR%          461 non-null float64\n",
      "3PT%             461 non-null float64\n",
      "FBPTS%           461 non-null float64\n",
      "OFFTOV%          461 non-null float64\n",
      "PAINTPTS%        461 non-null float64\n",
      "AST_2FGM%        461 non-null float64\n",
      "UAST_2FGM%       461 non-null float64\n",
      "AST_3FGM%        461 non-null float64\n",
      "UAST_3FGM%       461 non-null float64\n",
      "FGM_AST%         461 non-null float64\n",
      "FGM_UAST%        461 non-null float64\n",
      "PTS_TOV          461 non-null float64\n",
      "2ND_CH_PTS       461 non-null float64\n",
      "FB_PTS           461 non-null float64\n",
      "PAINT_PTS        461 non-null float64\n",
      "OPP_PTS_TOV      461 non-null float64\n",
      "OPP_2ND_PTS      461 non-null float64\n",
      "OPP_FBPTS        461 non-null float64\n",
      "OPP_PAINT_PTS    461 non-null float64\n",
      "BLKA             461 non-null float64\n",
      "PFD              461 non-null float64\n",
      "Minutes          461 non-null float64\n",
      "BSR Off.         461 non-null float64\n",
      "BSR Def.         461 non-null float64\n",
      "BSR Total        461 non-null float64\n",
      "OOR Off.         461 non-null float64\n",
      "OOR Def.         461 non-null float64\n",
      "OOR Total        461 non-null float64\n",
      "OVR Off.         461 non-null float64\n",
      "OVR Def.         461 non-null float64\n",
      "OVR total        461 non-null float64\n",
      "WAR              461 non-null float64\n",
      "salary           461 non-null object\n",
      "dtypes: float64(84), object(2)\n",
      "memory usage: 313.3+ KB\n"
     ]
    }
   ],
   "source": [
    "nba_stats19.info()"
   ]
  },
  {
   "cell_type": "markdown",
   "metadata": {},
   "source": [
    "## Sorting features into categories"
   ]
  },
  {
   "cell_type": "code",
   "execution_count": 7,
   "metadata": {
    "scrolled": true
   },
   "outputs": [],
   "source": [
    "offensive_stats = ['FG%', '3P%', 'OREB', 'TOV', 'DD2',\n",
    "            'TD3', 'T_FGM%', 'T_FGA%', 'T_3PM%', 'T_3PA%', 'T_OREB%',\n",
    "            'T_TOV%', 'T_STL%', '2ND_CH_PTS', 'FB_PTS', 'BSR Off.',\n",
    "            'OOR Off.', 'OVR Off.', 'WAR', 'FP', 'STL']"
   ]
  },
  {
   "cell_type": "code",
   "execution_count": 8,
   "metadata": {},
   "outputs": [],
   "source": [
    "defensive_stats = ['DREB', 'DEF_RTG', 'DREB%', 'T_DREB%', 'STL', 'T_STL%',\n",
    "            'BLK', 'DEF_WS', 'T_DREB%', 'T_BLK%', 'T_BLKA%',\n",
    "            'BLKA', 'BSR Def.', 'OVR Def.', 'OVR Def.', 'WAR', 'FP']"
   ]
  },
  {
   "cell_type": "code",
   "execution_count": 9,
   "metadata": {},
   "outputs": [],
   "source": [
    "overall_stats = ['REB','AST', 'FP', 'DD2', 'TD3', 'USG%', 'T_REB%',\n",
    "          'T_AST%', 'PTS_TOV', 'BSR Total', 'OOR Total',\n",
    "          'OVR total', 'WAR']"
   ]
  },
  {
   "cell_type": "code",
   "execution_count": 10,
   "metadata": {},
   "outputs": [],
   "source": [
    "shooting_stats = ['FGA_2P%', 'FGA_3P%', '2PT%', '2PT_MR%', '3P%',\n",
    "           'FBPTS%', 'OFFTOV%', 'PAINTPTS%', 'AST_2FGM%', 'UAST_2FGM%',\n",
    "           'AST_3FGM%', 'UAST_3FGM%', 'FGM_AST%', 'FGM_UAST%'\n",
    "           ]"
   ]
  },
  {
   "cell_type": "markdown",
   "metadata": {},
   "source": [
    "### Offensive"
   ]
  },
  {
   "cell_type": "code",
   "execution_count": 14,
   "metadata": {},
   "outputs": [
    {
     "name": "stdout",
     "output_type": "stream",
     "text": [
      "Cumulative Explained Variance: 0.70960900264003\n"
     ]
    }
   ],
   "source": [
    "X = nba_stats19[offensive_stats]\n",
    "y = nba_stats19['Player']\n",
    "\n",
    "#scale data\n",
    "sc = StandardScaler()\n",
    "X_sc = sc.fit_transform(X)\n",
    "\n",
    "#dimensionality reduction\n",
    "pca = PCA(n_components = 5)\n",
    "pca.fit(X_sc)\n",
    "X_pca = pca.transform(X_sc)\n",
    "print(\"Cumulative Explained Variance:\", pca.explained_variance_ratio_.sum())"
   ]
  },
  {
   "cell_type": "code",
   "execution_count": 15,
   "metadata": {
    "scrolled": true
   },
   "outputs": [
    {
     "data": {
      "text/plain": [
       "0.20118878456482017"
      ]
     },
     "execution_count": 15,
     "metadata": {},
     "output_type": "execute_result"
    }
   ],
   "source": [
    "#creating clusters\n",
    "offensive = KMeans(n_clusters = 5, random_state= 248)\n",
    "offensive.fit(X_pca)\n",
    "y_kmeans = offensive.predict(X_pca)\n",
    "nba_stats19['off_kmean'] = offensive.labels_\n",
    "off_sil = silhouette_score(X_sc, offensive.labels_)\n",
    "silhouette_score(X_sc, offensive.labels_)"
   ]
  },
  {
   "cell_type": "markdown",
   "metadata": {},
   "source": [
    "### Defensive"
   ]
  },
  {
   "cell_type": "code",
   "execution_count": 16,
   "metadata": {},
   "outputs": [
    {
     "name": "stdout",
     "output_type": "stream",
     "text": [
      "Cumulative Explained Variance: 0.8244629789328966\n"
     ]
    }
   ],
   "source": [
    "X = nba_stats19[defensive_stats]\n",
    "y = nba_stats19['Player']\n",
    "\n",
    "#scale data\n",
    "sc = StandardScaler()\n",
    "X_sc = sc.fit_transform(X)\n",
    "\n",
    "#dimensionality reduction\n",
    "pca = PCA(n_components = 5)\n",
    "pca.fit(X_sc)\n",
    "X_pca = pca.transform(X_sc)\n",
    "print(\"Cumulative Explained Variance:\", pca.explained_variance_ratio_.sum())"
   ]
  },
  {
   "cell_type": "code",
   "execution_count": 17,
   "metadata": {},
   "outputs": [
    {
     "data": {
      "text/plain": [
       "0.17014285371550952"
      ]
     },
     "execution_count": 17,
     "metadata": {},
     "output_type": "execute_result"
    }
   ],
   "source": [
    "#creating clusters\n",
    "defensive = KMeans(n_clusters = 5, random_state= 248)\n",
    "defensive.fit(X_pca)\n",
    "y_kmeans = defensive.predict(X_pca)\n",
    "nba_stats19['def_kmean'] = defensive.labels_\n",
    "def_sil = silhouette_score(X_sc, defensive.labels_)\n",
    "silhouette_score(X_sc, defensive.labels_)"
   ]
  },
  {
   "cell_type": "markdown",
   "metadata": {},
   "source": [
    "### Overall"
   ]
  },
  {
   "cell_type": "code",
   "execution_count": 18,
   "metadata": {},
   "outputs": [
    {
     "name": "stdout",
     "output_type": "stream",
     "text": [
      "Cumulative Explained Variance: 0.8297771297051779\n"
     ]
    }
   ],
   "source": [
    "X = nba_stats19[overall_stats]\n",
    "y = nba_stats19['Player']\n",
    "\n",
    "#scale data\n",
    "sc = StandardScaler()\n",
    "X_sc = sc.fit_transform(X)\n",
    "\n",
    "#dimensionality reduction\n",
    "pca = PCA(n_components = 5)\n",
    "pca.fit(X_sc)\n",
    "X_pca = pca.transform(X_sc)\n",
    "print(\"Cumulative Explained Variance:\", pca.explained_variance_ratio_.sum())"
   ]
  },
  {
   "cell_type": "code",
   "execution_count": 19,
   "metadata": {},
   "outputs": [
    {
     "data": {
      "text/plain": [
       "0.24889287162905363"
      ]
     },
     "execution_count": 19,
     "metadata": {},
     "output_type": "execute_result"
    }
   ],
   "source": [
    "#creating clusters\n",
    "overall = KMeans(n_clusters = 5, random_state = 248)\n",
    "overall.fit(X_pca)\n",
    "y_kmeans = overall.predict(X_pca)\n",
    "nba_stats19['ov_kmean'] = overall.labels_\n",
    "over_sil = silhouette_score(X_sc, overall.labels_)\n",
    "silhouette_score(X_sc, overall.labels_)"
   ]
  },
  {
   "cell_type": "markdown",
   "metadata": {},
   "source": [
    "### Shooting"
   ]
  },
  {
   "cell_type": "code",
   "execution_count": 20,
   "metadata": {},
   "outputs": [
    {
     "name": "stdout",
     "output_type": "stream",
     "text": [
      "Cumulative Explained Variance: 0.9635171166779746\n"
     ]
    }
   ],
   "source": [
    "X = nba_stats19[shooting_stats]\n",
    "y = nba_stats19['Player']\n",
    "\n",
    "#scale data\n",
    "sc = StandardScaler()\n",
    "X_sc = sc.fit_transform(X)\n",
    "\n",
    "#dimensionality reduction\n",
    "pca = PCA(n_components = 8)\n",
    "pca.fit(X_sc)\n",
    "X_pca = pca.transform(X_sc)\n",
    "print(\"Cumulative Explained Variance:\", pca.explained_variance_ratio_.sum())"
   ]
  },
  {
   "cell_type": "code",
   "execution_count": 21,
   "metadata": {},
   "outputs": [
    {
     "data": {
      "text/plain": [
       "0.28667910678720615"
      ]
     },
     "execution_count": 21,
     "metadata": {},
     "output_type": "execute_result"
    }
   ],
   "source": [
    "#creating clusters\n",
    "shoot = KMeans(n_clusters = 5, random_state = 248)\n",
    "shoot.fit(X_pca)\n",
    "y_kmeans = shoot.predict(X_pca)\n",
    "nba_stats19['shoot_kmean'] = shoot.labels_\n",
    "shoot_sil = silhouette_score(X_sc, shoot.labels_)\n",
    "silhouette_score(X_sc, shoot.labels_)"
   ]
  },
  {
   "cell_type": "code",
   "execution_count": 22,
   "metadata": {},
   "outputs": [
    {
     "name": "stdout",
     "output_type": "stream",
     "text": [
      "Shooting classification similarity score is 0.28667910678720615\n",
      "Overall classification similarity score is 0.24889287162905363\n",
      "Defensive classification similarity score is 0.17014285371550952\n",
      "Offensive classification similarity score is 0.20118878456482017\n"
     ]
    }
   ],
   "source": [
    "print(f'Shooting classification similarity score is {shoot_sil}')\n",
    "print(f'Overall classification similarity score is {over_sil}')\n",
    "print(f'Defensive classification similarity score is {def_sil}')\n",
    "print(f'Offensive classification similarity score is {off_sil}')"
   ]
  },
  {
   "cell_type": "code",
   "execution_count": null,
   "metadata": {},
   "outputs": [],
   "source": [
    "nba_stats19.to_csv('data/nba_2eda.csv')"
   ]
  },
  {
   "cell_type": "markdown",
   "metadata": {},
   "source": [
    "# Rec system"
   ]
  },
  {
   "cell_type": "code",
   "execution_count": 23,
   "metadata": {},
   "outputs": [],
   "source": [
    "from scipy import sparse\n",
    "from sklearn.metrics.pairwise import pairwise_distances"
   ]
  },
  {
   "cell_type": "code",
   "execution_count": 24,
   "metadata": {},
   "outputs": [],
   "source": [
    "nba_stats19 = nba_stats19[nba_stats19['MP'] > 10]"
   ]
  },
  {
   "cell_type": "markdown",
   "metadata": {},
   "source": [
    "## Offensive"
   ]
  },
  {
   "cell_type": "code",
   "execution_count": 25,
   "metadata": {},
   "outputs": [
    {
     "data": {
      "text/html": [
       "<div>\n",
       "<style scoped>\n",
       "    .dataframe tbody tr th:only-of-type {\n",
       "        vertical-align: middle;\n",
       "    }\n",
       "\n",
       "    .dataframe tbody tr th {\n",
       "        vertical-align: top;\n",
       "    }\n",
       "\n",
       "    .dataframe thead th {\n",
       "        text-align: right;\n",
       "    }\n",
       "</style>\n",
       "<table border=\"1\" class=\"dataframe\">\n",
       "  <thead>\n",
       "    <tr style=\"text-align: right;\">\n",
       "      <th>Player</th>\n",
       "      <th>Aaron Gordon</th>\n",
       "      <th>Aaron Holiday</th>\n",
       "      <th>Abdel Nader</th>\n",
       "      <th>Al Horford</th>\n",
       "      <th>Al-Farouq Aminu</th>\n",
       "      <th>Alec Burks</th>\n",
       "      <th>Alex Caruso</th>\n",
       "      <th>Alex Len</th>\n",
       "      <th>Alfonzo McKinnie</th>\n",
       "      <th>Allen Crabbe</th>\n",
       "      <th>...</th>\n",
       "      <th>Vince Carter</th>\n",
       "      <th>Wayne Ellington</th>\n",
       "      <th>Wendell Carter Jr.</th>\n",
       "      <th>Wes Iwundu</th>\n",
       "      <th>Wesley Matthews</th>\n",
       "      <th>Will Barton</th>\n",
       "      <th>Willie Cauley-Stein</th>\n",
       "      <th>Yogi Ferrell</th>\n",
       "      <th>Zach Collins</th>\n",
       "      <th>Zach LaVine</th>\n",
       "    </tr>\n",
       "    <tr>\n",
       "      <th>Player</th>\n",
       "      <th></th>\n",
       "      <th></th>\n",
       "      <th></th>\n",
       "      <th></th>\n",
       "      <th></th>\n",
       "      <th></th>\n",
       "      <th></th>\n",
       "      <th></th>\n",
       "      <th></th>\n",
       "      <th></th>\n",
       "      <th></th>\n",
       "      <th></th>\n",
       "      <th></th>\n",
       "      <th></th>\n",
       "      <th></th>\n",
       "      <th></th>\n",
       "      <th></th>\n",
       "      <th></th>\n",
       "      <th></th>\n",
       "      <th></th>\n",
       "      <th></th>\n",
       "    </tr>\n",
       "  </thead>\n",
       "  <tbody>\n",
       "    <tr>\n",
       "      <td>Aaron Gordon</td>\n",
       "      <td>0.000000</td>\n",
       "      <td>0.062865</td>\n",
       "      <td>0.080335</td>\n",
       "      <td>0.007044</td>\n",
       "      <td>0.064425</td>\n",
       "      <td>0.036614</td>\n",
       "      <td>0.092330</td>\n",
       "      <td>0.084181</td>\n",
       "      <td>0.072362</td>\n",
       "      <td>0.066153</td>\n",
       "      <td>...</td>\n",
       "      <td>0.083200</td>\n",
       "      <td>0.153960</td>\n",
       "      <td>0.122313</td>\n",
       "      <td>0.060687</td>\n",
       "      <td>0.081352</td>\n",
       "      <td>0.016259</td>\n",
       "      <td>0.165188</td>\n",
       "      <td>0.046776</td>\n",
       "      <td>0.069610</td>\n",
       "      <td>0.043767</td>\n",
       "    </tr>\n",
       "    <tr>\n",
       "      <td>Aaron Holiday</td>\n",
       "      <td>0.062865</td>\n",
       "      <td>0.000000</td>\n",
       "      <td>0.045158</td>\n",
       "      <td>0.080047</td>\n",
       "      <td>0.087496</td>\n",
       "      <td>0.022096</td>\n",
       "      <td>0.037552</td>\n",
       "      <td>0.220683</td>\n",
       "      <td>0.072213</td>\n",
       "      <td>0.056560</td>\n",
       "      <td>...</td>\n",
       "      <td>0.028649</td>\n",
       "      <td>0.073519</td>\n",
       "      <td>0.304102</td>\n",
       "      <td>0.095852</td>\n",
       "      <td>0.043742</td>\n",
       "      <td>0.047453</td>\n",
       "      <td>0.309201</td>\n",
       "      <td>0.034812</td>\n",
       "      <td>0.144879</td>\n",
       "      <td>0.028244</td>\n",
       "    </tr>\n",
       "    <tr>\n",
       "      <td>Abdel Nader</td>\n",
       "      <td>0.080335</td>\n",
       "      <td>0.045158</td>\n",
       "      <td>0.000000</td>\n",
       "      <td>0.106623</td>\n",
       "      <td>0.114022</td>\n",
       "      <td>0.042895</td>\n",
       "      <td>0.095226</td>\n",
       "      <td>0.180826</td>\n",
       "      <td>0.075633</td>\n",
       "      <td>0.039390</td>\n",
       "      <td>...</td>\n",
       "      <td>0.043248</td>\n",
       "      <td>0.051349</td>\n",
       "      <td>0.308359</td>\n",
       "      <td>0.134435</td>\n",
       "      <td>0.052355</td>\n",
       "      <td>0.074623</td>\n",
       "      <td>0.341217</td>\n",
       "      <td>0.021788</td>\n",
       "      <td>0.110415</td>\n",
       "      <td>0.060702</td>\n",
       "    </tr>\n",
       "    <tr>\n",
       "      <td>Al Horford</td>\n",
       "      <td>0.007044</td>\n",
       "      <td>0.080047</td>\n",
       "      <td>0.106623</td>\n",
       "      <td>0.000000</td>\n",
       "      <td>0.076409</td>\n",
       "      <td>0.049792</td>\n",
       "      <td>0.109774</td>\n",
       "      <td>0.093948</td>\n",
       "      <td>0.073274</td>\n",
       "      <td>0.078137</td>\n",
       "      <td>...</td>\n",
       "      <td>0.104513</td>\n",
       "      <td>0.179263</td>\n",
       "      <td>0.109948</td>\n",
       "      <td>0.081838</td>\n",
       "      <td>0.089144</td>\n",
       "      <td>0.014569</td>\n",
       "      <td>0.166322</td>\n",
       "      <td>0.069269</td>\n",
       "      <td>0.069727</td>\n",
       "      <td>0.067315</td>\n",
       "    </tr>\n",
       "    <tr>\n",
       "      <td>Al-Farouq Aminu</td>\n",
       "      <td>0.064425</td>\n",
       "      <td>0.087496</td>\n",
       "      <td>0.114022</td>\n",
       "      <td>0.076409</td>\n",
       "      <td>0.000000</td>\n",
       "      <td>0.103917</td>\n",
       "      <td>0.085332</td>\n",
       "      <td>0.095789</td>\n",
       "      <td>0.080195</td>\n",
       "      <td>0.076858</td>\n",
       "      <td>...</td>\n",
       "      <td>0.116115</td>\n",
       "      <td>0.233386</td>\n",
       "      <td>0.183394</td>\n",
       "      <td>0.053210</td>\n",
       "      <td>0.150223</td>\n",
       "      <td>0.095413</td>\n",
       "      <td>0.163980</td>\n",
       "      <td>0.072323</td>\n",
       "      <td>0.144689</td>\n",
       "      <td>0.125585</td>\n",
       "    </tr>\n",
       "  </tbody>\n",
       "</table>\n",
       "<p>5 rows × 365 columns</p>\n",
       "</div>"
      ],
      "text/plain": [
       "Player           Aaron Gordon  Aaron Holiday  Abdel Nader  Al Horford  \\\n",
       "Player                                                                  \n",
       "Aaron Gordon         0.000000       0.062865     0.080335    0.007044   \n",
       "Aaron Holiday        0.062865       0.000000     0.045158    0.080047   \n",
       "Abdel Nader          0.080335       0.045158     0.000000    0.106623   \n",
       "Al Horford           0.007044       0.080047     0.106623    0.000000   \n",
       "Al-Farouq Aminu      0.064425       0.087496     0.114022    0.076409   \n",
       "\n",
       "Player           Al-Farouq Aminu  Alec Burks  Alex Caruso  Alex Len  \\\n",
       "Player                                                                \n",
       "Aaron Gordon            0.064425    0.036614     0.092330  0.084181   \n",
       "Aaron Holiday           0.087496    0.022096     0.037552  0.220683   \n",
       "Abdel Nader             0.114022    0.042895     0.095226  0.180826   \n",
       "Al Horford              0.076409    0.049792     0.109774  0.093948   \n",
       "Al-Farouq Aminu         0.000000    0.103917     0.085332  0.095789   \n",
       "\n",
       "Player           Alfonzo McKinnie  Allen Crabbe  ...  Vince Carter  \\\n",
       "Player                                           ...                 \n",
       "Aaron Gordon             0.072362      0.066153  ...      0.083200   \n",
       "Aaron Holiday            0.072213      0.056560  ...      0.028649   \n",
       "Abdel Nader              0.075633      0.039390  ...      0.043248   \n",
       "Al Horford               0.073274      0.078137  ...      0.104513   \n",
       "Al-Farouq Aminu          0.080195      0.076858  ...      0.116115   \n",
       "\n",
       "Player           Wayne Ellington  Wendell Carter Jr.  Wes Iwundu  \\\n",
       "Player                                                             \n",
       "Aaron Gordon            0.153960            0.122313    0.060687   \n",
       "Aaron Holiday           0.073519            0.304102    0.095852   \n",
       "Abdel Nader             0.051349            0.308359    0.134435   \n",
       "Al Horford              0.179263            0.109948    0.081838   \n",
       "Al-Farouq Aminu         0.233386            0.183394    0.053210   \n",
       "\n",
       "Player           Wesley Matthews  Will Barton  Willie Cauley-Stein  \\\n",
       "Player                                                               \n",
       "Aaron Gordon            0.081352     0.016259             0.165188   \n",
       "Aaron Holiday           0.043742     0.047453             0.309201   \n",
       "Abdel Nader             0.052355     0.074623             0.341217   \n",
       "Al Horford              0.089144     0.014569             0.166322   \n",
       "Al-Farouq Aminu         0.150223     0.095413             0.163980   \n",
       "\n",
       "Player           Yogi Ferrell  Zach Collins  Zach LaVine  \n",
       "Player                                                    \n",
       "Aaron Gordon         0.046776      0.069610     0.043767  \n",
       "Aaron Holiday        0.034812      0.144879     0.028244  \n",
       "Abdel Nader          0.021788      0.110415     0.060702  \n",
       "Al Horford           0.069269      0.069727     0.067315  \n",
       "Al-Farouq Aminu      0.072323      0.144689     0.125585  \n",
       "\n",
       "[5 rows x 365 columns]"
      ]
     },
     "execution_count": 25,
     "metadata": {},
     "output_type": "execute_result"
    }
   ],
   "source": [
    "#create pivot table\n",
    "off_piv = pd.pivot_table(nba_stats19[offensive_stats], index = nba_stats19['Player'])\n",
    "#create sparse matrix\n",
    "off_sparse = sparse.csr_matrix(off_piv.fillna(0))\n",
    "# #calculate cosine similarity\n",
    "off_recommender = pairwise_distances(off_sparse, metric = 'cosine')\n",
    "# #creating recommender dataframe\n",
    "off_rec_df = pd.DataFrame(off_recommender, columns = off_piv.index, index = off_piv.index)\n",
    "off_rec_df.head()"
   ]
  },
  {
   "cell_type": "code",
   "execution_count": 26,
   "metadata": {},
   "outputs": [
    {
     "data": {
      "text/plain": [
       "Player\n",
       "Luka Doncic          0.010247\n",
       "Bradley Beal         0.016804\n",
       "Malcolm Brogdon      0.016933\n",
       "Pascal Siakam        0.021469\n",
       "James Harden         0.024222\n",
       "Kyrie Irving         0.024472\n",
       "Brandon Ingram       0.024619\n",
       "Kawhi Leonard        0.025052\n",
       "Damian Lillard       0.025092\n",
       "Spencer Dinwiddie    0.026511\n",
       "Name: LeBron James, dtype: float64"
      ]
     },
     "execution_count": 26,
     "metadata": {},
     "output_type": "execute_result"
    }
   ],
   "source": [
    "#evaluating matrix\n",
    "off_rec_df['LeBron James'].sort_values()[1:11]"
   ]
  },
  {
   "cell_type": "markdown",
   "metadata": {},
   "source": [
    "## Defensive"
   ]
  },
  {
   "cell_type": "code",
   "execution_count": 27,
   "metadata": {},
   "outputs": [],
   "source": [
    "#create pivot table\n",
    "# def_piv = pd.pivot_table(nba_stats19[defensive_stats], index = nba_stats19['Player'])\n",
    "# #create sparse matrix\n",
    "# off_sparse = sparse.csr_matrix(off_piv.fillna(0))\n",
    "# # #calculate cosine similarity\n",
    "# off_recommender = pairwise_distances(off_sparse, metric = 'cosine')\n",
    "# # #creating recommender dataframe\n",
    "# off_rec_df = pd.DataFrame(off_recommender, columns = off_piv.index, index = off_piv.index)\n",
    "# off_rec_df.head()"
   ]
  },
  {
   "cell_type": "markdown",
   "metadata": {},
   "source": [
    "## Overall"
   ]
  },
  {
   "cell_type": "code",
   "execution_count": 28,
   "metadata": {},
   "outputs": [
    {
     "data": {
      "text/html": [
       "<div>\n",
       "<style scoped>\n",
       "    .dataframe tbody tr th:only-of-type {\n",
       "        vertical-align: middle;\n",
       "    }\n",
       "\n",
       "    .dataframe tbody tr th {\n",
       "        vertical-align: top;\n",
       "    }\n",
       "\n",
       "    .dataframe thead th {\n",
       "        text-align: right;\n",
       "    }\n",
       "</style>\n",
       "<table border=\"1\" class=\"dataframe\">\n",
       "  <thead>\n",
       "    <tr style=\"text-align: right;\">\n",
       "      <th>Player</th>\n",
       "      <th>Aaron Gordon</th>\n",
       "      <th>Aaron Holiday</th>\n",
       "      <th>Abdel Nader</th>\n",
       "      <th>Al Horford</th>\n",
       "      <th>Al-Farouq Aminu</th>\n",
       "      <th>Alec Burks</th>\n",
       "      <th>Alex Caruso</th>\n",
       "      <th>Alex Len</th>\n",
       "      <th>Alfonzo McKinnie</th>\n",
       "      <th>Allen Crabbe</th>\n",
       "      <th>...</th>\n",
       "      <th>Vince Carter</th>\n",
       "      <th>Wayne Ellington</th>\n",
       "      <th>Wendell Carter Jr.</th>\n",
       "      <th>Wes Iwundu</th>\n",
       "      <th>Wesley Matthews</th>\n",
       "      <th>Will Barton</th>\n",
       "      <th>Willie Cauley-Stein</th>\n",
       "      <th>Yogi Ferrell</th>\n",
       "      <th>Zach Collins</th>\n",
       "      <th>Zach LaVine</th>\n",
       "    </tr>\n",
       "    <tr>\n",
       "      <th>Player</th>\n",
       "      <th></th>\n",
       "      <th></th>\n",
       "      <th></th>\n",
       "      <th></th>\n",
       "      <th></th>\n",
       "      <th></th>\n",
       "      <th></th>\n",
       "      <th></th>\n",
       "      <th></th>\n",
       "      <th></th>\n",
       "      <th></th>\n",
       "      <th></th>\n",
       "      <th></th>\n",
       "      <th></th>\n",
       "      <th></th>\n",
       "      <th></th>\n",
       "      <th></th>\n",
       "      <th></th>\n",
       "      <th></th>\n",
       "      <th></th>\n",
       "      <th></th>\n",
       "    </tr>\n",
       "  </thead>\n",
       "  <tbody>\n",
       "    <tr>\n",
       "      <td>Aaron Gordon</td>\n",
       "      <td>0.000000</td>\n",
       "      <td>0.092530</td>\n",
       "      <td>0.090480</td>\n",
       "      <td>0.026746</td>\n",
       "      <td>0.054973</td>\n",
       "      <td>0.006386</td>\n",
       "      <td>0.089115</td>\n",
       "      <td>0.110502</td>\n",
       "      <td>0.198380</td>\n",
       "      <td>0.092795</td>\n",
       "      <td>...</td>\n",
       "      <td>0.083081</td>\n",
       "      <td>0.080277</td>\n",
       "      <td>0.102671</td>\n",
       "      <td>0.093784</td>\n",
       "      <td>0.064194</td>\n",
       "      <td>0.100352</td>\n",
       "      <td>0.050329</td>\n",
       "      <td>0.128649</td>\n",
       "      <td>0.089934</td>\n",
       "      <td>0.043238</td>\n",
       "    </tr>\n",
       "    <tr>\n",
       "      <td>Aaron Holiday</td>\n",
       "      <td>0.092530</td>\n",
       "      <td>0.000000</td>\n",
       "      <td>0.149864</td>\n",
       "      <td>0.082794</td>\n",
       "      <td>0.166356</td>\n",
       "      <td>0.067420</td>\n",
       "      <td>0.021476</td>\n",
       "      <td>0.214931</td>\n",
       "      <td>0.408697</td>\n",
       "      <td>0.209275</td>\n",
       "      <td>...</td>\n",
       "      <td>0.178264</td>\n",
       "      <td>0.104511</td>\n",
       "      <td>0.303155</td>\n",
       "      <td>0.182218</td>\n",
       "      <td>0.090841</td>\n",
       "      <td>0.126986</td>\n",
       "      <td>0.184291</td>\n",
       "      <td>0.047840</td>\n",
       "      <td>0.056308</td>\n",
       "      <td>0.066980</td>\n",
       "    </tr>\n",
       "    <tr>\n",
       "      <td>Abdel Nader</td>\n",
       "      <td>0.090480</td>\n",
       "      <td>0.149864</td>\n",
       "      <td>0.000000</td>\n",
       "      <td>0.181571</td>\n",
       "      <td>0.061875</td>\n",
       "      <td>0.087203</td>\n",
       "      <td>0.195861</td>\n",
       "      <td>0.049500</td>\n",
       "      <td>0.181469</td>\n",
       "      <td>0.038813</td>\n",
       "      <td>...</td>\n",
       "      <td>0.082310</td>\n",
       "      <td>0.086597</td>\n",
       "      <td>0.227903</td>\n",
       "      <td>0.039373</td>\n",
       "      <td>0.198440</td>\n",
       "      <td>0.289010</td>\n",
       "      <td>0.119500</td>\n",
       "      <td>0.155811</td>\n",
       "      <td>0.229570</td>\n",
       "      <td>0.095114</td>\n",
       "    </tr>\n",
       "    <tr>\n",
       "      <td>Al Horford</td>\n",
       "      <td>0.026746</td>\n",
       "      <td>0.082794</td>\n",
       "      <td>0.181571</td>\n",
       "      <td>0.000000</td>\n",
       "      <td>0.120561</td>\n",
       "      <td>0.028042</td>\n",
       "      <td>0.064512</td>\n",
       "      <td>0.194956</td>\n",
       "      <td>0.276635</td>\n",
       "      <td>0.201784</td>\n",
       "      <td>...</td>\n",
       "      <td>0.135358</td>\n",
       "      <td>0.130399</td>\n",
       "      <td>0.109739</td>\n",
       "      <td>0.194251</td>\n",
       "      <td>0.028030</td>\n",
       "      <td>0.029273</td>\n",
       "      <td>0.079105</td>\n",
       "      <td>0.141386</td>\n",
       "      <td>0.035956</td>\n",
       "      <td>0.074616</td>\n",
       "    </tr>\n",
       "    <tr>\n",
       "      <td>Al-Farouq Aminu</td>\n",
       "      <td>0.054973</td>\n",
       "      <td>0.166356</td>\n",
       "      <td>0.061875</td>\n",
       "      <td>0.120561</td>\n",
       "      <td>0.000000</td>\n",
       "      <td>0.083015</td>\n",
       "      <td>0.192647</td>\n",
       "      <td>0.018063</td>\n",
       "      <td>0.138439</td>\n",
       "      <td>0.028833</td>\n",
       "      <td>...</td>\n",
       "      <td>0.115496</td>\n",
       "      <td>0.125491</td>\n",
       "      <td>0.121327</td>\n",
       "      <td>0.036173</td>\n",
       "      <td>0.198017</td>\n",
       "      <td>0.227936</td>\n",
       "      <td>0.023361</td>\n",
       "      <td>0.180800</td>\n",
       "      <td>0.190548</td>\n",
       "      <td>0.128949</td>\n",
       "    </tr>\n",
       "  </tbody>\n",
       "</table>\n",
       "<p>5 rows × 365 columns</p>\n",
       "</div>"
      ],
      "text/plain": [
       "Player           Aaron Gordon  Aaron Holiday  Abdel Nader  Al Horford  \\\n",
       "Player                                                                  \n",
       "Aaron Gordon         0.000000       0.092530     0.090480    0.026746   \n",
       "Aaron Holiday        0.092530       0.000000     0.149864    0.082794   \n",
       "Abdel Nader          0.090480       0.149864     0.000000    0.181571   \n",
       "Al Horford           0.026746       0.082794     0.181571    0.000000   \n",
       "Al-Farouq Aminu      0.054973       0.166356     0.061875    0.120561   \n",
       "\n",
       "Player           Al-Farouq Aminu  Alec Burks  Alex Caruso  Alex Len  \\\n",
       "Player                                                                \n",
       "Aaron Gordon            0.054973    0.006386     0.089115  0.110502   \n",
       "Aaron Holiday           0.166356    0.067420     0.021476  0.214931   \n",
       "Abdel Nader             0.061875    0.087203     0.195861  0.049500   \n",
       "Al Horford              0.120561    0.028042     0.064512  0.194956   \n",
       "Al-Farouq Aminu         0.000000    0.083015     0.192647  0.018063   \n",
       "\n",
       "Player           Alfonzo McKinnie  Allen Crabbe  ...  Vince Carter  \\\n",
       "Player                                           ...                 \n",
       "Aaron Gordon             0.198380      0.092795  ...      0.083081   \n",
       "Aaron Holiday            0.408697      0.209275  ...      0.178264   \n",
       "Abdel Nader              0.181469      0.038813  ...      0.082310   \n",
       "Al Horford               0.276635      0.201784  ...      0.135358   \n",
       "Al-Farouq Aminu          0.138439      0.028833  ...      0.115496   \n",
       "\n",
       "Player           Wayne Ellington  Wendell Carter Jr.  Wes Iwundu  \\\n",
       "Player                                                             \n",
       "Aaron Gordon            0.080277            0.102671    0.093784   \n",
       "Aaron Holiday           0.104511            0.303155    0.182218   \n",
       "Abdel Nader             0.086597            0.227903    0.039373   \n",
       "Al Horford              0.130399            0.109739    0.194251   \n",
       "Al-Farouq Aminu         0.125491            0.121327    0.036173   \n",
       "\n",
       "Player           Wesley Matthews  Will Barton  Willie Cauley-Stein  \\\n",
       "Player                                                               \n",
       "Aaron Gordon            0.064194     0.100352             0.050329   \n",
       "Aaron Holiday           0.090841     0.126986             0.184291   \n",
       "Abdel Nader             0.198440     0.289010             0.119500   \n",
       "Al Horford              0.028030     0.029273             0.079105   \n",
       "Al-Farouq Aminu         0.198017     0.227936             0.023361   \n",
       "\n",
       "Player           Yogi Ferrell  Zach Collins  Zach LaVine  \n",
       "Player                                                    \n",
       "Aaron Gordon         0.128649      0.089934     0.043238  \n",
       "Aaron Holiday        0.047840      0.056308     0.066980  \n",
       "Abdel Nader          0.155811      0.229570     0.095114  \n",
       "Al Horford           0.141386      0.035956     0.074616  \n",
       "Al-Farouq Aminu      0.180800      0.190548     0.128949  \n",
       "\n",
       "[5 rows x 365 columns]"
      ]
     },
     "execution_count": 28,
     "metadata": {},
     "output_type": "execute_result"
    }
   ],
   "source": [
    "#create pivot table\n",
    "over_piv = pd.pivot_table(nba_stats19[overall_stats], index = nba_stats19['Player'])\n",
    "# #create sparse matrix\n",
    "over_sparse = sparse.csr_matrix(over_piv.fillna(0))\n",
    "# # #calculate cosine similarity\n",
    "over_recommender = pairwise_distances(over_sparse, metric = 'cosine')\n",
    "# # #creating recommender dataframe\n",
    "over_rec_df = pd.DataFrame(over_recommender, columns = over_piv.index, index = over_piv.index)\n",
    "over_rec_df.head()"
   ]
  },
  {
   "cell_type": "code",
   "execution_count": 29,
   "metadata": {
    "scrolled": true
   },
   "outputs": [
    {
     "data": {
      "text/plain": [
       "Player\n",
       "Ricky Rubio        0.014532\n",
       "Luka Doncic        0.014983\n",
       "Devonte' Graham    0.017321\n",
       "Malcolm Brogdon    0.019002\n",
       "Damian Lillard     0.019670\n",
       "James Harden       0.019692\n",
       "Ben Simmons        0.021973\n",
       "Jimmy Butler       0.024029\n",
       "Kawhi Leonard      0.027981\n",
       "Jrue Holiday       0.028989\n",
       "Name: LeBron James, dtype: float64"
      ]
     },
     "execution_count": 29,
     "metadata": {},
     "output_type": "execute_result"
    }
   ],
   "source": [
    "#evaluating matrix\n",
    "over_rec_df['LeBron James'].sort_values()[1:11]"
   ]
  },
  {
   "cell_type": "markdown",
   "metadata": {},
   "source": [
    "## Shooting"
   ]
  },
  {
   "cell_type": "code",
   "execution_count": 32,
   "metadata": {},
   "outputs": [
    {
     "data": {
      "text/html": [
       "<div>\n",
       "<style scoped>\n",
       "    .dataframe tbody tr th:only-of-type {\n",
       "        vertical-align: middle;\n",
       "    }\n",
       "\n",
       "    .dataframe tbody tr th {\n",
       "        vertical-align: top;\n",
       "    }\n",
       "\n",
       "    .dataframe thead th {\n",
       "        text-align: right;\n",
       "    }\n",
       "</style>\n",
       "<table border=\"1\" class=\"dataframe\">\n",
       "  <thead>\n",
       "    <tr style=\"text-align: right;\">\n",
       "      <th>Player</th>\n",
       "      <th>Aaron Gordon</th>\n",
       "      <th>Aaron Holiday</th>\n",
       "      <th>Abdel Nader</th>\n",
       "      <th>Al Horford</th>\n",
       "      <th>Al-Farouq Aminu</th>\n",
       "      <th>Alec Burks</th>\n",
       "      <th>Alex Caruso</th>\n",
       "      <th>Alex Len</th>\n",
       "      <th>Alfonzo McKinnie</th>\n",
       "      <th>Allen Crabbe</th>\n",
       "      <th>...</th>\n",
       "      <th>Vince Carter</th>\n",
       "      <th>Wayne Ellington</th>\n",
       "      <th>Wendell Carter Jr.</th>\n",
       "      <th>Wes Iwundu</th>\n",
       "      <th>Wesley Matthews</th>\n",
       "      <th>Will Barton</th>\n",
       "      <th>Willie Cauley-Stein</th>\n",
       "      <th>Yogi Ferrell</th>\n",
       "      <th>Zach Collins</th>\n",
       "      <th>Zach LaVine</th>\n",
       "    </tr>\n",
       "    <tr>\n",
       "      <th>Player</th>\n",
       "      <th></th>\n",
       "      <th></th>\n",
       "      <th></th>\n",
       "      <th></th>\n",
       "      <th></th>\n",
       "      <th></th>\n",
       "      <th></th>\n",
       "      <th></th>\n",
       "      <th></th>\n",
       "      <th></th>\n",
       "      <th></th>\n",
       "      <th></th>\n",
       "      <th></th>\n",
       "      <th></th>\n",
       "      <th></th>\n",
       "      <th></th>\n",
       "      <th></th>\n",
       "      <th></th>\n",
       "      <th></th>\n",
       "      <th></th>\n",
       "      <th></th>\n",
       "    </tr>\n",
       "  </thead>\n",
       "  <tbody>\n",
       "    <tr>\n",
       "      <td>Aaron Gordon</td>\n",
       "      <td>0.000000</td>\n",
       "      <td>0.092870</td>\n",
       "      <td>0.042087</td>\n",
       "      <td>0.023151</td>\n",
       "      <td>0.019876</td>\n",
       "      <td>0.004826</td>\n",
       "      <td>0.030749</td>\n",
       "      <td>0.062958</td>\n",
       "      <td>0.149612</td>\n",
       "      <td>0.114798</td>\n",
       "      <td>...</td>\n",
       "      <td>0.075272</td>\n",
       "      <td>0.220554</td>\n",
       "      <td>0.047615</td>\n",
       "      <td>0.060434</td>\n",
       "      <td>0.117669</td>\n",
       "      <td>0.014877</td>\n",
       "      <td>0.199302</td>\n",
       "      <td>0.038932</td>\n",
       "      <td>0.084045</td>\n",
       "      <td>0.020967</td>\n",
       "    </tr>\n",
       "    <tr>\n",
       "      <td>Aaron Holiday</td>\n",
       "      <td>0.092870</td>\n",
       "      <td>0.000000</td>\n",
       "      <td>0.120645</td>\n",
       "      <td>0.143256</td>\n",
       "      <td>0.081359</td>\n",
       "      <td>0.078386</td>\n",
       "      <td>0.190578</td>\n",
       "      <td>0.264404</td>\n",
       "      <td>0.383822</td>\n",
       "      <td>0.305844</td>\n",
       "      <td>...</td>\n",
       "      <td>0.095503</td>\n",
       "      <td>0.341734</td>\n",
       "      <td>0.206462</td>\n",
       "      <td>0.236290</td>\n",
       "      <td>0.247987</td>\n",
       "      <td>0.043811</td>\n",
       "      <td>0.411826</td>\n",
       "      <td>0.052004</td>\n",
       "      <td>0.280670</td>\n",
       "      <td>0.042760</td>\n",
       "    </tr>\n",
       "    <tr>\n",
       "      <td>Abdel Nader</td>\n",
       "      <td>0.042087</td>\n",
       "      <td>0.120645</td>\n",
       "      <td>0.000000</td>\n",
       "      <td>0.033051</td>\n",
       "      <td>0.015478</td>\n",
       "      <td>0.028008</td>\n",
       "      <td>0.031096</td>\n",
       "      <td>0.086863</td>\n",
       "      <td>0.096213</td>\n",
       "      <td>0.063715</td>\n",
       "      <td>...</td>\n",
       "      <td>0.039069</td>\n",
       "      <td>0.105551</td>\n",
       "      <td>0.107338</td>\n",
       "      <td>0.075154</td>\n",
       "      <td>0.031795</td>\n",
       "      <td>0.051129</td>\n",
       "      <td>0.331465</td>\n",
       "      <td>0.055226</td>\n",
       "      <td>0.054305</td>\n",
       "      <td>0.053990</td>\n",
       "    </tr>\n",
       "    <tr>\n",
       "      <td>Al Horford</td>\n",
       "      <td>0.023151</td>\n",
       "      <td>0.143256</td>\n",
       "      <td>0.033051</td>\n",
       "      <td>0.000000</td>\n",
       "      <td>0.024102</td>\n",
       "      <td>0.024259</td>\n",
       "      <td>0.023210</td>\n",
       "      <td>0.034491</td>\n",
       "      <td>0.095512</td>\n",
       "      <td>0.066077</td>\n",
       "      <td>...</td>\n",
       "      <td>0.071328</td>\n",
       "      <td>0.193677</td>\n",
       "      <td>0.036298</td>\n",
       "      <td>0.043660</td>\n",
       "      <td>0.082207</td>\n",
       "      <td>0.054279</td>\n",
       "      <td>0.225359</td>\n",
       "      <td>0.042366</td>\n",
       "      <td>0.038337</td>\n",
       "      <td>0.066773</td>\n",
       "    </tr>\n",
       "    <tr>\n",
       "      <td>Al-Farouq Aminu</td>\n",
       "      <td>0.019876</td>\n",
       "      <td>0.081359</td>\n",
       "      <td>0.015478</td>\n",
       "      <td>0.024102</td>\n",
       "      <td>0.000000</td>\n",
       "      <td>0.013270</td>\n",
       "      <td>0.035285</td>\n",
       "      <td>0.077409</td>\n",
       "      <td>0.142578</td>\n",
       "      <td>0.094875</td>\n",
       "      <td>...</td>\n",
       "      <td>0.036601</td>\n",
       "      <td>0.161971</td>\n",
       "      <td>0.072018</td>\n",
       "      <td>0.063288</td>\n",
       "      <td>0.074350</td>\n",
       "      <td>0.029570</td>\n",
       "      <td>0.291336</td>\n",
       "      <td>0.027780</td>\n",
       "      <td>0.078764</td>\n",
       "      <td>0.034754</td>\n",
       "    </tr>\n",
       "  </tbody>\n",
       "</table>\n",
       "<p>5 rows × 365 columns</p>\n",
       "</div>"
      ],
      "text/plain": [
       "Player           Aaron Gordon  Aaron Holiday  Abdel Nader  Al Horford  \\\n",
       "Player                                                                  \n",
       "Aaron Gordon         0.000000       0.092870     0.042087    0.023151   \n",
       "Aaron Holiday        0.092870       0.000000     0.120645    0.143256   \n",
       "Abdel Nader          0.042087       0.120645     0.000000    0.033051   \n",
       "Al Horford           0.023151       0.143256     0.033051    0.000000   \n",
       "Al-Farouq Aminu      0.019876       0.081359     0.015478    0.024102   \n",
       "\n",
       "Player           Al-Farouq Aminu  Alec Burks  Alex Caruso  Alex Len  \\\n",
       "Player                                                                \n",
       "Aaron Gordon            0.019876    0.004826     0.030749  0.062958   \n",
       "Aaron Holiday           0.081359    0.078386     0.190578  0.264404   \n",
       "Abdel Nader             0.015478    0.028008     0.031096  0.086863   \n",
       "Al Horford              0.024102    0.024259     0.023210  0.034491   \n",
       "Al-Farouq Aminu         0.000000    0.013270     0.035285  0.077409   \n",
       "\n",
       "Player           Alfonzo McKinnie  Allen Crabbe  ...  Vince Carter  \\\n",
       "Player                                           ...                 \n",
       "Aaron Gordon             0.149612      0.114798  ...      0.075272   \n",
       "Aaron Holiday            0.383822      0.305844  ...      0.095503   \n",
       "Abdel Nader              0.096213      0.063715  ...      0.039069   \n",
       "Al Horford               0.095512      0.066077  ...      0.071328   \n",
       "Al-Farouq Aminu          0.142578      0.094875  ...      0.036601   \n",
       "\n",
       "Player           Wayne Ellington  Wendell Carter Jr.  Wes Iwundu  \\\n",
       "Player                                                             \n",
       "Aaron Gordon            0.220554            0.047615    0.060434   \n",
       "Aaron Holiday           0.341734            0.206462    0.236290   \n",
       "Abdel Nader             0.105551            0.107338    0.075154   \n",
       "Al Horford              0.193677            0.036298    0.043660   \n",
       "Al-Farouq Aminu         0.161971            0.072018    0.063288   \n",
       "\n",
       "Player           Wesley Matthews  Will Barton  Willie Cauley-Stein  \\\n",
       "Player                                                               \n",
       "Aaron Gordon            0.117669     0.014877             0.199302   \n",
       "Aaron Holiday           0.247987     0.043811             0.411826   \n",
       "Abdel Nader             0.031795     0.051129             0.331465   \n",
       "Al Horford              0.082207     0.054279             0.225359   \n",
       "Al-Farouq Aminu         0.074350     0.029570             0.291336   \n",
       "\n",
       "Player           Yogi Ferrell  Zach Collins  Zach LaVine  \n",
       "Player                                                    \n",
       "Aaron Gordon         0.038932      0.084045     0.020967  \n",
       "Aaron Holiday        0.052004      0.280670     0.042760  \n",
       "Abdel Nader          0.055226      0.054305     0.053990  \n",
       "Al Horford           0.042366      0.038337     0.066773  \n",
       "Al-Farouq Aminu      0.027780      0.078764     0.034754  \n",
       "\n",
       "[5 rows x 365 columns]"
      ]
     },
     "execution_count": 32,
     "metadata": {},
     "output_type": "execute_result"
    }
   ],
   "source": [
    "#create pivot table\n",
    "shoot_piv = pd.pivot_table(nba_stats19[shooting_stats], index = nba_stats19['Player'])\n",
    "# #create sparse matrix\n",
    "shoot_sparse = sparse.csr_matrix(shoot_piv.fillna(0))\n",
    "# # #calculate cosine similarity\n",
    "shoot_recommender = pairwise_distances(shoot_sparse, metric = 'cosine')\n",
    "# # #creating recommender dataframe\n",
    "shoot_rec_df = pd.DataFrame(shoot_recommender, columns = shoot_piv.index, index = shoot_piv.index)\n",
    "shoot_rec_df.head()"
   ]
  },
  {
   "cell_type": "code",
   "execution_count": 33,
   "metadata": {
    "scrolled": true
   },
   "outputs": [
    {
     "data": {
      "text/plain": [
       "Player\n",
       "Jrue Holiday             0.003714\n",
       "Russell Westbrook        0.006408\n",
       "Kyrie Irving             0.011316\n",
       "Ja Morant                0.011485\n",
       "Dennis Smith Jr.         0.011739\n",
       "Eric Bledsoe             0.012138\n",
       "Jeff Teague              0.013092\n",
       "De'Aaron Fox             0.013229\n",
       "Giannis Antetokounmpo    0.016624\n",
       "Kawhi Leonard            0.020934\n",
       "Name: LeBron James, dtype: float64"
      ]
     },
     "execution_count": 33,
     "metadata": {},
     "output_type": "execute_result"
    }
   ],
   "source": [
    "#evaluating matrix\n",
    "shoot_rec_df['LeBron James'].sort_values()[1:11]"
   ]
  },
  {
   "cell_type": "code",
   "execution_count": 50,
   "metadata": {},
   "outputs": [
    {
     "data": {
      "text/plain": [
       "['Jrue Holiday', 'Russell Westbrook', 'Kyrie Irving']"
      ]
     },
     "execution_count": 50,
     "metadata": {},
     "output_type": "execute_result"
    }
   ],
   "source": [
    "players = shoot_rec_df['LeBron James'].sort_values()[1:4]\n",
    "player_dict = players.to_dict().index\n",
    "player_keys = [i for i in player_dict.keys()]"
   ]
  },
  {
   "cell_type": "code",
   "execution_count": 55,
   "metadata": {},
   "outputs": [
    {
     "name": "stdout",
     "output_type": "stream",
     "text": [
      "Jrue Holiday\n",
      "Russell Westbrook\n",
      "Kyrie Irving\n"
     ]
    }
   ],
   "source": [
    "for i in player_dict:\n",
    "    print(i)"
   ]
  },
  {
   "cell_type": "code",
   "execution_count": 54,
   "metadata": {},
   "outputs": [
    {
     "data": {
      "text/plain": [
       "['Jrue Holiday', 'Russell Westbrook', 'Kyrie Irving']"
      ]
     },
     "execution_count": 54,
     "metadata": {},
     "output_type": "execute_result"
    }
   ],
   "source": [
    "list(shoot_rec_df['LeBron James'].sort_values()[1:4].index)"
   ]
  },
  {
   "cell_type": "code",
   "execution_count": null,
   "metadata": {},
   "outputs": [],
   "source": [
    "keys=[i for i in mydictionary.keys()]"
   ]
  },
  {
   "cell_type": "markdown",
   "metadata": {},
   "source": [
    "# Pickle Rec systems"
   ]
  },
  {
   "cell_type": "code",
   "execution_count": 103,
   "metadata": {},
   "outputs": [],
   "source": [
    "pickle.dump(off_rec_df, open('pickles/offensive.p', 'wb+'))\n",
    "pickle.dump(over_rec_df, open('pickles/overall.p', 'wb+'))\n",
    "pickle.dump(shoot_rec_df, open('pickles/shoot.p', 'wb+'))"
   ]
  },
  {
   "cell_type": "code",
   "execution_count": null,
   "metadata": {},
   "outputs": [],
   "source": []
  }
 ],
 "metadata": {
  "kernelspec": {
   "display_name": "Python 3",
   "language": "python",
   "name": "python3"
  },
  "language_info": {
   "codemirror_mode": {
    "name": "ipython",
    "version": 3
   },
   "file_extension": ".py",
   "mimetype": "text/x-python",
   "name": "python",
   "nbconvert_exporter": "python",
   "pygments_lexer": "ipython3",
   "version": "3.7.4"
  }
 },
 "nbformat": 4,
 "nbformat_minor": 2
}
