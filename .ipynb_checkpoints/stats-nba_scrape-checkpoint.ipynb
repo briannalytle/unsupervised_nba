{
 "cells": [
  {
   "cell_type": "markdown",
   "metadata": {},
   "source": [
    "https://stats.nba.com/players/list/"
   ]
  },
  {
   "cell_type": "code",
   "execution_count": 56,
   "metadata": {},
   "outputs": [],
   "source": [
    "import pandas as pd\n",
    "import requests\n",
    "import time\n",
    "from time import sleep\n",
    "from bs4 import BeautifulSoup\n",
    "from selenium import webdriver\n",
    "from selenium.common import exceptions"
   ]
  },
  {
   "cell_type": "markdown",
   "metadata": {},
   "source": [
    "## Traditional Stats"
   ]
  },
  {
   "cell_type": "code",
   "execution_count": 131,
   "metadata": {},
   "outputs": [],
   "source": [
    "nba_players = 'https://stats.nba.com/players/traditional/?sort=PTS&dir=-1'\n",
    "driver = webdriver.Chrome(executable_path=\"./chromedriver/windows/chromedriver.exe\")\n",
    "driver.get(nba_players)\n",
    "player = driver.find_elements_by_xpath('/html/body/main/div[2]/div/div[2]/div/div/nba-stat-table/div[2]/div[1]/table/tbody/tr')\n",
    "player_stats = []\n",
    "new_split = []\n",
    "\n",
    "i = 0\n",
    "while i < 10:\n",
    "    try: \n",
    "        player = driver.find_elements_by_xpath('/html/body/main/div[2]/div/div[2]/div/div/nba-stat-table/div[2]/div[1]/table/tbody/tr')\n",
    "        \n",
    "        for q in player:\n",
    "            player_stats.append(q.text.split('\\n'))\n",
    "            for z in player_stats:\n",
    "                new_split.append(z[2].split(' '))\n",
    "                    \n",
    "        button = driver.find_element_by_xpath('/html/body/main/div[2]/div/div[2]/div/div/nba-stat-table/div[1]/div/div/a[2]')\n",
    "        button.click()\n",
    "        i += 1\n",
    "        \n",
    "    except exceptions.StaleElementReferenceException:\n",
    "         pass\n",
    "\n",
    "player_stats = pd.DataFrame(player_stats).reset_index(drop = True)\n",
    "new_split = pd.DataFrame(new_split).drop_duplicates(keep = 'first').reset_index(drop = True)\n",
    "final = pd.concat([player_stats, new_split], axis = 1).drop(columns = [0, 2], axis = 1)"
   ]
  },
  {
   "cell_type": "code",
   "execution_count": 152,
   "metadata": {},
   "outputs": [],
   "source": [
    "trad_columns = ['Player', 'Age', 'W', 'L', 'MP', 'PTS',\n",
    "               'FGM', 'FGA', 'FG%', '3PM', '3PA', '3P%', 'FTM',\n",
    "               'FTA', 'FT%', 'OREB', 'DREB', 'REB', 'AST', 'TOV',\n",
    "               'STL', 'BLK', 'PF', 'FP', 'DD2', 'TD3', '+/-']\n",
    "final.columns = trad_columns"
   ]
  },
  {
   "cell_type": "code",
   "execution_count": 177,
   "metadata": {},
   "outputs": [],
   "source": [
    "final.drop(columns = ['STL', 'BLK'], inplace = True)"
   ]
  },
  {
   "cell_type": "markdown",
   "metadata": {},
   "source": [
    "## Opponent Stats"
   ]
  },
  {
   "cell_type": "code",
   "execution_count": 134,
   "metadata": {},
   "outputs": [],
   "source": [
    "nba_players = 'https://stats.nba.com/players/opponent/?sort=GP&dir=-1'\n",
    "driver = webdriver.Chrome(executable_path=\"./chromedriver/windows/chromedriver.exe\")\n",
    "driver.get(nba_players)\n",
    "player = driver.find_elements_by_xpath('/html/body/main/div[2]/div/div[2]/div/div/nba-stat-table/div[2]/div[1]/table/tbody/tr')\n",
    "player_stats = []\n",
    "new_split = []\n",
    "i = 0\n",
    "while i < 10:\n",
    "    try: \n",
    "        player = driver.find_elements_by_xpath('/html/body/main/div[2]/div/div[2]/div/div/nba-stat-table/div[2]/div[1]/table/tbody/tr')\n",
    "        \n",
    "        for q in player:\n",
    "            player_stats.append(q.text.split('\\n'))\n",
    "            for z in player_stats:\n",
    "                new_split.append(z[2].split(' '))\n",
    "                    \n",
    "        button = driver.find_element_by_xpath('/html/body/main/div[2]/div/div[2]/div/div/nba-stat-table/div[1]/div/div/a[2]')\n",
    "        button.click()\n",
    "        i += 1\n",
    "        \n",
    "    except exceptions.StaleElementReferenceException:\n",
    "         pass\n",
    "\n",
    "player_stats = pd.DataFrame(player_stats).reset_index(drop = True)\n",
    "new_split = pd.DataFrame(new_split).drop_duplicates(keep = 'first').reset_index(drop = True)\n",
    "opponent = pd.concat([player_stats, new_split], axis = 1).drop(columns = [0, 2], axis = 1)"
   ]
  },
  {
   "cell_type": "code",
   "execution_count": 154,
   "metadata": {},
   "outputs": [],
   "source": [
    "opp_columns = ['Player', 'GP', 'L', 'MP', 'OOPFGM', 'OOPFGA',\n",
    "              'OOPFG%', 'OOP3PM', 'OOP3PA', 'OOP3P%', 'OOPFTM', 'OOPFTA',\n",
    "              'OOPFT%', 'OOPOREB', 'OOPDREB', 'OOPREB', 'OOPAST',\n",
    "              'OOPTOV', 'OOPSTL', 'OOPBLK', 'OOPBLKA', 'OOPPF',\n",
    "              'OOPPFD', 'OOPPTS', '+/-']"
   ]
  },
  {
   "cell_type": "code",
   "execution_count": 155,
   "metadata": {},
   "outputs": [],
   "source": [
    "opponent.columns = opp_columns"
   ]
  },
  {
   "cell_type": "markdown",
   "metadata": {},
   "source": [
    "## Defense Stats"
   ]
  },
  {
   "cell_type": "code",
   "execution_count": 137,
   "metadata": {},
   "outputs": [],
   "source": [
    "nba_players = 'https://stats.nba.com/players/defense/?sort=DEF_WS&dir=-1'\n",
    "driver = webdriver.Chrome(executable_path=\"./chromedriver/windows/chromedriver.exe\")\n",
    "driver.get(nba_players)\n",
    "player = driver.find_elements_by_xpath('/html/body/main/div[2]/div/div[2]/div/div/nba-stat-table/div[2]/div[1]/table/tbody/tr')\n",
    "player_stats = []\n",
    "new_split = []\n",
    "i = 0\n",
    "while i < 10:\n",
    "    try: \n",
    "        player = driver.find_elements_by_xpath('/html/body/main/div[2]/div/div[2]/div/div/nba-stat-table/div[2]/div[1]/table/tbody/tr')\n",
    "        \n",
    "        for q in player:\n",
    "            player_stats.append(q.text.split('\\n'))\n",
    "            for z in player_stats:\n",
    "                new_split.append(z[2].split(' '))\n",
    "                    \n",
    "        button = driver.find_element_by_xpath('/html/body/main/div[2]/div/div[2]/div/div/nba-stat-table/div[1]/div/div/a[2]')\n",
    "        button.click()\n",
    "        i += 1\n",
    "        \n",
    "    except exceptions.StaleElementReferenceException:\n",
    "         pass\n",
    "\n",
    "player_stats = pd.DataFrame(player_stats).reset_index(drop = True)\n",
    "new_split = pd.DataFrame(new_split).drop_duplicates(keep = 'first').reset_index(drop = True)\n",
    "defense = pd.concat([player_stats, new_split], axis = 1).drop(columns = [0, 2], axis = 1)"
   ]
  },
  {
   "cell_type": "code",
   "execution_count": 180,
   "metadata": {},
   "outputs": [],
   "source": [
    "def_columns= ['Player', 'Age', 'GP', 'W', 'L', 'MP', 'DEF_RTG', 'DREB',\n",
    "            'DREB%', 'T_DREB%', 'STL', 'T_STL%', 'BLK', 'T_BLK%',\n",
    "            'OP_TOV', 'OP_2NDPTS', 'OP_PAINT', 'DEF_WS']\n",
    "defense.columns = def_columns\n",
    "defense.drop(columns = ['Age', 'GP', 'W', 'L', 'MP'], inplace = True)"
   ]
  },
  {
   "cell_type": "markdown",
   "metadata": {},
   "source": [
    "## usage"
   ]
  },
  {
   "cell_type": "code",
   "execution_count": 158,
   "metadata": {},
   "outputs": [],
   "source": [
    "nba_players = 'https://stats.nba.com/players/usage/?sort=USG_PCT&dir=-1'\n",
    "driver = webdriver.Chrome(executable_path=\"./chromedriver/windows/chromedriver.exe\")\n",
    "driver.get(nba_players)\n",
    "player = driver.find_elements_by_xpath('/html/body/main/div[2]/div/div[2]/div/div/nba-stat-table/div[2]/div[1]/table/tbody/tr')\n",
    "player_stats = []\n",
    "new_split = []\n",
    "i = 0\n",
    "while i < 10:\n",
    "    try: \n",
    "        player = driver.find_elements_by_xpath('/html/body/main/div[2]/div/div[2]/div/div/nba-stat-table/div[2]/div[1]/table/tbody/tr')\n",
    "        \n",
    "        for q in player:\n",
    "            player_stats.append(q.text.split('\\n'))\n",
    "            for z in player_stats:\n",
    "                new_split.append(z[2].split(' '))\n",
    "                    \n",
    "        button = driver.find_element_by_xpath('/html/body/main/div[2]/div/div[2]/div/div/nba-stat-table/div[1]/div/div/a[2]')\n",
    "        button.click()\n",
    "        i += 1\n",
    "        \n",
    "    except exceptions.StaleElementReferenceException:\n",
    "         pass\n",
    "\n",
    "player_stats = pd.DataFrame(player_stats).reset_index(drop = True)\n",
    "new_split = pd.DataFrame(new_split).drop_duplicates(keep = 'first').reset_index(drop = True)\n",
    "usage = pd.concat([player_stats, new_split], axis = 1).drop(columns = [0, 2], axis = 1)"
   ]
  },
  {
   "cell_type": "code",
   "execution_count": 182,
   "metadata": {},
   "outputs": [],
   "source": [
    "use_columns = ['Player', 'Age', 'W', 'L', 'MP', 'USG%',\n",
    "              'T_FGM%', 'T_FGA%', 'T_3PM%', 'T_3PA%', 'T_FTM%',\n",
    "              'T_FTA%', 'T_OREB%', 'T_DREB%', 'T_REB%', 'T_AST%', 'T_TOV%',\n",
    "              'T_STL%', 'T_BLK%', 'T_BLKA%', 'T_PF%', 'T_PFD%', 'T_PTS%']\n",
    "usage.columns = use_columns\n",
    "usage.drop(columns = ['Age', 'W', 'L', 'MP'], inplace = True)"
   ]
  },
  {
   "cell_type": "markdown",
   "metadata": {},
   "source": [
    "## Shooting"
   ]
  },
  {
   "cell_type": "code",
   "execution_count": 161,
   "metadata": {},
   "outputs": [],
   "source": [
    "nba_players = 'https://stats.nba.com/players/scoring/?sort=GP&dir=-1'\n",
    "driver = webdriver.Chrome(executable_path=\"./chromedriver/windows/chromedriver.exe\")\n",
    "driver.get(nba_players)\n",
    "player = driver.find_elements_by_xpath('/html/body/main/div[2]/div/div[2]/div/div/nba-stat-table/div[2]/div[1]/table/tbody/tr')\n",
    "player_stats = []\n",
    "new_split = []\n",
    "i = 0\n",
    "while i < 10:\n",
    "    try: \n",
    "        player = driver.find_elements_by_xpath('/html/body/main/div[2]/div/div[2]/div/div/nba-stat-table/div[2]/div[1]/table/tbody/tr')\n",
    "        \n",
    "        for q in player:\n",
    "            player_stats.append(q.text.split('\\n'))\n",
    "            for z in player_stats:\n",
    "                new_split.append(z[2].split(' '))\n",
    "                    \n",
    "        button = driver.find_element_by_xpath('/html/body/main/div[2]/div/div[2]/div/div/nba-stat-table/div[1]/div/div/a[2]')\n",
    "        button.click()\n",
    "        i += 1\n",
    "        \n",
    "    except exceptions.StaleElementReferenceException:\n",
    "         pass\n",
    "\n",
    "player_stats = pd.DataFrame(player_stats).reset_index(drop = True)\n",
    "new_split = pd.DataFrame(new_split).drop_duplicates(keep = 'first').reset_index(drop = True)\n",
    "shooting = pd.concat([player_stats, new_split], axis = 1).drop(columns = [0, 2], axis = 1)"
   ]
  },
  {
   "cell_type": "code",
   "execution_count": 183,
   "metadata": {},
   "outputs": [],
   "source": [
    "shoot_col = ['Player', 'Age', 'W', 'L', 'MP', 'FGA_2P%', 'FGA_3P%',\n",
    "            '2PT%', '2PT_MR%', '3PT%', 'FBPTS%', 'FT%', 'OFFTOV%', 'PAINTPTS%',\n",
    "            'AST_2FGM%', 'UAST_2FGM%', 'AST_3FGM%', 'UAST_3FGM%',\n",
    "            'FGM_AST%', 'FGM_UAST%']\n",
    "shooting.columns = shoot_col\n",
    "shooting.drop(columns = ['W', 'L', 'MP'], inplace= True)"
   ]
  },
  {
   "cell_type": "markdown",
   "metadata": {},
   "source": [
    "## MISC"
   ]
  },
  {
   "cell_type": "code",
   "execution_count": 171,
   "metadata": {},
   "outputs": [],
   "source": [
    "nba_players = 'https://stats.nba.com/players/misc/?sort=GP&dir=-1'\n",
    "driver = webdriver.Chrome(executable_path=\"./chromedriver/windows/chromedriver.exe\")\n",
    "driver.get(nba_players)\n",
    "player = driver.find_elements_by_xpath('/html/body/main/div[2]/div/div[2]/div/div/nba-stat-table/div[2]/div[1]/table/tbody/tr')\n",
    "player_stats = []\n",
    "new_split = []\n",
    "i = 0\n",
    "while i < 10:\n",
    "    try: \n",
    "        player = driver.find_elements_by_xpath('/html/body/main/div[2]/div/div[2]/div/div/nba-stat-table/div[2]/div[1]/table/tbody/tr')\n",
    "        \n",
    "        for q in player:\n",
    "            player_stats.append(q.text.split('\\n'))\n",
    "            for z in player_stats:\n",
    "                new_split.append(z[2].split(' '))\n",
    "                    \n",
    "        button = driver.find_element_by_xpath('/html/body/main/div[2]/div/div[2]/div/div/nba-stat-table/div[1]/div/div/a[2]')\n",
    "        button.click()\n",
    "        i += 1\n",
    "        \n",
    "    except exceptions.StaleElementReferenceException:\n",
    "         pass\n",
    "\n",
    "player_stats = pd.DataFrame(player_stats).reset_index(drop = True)\n",
    "new_split = pd.DataFrame(new_split).drop_duplicates(keep = 'first').reset_index(drop = True)\n",
    "misc = pd.concat([player_stats, new_split], axis = 1).drop(columns = [0, 2], axis = 1)"
   ]
  },
  {
   "cell_type": "code",
   "execution_count": 184,
   "metadata": {},
   "outputs": [],
   "source": [
    "misc_col = ['Player', 'Age', 'W', 'L', 'MP', 'PTS_TOV', '2ND_CH_PTS',\n",
    "           'FB_PTS', 'PAINT_PTS', 'OPP_PTS_TOV', 'OPP_2ND_PTS', 'OPP_FBPTS',\n",
    "           'OPP_PAINT_PTS', 'BLK', 'BLKA', 'PF', 'PFD']\n",
    "misc.columns = misc_col\n",
    "misc.drop(columns = ['Age', 'W', 'L', 'MP', 'BLK', 'PF'], inplace = True)"
   ]
  }
 ],
 "metadata": {
  "kernelspec": {
   "display_name": "Python 3",
   "language": "python",
   "name": "python3"
  },
  "language_info": {
   "codemirror_mode": {
    "name": "ipython",
    "version": 3
   },
   "file_extension": ".py",
   "mimetype": "text/x-python",
   "name": "python",
   "nbconvert_exporter": "python",
   "pygments_lexer": "ipython3",
   "version": "3.7.4"
  }
 },
 "nbformat": 4,
 "nbformat_minor": 2
}
