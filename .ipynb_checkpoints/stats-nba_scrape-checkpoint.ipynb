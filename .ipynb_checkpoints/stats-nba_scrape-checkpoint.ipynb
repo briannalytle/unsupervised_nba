{
 "cells": [
  {
   "cell_type": "markdown",
   "metadata": {},
   "source": [
    "https://stats.nba.com/players/list/"
   ]
  },
  {
   "cell_type": "code",
   "execution_count": 42,
   "metadata": {},
   "outputs": [],
   "source": [
    "import pandas as pd\n",
    "import requests\n",
    "import time\n",
    "from time import sleep\n",
    "from bs4 import BeautifulSoup\n",
    "from selenium import webdriver\n"
   ]
  },
  {
   "cell_type": "markdown",
   "metadata": {},
   "source": [
    "## Practice player scrape"
   ]
  },
  {
   "cell_type": "code",
   "execution_count": 57,
   "metadata": {},
   "outputs": [],
   "source": [
    "nba_players = 'https://stats.nba.com/players/traditional/?sort=PTS&dir=-1'\n",
    "driver = webdriver.Chrome(executable_path=\"./chromedriver/windows/chromedriver.exe\")\n",
    "driver.get(nba_players)"
   ]
  },
  {
   "cell_type": "code",
   "execution_count": 58,
   "metadata": {},
   "outputs": [],
   "source": [
    "table = driver.find_element_by_class_name('nba-stat-table__overflow')"
   ]
  },
  {
   "cell_type": "code",
   "execution_count": 60,
   "metadata": {},
   "outputs": [
    {
     "name": "stdout",
     "output_type": "stream",
     "text": [
      "PLAYER TEAM AGE GP W L MIN PTS FGM FGA FG% 3PM 3PA 3P% FTM FTA FT% OREB DREB REB AST TOV STL BLK PF FP DD2 TD3 +/-\n",
      "1\n",
      "James Harden\n",
      "HOU 30 18 12 6 37.2 37.7 10.4 24.1 43.4 4.8 13.9 34.3 12.1 13.9 86.5 0.9 5.2 6.1 7.8 5.3 1.6 0.5 3.1 57.9 6 0 5.4\n",
      "2\n",
      "Giannis Antetokounmpo\n",
      "MIL 24 19 16 3 33.0 31.2 11.5 20.6 55.9 1.4 4.9 29.0 6.7 11.3 59.1 2.7 10.9 13.6 6.0 4.2 1.5 1.5 3.4 61.2 19 2 9.6\n",
      "3\n",
      "Luka Doncic\n",
      "DAL 20 18 12 6 34.2 30.8 9.8 20.2 48.6 3.1 9.4 32.5 8.1 9.8 82.4 1.5 8.4 9.9 9.6 4.5 1.4 0.2 2.7 57.5 13 7 5.6\n",
      "4\n",
      "Kyrie Irving\n",
      "BKN 27 11 4 7 33.8 28.5 10.2 22.9 44.4 2.8 8.3 34.1 5.4 5.7 93.7 0.9 4.5 5.4 7.2 2.4 1.1 0.5 2.9 48.3 2 1 -0.8\n",
      "5\n",
      "Bradley Beal\n",
      "WAS 26 17 6 11 36.6 28.3 10.0 21.2 47.2 2.9 8.2 35.0 5.4 6.5 82.9 0.9 3.4 4.3 7.1 3.2 1.0 0.2 2.6 44.6 3 0 -2.1\n",
      "6\n",
      "Trae Young\n",
      "ATL 21 18 4 14 34.7 27.9 9.2 20.7 44.6 3.3 8.8 37.7 6.2 7.3 84.7 0.5 3.8 4.3 8.4 5.0 1.5 0.1 1.2 45.4 6 1 -5.9\n",
      "7\n",
      "Damian Lillard\n",
      "POR 29 18 8 10 37.0 27.3 8.5 19.0 44.7 3.3 9.0 36.4 7.1 7.7 92.0 0.6 4.2 4.8 7.3 2.8 1.1 0.5 2.1 45.9 3 0 2.6\n",
      "8\n",
      "Karl-Anthony Towns\n",
      "MIN 24 16 9 7 33.0 26.3 8.9 17.3 51.3 3.9 8.9 44.4 4.6 5.8 79.3 2.6 10.0 12.6 4.1 3.4 1.1 1.5 3.4 51.7 14 0 2.3\n",
      "9\n",
      "Anthony Davis\n",
      "LAL 26 18 16 2 34.5 26.1 9.0 18.8 47.9 1.2 3.4 33.9 6.9 7.9 86.7 2.6 6.6 9.2 3.5 2.5 1.5 2.8 2.4 52.9 7 0 6.4\n",
      "10\n",
      "Brandon Ingram\n",
      "NOP 22 15 4 11 33.6 25.9 9.3 19.0 49.1 2.4 5.9 40.9 4.8 5.9 80.9 0.9 6.5 7.4 4.0 3.0 0.8 1.0 2.8 43.1 3 0 -4.2\n",
      "11\n",
      "LeBron James\n",
      "LAL 34 19 17 2 34.8 25.7 9.8 19.7 49.9 2.1 5.8 36.0 3.9 5.8 67.3 1.0 6.1 7.1 11.0 3.7 1.3 0.6 1.5 52.8 16 5 9.7\n",
      "12\n",
      "Donovan Mitchell\n",
      "UTA 23 19 12 7 34.8 25.3 9.2 20.8 44.3 2.4 6.2 38.1 4.5 5.4 83.5 1.0 4.1 5.1 3.7 2.2 1.4 0.3 2.4 39.7 1 0 3.4\n",
      "13\n",
      "Andrew Wiggins\n",
      "MIN 24 15 9 6 35.0 25.3 9.7 20.7 46.8 2.3 6.6 35.4 3.6 5.3 68.4 1.2 4.2 5.4 3.3 1.8 0.7 1.1 2.4 40.2 0 0 3.6\n",
      "14\n",
      "Pascal Siakam\n",
      "TOR 25 18 14 4 36.9 25.1 9.4 20.4 46.0 2.4 6.3 37.7 3.9 4.9 80.7 1.7 6.9 8.6 3.9 2.8 0.8 0.8 3.1 43.4 7 0 10.3\n",
      "15\n",
      "Kawhi Leonard\n",
      "LAC 28 14 11 3 31.5 25.1 8.9 20.5 43.6 1.6 5.1 30.6 5.6 6.7 84.0 1.1 6.8 7.9 5.5 3.5 2.0 0.9 2.2 47.8 5 0 7.4\n",
      "16\n",
      "Devin Booker\n",
      "PHX 23 18 8 10 35.4 24.5 8.8 17.2 51.0 2.2 5.2 41.9 4.8 5.0 95.6 0.5 3.2 3.7 6.3 4.1 0.6 0.3 3.2 37.0 2 0 1.2\n",
      "17\n",
      "D'Angelo Russell\n",
      "GSW 23 10 1 9 31.5 24.3 8.5 18.7 45.5 2.8 7.9 35.4 4.5 5.9 76.3 0.2 3.4 3.6 6.7 3.4 0.8 0.5 1.8 39.2 0 0 -10.8\n",
      "18\n",
      "Paul George\n",
      "LAC 29 9 7 2 29.5 22.6 7.0 16.4 42.6 3.8 9.7 39.1 4.8 5.1 93.5 0.7 5.4 6.1 3.9 3.9 1.6 0.3 2.4 37.5 0 0 6.6\n",
      "19\n",
      "Russell Westbrook\n",
      "HOU 31 16 10 6 33.7 22.5 8.3 19.6 42.2 1.3 5.6 22.5 4.8 6.6 71.7 1.4 6.3 7.6 6.8 4.3 1.6 0.3 3.9 43.2 5 3 -0.1\n",
      "20\n",
      "Joel Embiid\n",
      "PHI 25 15 11 4 29.9 22.2 7.3 16.2 45.3 1.2 4.0 30.0 6.3 8.0 79.2 2.8 9.6 12.4 2.7 3.0 0.8 1.5 3.5 45.0 11 0 6.9\n",
      "21\n",
      "Zach LaVine\n",
      "CHI 24 20 6 14 32.1 22.2 7.8 18.1 43.1 3.0 7.4 40.1 3.6 4.5 80.9 0.8 3.3 4.1 4.0 3.3 1.3 0.5 2.6 35.1 0 0 -4.4\n",
      "22\n",
      "Bojan Bogdanovic\n",
      "UTA 30 18 12 6 33.3 22.1 7.6 15.6 48.8 3.3 7.0 46.8 3.6 4.1 87.8 0.7 3.7 4.4 2.2 2.7 0.8 0.2 2.0 30.9 0 0 5.7\n",
      "23\n",
      "CJ McCollum\n",
      "POR 28 20 8 12 36.8 22.0 8.8 20.1 43.9 2.6 6.7 38.1 1.9 2.3 82.2 0.9 3.8 4.6 3.8 2.2 0.8 0.8 2.9 35.7 1 0 3.0\n",
      "24\n",
      "Kemba Walker\n",
      "BOS 29 17 12 5 32.2 21.9 7.0 17.2 40.6 3.4 8.8 38.9 4.5 4.9 91.7 1.2 3.5 4.7 4.7 2.1 0.9 0.5 1.8 36.6 0 0 4.2\n",
      "25\n",
      "Kyle Lowry\n",
      "TOR 33 8 6 2 36.2 21.8 6.8 14.1 47.8 3.6 8.5 42.6 4.6 5.3 88.1 0.3 4.0 4.3 6.5 3.4 1.1 0.4 2.9 37.7 0 0 3.9\n",
      "26\n",
      "DeMar DeRozan\n",
      "SAS 30 20 7 13 34.1 21.7 8.5 16.1 52.6 0.1 0.3 20.0 4.8 5.9 81.2 0.5 5.1 5.6 4.7 2.7 1.0 0.6 3.0 37.2 1 0 -5.5\n",
      "26\n",
      "Lou Williams\n",
      "LAC 33 20 14 6 32.0 21.7 7.0 16.4 42.4 1.9 5.1 36.6 6.0 7.1 84.4 0.6 2.9 3.5 6.2 3.2 0.6 0.2 1.6 34.3 2 0 2.6\n",
      "28\n",
      "Jayson Tatum\n",
      "BOS 21 18 13 5 34.4 20.6 7.5 18.3 40.9 2.2 6.2 35.7 3.3 4.1 82.2 1.4 5.7 7.2 2.5 2.2 1.4 0.6 2.3 36.7 2 0 8.5\n",
      "29\n",
      "Buddy Hield\n",
      "SAC 26 17 7 10 33.0 20.5 7.4 17.5 42.1 3.9 10.1 38.6 1.9 2.1 88.9 0.9 3.6 4.5 2.4 2.9 0.7 0.4 2.5 29.8 0 0 -3.3\n",
      "30\n",
      "Stephen Curry\n",
      "GSW 31 4 1 3 28.0 20.3 6.8 16.5 40.9 2.3 9.3 24.3 4.5 4.5 100 1.0 4.0 5.0 6.5 3.8 1.3 0.5 2.5 37.5 1 0 -8.0\n",
      "31\n",
      "Spencer Dinwiddie\n",
      "BKN 26 19 10 9 28.8 20.2 6.4 15.4 41.8 1.9 6.0 31.6 5.5 6.3 86.7 0.2 2.4 2.6 5.9 2.4 0.8 0.6 3.5 34.0 2 0 2.1\n",
      "32\n",
      "Blake Griffin\n",
      "DET 30 7 2 5 30.0 19.7 6.4 15.0 42.9 1.6 6.1 25.6 5.3 6.7 78.7 1.4 3.7 5.1 3.3 2.9 0.3 0.4 1.6 30.1 0 0 1.3\n",
      "33\n",
      "Jrue Holiday\n",
      "NOP 29 17 6 11 36.2 19.0 7.5 17.3 43.5 1.9 5.4 34.8 2.1 2.6 77.8 1.1 4.0 5.1 7.2 3.6 2.1 0.8 2.5 41.1 4 0 -4.0\n",
      "34\n",
      "Gordon Hayward\n",
      "BOS 29 8 7 1 31.2 18.9 7.6 13.8 55.5 1.6 3.8 43.3 2.0 2.4 84.2 0.8 6.4 7.1 4.1 1.9 0.8 0.3 1.9 34.7 2 0 8.3\n",
      "35\n",
      "LaMarcus Aldridge\n",
      "SAS 34 20 7 13 32.8 18.9 7.7 14.8 51.7 0.6 1.6 35.5 3.0 3.6 83.3 2.1 4.7 6.7 2.5 1.7 0.7 1.8 2.2 36.3 2 0 -5.1\n",
      "36\n",
      "Domantas Sabonis\n",
      "IND 23 16 11 5 34.5 18.8 7.4 14.4 51.1 0.3 1.2 26.3 3.8 4.7 80.0 3.9 9.3 13.2 3.5 2.6 0.8 0.6 3.4 41.3 13 0 5.7\n",
      "37\n",
      "Malcolm Brogdon\n",
      "IND 26 15 10 5 31.4 18.8 7.0 14.9 46.9 1.3 4.2 31.7 3.5 3.6 96.3 0.6 4.3 4.9 8.1 2.9 0.9 0.3 2.1 37.5 5 0 6.3\n",
      "38\n",
      "Jamal Murray\n",
      "DEN 22 16 13 3 32.9 18.8 7.1 16.2 44.0 1.9 5.4 35.6 2.6 2.9 89.1 0.8 3.8 4.6 4.8 2.6 1.6 0.4 2.0 34.9 1 0 8.6\n",
      "39\n",
      "Jimmy Butler\n",
      "MIA 30 14 11 3 33.3 18.7 5.4 12.6 42.6 0.6 2.6 24.3 7.4 8.5 86.6 1.9 3.5 5.4 6.6 2.4 2.6 0.8 1.3 42.8 2 0 9.3\n",
      "40\n",
      "Marcus Morris Sr.\n",
      "NYK 30 19 4 15 33.0 18.7 6.0 14.2 42.4 2.8 5.4 52.4 3.8 4.6 83.9 1.2 4.9 6.2 1.3 1.9 0.9 0.6 3.3 30.8 1 0 -4.4\n",
      "41\n",
      "Jaylen Brown\n",
      "BOS 23 15 10 5 33.3 18.7 7.1 14.6 48.4 1.7 4.7 35.7 2.9 3.9 72.9 1.1 6.1 7.3 2.1 1.7 1.3 0.3 3.1 33.4 3 0 2.7\n",
      "42\n",
      "Ja Morant\n",
      "MEM 20 17 5 12 28.7 18.6 6.9 15.2 45.7 0.9 2.3 41.0 3.8 5.0 76.5 0.9 2.2 3.2 6.4 3.4 1.4 0.3 1.7 33.6 3 0 -2.9\n",
      "43\n",
      "Montrezl Harrell\n",
      "LAC 25 20 14 6 29.8 18.6 7.8 13.2 58.9 0.0 0.3 0.0 3.1 4.6 66.3 3.0 4.7 7.6 2.3 1.9 0.9 1.3 2.3 35.6 5 0 5.5\n",
      "44\n",
      "Fred VanVleet\n",
      "TOR 25 18 14 4 37.8 18.5 6.0 14.9 40.3 2.6 6.8 38.2 3.9 4.4 87.5 0.2 3.7 3.9 7.3 2.7 2.0 0.1 2.2 37.8 3 0 5.4\n",
      "45\n",
      "Evan Fournier\n",
      "ORL 27 18 7 11 30.5 18.4 6.3 13.5 46.5 2.4 5.8 41.0 3.5 4.1 85.1 0.1 2.9 3.0 3.4 2.1 1.1 0.2 2.1 28.8 0 0 2.2\n",
      "46\n",
      "Shai Gilgeous-Alexander\n",
      "OKC 21 18 7 11 34.4 18.3 6.9 15.4 44.6 1.4 3.9 37.1 3.1 3.9 77.5 0.8 4.1 4.8 3.1 2.2 0.9 0.6 1.8 31.0 0 0 -1.5\n",
      "47\n",
      "Danilo Gallinari\n",
      "OKC 31 18 7 11 29.8 18.2 5.4 12.3 43.7 2.7 6.6 41.2 4.7 5.1 92.4 0.5 4.7 5.2 2.1 1.4 0.7 0.1 1.6 28.6 0 0 -0.2\n",
      "47\n",
      "De'Aaron Fox\n",
      "SAC 21 9 3 6 32.1 18.2 6.1 14.2 43.0 1.1 3.3 33.3 4.9 6.9 71.0 0.6 3.4 4.0 7.0 4.1 0.8 0.6 3.0 33.4 2 0 -4.9\n",
      "49\n",
      "Deandre Ayton\n",
      "PHX 21 1 1 0 33.4 18.0 9.0 14.0 64.3 0.0 0.0 0.0 0.0 0.0 0.0 3.0 8.0 11.0 0.0 0.0 1.0 4.0 2.0 46.2 1 0 25.0\n",
      "50\n",
      "Devonte' Graham\n",
      "CHA 24 20 8 12 33.5 17.9 5.8 14.2 40.8 3.4 8.2 41.1 3.0 3.7 79.7 0.8 2.7 3.5 7.6 3.3 0.6 0.3 1.7 32.7 6 0 -1.4\n"
     ]
    }
   ],
   "source": [
    "print(table.text)"
   ]
  },
  {
   "cell_type": "code",
   "execution_count": null,
   "metadata": {},
   "outputs": [],
   "source": []
  },
  {
   "cell_type": "code",
   "execution_count": 49,
   "metadata": {},
   "outputs": [],
   "source": [
    "table = driver.find_elements_by_xpath('/html/body/main/div[2]/div/div[2]/div/div/nba-stat-table/div[2]/div[1]/table')"
   ]
  },
  {
   "cell_type": "code",
   "execution_count": 50,
   "metadata": {},
   "outputs": [
    {
     "data": {
      "text/plain": [
       "[<selenium.webdriver.remote.webelement.WebElement (session=\"50130a4af9aae9e9eb1b256d6de17868\", element=\"0.46654935021519295-1\")>]"
      ]
     },
     "execution_count": 50,
     "metadata": {},
     "output_type": "execute_result"
    }
   ],
   "source": [
    "table"
   ]
  },
  {
   "cell_type": "code",
   "execution_count": 32,
   "metadata": {},
   "outputs": [],
   "source": [
    "nba_players = 'https://stats.nba.com/players/traditional/?sort=PTS&dir=-1'\n",
    "res = requests.get(nba_players)\n",
    "soup = BeautifulSoup(res.content, 'lxml')\n",
    "main = soup.find('main', {'class' : 'stats-container'})"
   ]
  },
  {
   "cell_type": "code",
   "execution_count": 40,
   "metadata": {},
   "outputs": [],
   "source": [
    "table = main.find_all('nba-stat-table')"
   ]
  },
  {
   "cell_type": "code",
   "execution_count": 29,
   "metadata": {},
   "outputs": [],
   "source": [
    "soup.find('div', {'class': 'stat-table'})"
   ]
  },
  {
   "cell_type": "code",
   "execution_count": 7,
   "metadata": {
    "scrolled": true
   },
   "outputs": [
    {
     "data": {
      "text/plain": [
       "0"
      ]
     },
     "execution_count": 7,
     "metadata": {},
     "output_type": "execute_result"
    }
   ],
   "source": [
    "len(chart)"
   ]
  },
  {
   "cell_type": "code",
   "execution_count": 8,
   "metadata": {},
   "outputs": [
    {
     "data": {
      "text/plain": [
       "[]"
      ]
     },
     "execution_count": 8,
     "metadata": {},
     "output_type": "execute_result"
    }
   ],
   "source": [
    "chart"
   ]
  },
  {
   "cell_type": "code",
   "execution_count": null,
   "metadata": {},
   "outputs": [],
   "source": []
  }
 ],
 "metadata": {
  "kernelspec": {
   "display_name": "Python 3",
   "language": "python",
   "name": "python3"
  },
  "language_info": {
   "codemirror_mode": {
    "name": "ipython",
    "version": 3
   },
   "file_extension": ".py",
   "mimetype": "text/x-python",
   "name": "python",
   "nbconvert_exporter": "python",
   "pygments_lexer": "ipython3",
   "version": "3.7.4"
  }
 },
 "nbformat": 4,
 "nbformat_minor": 2
}
