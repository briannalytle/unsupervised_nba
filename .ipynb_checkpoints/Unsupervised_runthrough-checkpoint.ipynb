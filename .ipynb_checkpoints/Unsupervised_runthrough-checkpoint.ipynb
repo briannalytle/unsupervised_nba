{
 "cells": [
  {
   "cell_type": "code",
   "execution_count": 1,
   "metadata": {},
   "outputs": [],
   "source": [
    "import numpy as np\n",
    "import pandas as pd\n",
    "import seaborn as sns\n",
    "import matplotlib.pyplot as plt\n",
    "\n",
    "%matplotlib inline"
   ]
  },
  {
   "cell_type": "markdown",
   "metadata": {},
   "source": [
    "While scraping I:\n",
    "    - dropped player duplicates and kept the fist row \n",
    "    - added the URL slug to the dataframe\n",
    "    - dropped the empty column that was imported from chart "
   ]
  },
  {
   "cell_type": "markdown",
   "metadata": {},
   "source": [
    "# EDA UGH"
   ]
  },
  {
   "cell_type": "markdown",
   "metadata": {},
   "source": [
    "# Unupervised I'M TRYING"
   ]
  },
  {
   "cell_type": "code",
   "execution_count": 2,
   "metadata": {},
   "outputs": [],
   "source": [
    "from sklearn.datasets import make_blobs\n",
    "from sklearn.cluster import KMeans\n",
    "from sklearn.metrics import silhouette_score\n",
    "from sklearn.preprocessing import StandardScaler\n",
    "from sklearn.decomposition import PCA\n",
    "from sklearn.cluster import KMeans\n",
    "from sklearn.discriminant_analysis import LinearDiscriminantAnalysis\n",
    "\n"
   ]
  },
  {
   "cell_type": "code",
   "execution_count": 3,
   "metadata": {},
   "outputs": [],
   "source": [
    "season1819 = pd.read_csv('season1819.csv', index_col=False)\n",
    "season1819.drop(columns = 'Unnamed: 0', inplace= True)\n",
    "season1819.fillna(0, inplace = True)"
   ]
  },
  {
   "cell_type": "code",
   "execution_count": 4,
   "metadata": {},
   "outputs": [
    {
     "data": {
      "text/plain": [
       "Index(['Player', 'Pos', 'Age', 'Tm', 'G', 'GS', 'MP', 'FG', 'FGA', 'FG%', '3P',\n",
       "       '3PA', '3P%', '2P', '2PA', '2P%', 'FT', 'FTA', 'FT%', 'ORB', 'DRB',\n",
       "       'TRB', 'AST', 'STL', 'BLK', 'TOV', 'PF', 'PTS', 'Unnamed: 29', 'ORtg',\n",
       "       'DRtg', 'url_list'],\n",
       "      dtype='object')"
      ]
     },
     "execution_count": 4,
     "metadata": {},
     "output_type": "execute_result"
    }
   ],
   "source": [
    "season1819.columns"
   ]
  },
  {
   "cell_type": "code",
   "execution_count": 5,
   "metadata": {},
   "outputs": [],
   "source": [
    "df = season1819.drop(['MP', 'url_list', 'Tm', 'Unnamed: 29'], axis = 1)\n",
    "df = df[df['G'] > 40]"
   ]
  },
  {
   "cell_type": "code",
   "execution_count": 6,
   "metadata": {},
   "outputs": [
    {
     "data": {
      "text/plain": [
       "(386, 28)"
      ]
     },
     "execution_count": 6,
     "metadata": {},
     "output_type": "execute_result"
    }
   ],
   "source": [
    "df.shape"
   ]
  },
  {
   "cell_type": "code",
   "execution_count": 7,
   "metadata": {},
   "outputs": [],
   "source": [
    "X = df.drop(['Player', 'Pos', 'G'], axis = 1)\n",
    "y = df['Pos']"
   ]
  },
  {
   "cell_type": "code",
   "execution_count": 8,
   "metadata": {},
   "outputs": [],
   "source": [
    "#scaling data\n",
    "scaler = StandardScaler()\n",
    "X_scaled = scaler.fit_transform(X)"
   ]
  },
  {
   "cell_type": "code",
   "execution_count": 9,
   "metadata": {},
   "outputs": [
    {
     "name": "stdout",
     "output_type": "stream",
     "text": [
      "Cumulative Explained Variance: 0.5697007173905764\n"
     ]
    }
   ],
   "source": [
    "pca = PCA(n_components = 2)\n",
    "pca.fit(X_scaled)\n",
    "\n",
    "X_pca = pca.transform(X_scaled)\n",
    "print(\"Cumulative Explained Variance:\", pca.explained_variance_ratio_.sum())"
   ]
  },
  {
   "cell_type": "code",
   "execution_count": 10,
   "metadata": {},
   "outputs": [],
   "source": [
    "myKMC = KMeans(n_clusters = 5)"
   ]
  },
  {
   "cell_type": "code",
   "execution_count": 11,
   "metadata": {},
   "outputs": [
    {
     "data": {
      "text/plain": [
       "KMeans(algorithm='auto', copy_x=True, init='k-means++', max_iter=300,\n",
       "       n_clusters=5, n_init=10, n_jobs=None, precompute_distances='auto',\n",
       "       random_state=None, tol=0.0001, verbose=0)"
      ]
     },
     "execution_count": 11,
     "metadata": {},
     "output_type": "execute_result"
    }
   ],
   "source": [
    "myKMC.fit(df.drop(['Player', 'Pos', 'G'], axis = 1))\n"
   ]
  },
  {
   "cell_type": "code",
   "execution_count": 12,
   "metadata": {},
   "outputs": [
    {
     "data": {
      "text/plain": [
       "array([[ 25.55      ,  26.66666667,   7.305     ,  16.01666667,\n",
       "          0.45565   ,   2.13666667,   6.06666667,   0.32103333,\n",
       "          5.17333333,   9.94166667,   0.51681667,   2.685     ,\n",
       "          3.57666667,   0.75101667,   2.23666667,   6.97      ,\n",
       "          9.21      ,   4.00166667,   1.445     ,   0.97333333,\n",
       "          2.35666667,   4.31333333,  19.43833333, 110.01666667,\n",
       "        111.63333333],\n",
       "       [ 26.68131868,  73.79120879,   9.64835165,  20.27582418,\n",
       "          0.47894505,   2.46923077,   6.70549451,   0.32810989,\n",
       "          7.18791209,  13.56483516,   0.52596703,   4.6       ,\n",
       "          5.83846154,   0.78826374,   2.17362637,   7.5021978 ,\n",
       "          9.68021978,   5.73296703,   1.56923077,   1.07142857,\n",
       "          3.0956044 ,   3.63296703,  26.37802198, 114.01098901,\n",
       "        109.36263736],\n",
       "       [ 26.38095238,   5.49206349,   6.87460317,  16.19603175,\n",
       "          0.42381746,   2.42222222,   7.06587302,   0.32527778,\n",
       "          4.45      ,   9.12301587,   0.49049206,   2.58174603,\n",
       "          3.41190476,   0.75107143,   1.46904762,   5.86031746,\n",
       "          7.33492063,   4.33809524,   1.38730159,   0.71984127,\n",
       "          2.41587302,   4.39444444,  18.7547619 , 105.55555556,\n",
       "        111.55555556],\n",
       "       [ 26.13432836,  49.74626866,   7.41641791,  16.45820896,\n",
       "          0.45161194,   2.10746269,   5.96716418,   0.32498507,\n",
       "          5.3119403 ,  10.49253731,   0.50144776,   3.05522388,\n",
       "          3.95522388,   0.7731791 ,   1.88656716,   6.79552239,\n",
       "          8.68059701,   4.48955224,   1.5358209 ,   0.95671642,\n",
       "          2.51791045,   4.17910448,  19.99701493, 108.85074627,\n",
       "        111.50746269],\n",
       "       [ 27.11904762,   6.92857143,   7.27857143,  13.37142857,\n",
       "          0.54657143,   0.79047619,   2.25238095,   0.21088095,\n",
       "          6.48333333,  11.12380952,   0.58383333,   3.36666667,\n",
       "          4.80714286,   0.70369048,   4.16904762,   8.82380952,\n",
       "         13.        ,   3.38571429,   1.38095238,   1.62619048,\n",
       "          2.17619048,   5.75238095,  18.69047619, 121.42857143,\n",
       "        108.4047619 ]])"
      ]
     },
     "execution_count": 12,
     "metadata": {},
     "output_type": "execute_result"
    }
   ],
   "source": [
    "myKMC.cluster_centers_"
   ]
  },
  {
   "cell_type": "code",
   "execution_count": 13,
   "metadata": {
    "scrolled": true
   },
   "outputs": [
    {
     "data": {
      "text/plain": [
       "array([1, 0, 1, 1, 1, 2, 3, 1, 2, 0, 1, 3, 1, 1, 2, 4, 3, 2, 1, 3, 3, 1,\n",
       "       4, 0, 1, 0, 2, 2, 2, 0, 4, 3, 4, 0, 1, 2, 1, 0, 1, 2, 1, 3, 3, 3,\n",
       "       0, 2, 1, 3, 0, 2, 2, 0, 3, 3, 3, 2, 0, 1, 3, 2, 0, 1, 2, 2, 3, 1,\n",
       "       4, 4, 0, 2, 2, 2, 2, 1, 2, 1, 1, 4, 2, 0, 0, 2, 2, 0, 2, 1, 2, 1,\n",
       "       4, 3, 2, 2, 1, 4, 2, 4, 2, 1, 2, 3, 1, 0, 3, 1, 0, 1, 0, 2, 2, 1,\n",
       "       4, 1, 2, 0, 1, 1, 1, 0, 0, 1, 2, 1, 3, 3, 1, 3, 2, 1, 1, 1, 3, 3,\n",
       "       2, 1, 2, 1, 3, 2, 2, 2, 3, 1, 1, 3, 1, 3, 4, 2, 3, 1, 1, 3, 2, 0,\n",
       "       0, 0, 4, 0, 1, 4, 2, 2, 2, 2, 1, 1, 3, 0, 4, 3, 3, 1, 3, 2, 3, 4,\n",
       "       2, 1, 3, 1, 3, 2, 2, 3, 0, 2, 2, 1, 1, 4, 2, 0, 2, 2, 0, 2, 1, 4,\n",
       "       0, 1, 3, 2, 2, 0, 0, 2, 4, 0, 3, 2, 0, 2, 2, 2, 3, 1, 3, 1, 0, 4,\n",
       "       0, 1, 4, 4, 1, 2, 2, 4, 4, 1, 0, 1, 2, 2, 2, 2, 2, 4, 3, 2, 1, 3,\n",
       "       1, 2, 2, 1, 3, 4, 0, 1, 2, 2, 2, 1, 0, 1, 2, 4, 0, 3, 2, 4, 3, 1,\n",
       "       2, 2, 2, 2, 0, 2, 2, 4, 4, 0, 2, 1, 4, 2, 2, 2, 0, 2, 3, 0, 1, 0,\n",
       "       4, 0, 2, 2, 3, 3, 4, 4, 4, 3, 0, 0, 4, 2, 4, 2, 3, 1, 1, 2, 2, 0,\n",
       "       4, 0, 2, 2, 2, 1, 1, 4, 3, 0, 3, 2, 2, 2, 2, 2, 2, 1, 0, 2, 3, 3,\n",
       "       1, 1, 2, 2, 3, 3, 2, 4, 2, 2, 2, 2, 1, 3, 3, 3, 4, 2, 1, 3, 2, 2,\n",
       "       1, 2, 1, 2, 1, 4, 0, 0, 3, 1, 2, 2, 0, 1, 2, 3, 0, 1, 3, 3, 1, 0,\n",
       "       2, 1, 2, 3, 2, 2, 2, 1, 1, 3, 0, 0])"
      ]
     },
     "execution_count": 13,
     "metadata": {},
     "output_type": "execute_result"
    }
   ],
   "source": [
    "myKMC.labels_"
   ]
  },
  {
   "cell_type": "code",
   "execution_count": 14,
   "metadata": {
    "scrolled": true
   },
   "outputs": [
    {
     "data": {
      "text/html": [
       "<div>\n",
       "<style scoped>\n",
       "    .dataframe tbody tr th:only-of-type {\n",
       "        vertical-align: middle;\n",
       "    }\n",
       "\n",
       "    .dataframe tbody tr th {\n",
       "        vertical-align: top;\n",
       "    }\n",
       "\n",
       "    .dataframe thead th {\n",
       "        text-align: right;\n",
       "    }\n",
       "</style>\n",
       "<table border=\"1\" class=\"dataframe\">\n",
       "  <thead>\n",
       "    <tr style=\"text-align: right;\">\n",
       "      <th></th>\n",
       "      <th>Player</th>\n",
       "      <th>Pos</th>\n",
       "      <th>Age</th>\n",
       "      <th>G</th>\n",
       "      <th>GS</th>\n",
       "      <th>FG</th>\n",
       "      <th>FGA</th>\n",
       "      <th>FG%</th>\n",
       "      <th>3P</th>\n",
       "      <th>3PA</th>\n",
       "      <th>...</th>\n",
       "      <th>TRB</th>\n",
       "      <th>AST</th>\n",
       "      <th>STL</th>\n",
       "      <th>BLK</th>\n",
       "      <th>TOV</th>\n",
       "      <th>PF</th>\n",
       "      <th>PTS</th>\n",
       "      <th>ORtg</th>\n",
       "      <th>DRtg</th>\n",
       "      <th>cluster</th>\n",
       "    </tr>\n",
       "  </thead>\n",
       "  <tbody>\n",
       "    <tr>\n",
       "      <td>3</td>\n",
       "      <td>Steven Adams</td>\n",
       "      <td>C</td>\n",
       "      <td>25.0</td>\n",
       "      <td>80.0</td>\n",
       "      <td>80.0</td>\n",
       "      <td>8.4</td>\n",
       "      <td>14.1</td>\n",
       "      <td>0.595</td>\n",
       "      <td>0.0</td>\n",
       "      <td>0.0</td>\n",
       "      <td>...</td>\n",
       "      <td>13.3</td>\n",
       "      <td>2.2</td>\n",
       "      <td>2.0</td>\n",
       "      <td>1.3</td>\n",
       "      <td>2.4</td>\n",
       "      <td>3.6</td>\n",
       "      <td>19.4</td>\n",
       "      <td>120.0</td>\n",
       "      <td>106.0</td>\n",
       "      <td>1</td>\n",
       "    </tr>\n",
       "    <tr>\n",
       "      <td>4</td>\n",
       "      <td>Bam Adebayo</td>\n",
       "      <td>C</td>\n",
       "      <td>21.0</td>\n",
       "      <td>82.0</td>\n",
       "      <td>28.0</td>\n",
       "      <td>7.2</td>\n",
       "      <td>12.4</td>\n",
       "      <td>0.576</td>\n",
       "      <td>0.1</td>\n",
       "      <td>0.4</td>\n",
       "      <td>...</td>\n",
       "      <td>15.2</td>\n",
       "      <td>4.7</td>\n",
       "      <td>1.8</td>\n",
       "      <td>1.7</td>\n",
       "      <td>3.1</td>\n",
       "      <td>5.2</td>\n",
       "      <td>18.6</td>\n",
       "      <td>120.0</td>\n",
       "      <td>104.0</td>\n",
       "      <td>0</td>\n",
       "    </tr>\n",
       "    <tr>\n",
       "      <td>7</td>\n",
       "      <td>LaMarcus Aldridge</td>\n",
       "      <td>C</td>\n",
       "      <td>33.0</td>\n",
       "      <td>81.0</td>\n",
       "      <td>81.0</td>\n",
       "      <td>12.4</td>\n",
       "      <td>24.0</td>\n",
       "      <td>0.519</td>\n",
       "      <td>0.2</td>\n",
       "      <td>0.8</td>\n",
       "      <td>...</td>\n",
       "      <td>13.5</td>\n",
       "      <td>3.5</td>\n",
       "      <td>0.8</td>\n",
       "      <td>1.9</td>\n",
       "      <td>2.6</td>\n",
       "      <td>3.3</td>\n",
       "      <td>31.4</td>\n",
       "      <td>117.0</td>\n",
       "      <td>110.0</td>\n",
       "      <td>1</td>\n",
       "    </tr>\n",
       "    <tr>\n",
       "      <td>10</td>\n",
       "      <td>Jarrett Allen</td>\n",
       "      <td>C</td>\n",
       "      <td>20.0</td>\n",
       "      <td>80.0</td>\n",
       "      <td>80.0</td>\n",
       "      <td>7.6</td>\n",
       "      <td>12.9</td>\n",
       "      <td>0.590</td>\n",
       "      <td>0.1</td>\n",
       "      <td>1.0</td>\n",
       "      <td>...</td>\n",
       "      <td>15.3</td>\n",
       "      <td>2.5</td>\n",
       "      <td>1.0</td>\n",
       "      <td>2.7</td>\n",
       "      <td>2.3</td>\n",
       "      <td>4.2</td>\n",
       "      <td>19.8</td>\n",
       "      <td>123.0</td>\n",
       "      <td>106.0</td>\n",
       "      <td>1</td>\n",
       "    </tr>\n",
       "    <tr>\n",
       "      <td>12</td>\n",
       "      <td>Al-Farouq Aminu</td>\n",
       "      <td>PF</td>\n",
       "      <td>28.0</td>\n",
       "      <td>81.0</td>\n",
       "      <td>81.0</td>\n",
       "      <td>5.4</td>\n",
       "      <td>12.5</td>\n",
       "      <td>0.433</td>\n",
       "      <td>2.0</td>\n",
       "      <td>5.9</td>\n",
       "      <td>...</td>\n",
       "      <td>12.9</td>\n",
       "      <td>2.2</td>\n",
       "      <td>1.4</td>\n",
       "      <td>0.7</td>\n",
       "      <td>1.5</td>\n",
       "      <td>3.0</td>\n",
       "      <td>16.1</td>\n",
       "      <td>118.0</td>\n",
       "      <td>109.0</td>\n",
       "      <td>1</td>\n",
       "    </tr>\n",
       "  </tbody>\n",
       "</table>\n",
       "<p>5 rows × 29 columns</p>\n",
       "</div>"
      ],
      "text/plain": [
       "               Player Pos   Age     G    GS    FG   FGA    FG%   3P  3PA  ...  \\\n",
       "3        Steven Adams   C  25.0  80.0  80.0   8.4  14.1  0.595  0.0  0.0  ...   \n",
       "4         Bam Adebayo   C  21.0  82.0  28.0   7.2  12.4  0.576  0.1  0.4  ...   \n",
       "7   LaMarcus Aldridge   C  33.0  81.0  81.0  12.4  24.0  0.519  0.2  0.8  ...   \n",
       "10      Jarrett Allen   C  20.0  80.0  80.0   7.6  12.9  0.590  0.1  1.0  ...   \n",
       "12    Al-Farouq Aminu  PF  28.0  81.0  81.0   5.4  12.5  0.433  2.0  5.9  ...   \n",
       "\n",
       "     TRB  AST  STL  BLK  TOV   PF   PTS   ORtg   DRtg  cluster  \n",
       "3   13.3  2.2  2.0  1.3  2.4  3.6  19.4  120.0  106.0        1  \n",
       "4   15.2  4.7  1.8  1.7  3.1  5.2  18.6  120.0  104.0        0  \n",
       "7   13.5  3.5  0.8  1.9  2.6  3.3  31.4  117.0  110.0        1  \n",
       "10  15.3  2.5  1.0  2.7  2.3  4.2  19.8  123.0  106.0        1  \n",
       "12  12.9  2.2  1.4  0.7  1.5  3.0  16.1  118.0  109.0        1  \n",
       "\n",
       "[5 rows x 29 columns]"
      ]
     },
     "execution_count": 14,
     "metadata": {},
     "output_type": "execute_result"
    }
   ],
   "source": [
    "# attach predicted cluster to original points\n",
    "df['cluster'] = myKMC.labels_\n",
    "df.head()"
   ]
  },
  {
   "cell_type": "code",
   "execution_count": 15,
   "metadata": {
    "scrolled": true
   },
   "outputs": [
    {
     "data": {
      "text/html": [
       "<div>\n",
       "<style scoped>\n",
       "    .dataframe tbody tr th:only-of-type {\n",
       "        vertical-align: middle;\n",
       "    }\n",
       "\n",
       "    .dataframe tbody tr th {\n",
       "        vertical-align: top;\n",
       "    }\n",
       "\n",
       "    .dataframe thead th {\n",
       "        text-align: right;\n",
       "    }\n",
       "</style>\n",
       "<table border=\"1\" class=\"dataframe\">\n",
       "  <thead>\n",
       "    <tr style=\"text-align: right;\">\n",
       "      <th></th>\n",
       "      <th>Age</th>\n",
       "      <th>G</th>\n",
       "      <th>GS</th>\n",
       "      <th>FG</th>\n",
       "      <th>FGA</th>\n",
       "      <th>FG%</th>\n",
       "      <th>3P</th>\n",
       "      <th>3PA</th>\n",
       "      <th>3P%</th>\n",
       "      <th>2P</th>\n",
       "      <th>...</th>\n",
       "      <th>DRB</th>\n",
       "      <th>TRB</th>\n",
       "      <th>AST</th>\n",
       "      <th>STL</th>\n",
       "      <th>BLK</th>\n",
       "      <th>TOV</th>\n",
       "      <th>PF</th>\n",
       "      <th>PTS</th>\n",
       "      <th>ORtg</th>\n",
       "      <th>DRtg</th>\n",
       "    </tr>\n",
       "    <tr>\n",
       "      <th>cluster</th>\n",
       "      <th></th>\n",
       "      <th></th>\n",
       "      <th></th>\n",
       "      <th></th>\n",
       "      <th></th>\n",
       "      <th></th>\n",
       "      <th></th>\n",
       "      <th></th>\n",
       "      <th></th>\n",
       "      <th></th>\n",
       "      <th></th>\n",
       "      <th></th>\n",
       "      <th></th>\n",
       "      <th></th>\n",
       "      <th></th>\n",
       "      <th></th>\n",
       "      <th></th>\n",
       "      <th></th>\n",
       "      <th></th>\n",
       "      <th></th>\n",
       "      <th></th>\n",
       "    </tr>\n",
       "  </thead>\n",
       "  <tbody>\n",
       "    <tr>\n",
       "      <td>0</td>\n",
       "      <td>25.550000</td>\n",
       "      <td>61.866667</td>\n",
       "      <td>26.666667</td>\n",
       "      <td>7.305000</td>\n",
       "      <td>16.016667</td>\n",
       "      <td>0.455650</td>\n",
       "      <td>2.136667</td>\n",
       "      <td>6.066667</td>\n",
       "      <td>0.321033</td>\n",
       "      <td>5.173333</td>\n",
       "      <td>...</td>\n",
       "      <td>6.970000</td>\n",
       "      <td>9.210000</td>\n",
       "      <td>4.001667</td>\n",
       "      <td>1.445000</td>\n",
       "      <td>0.973333</td>\n",
       "      <td>2.356667</td>\n",
       "      <td>4.313333</td>\n",
       "      <td>19.438333</td>\n",
       "      <td>110.016667</td>\n",
       "      <td>111.633333</td>\n",
       "    </tr>\n",
       "    <tr>\n",
       "      <td>1</td>\n",
       "      <td>26.681319</td>\n",
       "      <td>74.846154</td>\n",
       "      <td>73.791209</td>\n",
       "      <td>9.648352</td>\n",
       "      <td>20.275824</td>\n",
       "      <td>0.478945</td>\n",
       "      <td>2.469231</td>\n",
       "      <td>6.705495</td>\n",
       "      <td>0.328110</td>\n",
       "      <td>7.187912</td>\n",
       "      <td>...</td>\n",
       "      <td>7.502198</td>\n",
       "      <td>9.680220</td>\n",
       "      <td>5.732967</td>\n",
       "      <td>1.569231</td>\n",
       "      <td>1.071429</td>\n",
       "      <td>3.095604</td>\n",
       "      <td>3.632967</td>\n",
       "      <td>26.378022</td>\n",
       "      <td>114.010989</td>\n",
       "      <td>109.362637</td>\n",
       "    </tr>\n",
       "    <tr>\n",
       "      <td>2</td>\n",
       "      <td>26.380952</td>\n",
       "      <td>59.444444</td>\n",
       "      <td>5.492063</td>\n",
       "      <td>6.874603</td>\n",
       "      <td>16.196032</td>\n",
       "      <td>0.423817</td>\n",
       "      <td>2.422222</td>\n",
       "      <td>7.065873</td>\n",
       "      <td>0.325278</td>\n",
       "      <td>4.450000</td>\n",
       "      <td>...</td>\n",
       "      <td>5.860317</td>\n",
       "      <td>7.334921</td>\n",
       "      <td>4.338095</td>\n",
       "      <td>1.387302</td>\n",
       "      <td>0.719841</td>\n",
       "      <td>2.415873</td>\n",
       "      <td>4.394444</td>\n",
       "      <td>18.754762</td>\n",
       "      <td>105.555556</td>\n",
       "      <td>111.555556</td>\n",
       "    </tr>\n",
       "    <tr>\n",
       "      <td>3</td>\n",
       "      <td>26.134328</td>\n",
       "      <td>60.373134</td>\n",
       "      <td>49.746269</td>\n",
       "      <td>7.416418</td>\n",
       "      <td>16.458209</td>\n",
       "      <td>0.451612</td>\n",
       "      <td>2.107463</td>\n",
       "      <td>5.967164</td>\n",
       "      <td>0.324985</td>\n",
       "      <td>5.311940</td>\n",
       "      <td>...</td>\n",
       "      <td>6.795522</td>\n",
       "      <td>8.680597</td>\n",
       "      <td>4.489552</td>\n",
       "      <td>1.535821</td>\n",
       "      <td>0.956716</td>\n",
       "      <td>2.517910</td>\n",
       "      <td>4.179104</td>\n",
       "      <td>19.997015</td>\n",
       "      <td>108.850746</td>\n",
       "      <td>111.507463</td>\n",
       "    </tr>\n",
       "    <tr>\n",
       "      <td>4</td>\n",
       "      <td>27.119048</td>\n",
       "      <td>63.500000</td>\n",
       "      <td>6.928571</td>\n",
       "      <td>7.278571</td>\n",
       "      <td>13.371429</td>\n",
       "      <td>0.546571</td>\n",
       "      <td>0.790476</td>\n",
       "      <td>2.252381</td>\n",
       "      <td>0.210881</td>\n",
       "      <td>6.483333</td>\n",
       "      <td>...</td>\n",
       "      <td>8.823810</td>\n",
       "      <td>13.000000</td>\n",
       "      <td>3.385714</td>\n",
       "      <td>1.380952</td>\n",
       "      <td>1.626190</td>\n",
       "      <td>2.176190</td>\n",
       "      <td>5.752381</td>\n",
       "      <td>18.690476</td>\n",
       "      <td>121.428571</td>\n",
       "      <td>108.404762</td>\n",
       "    </tr>\n",
       "  </tbody>\n",
       "</table>\n",
       "<p>5 rows × 26 columns</p>\n",
       "</div>"
      ],
      "text/plain": [
       "               Age          G         GS        FG        FGA       FG%  \\\n",
       "cluster                                                                   \n",
       "0        25.550000  61.866667  26.666667  7.305000  16.016667  0.455650   \n",
       "1        26.681319  74.846154  73.791209  9.648352  20.275824  0.478945   \n",
       "2        26.380952  59.444444   5.492063  6.874603  16.196032  0.423817   \n",
       "3        26.134328  60.373134  49.746269  7.416418  16.458209  0.451612   \n",
       "4        27.119048  63.500000   6.928571  7.278571  13.371429  0.546571   \n",
       "\n",
       "               3P       3PA       3P%        2P  ...       DRB        TRB  \\\n",
       "cluster                                          ...                        \n",
       "0        2.136667  6.066667  0.321033  5.173333  ...  6.970000   9.210000   \n",
       "1        2.469231  6.705495  0.328110  7.187912  ...  7.502198   9.680220   \n",
       "2        2.422222  7.065873  0.325278  4.450000  ...  5.860317   7.334921   \n",
       "3        2.107463  5.967164  0.324985  5.311940  ...  6.795522   8.680597   \n",
       "4        0.790476  2.252381  0.210881  6.483333  ...  8.823810  13.000000   \n",
       "\n",
       "              AST       STL       BLK       TOV        PF        PTS  \\\n",
       "cluster                                                                \n",
       "0        4.001667  1.445000  0.973333  2.356667  4.313333  19.438333   \n",
       "1        5.732967  1.569231  1.071429  3.095604  3.632967  26.378022   \n",
       "2        4.338095  1.387302  0.719841  2.415873  4.394444  18.754762   \n",
       "3        4.489552  1.535821  0.956716  2.517910  4.179104  19.997015   \n",
       "4        3.385714  1.380952  1.626190  2.176190  5.752381  18.690476   \n",
       "\n",
       "               ORtg        DRtg  \n",
       "cluster                          \n",
       "0        110.016667  111.633333  \n",
       "1        114.010989  109.362637  \n",
       "2        105.555556  111.555556  \n",
       "3        108.850746  111.507463  \n",
       "4        121.428571  108.404762  \n",
       "\n",
       "[5 rows x 26 columns]"
      ]
     },
     "execution_count": 15,
     "metadata": {},
     "output_type": "execute_result"
    }
   ],
   "source": [
    "df.groupby('cluster').mean()"
   ]
  },
  {
   "cell_type": "code",
   "execution_count": 16,
   "metadata": {},
   "outputs": [],
   "source": [
    "centroids = pd.DataFrame(\n",
    "    scaler.inverse_transform(myKMC.cluster_centers_),\n",
    "    columns=[X]\n",
    ")"
   ]
  },
  {
   "cell_type": "markdown",
   "metadata": {},
   "source": [
    "# dbscan"
   ]
  },
  {
   "cell_type": "code",
   "execution_count": 17,
   "metadata": {},
   "outputs": [],
   "source": [
    "from sklearn.cluster import DBSCAN\n",
    "from sklearn.preprocessing import StandardScaler"
   ]
  },
  {
   "cell_type": "code",
   "execution_count": 18,
   "metadata": {},
   "outputs": [],
   "source": [
    "df = season1819.drop(['MP', 'url_list', 'Tm', 'Unnamed: 29'], axis = 1)\n",
    "df = df[df['G'] > 40]"
   ]
  },
  {
   "cell_type": "code",
   "execution_count": 19,
   "metadata": {
    "scrolled": true
   },
   "outputs": [
    {
     "data": {
      "text/plain": [
       "(386, 28)"
      ]
     },
     "execution_count": 19,
     "metadata": {},
     "output_type": "execute_result"
    }
   ],
   "source": [
    "df.shape"
   ]
  },
  {
   "cell_type": "code",
   "execution_count": 20,
   "metadata": {},
   "outputs": [
    {
     "data": {
      "text/plain": [
       "Index(['Player', 'Pos', 'Age', 'G', 'GS', 'FG', 'FGA', 'FG%', '3P', '3PA',\n",
       "       '3P%', '2P', '2PA', '2P%', 'FT', 'FTA', 'FT%', 'ORB', 'DRB', 'TRB',\n",
       "       'AST', 'STL', 'BLK', 'TOV', 'PF', 'PTS', 'ORtg', 'DRtg'],\n",
       "      dtype='object')"
      ]
     },
     "execution_count": 20,
     "metadata": {},
     "output_type": "execute_result"
    }
   ],
   "source": [
    "df.columns"
   ]
  },
  {
   "cell_type": "code",
   "execution_count": 58,
   "metadata": {},
   "outputs": [],
   "source": [
    "numerical = ['3P%', 'PF', 'ORtg', \n",
    "             'DRtg', '2PA', 'TOV']"
   ]
  },
  {
   "cell_type": "code",
   "execution_count": 59,
   "metadata": {
    "scrolled": false
   },
   "outputs": [],
   "source": [
    "ss = StandardScaler()\n",
    "X_scaled = ss.fit_transform(df[numerical])"
   ]
  },
  {
   "cell_type": "code",
   "execution_count": 60,
   "metadata": {},
   "outputs": [],
   "source": [
    "dbscan = DBSCAN(eps = 0.3)"
   ]
  },
  {
   "cell_type": "code",
   "execution_count": 61,
   "metadata": {},
   "outputs": [
    {
     "data": {
      "text/plain": [
       "DBSCAN(algorithm='auto', eps=0.3, leaf_size=30, metric='euclidean',\n",
       "       metric_params=None, min_samples=5, n_jobs=None, p=None)"
      ]
     },
     "execution_count": 61,
     "metadata": {},
     "output_type": "execute_result"
    }
   ],
   "source": [
    "dbscan.fit(X_scaled )"
   ]
  },
  {
   "cell_type": "code",
   "execution_count": 62,
   "metadata": {},
   "outputs": [
    {
     "data": {
      "text/plain": [
       "{-1}"
      ]
     },
     "execution_count": 62,
     "metadata": {},
     "output_type": "execute_result"
    }
   ],
   "source": [
    "set(dbscan.labels_)"
   ]
  },
  {
   "cell_type": "code",
   "execution_count": 57,
   "metadata": {},
   "outputs": [
    {
     "ename": "ValueError",
     "evalue": "Number of labels is 1. Valid values are 2 to n_samples - 1 (inclusive)",
     "output_type": "error",
     "traceback": [
      "\u001b[1;31m---------------------------------------------------------------------------\u001b[0m",
      "\u001b[1;31mValueError\u001b[0m                                Traceback (most recent call last)",
      "\u001b[1;32m<ipython-input-57-213fd20083df>\u001b[0m in \u001b[0;36m<module>\u001b[1;34m\u001b[0m\n\u001b[0;32m      1\u001b[0m \u001b[1;31m# Model Evaluation\u001b[0m\u001b[1;33m\u001b[0m\u001b[1;33m\u001b[0m\u001b[1;33m\u001b[0m\u001b[0m\n\u001b[1;32m----> 2\u001b[1;33m \u001b[0msilhouette_score\u001b[0m\u001b[1;33m(\u001b[0m\u001b[0mX_scaled\u001b[0m\u001b[1;33m,\u001b[0m \u001b[0mdbscan\u001b[0m\u001b[1;33m.\u001b[0m\u001b[0mlabels_\u001b[0m\u001b[1;33m)\u001b[0m\u001b[1;33m\u001b[0m\u001b[1;33m\u001b[0m\u001b[0m\n\u001b[0m",
      "\u001b[1;32m~\\Anaconda3\\lib\\site-packages\\sklearn\\metrics\\cluster\\unsupervised.py\u001b[0m in \u001b[0;36msilhouette_score\u001b[1;34m(X, labels, metric, sample_size, random_state, **kwds)\u001b[0m\n\u001b[0;32m    115\u001b[0m         \u001b[1;32melse\u001b[0m\u001b[1;33m:\u001b[0m\u001b[1;33m\u001b[0m\u001b[1;33m\u001b[0m\u001b[0m\n\u001b[0;32m    116\u001b[0m             \u001b[0mX\u001b[0m\u001b[1;33m,\u001b[0m \u001b[0mlabels\u001b[0m \u001b[1;33m=\u001b[0m \u001b[0mX\u001b[0m\u001b[1;33m[\u001b[0m\u001b[0mindices\u001b[0m\u001b[1;33m]\u001b[0m\u001b[1;33m,\u001b[0m \u001b[0mlabels\u001b[0m\u001b[1;33m[\u001b[0m\u001b[0mindices\u001b[0m\u001b[1;33m]\u001b[0m\u001b[1;33m\u001b[0m\u001b[1;33m\u001b[0m\u001b[0m\n\u001b[1;32m--> 117\u001b[1;33m     \u001b[1;32mreturn\u001b[0m \u001b[0mnp\u001b[0m\u001b[1;33m.\u001b[0m\u001b[0mmean\u001b[0m\u001b[1;33m(\u001b[0m\u001b[0msilhouette_samples\u001b[0m\u001b[1;33m(\u001b[0m\u001b[0mX\u001b[0m\u001b[1;33m,\u001b[0m \u001b[0mlabels\u001b[0m\u001b[1;33m,\u001b[0m \u001b[0mmetric\u001b[0m\u001b[1;33m=\u001b[0m\u001b[0mmetric\u001b[0m\u001b[1;33m,\u001b[0m \u001b[1;33m**\u001b[0m\u001b[0mkwds\u001b[0m\u001b[1;33m)\u001b[0m\u001b[1;33m)\u001b[0m\u001b[1;33m\u001b[0m\u001b[1;33m\u001b[0m\u001b[0m\n\u001b[0m\u001b[0;32m    118\u001b[0m \u001b[1;33m\u001b[0m\u001b[0m\n\u001b[0;32m    119\u001b[0m \u001b[1;33m\u001b[0m\u001b[0m\n",
      "\u001b[1;32m~\\Anaconda3\\lib\\site-packages\\sklearn\\metrics\\cluster\\unsupervised.py\u001b[0m in \u001b[0;36msilhouette_samples\u001b[1;34m(X, labels, metric, **kwds)\u001b[0m\n\u001b[0;32m    215\u001b[0m     \u001b[0mn_samples\u001b[0m \u001b[1;33m=\u001b[0m \u001b[0mlen\u001b[0m\u001b[1;33m(\u001b[0m\u001b[0mlabels\u001b[0m\u001b[1;33m)\u001b[0m\u001b[1;33m\u001b[0m\u001b[1;33m\u001b[0m\u001b[0m\n\u001b[0;32m    216\u001b[0m     \u001b[0mlabel_freqs\u001b[0m \u001b[1;33m=\u001b[0m \u001b[0mnp\u001b[0m\u001b[1;33m.\u001b[0m\u001b[0mbincount\u001b[0m\u001b[1;33m(\u001b[0m\u001b[0mlabels\u001b[0m\u001b[1;33m)\u001b[0m\u001b[1;33m\u001b[0m\u001b[1;33m\u001b[0m\u001b[0m\n\u001b[1;32m--> 217\u001b[1;33m     \u001b[0mcheck_number_of_labels\u001b[0m\u001b[1;33m(\u001b[0m\u001b[0mlen\u001b[0m\u001b[1;33m(\u001b[0m\u001b[0mle\u001b[0m\u001b[1;33m.\u001b[0m\u001b[0mclasses_\u001b[0m\u001b[1;33m)\u001b[0m\u001b[1;33m,\u001b[0m \u001b[0mn_samples\u001b[0m\u001b[1;33m)\u001b[0m\u001b[1;33m\u001b[0m\u001b[1;33m\u001b[0m\u001b[0m\n\u001b[0m\u001b[0;32m    218\u001b[0m \u001b[1;33m\u001b[0m\u001b[0m\n\u001b[0;32m    219\u001b[0m     \u001b[0mkwds\u001b[0m\u001b[1;33m[\u001b[0m\u001b[1;34m'metric'\u001b[0m\u001b[1;33m]\u001b[0m \u001b[1;33m=\u001b[0m \u001b[0mmetric\u001b[0m\u001b[1;33m\u001b[0m\u001b[1;33m\u001b[0m\u001b[0m\n",
      "\u001b[1;32m~\\Anaconda3\\lib\\site-packages\\sklearn\\metrics\\cluster\\unsupervised.py\u001b[0m in \u001b[0;36mcheck_number_of_labels\u001b[1;34m(n_labels, n_samples)\u001b[0m\n\u001b[0;32m     33\u001b[0m     \u001b[1;32mif\u001b[0m \u001b[1;32mnot\u001b[0m \u001b[1;36m1\u001b[0m \u001b[1;33m<\u001b[0m \u001b[0mn_labels\u001b[0m \u001b[1;33m<\u001b[0m \u001b[0mn_samples\u001b[0m\u001b[1;33m:\u001b[0m\u001b[1;33m\u001b[0m\u001b[1;33m\u001b[0m\u001b[0m\n\u001b[0;32m     34\u001b[0m         raise ValueError(\"Number of labels is %d. Valid values are 2 \"\n\u001b[1;32m---> 35\u001b[1;33m                          \"to n_samples - 1 (inclusive)\" % n_labels)\n\u001b[0m\u001b[0;32m     36\u001b[0m \u001b[1;33m\u001b[0m\u001b[0m\n\u001b[0;32m     37\u001b[0m \u001b[1;33m\u001b[0m\u001b[0m\n",
      "\u001b[1;31mValueError\u001b[0m: Number of labels is 1. Valid values are 2 to n_samples - 1 (inclusive)"
     ]
    }
   ],
   "source": [
    "# Model Evaluation\n",
    "silhouette_score(X_scaled, dbscan.labels_)"
   ]
  },
  {
   "cell_type": "markdown",
   "metadata": {},
   "source": [
    "## EDA Pairplot of DBSCAN"
   ]
  },
  {
   "cell_type": "code",
   "execution_count": 27,
   "metadata": {},
   "outputs": [],
   "source": [
    "df['cluster'] = dbscan.labels_"
   ]
  },
  {
   "cell_type": "code",
   "execution_count": 28,
   "metadata": {
    "scrolled": true
   },
   "outputs": [
    {
     "data": {
      "text/html": [
       "<div>\n",
       "<style scoped>\n",
       "    .dataframe tbody tr th:only-of-type {\n",
       "        vertical-align: middle;\n",
       "    }\n",
       "\n",
       "    .dataframe tbody tr th {\n",
       "        vertical-align: top;\n",
       "    }\n",
       "\n",
       "    .dataframe thead th {\n",
       "        text-align: right;\n",
       "    }\n",
       "</style>\n",
       "<table border=\"1\" class=\"dataframe\">\n",
       "  <thead>\n",
       "    <tr style=\"text-align: right;\">\n",
       "      <th></th>\n",
       "      <th>Player</th>\n",
       "      <th>Pos</th>\n",
       "      <th>Age</th>\n",
       "      <th>G</th>\n",
       "      <th>GS</th>\n",
       "      <th>FG</th>\n",
       "      <th>FGA</th>\n",
       "      <th>FG%</th>\n",
       "      <th>3P</th>\n",
       "      <th>3PA</th>\n",
       "      <th>...</th>\n",
       "      <th>TRB</th>\n",
       "      <th>AST</th>\n",
       "      <th>STL</th>\n",
       "      <th>BLK</th>\n",
       "      <th>TOV</th>\n",
       "      <th>PF</th>\n",
       "      <th>PTS</th>\n",
       "      <th>ORtg</th>\n",
       "      <th>DRtg</th>\n",
       "      <th>cluster</th>\n",
       "    </tr>\n",
       "  </thead>\n",
       "  <tbody>\n",
       "    <tr>\n",
       "      <td>3</td>\n",
       "      <td>Steven Adams</td>\n",
       "      <td>C</td>\n",
       "      <td>25.0</td>\n",
       "      <td>80.0</td>\n",
       "      <td>80.0</td>\n",
       "      <td>8.4</td>\n",
       "      <td>14.1</td>\n",
       "      <td>0.595</td>\n",
       "      <td>0.0</td>\n",
       "      <td>0.0</td>\n",
       "      <td>...</td>\n",
       "      <td>13.3</td>\n",
       "      <td>2.2</td>\n",
       "      <td>2.0</td>\n",
       "      <td>1.3</td>\n",
       "      <td>2.4</td>\n",
       "      <td>3.6</td>\n",
       "      <td>19.4</td>\n",
       "      <td>120.0</td>\n",
       "      <td>106.0</td>\n",
       "      <td>-1</td>\n",
       "    </tr>\n",
       "    <tr>\n",
       "      <td>4</td>\n",
       "      <td>Bam Adebayo</td>\n",
       "      <td>C</td>\n",
       "      <td>21.0</td>\n",
       "      <td>82.0</td>\n",
       "      <td>28.0</td>\n",
       "      <td>7.2</td>\n",
       "      <td>12.4</td>\n",
       "      <td>0.576</td>\n",
       "      <td>0.1</td>\n",
       "      <td>0.4</td>\n",
       "      <td>...</td>\n",
       "      <td>15.2</td>\n",
       "      <td>4.7</td>\n",
       "      <td>1.8</td>\n",
       "      <td>1.7</td>\n",
       "      <td>3.1</td>\n",
       "      <td>5.2</td>\n",
       "      <td>18.6</td>\n",
       "      <td>120.0</td>\n",
       "      <td>104.0</td>\n",
       "      <td>-1</td>\n",
       "    </tr>\n",
       "    <tr>\n",
       "      <td>7</td>\n",
       "      <td>LaMarcus Aldridge</td>\n",
       "      <td>C</td>\n",
       "      <td>33.0</td>\n",
       "      <td>81.0</td>\n",
       "      <td>81.0</td>\n",
       "      <td>12.4</td>\n",
       "      <td>24.0</td>\n",
       "      <td>0.519</td>\n",
       "      <td>0.2</td>\n",
       "      <td>0.8</td>\n",
       "      <td>...</td>\n",
       "      <td>13.5</td>\n",
       "      <td>3.5</td>\n",
       "      <td>0.8</td>\n",
       "      <td>1.9</td>\n",
       "      <td>2.6</td>\n",
       "      <td>3.3</td>\n",
       "      <td>31.4</td>\n",
       "      <td>117.0</td>\n",
       "      <td>110.0</td>\n",
       "      <td>-1</td>\n",
       "    </tr>\n",
       "    <tr>\n",
       "      <td>10</td>\n",
       "      <td>Jarrett Allen</td>\n",
       "      <td>C</td>\n",
       "      <td>20.0</td>\n",
       "      <td>80.0</td>\n",
       "      <td>80.0</td>\n",
       "      <td>7.6</td>\n",
       "      <td>12.9</td>\n",
       "      <td>0.590</td>\n",
       "      <td>0.1</td>\n",
       "      <td>1.0</td>\n",
       "      <td>...</td>\n",
       "      <td>15.3</td>\n",
       "      <td>2.5</td>\n",
       "      <td>1.0</td>\n",
       "      <td>2.7</td>\n",
       "      <td>2.3</td>\n",
       "      <td>4.2</td>\n",
       "      <td>19.8</td>\n",
       "      <td>123.0</td>\n",
       "      <td>106.0</td>\n",
       "      <td>-1</td>\n",
       "    </tr>\n",
       "    <tr>\n",
       "      <td>12</td>\n",
       "      <td>Al-Farouq Aminu</td>\n",
       "      <td>PF</td>\n",
       "      <td>28.0</td>\n",
       "      <td>81.0</td>\n",
       "      <td>81.0</td>\n",
       "      <td>5.4</td>\n",
       "      <td>12.5</td>\n",
       "      <td>0.433</td>\n",
       "      <td>2.0</td>\n",
       "      <td>5.9</td>\n",
       "      <td>...</td>\n",
       "      <td>12.9</td>\n",
       "      <td>2.2</td>\n",
       "      <td>1.4</td>\n",
       "      <td>0.7</td>\n",
       "      <td>1.5</td>\n",
       "      <td>3.0</td>\n",
       "      <td>16.1</td>\n",
       "      <td>118.0</td>\n",
       "      <td>109.0</td>\n",
       "      <td>-1</td>\n",
       "    </tr>\n",
       "  </tbody>\n",
       "</table>\n",
       "<p>5 rows × 29 columns</p>\n",
       "</div>"
      ],
      "text/plain": [
       "               Player Pos   Age     G    GS    FG   FGA    FG%   3P  3PA  ...  \\\n",
       "3        Steven Adams   C  25.0  80.0  80.0   8.4  14.1  0.595  0.0  0.0  ...   \n",
       "4         Bam Adebayo   C  21.0  82.0  28.0   7.2  12.4  0.576  0.1  0.4  ...   \n",
       "7   LaMarcus Aldridge   C  33.0  81.0  81.0  12.4  24.0  0.519  0.2  0.8  ...   \n",
       "10      Jarrett Allen   C  20.0  80.0  80.0   7.6  12.9  0.590  0.1  1.0  ...   \n",
       "12    Al-Farouq Aminu  PF  28.0  81.0  81.0   5.4  12.5  0.433  2.0  5.9  ...   \n",
       "\n",
       "     TRB  AST  STL  BLK  TOV   PF   PTS   ORtg   DRtg  cluster  \n",
       "3   13.3  2.2  2.0  1.3  2.4  3.6  19.4  120.0  106.0       -1  \n",
       "4   15.2  4.7  1.8  1.7  3.1  5.2  18.6  120.0  104.0       -1  \n",
       "7   13.5  3.5  0.8  1.9  2.6  3.3  31.4  117.0  110.0       -1  \n",
       "10  15.3  2.5  1.0  2.7  2.3  4.2  19.8  123.0  106.0       -1  \n",
       "12  12.9  2.2  1.4  0.7  1.5  3.0  16.1  118.0  109.0       -1  \n",
       "\n",
       "[5 rows x 29 columns]"
      ]
     },
     "execution_count": 28,
     "metadata": {},
     "output_type": "execute_result"
    }
   ],
   "source": [
    "df.head()"
   ]
  },
  {
   "cell_type": "code",
   "execution_count": 34,
   "metadata": {},
   "outputs": [],
   "source": [
    "forplot = ['FG%', 'ORtg', 'DRtg', 'PF', 'cluster']"
   ]
  },
  {
   "cell_type": "code",
   "execution_count": 35,
   "metadata": {},
   "outputs": [],
   "source": [
    "newplot = df[forplot]"
   ]
  },
  {
   "cell_type": "code",
   "execution_count": 36,
   "metadata": {},
   "outputs": [
    {
     "data": {
      "text/plain": [
       "Index(['Player', 'Pos', 'Age', 'G', 'GS', 'FG', 'FGA', 'FG%', '3P', '3PA',\n",
       "       '3P%', '2P', '2PA', '2P%', 'FT', 'FTA', 'FT%', 'ORB', 'DRB', 'TRB',\n",
       "       'AST', 'STL', 'BLK', 'TOV', 'PF', 'PTS', 'ORtg', 'DRtg', 'cluster'],\n",
       "      dtype='object')"
      ]
     },
     "execution_count": 36,
     "metadata": {},
     "output_type": "execute_result"
    }
   ],
   "source": [
    "df.columns"
   ]
  },
  {
   "cell_type": "code",
   "execution_count": 37,
   "metadata": {
    "scrolled": true
   },
   "outputs": [
    {
     "data": {
      "text/plain": [
       "<seaborn.axisgrid.PairGrid at 0x1a29943a648>"
      ]
     },
     "execution_count": 37,
     "metadata": {},
     "output_type": "execute_result"
    },
    {
     "data": {
      "image/png": "[encoded data removed]",
      "text/plain": [
       "<Figure size 946x900 with 30 Axes>"
      ]
     },
     "metadata": {
      "needs_background": "light"
     },
     "output_type": "display_data"
    }
   ],
   "source": [
    "sns.pairplot(newplot, hue = 'cluster')"
   ]
  },
  {
   "cell_type": "code",
   "execution_count": null,
   "metadata": {},
   "outputs": [],
   "source": []
  },
  {
   "cell_type": "markdown",
   "metadata": {},
   "source": [
    "# Trying again"
   ]
  },
  {
   "cell_type": "code",
   "execution_count": null,
   "metadata": {},
   "outputs": [],
   "source": [
    "from sklearn.datasets import make_blobs\n",
    "from sklearn.cluster import KMeans\n",
    "from sklearn.metrics import silhouette_score\n",
    "from sklearn.preprocessing import StandardScaler\n",
    "\n",
    "import numpy as np\n",
    "import pandas as pd\n",
    "\n",
    "import seaborn as sns\n",
    "import matplotlib.pyplot as plt\n",
    "import matplotlib\n",
    "\n",
    "matplotlib.style.use('ggplot')"
   ]
  },
  {
   "cell_type": "code",
   "execution_count": null,
   "metadata": {},
   "outputs": [],
   "source": []
  },
  {
   "cell_type": "code",
   "execution_count": null,
   "metadata": {},
   "outputs": [],
   "source": []
  }
 ],
 "metadata": {
  "kernelspec": {
   "display_name": "Python 3",
   "language": "python",
   "name": "python3"
  },
  "language_info": {
   "codemirror_mode": {
    "name": "ipython",
    "version": 3
   },
   "file_extension": ".py",
   "mimetype": "text/x-python",
   "name": "python",
   "nbconvert_exporter": "python",
   "pygments_lexer": "ipython3",
   "version": "3.7.4"
  }
 },
 "nbformat": 4,
 "nbformat_minor": 2
}
