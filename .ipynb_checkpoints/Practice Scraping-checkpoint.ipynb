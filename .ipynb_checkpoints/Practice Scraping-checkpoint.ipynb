{
 "cells": [
  {
   "cell_type": "markdown",
   "metadata": {},
   "source": [
    "Scraping based on 100 possessions. "
   ]
  },
  {
   "cell_type": "markdown",
   "metadata": {},
   "source": [
    "## Practice Scraping"
   ]
  },
  {
   "cell_type": "code",
   "execution_count": 2,
   "metadata": {},
   "outputs": [],
   "source": [
    "import pandas as pd\n",
    "import requests\n",
    "import time\n",
    "from time import sleep\n",
    "from bs4 import BeautifulSoup"
   ]
  },
  {
   "cell_type": "code",
   "execution_count": 3,
   "metadata": {},
   "outputs": [],
   "source": [
    "url = 'https://www.basketball-reference.com/leagues/NBA_2019_per_poss.html'\n",
    "res = requests.get(url)\n",
    "res.status_code\n",
    "\n",
    "soup = BeautifulSoup(res.content, 'lxml')"
   ]
  },
  {
   "cell_type": "code",
   "execution_count": 7,
   "metadata": {},
   "outputs": [],
   "source": [
    "table = soup.find('table', {'id': 'per_poss_stats'})"
   ]
  },
  {
   "cell_type": "code",
   "execution_count": null,
   "metadata": {},
   "outputs": [],
   "source": [
    "numeric_cols = ['Age', 'G', 'GS', 'MP', 'FG', 'FGA', 'FG%', '3P',\n",
    "       '3PA', '3P%', '2P', '2PA', '2P%', 'FT', 'FTA', 'FT%', 'ORB', 'DRB',\n",
    "       'TRB', 'AST', 'STL', 'BLK', 'TOV', 'PF', 'PTS', 'ORtg', 'DRtg']"
   ]
  },
  {
   "cell_type": "markdown",
   "metadata": {},
   "source": [
    "# BasketballReference Players by Season"
   ]
  },
  {
   "cell_type": "markdown",
   "metadata": {},
   "source": [
    "## I Need to grab player salaries"
   ]
  },
  {
   "cell_type": "markdown",
   "metadata": {},
   "source": [
    "going to do this byy getting the ahrefs of the team link and going into the team page for the season, grabbing the table, and appending it to eachother\n",
    "\n",
    "**Step 1:** grabbing the ahref of the team page"
   ]
  },
  {
   "cell_type": "code",
   "execution_count": 4,
   "metadata": {},
   "outputs": [],
   "source": [
    "year = 'https://www.basketball-reference.com/leagues/NBA_2019_per_poss.html'\n",
    "res = requests.get(year)\n",
    "soup = BeautifulSoup(res.content, 'lxml')\n",
    "table = soup.find('table', {'id' : 'per_poss_stats'})\n",
    "statistics = []\n",
    "url_list = []\n",
    "link = 'https://www.basketball-reference.com'"
   ]
  },
  {
   "cell_type": "code",
   "execution_count": 5,
   "metadata": {},
   "outputs": [
    {
     "ename": "SyntaxError",
     "evalue": "'return' outside function (<ipython-input-5-e09a3d6ac441>, line 10)",
     "output_type": "error",
     "traceback": [
      "\u001b[1;36m  File \u001b[1;32m\"<ipython-input-5-e09a3d6ac441>\"\u001b[1;36m, line \u001b[1;32m10\u001b[0m\n\u001b[1;33m    return url_list\u001b[0m\n\u001b[1;37m                   ^\u001b[0m\n\u001b[1;31mSyntaxError\u001b[0m\u001b[1;31m:\u001b[0m 'return' outside function\n"
     ]
    }
   ],
   "source": [
    "for z in range(len(table.find_all('tr')[1:])):\n",
    "    time.sleep(3)\n",
    "    try:\n",
    "        player_page = link + table.find_all('tr')[1:][z].find('a')['href']\n",
    "        url_list.append(player_page)\n",
    "    except:\n",
    "        error = (f'Error on row {z}')\n",
    "        url_list.append(error)\n",
    "        \n",
    "return url_list"
   ]
  },
  {
   "cell_type": "code",
   "execution_count": null,
   "metadata": {},
   "outputs": [],
   "source": []
  },
  {
   "cell_type": "markdown",
   "metadata": {},
   "source": [
    "## Ok now I'm trying for the charts in Player Profile"
   ]
  },
  {
   "cell_type": "code",
   "execution_count": 3,
   "metadata": {},
   "outputs": [],
   "source": [
    "url = 'https://www.basketball-reference.com/players/a/arizatr01.html'\n",
    "res = requests.get(url)\n",
    "soup = BeautifulSoup(res.content, 'lxml')"
   ]
  },
  {
   "cell_type": "code",
   "execution_count": 4,
   "metadata": {},
   "outputs": [],
   "source": [
    "table = soup.find('table', {'id': 'per_poss_stats'})"
   ]
  },
  {
   "cell_type": "code",
   "execution_count": null,
   "metadata": {},
   "outputs": [],
   "source": [
    "table"
   ]
  },
  {
   "cell_type": "code",
   "execution_count": 43,
   "metadata": {},
   "outputs": [],
   "source": [
    "table = soup.find('div', {'class' : 'table_outer_container mobile_table' })"
   ]
  },
  {
   "cell_type": "code",
   "execution_count": 44,
   "metadata": {},
   "outputs": [],
   "source": [
    "table"
   ]
  },
  {
   "cell_type": "markdown",
   "metadata": {},
   "source": [
    "## Season '18 - '19 DataFrame"
   ]
  },
  {
   "cell_type": "code",
   "execution_count": 5,
   "metadata": {},
   "outputs": [],
   "source": [
    "def grab_stats(year):\n",
    "    res = requests.get(year)\n",
    "    soup = BeautifulSoup(res.content, 'lxml')\n",
    "    table = soup.find('table', {'id' : 'per_poss_stats'})\n",
    "    statistics = []\n",
    "    url_list = []\n",
    "    link = 'https://www.basketball-reference.com'\n",
    "    \n",
    "    #creating list of column names\n",
    "    for label in table.find_all('thead'):\n",
    "        header = {}\n",
    "        header = label.findAll('th')\n",
    "        labels = [i.text for i in header][1:]\n",
    "    \n",
    "    #appending row information\n",
    "    for row in table.find_all('tr')[1:]:\n",
    "        numbers = [stat.text for stat in row.find_all('td')]\n",
    "        statistics.append(numbers)\n",
    "        time.sleep(3)\n",
    "#         print('this is a row being gathered'\n",
    "    \n",
    "    #scrape urls of players\n",
    "    for z in range(len(table.find_all('tr')[1:])):\n",
    "        try:\n",
    "            player_page = link + table.find_all('tr')[1:][z].find('a')['href']\n",
    "            url_list.append(player_page)\n",
    "        except:\n",
    "            error = (f'Error on row {z}')\n",
    "            url_list.append(error)\n",
    "            \n",
    "    df = pd.DataFrame(statistics, columns = labels)\n",
    "    df['url_list'] = url_list\n",
    "    df.drop_duplicates(subset = 'Player', keep = 'first').drop(columns = '')\n",
    "    df.to_csv('season1819.csv')\n",
    "        \n",
    "    return df\n",
    "        \n",
    "season1819 = grab_stats('https://www.basketball-reference.com/leagues/NBA_2019_per_poss.html')"
   ]
  },
  {
   "cell_type": "code",
   "execution_count": 6,
   "metadata": {},
   "outputs": [
    {
     "data": {
      "text/html": [
       "<div>\n",
       "<style scoped>\n",
       "    .dataframe tbody tr th:only-of-type {\n",
       "        vertical-align: middle;\n",
       "    }\n",
       "\n",
       "    .dataframe tbody tr th {\n",
       "        vertical-align: top;\n",
       "    }\n",
       "\n",
       "    .dataframe thead th {\n",
       "        text-align: right;\n",
       "    }\n",
       "</style>\n",
       "<table border=\"1\" class=\"dataframe\">\n",
       "  <thead>\n",
       "    <tr style=\"text-align: right;\">\n",
       "      <th></th>\n",
       "      <th>Player</th>\n",
       "      <th>Pos</th>\n",
       "      <th>Age</th>\n",
       "      <th>Tm</th>\n",
       "      <th>G</th>\n",
       "      <th>GS</th>\n",
       "      <th>MP</th>\n",
       "      <th>FG</th>\n",
       "      <th>FGA</th>\n",
       "      <th>FG%</th>\n",
       "      <th>...</th>\n",
       "      <th>AST</th>\n",
       "      <th>STL</th>\n",
       "      <th>BLK</th>\n",
       "      <th>TOV</th>\n",
       "      <th>PF</th>\n",
       "      <th>PTS</th>\n",
       "      <th></th>\n",
       "      <th>ORtg</th>\n",
       "      <th>DRtg</th>\n",
       "      <th>url_list</th>\n",
       "    </tr>\n",
       "  </thead>\n",
       "  <tbody>\n",
       "    <tr>\n",
       "      <td>0</td>\n",
       "      <td>Álex Abrines</td>\n",
       "      <td>SG</td>\n",
       "      <td>25</td>\n",
       "      <td>OKC</td>\n",
       "      <td>31</td>\n",
       "      <td>2</td>\n",
       "      <td>588</td>\n",
       "      <td>4.4</td>\n",
       "      <td>12.5</td>\n",
       "      <td>.357</td>\n",
       "      <td>...</td>\n",
       "      <td>1.6</td>\n",
       "      <td>1.3</td>\n",
       "      <td>0.5</td>\n",
       "      <td>1.1</td>\n",
       "      <td>4.2</td>\n",
       "      <td>13.1</td>\n",
       "      <td></td>\n",
       "      <td>103</td>\n",
       "      <td>111</td>\n",
       "      <td>https://www.basketball-reference.com/players/a...</td>\n",
       "    </tr>\n",
       "    <tr>\n",
       "      <td>1</td>\n",
       "      <td>Quincy Acy</td>\n",
       "      <td>PF</td>\n",
       "      <td>28</td>\n",
       "      <td>PHO</td>\n",
       "      <td>10</td>\n",
       "      <td>0</td>\n",
       "      <td>123</td>\n",
       "      <td>1.6</td>\n",
       "      <td>7.0</td>\n",
       "      <td>.222</td>\n",
       "      <td>...</td>\n",
       "      <td>3.1</td>\n",
       "      <td>0.4</td>\n",
       "      <td>1.6</td>\n",
       "      <td>1.6</td>\n",
       "      <td>9.3</td>\n",
       "      <td>6.6</td>\n",
       "      <td></td>\n",
       "      <td>87</td>\n",
       "      <td>116</td>\n",
       "      <td>https://www.basketball-reference.com/players/a...</td>\n",
       "    </tr>\n",
       "    <tr>\n",
       "      <td>2</td>\n",
       "      <td>Jaylen Adams</td>\n",
       "      <td>PG</td>\n",
       "      <td>22</td>\n",
       "      <td>ATL</td>\n",
       "      <td>34</td>\n",
       "      <td>1</td>\n",
       "      <td>428</td>\n",
       "      <td>4.1</td>\n",
       "      <td>11.9</td>\n",
       "      <td>.345</td>\n",
       "      <td>...</td>\n",
       "      <td>7.0</td>\n",
       "      <td>1.5</td>\n",
       "      <td>0.5</td>\n",
       "      <td>3.0</td>\n",
       "      <td>4.9</td>\n",
       "      <td>11.7</td>\n",
       "      <td></td>\n",
       "      <td>99</td>\n",
       "      <td>115</td>\n",
       "      <td>https://www.basketball-reference.com/players/a...</td>\n",
       "    </tr>\n",
       "    <tr>\n",
       "      <td>3</td>\n",
       "      <td>Steven Adams</td>\n",
       "      <td>C</td>\n",
       "      <td>25</td>\n",
       "      <td>OKC</td>\n",
       "      <td>80</td>\n",
       "      <td>80</td>\n",
       "      <td>2669</td>\n",
       "      <td>8.4</td>\n",
       "      <td>14.1</td>\n",
       "      <td>.595</td>\n",
       "      <td>...</td>\n",
       "      <td>2.2</td>\n",
       "      <td>2.0</td>\n",
       "      <td>1.3</td>\n",
       "      <td>2.4</td>\n",
       "      <td>3.6</td>\n",
       "      <td>19.4</td>\n",
       "      <td></td>\n",
       "      <td>120</td>\n",
       "      <td>106</td>\n",
       "      <td>https://www.basketball-reference.com/players/a...</td>\n",
       "    </tr>\n",
       "    <tr>\n",
       "      <td>4</td>\n",
       "      <td>Bam Adebayo</td>\n",
       "      <td>C</td>\n",
       "      <td>21</td>\n",
       "      <td>MIA</td>\n",
       "      <td>82</td>\n",
       "      <td>28</td>\n",
       "      <td>1913</td>\n",
       "      <td>7.2</td>\n",
       "      <td>12.4</td>\n",
       "      <td>.576</td>\n",
       "      <td>...</td>\n",
       "      <td>4.7</td>\n",
       "      <td>1.8</td>\n",
       "      <td>1.7</td>\n",
       "      <td>3.1</td>\n",
       "      <td>5.2</td>\n",
       "      <td>18.6</td>\n",
       "      <td></td>\n",
       "      <td>120</td>\n",
       "      <td>104</td>\n",
       "      <td>https://www.basketball-reference.com/players/a...</td>\n",
       "    </tr>\n",
       "  </tbody>\n",
       "</table>\n",
       "<p>5 rows × 32 columns</p>\n",
       "</div>"
      ],
      "text/plain": [
       "         Player Pos Age   Tm   G  GS    MP   FG   FGA   FG%  ...  AST  STL  \\\n",
       "0  Álex Abrines  SG  25  OKC  31   2   588  4.4  12.5  .357  ...  1.6  1.3   \n",
       "1    Quincy Acy  PF  28  PHO  10   0   123  1.6   7.0  .222  ...  3.1  0.4   \n",
       "2  Jaylen Adams  PG  22  ATL  34   1   428  4.1  11.9  .345  ...  7.0  1.5   \n",
       "3  Steven Adams   C  25  OKC  80  80  2669  8.4  14.1  .595  ...  2.2  2.0   \n",
       "4   Bam Adebayo   C  21  MIA  82  28  1913  7.2  12.4  .576  ...  4.7  1.8   \n",
       "\n",
       "   BLK  TOV   PF   PTS   ORtg DRtg  \\\n",
       "0  0.5  1.1  4.2  13.1    103  111   \n",
       "1  1.6  1.6  9.3   6.6     87  116   \n",
       "2  0.5  3.0  4.9  11.7     99  115   \n",
       "3  1.3  2.4  3.6  19.4    120  106   \n",
       "4  1.7  3.1  5.2  18.6    120  104   \n",
       "\n",
       "                                            url_list  \n",
       "0  https://www.basketball-reference.com/players/a...  \n",
       "1  https://www.basketball-reference.com/players/a...  \n",
       "2  https://www.basketball-reference.com/players/a...  \n",
       "3  https://www.basketball-reference.com/players/a...  \n",
       "4  https://www.basketball-reference.com/players/a...  \n",
       "\n",
       "[5 rows x 32 columns]"
      ]
     },
     "execution_count": 6,
     "metadata": {},
     "output_type": "execute_result"
    }
   ],
   "source": [
    "season1819.head()"
   ]
  },
  {
   "cell_type": "code",
   "execution_count": 7,
   "metadata": {},
   "outputs": [
    {
     "data": {
      "text/plain": [
       "(530, 31)"
      ]
     },
     "execution_count": 7,
     "metadata": {},
     "output_type": "execute_result"
    }
   ],
   "source": [
    "season1819.shape"
   ]
  },
  {
   "cell_type": "code",
   "execution_count": 8,
   "metadata": {},
   "outputs": [],
   "source": [
    "season1819.to_csv('season1819.csv')"
   ]
  },
  {
   "cell_type": "markdown",
   "metadata": {},
   "source": [
    "## Season '18-19 Advanced Dataframe because i'm  an IDIOT"
   ]
  },
  {
   "cell_type": "code",
   "execution_count": 21,
   "metadata": {},
   "outputs": [],
   "source": [
    "def grab_stats(year):\n",
    "    res = requests.get(year)\n",
    "    soup = BeautifulSoup(res.content, 'lxml')\n",
    "    table = soup.find('table', {'id' : 'advanced_stats'})\n",
    "    statistics = []\n",
    "    \n",
    "    #creating list of column names\n",
    "    for label in table.find_all('thead'):\n",
    "        header = {}\n",
    "        header = label.findAll('th')\n",
    "        labels = [i.text for i in header][1:]\n",
    "    \n",
    "    #appending row information\n",
    "    for row in table.find_all('tr')[1:]:\n",
    "        numbers = [stat.text for stat in row.find_all('td')]\n",
    "        statistics.append(numbers)\n",
    "        time.sleep(3)\n",
    "#         print('this is a row being gathered')\n",
    "            \n",
    "    df = pd.DataFrame(statistics, columns = labels)\n",
    "    df.drop_duplicates(subset = 'Player', keep = 'first')\n",
    "    df.to_csv('ad_1819.csv')\n",
    "        \n",
    "    return df\n",
    "        \n",
    "ad_1819 = grab_stats('https://www.basketball-reference.com/leagues/NBA_2019_advanced.html')"
   ]
  },
  {
   "cell_type": "code",
   "execution_count": 22,
   "metadata": {},
   "outputs": [
    {
     "data": {
      "text/html": [
       "<div>\n",
       "<style scoped>\n",
       "    .dataframe tbody tr th:only-of-type {\n",
       "        vertical-align: middle;\n",
       "    }\n",
       "\n",
       "    .dataframe tbody tr th {\n",
       "        vertical-align: top;\n",
       "    }\n",
       "\n",
       "    .dataframe thead th {\n",
       "        text-align: right;\n",
       "    }\n",
       "</style>\n",
       "<table border=\"1\" class=\"dataframe\">\n",
       "  <thead>\n",
       "    <tr style=\"text-align: right;\">\n",
       "      <th></th>\n",
       "      <th>Player</th>\n",
       "      <th>Pos</th>\n",
       "      <th>Age</th>\n",
       "      <th>Tm</th>\n",
       "      <th>G</th>\n",
       "      <th>MP</th>\n",
       "      <th>PER</th>\n",
       "      <th>TS%</th>\n",
       "      <th>3PAr</th>\n",
       "      <th>FTr</th>\n",
       "      <th>...</th>\n",
       "      <th></th>\n",
       "      <th>OWS</th>\n",
       "      <th>DWS</th>\n",
       "      <th>WS</th>\n",
       "      <th>WS/48</th>\n",
       "      <th></th>\n",
       "      <th>OBPM</th>\n",
       "      <th>DBPM</th>\n",
       "      <th>BPM</th>\n",
       "      <th>VORP</th>\n",
       "    </tr>\n",
       "  </thead>\n",
       "  <tbody>\n",
       "    <tr>\n",
       "      <td>0</td>\n",
       "      <td>Álex Abrines</td>\n",
       "      <td>SG</td>\n",
       "      <td>25</td>\n",
       "      <td>OKC</td>\n",
       "      <td>31</td>\n",
       "      <td>588</td>\n",
       "      <td>6.3</td>\n",
       "      <td>.507</td>\n",
       "      <td>.809</td>\n",
       "      <td>.083</td>\n",
       "      <td>...</td>\n",
       "      <td></td>\n",
       "      <td>0.1</td>\n",
       "      <td>0.6</td>\n",
       "      <td>0.6</td>\n",
       "      <td>.053</td>\n",
       "      <td></td>\n",
       "      <td>-2.4</td>\n",
       "      <td>-0.9</td>\n",
       "      <td>-3.4</td>\n",
       "      <td>-0.2</td>\n",
       "    </tr>\n",
       "    <tr>\n",
       "      <td>1</td>\n",
       "      <td>Quincy Acy</td>\n",
       "      <td>PF</td>\n",
       "      <td>28</td>\n",
       "      <td>PHO</td>\n",
       "      <td>10</td>\n",
       "      <td>123</td>\n",
       "      <td>2.9</td>\n",
       "      <td>.379</td>\n",
       "      <td>.833</td>\n",
       "      <td>.556</td>\n",
       "      <td>...</td>\n",
       "      <td></td>\n",
       "      <td>-0.1</td>\n",
       "      <td>0.0</td>\n",
       "      <td>-0.1</td>\n",
       "      <td>-0.022</td>\n",
       "      <td></td>\n",
       "      <td>-5.7</td>\n",
       "      <td>-0.3</td>\n",
       "      <td>-5.9</td>\n",
       "      <td>-0.1</td>\n",
       "    </tr>\n",
       "    <tr>\n",
       "      <td>2</td>\n",
       "      <td>Jaylen Adams</td>\n",
       "      <td>PG</td>\n",
       "      <td>22</td>\n",
       "      <td>ATL</td>\n",
       "      <td>34</td>\n",
       "      <td>428</td>\n",
       "      <td>7.6</td>\n",
       "      <td>.474</td>\n",
       "      <td>.673</td>\n",
       "      <td>.082</td>\n",
       "      <td>...</td>\n",
       "      <td></td>\n",
       "      <td>-0.1</td>\n",
       "      <td>0.2</td>\n",
       "      <td>0.1</td>\n",
       "      <td>.011</td>\n",
       "      <td></td>\n",
       "      <td>-3.1</td>\n",
       "      <td>-1.3</td>\n",
       "      <td>-4.4</td>\n",
       "      <td>-0.3</td>\n",
       "    </tr>\n",
       "    <tr>\n",
       "      <td>3</td>\n",
       "      <td>Steven Adams</td>\n",
       "      <td>C</td>\n",
       "      <td>25</td>\n",
       "      <td>OKC</td>\n",
       "      <td>80</td>\n",
       "      <td>2669</td>\n",
       "      <td>18.5</td>\n",
       "      <td>.591</td>\n",
       "      <td>.002</td>\n",
       "      <td>.361</td>\n",
       "      <td>...</td>\n",
       "      <td></td>\n",
       "      <td>5.1</td>\n",
       "      <td>4.0</td>\n",
       "      <td>9.1</td>\n",
       "      <td>.163</td>\n",
       "      <td></td>\n",
       "      <td>0.6</td>\n",
       "      <td>2.1</td>\n",
       "      <td>2.7</td>\n",
       "      <td>3.2</td>\n",
       "    </tr>\n",
       "    <tr>\n",
       "      <td>4</td>\n",
       "      <td>Bam Adebayo</td>\n",
       "      <td>C</td>\n",
       "      <td>21</td>\n",
       "      <td>MIA</td>\n",
       "      <td>82</td>\n",
       "      <td>1913</td>\n",
       "      <td>17.9</td>\n",
       "      <td>.623</td>\n",
       "      <td>.031</td>\n",
       "      <td>.465</td>\n",
       "      <td>...</td>\n",
       "      <td></td>\n",
       "      <td>3.4</td>\n",
       "      <td>3.4</td>\n",
       "      <td>6.8</td>\n",
       "      <td>.171</td>\n",
       "      <td></td>\n",
       "      <td>-0.6</td>\n",
       "      <td>3.6</td>\n",
       "      <td>3.0</td>\n",
       "      <td>2.4</td>\n",
       "    </tr>\n",
       "    <tr>\n",
       "      <td>...</td>\n",
       "      <td>...</td>\n",
       "      <td>...</td>\n",
       "      <td>...</td>\n",
       "      <td>...</td>\n",
       "      <td>...</td>\n",
       "      <td>...</td>\n",
       "      <td>...</td>\n",
       "      <td>...</td>\n",
       "      <td>...</td>\n",
       "      <td>...</td>\n",
       "      <td>...</td>\n",
       "      <td>...</td>\n",
       "      <td>...</td>\n",
       "      <td>...</td>\n",
       "      <td>...</td>\n",
       "      <td>...</td>\n",
       "      <td>...</td>\n",
       "      <td>...</td>\n",
       "      <td>...</td>\n",
       "      <td>...</td>\n",
       "      <td>...</td>\n",
       "    </tr>\n",
       "    <tr>\n",
       "      <td>729</td>\n",
       "      <td>Tyler Zeller</td>\n",
       "      <td>C</td>\n",
       "      <td>29</td>\n",
       "      <td>MEM</td>\n",
       "      <td>4</td>\n",
       "      <td>82</td>\n",
       "      <td>19.4</td>\n",
       "      <td>.640</td>\n",
       "      <td>.000</td>\n",
       "      <td>.643</td>\n",
       "      <td>...</td>\n",
       "      <td></td>\n",
       "      <td>0.2</td>\n",
       "      <td>0.1</td>\n",
       "      <td>0.3</td>\n",
       "      <td>.191</td>\n",
       "      <td></td>\n",
       "      <td>-0.3</td>\n",
       "      <td>-1.3</td>\n",
       "      <td>-1.5</td>\n",
       "      <td>0.0</td>\n",
       "    </tr>\n",
       "    <tr>\n",
       "      <td>730</td>\n",
       "      <td>Ante Žižić</td>\n",
       "      <td>C</td>\n",
       "      <td>22</td>\n",
       "      <td>CLE</td>\n",
       "      <td>59</td>\n",
       "      <td>1082</td>\n",
       "      <td>16.2</td>\n",
       "      <td>.590</td>\n",
       "      <td>.000</td>\n",
       "      <td>.399</td>\n",
       "      <td>...</td>\n",
       "      <td></td>\n",
       "      <td>1.7</td>\n",
       "      <td>0.3</td>\n",
       "      <td>2.0</td>\n",
       "      <td>.087</td>\n",
       "      <td></td>\n",
       "      <td>-1.7</td>\n",
       "      <td>-1.4</td>\n",
       "      <td>-3.1</td>\n",
       "      <td>-0.3</td>\n",
       "    </tr>\n",
       "    <tr>\n",
       "      <td>731</td>\n",
       "      <td>Ivica Zubac</td>\n",
       "      <td>C</td>\n",
       "      <td>21</td>\n",
       "      <td>TOT</td>\n",
       "      <td>59</td>\n",
       "      <td>1040</td>\n",
       "      <td>18.9</td>\n",
       "      <td>.604</td>\n",
       "      <td>.000</td>\n",
       "      <td>.332</td>\n",
       "      <td>...</td>\n",
       "      <td></td>\n",
       "      <td>1.9</td>\n",
       "      <td>1.3</td>\n",
       "      <td>3.2</td>\n",
       "      <td>.148</td>\n",
       "      <td></td>\n",
       "      <td>-1.2</td>\n",
       "      <td>1.0</td>\n",
       "      <td>-0.3</td>\n",
       "      <td>0.5</td>\n",
       "    </tr>\n",
       "    <tr>\n",
       "      <td>732</td>\n",
       "      <td>Ivica Zubac</td>\n",
       "      <td>C</td>\n",
       "      <td>21</td>\n",
       "      <td>LAL</td>\n",
       "      <td>33</td>\n",
       "      <td>516</td>\n",
       "      <td>19.5</td>\n",
       "      <td>.633</td>\n",
       "      <td>.000</td>\n",
       "      <td>.342</td>\n",
       "      <td>...</td>\n",
       "      <td></td>\n",
       "      <td>1.1</td>\n",
       "      <td>0.6</td>\n",
       "      <td>1.8</td>\n",
       "      <td>.165</td>\n",
       "      <td></td>\n",
       "      <td>-1.3</td>\n",
       "      <td>0.4</td>\n",
       "      <td>-0.9</td>\n",
       "      <td>0.1</td>\n",
       "    </tr>\n",
       "    <tr>\n",
       "      <td>733</td>\n",
       "      <td>Ivica Zubac</td>\n",
       "      <td>C</td>\n",
       "      <td>21</td>\n",
       "      <td>LAC</td>\n",
       "      <td>26</td>\n",
       "      <td>524</td>\n",
       "      <td>18.3</td>\n",
       "      <td>.574</td>\n",
       "      <td>.000</td>\n",
       "      <td>.323</td>\n",
       "      <td>...</td>\n",
       "      <td></td>\n",
       "      <td>0.7</td>\n",
       "      <td>0.7</td>\n",
       "      <td>1.4</td>\n",
       "      <td>.132</td>\n",
       "      <td></td>\n",
       "      <td>-1.2</td>\n",
       "      <td>1.5</td>\n",
       "      <td>0.3</td>\n",
       "      <td>0.3</td>\n",
       "    </tr>\n",
       "  </tbody>\n",
       "</table>\n",
       "<p>734 rows × 28 columns</p>\n",
       "</div>"
      ],
      "text/plain": [
       "           Player Pos Age   Tm   G    MP   PER   TS%  3PAr   FTr  ...     \\\n",
       "0    Álex Abrines  SG  25  OKC  31   588   6.3  .507  .809  .083  ...      \n",
       "1      Quincy Acy  PF  28  PHO  10   123   2.9  .379  .833  .556  ...      \n",
       "2    Jaylen Adams  PG  22  ATL  34   428   7.6  .474  .673  .082  ...      \n",
       "3    Steven Adams   C  25  OKC  80  2669  18.5  .591  .002  .361  ...      \n",
       "4     Bam Adebayo   C  21  MIA  82  1913  17.9  .623  .031  .465  ...      \n",
       "..            ...  ..  ..  ...  ..   ...   ...   ...   ...   ...  ... ..   \n",
       "729  Tyler Zeller   C  29  MEM   4    82  19.4  .640  .000  .643  ...      \n",
       "730    Ante Žižić   C  22  CLE  59  1082  16.2  .590  .000  .399  ...      \n",
       "731   Ivica Zubac   C  21  TOT  59  1040  18.9  .604  .000  .332  ...      \n",
       "732   Ivica Zubac   C  21  LAL  33   516  19.5  .633  .000  .342  ...      \n",
       "733   Ivica Zubac   C  21  LAC  26   524  18.3  .574  .000  .323  ...      \n",
       "\n",
       "      OWS  DWS    WS   WS/48     OBPM  DBPM   BPM  VORP  \n",
       "0     0.1  0.6   0.6    .053     -2.4  -0.9  -3.4  -0.2  \n",
       "1    -0.1  0.0  -0.1  -0.022     -5.7  -0.3  -5.9  -0.1  \n",
       "2    -0.1  0.2   0.1    .011     -3.1  -1.3  -4.4  -0.3  \n",
       "3     5.1  4.0   9.1    .163      0.6   2.1   2.7   3.2  \n",
       "4     3.4  3.4   6.8    .171     -0.6   3.6   3.0   2.4  \n",
       "..    ...  ...   ...     ... ..   ...   ...   ...   ...  \n",
       "729   0.2  0.1   0.3    .191     -0.3  -1.3  -1.5   0.0  \n",
       "730   1.7  0.3   2.0    .087     -1.7  -1.4  -3.1  -0.3  \n",
       "731   1.9  1.3   3.2    .148     -1.2   1.0  -0.3   0.5  \n",
       "732   1.1  0.6   1.8    .165     -1.3   0.4  -0.9   0.1  \n",
       "733   0.7  0.7   1.4    .132     -1.2   1.5   0.3   0.3  \n",
       "\n",
       "[734 rows x 28 columns]"
      ]
     },
     "execution_count": 22,
     "metadata": {},
     "output_type": "execute_result"
    }
   ],
   "source": [
    "ad_1819"
   ]
  },
  {
   "cell_type": "code",
   "execution_count": null,
   "metadata": {},
   "outputs": [],
   "source": []
  },
  {
   "cell_type": "code",
   "execution_count": null,
   "metadata": {},
   "outputs": [],
   "source": [
    "link = 'https://www.basketball-reference.com'\n",
    "for i in range(len(table.find_all('tr')[1:])):\n",
    "    player_link = table.find_all('tr')[1:][i].find('a')['href']\n",
    "    player_page = link + player_link\n",
    "    res = requests.get(player_page)\n",
    "    soup = BeautifulSoup(res.content, 'lxml')\n",
    "    info = soup.find('div', {'itemtype': 'https://schema.org/Person'})\n",
    "    time.sleep(5)\n",
    "    print(info.find_all('p')[2].text.split())\n",
    "    print(info.find_all('p')[3].text.split())\n",
    "    print('----------------')"
   ]
  },
  {
   "cell_type": "markdown",
   "metadata": {},
   "source": [
    "## Season '17 - '18 DataFrame"
   ]
  },
  {
   "cell_type": "code",
   "execution_count": 9,
   "metadata": {},
   "outputs": [],
   "source": [
    "def grab_stats(year):\n",
    "    res = requests.get(year)\n",
    "    soup = BeautifulSoup(res.content, 'lxml')\n",
    "    table = soup.find('table', {'id' : 'per_poss_stats'})\n",
    "    statistics = []\n",
    "    url_list = []\n",
    "    link = 'https://www.basketball-reference.com'\n",
    "    \n",
    "    #creating list of column names\n",
    "    for label in table.find_all('thead'):\n",
    "        header = {}\n",
    "        header = label.findAll('th')\n",
    "        labels = [i.text for i in header][1:]\n",
    "    \n",
    "    #appending row information\n",
    "    for row in table.find_all('tr')[1:]:\n",
    "        numbers = [stat.text for stat in row.find_all('td')]\n",
    "        statistics.append(numbers)\n",
    "        time.sleep(3)\n",
    "#         print('this is a row being gathered'\n",
    "    \n",
    "    #scrape urls of players\n",
    "    for z in range(len(table.find_all('tr')[1:])):\n",
    "        try:\n",
    "            player_page = link + table.find_all('tr')[1:][z].find('a')['href']\n",
    "            url_list.append(player_page)\n",
    "        except:\n",
    "            error = (f'Error on row {z}')\n",
    "            url_list.append(error)\n",
    "        time.sleep(3)\n",
    "            \n",
    "    df = pd.DataFrame(statistics, columns = labels)\n",
    "    df['url_list'] = url_list\n",
    "        \n",
    "    return df.drop_duplicates(subset = 'Player', keep = 'first').drop(columns = '')\n",
    "        \n",
    "season1819 = grab_stats('https://www.basketball-reference.com/leagues/NBA_2018_per_poss.html')"
   ]
  },
  {
   "cell_type": "code",
   "execution_count": null,
   "metadata": {},
   "outputs": [],
   "source": [
    "season1718.shape"
   ]
  },
  {
   "cell_type": "code",
   "execution_count": null,
   "metadata": {},
   "outputs": [],
   "source": [
    "season1718.dropna(inplace = True)\n",
    "season1718.drop(columns = '', inplace = True)\n",
    "season1718.shape"
   ]
  },
  {
   "cell_type": "code",
   "execution_count": null,
   "metadata": {},
   "outputs": [],
   "source": [
    "season1718.head()"
   ]
  },
  {
   "cell_type": "markdown",
   "metadata": {},
   "source": [
    "## Season '16 - '17 DataFrame"
   ]
  },
  {
   "cell_type": "code",
   "execution_count": null,
   "metadata": {},
   "outputs": [],
   "source": [
    "def grab_stats(year):\n",
    "    res = requests.get(year)\n",
    "    soup = BeautifulSoup(res.content, 'lxml')\n",
    "    table = soup.find('table', {'id' : 'per_poss_stats'})\n",
    "    statistics = []\n",
    "    url_list = []\n",
    "    link = 'https://www.basketball-reference.com'\n",
    "    #scrape labels for column names\n",
    "    for label in table.find_all('thead'):\n",
    "        time.sleep(10)\n",
    "        header = {}\n",
    "        header = label.findAll('th')\n",
    "        labels = [i.text for i in header][1:]\n",
    "    \n",
    "    #scrape rows in dataframe\n",
    "    for row in table.find_all('tr')[1:]:\n",
    "        time.sleep(10)\n",
    "        numbers = [stat.text for stat in row.find_all('td')]\n",
    "        statistics.append(numbers)\n",
    "    \n",
    "    #scrape urls of players\n",
    "    for z in range(len(table.find_all('tr')[1:])):\n",
    "        time.sleep(10)\n",
    "        try:\n",
    "            player_page = link + table.find_all('tr')[1:][z].find('a')['href']\n",
    "            url_list.append(player_page)\n",
    "        except:\n",
    "            error = (f'Error on row {z}')\n",
    "            url_list.append(error)\n",
    "    \n",
    "    df = pd.DataFrame(statistics, columns = labels)\n",
    "    df['url_list'] = url_list\n",
    "#     for position in range(len(table.find_all('tr')[1:]))\n",
    "        \n",
    "    return df.drop_duplicates(subset = 'Player', keep = 'first')\n",
    "        \n",
    "\n",
    "season1617 = grab_stats('https://www.basketball-reference.com/leagues/NBA_2017_per_poss.html')"
   ]
  },
  {
   "cell_type": "code",
   "execution_count": null,
   "metadata": {},
   "outputs": [],
   "source": [
    "season1617.shape"
   ]
  },
  {
   "cell_type": "code",
   "execution_count": null,
   "metadata": {},
   "outputs": [],
   "source": [
    "season1617.dropna(inplace = True)\n",
    "season1617.drop(columns = '', inplace = True)\n",
    "season1617.shape"
   ]
  },
  {
   "cell_type": "code",
   "execution_count": null,
   "metadata": {
    "scrolled": true
   },
   "outputs": [],
   "source": [
    "season1617.head()"
   ]
  },
  {
   "cell_type": "markdown",
   "metadata": {},
   "source": [
    "## Season '15 - '16 DataFrame"
   ]
  },
  {
   "cell_type": "code",
   "execution_count": null,
   "metadata": {},
   "outputs": [],
   "source": [
    "def grab_stats(year):\n",
    "    res = requests.get(year)\n",
    "    soup = BeautifulSoup(res.content, 'lxml')\n",
    "    table = soup.find('table', {'id' : 'per_poss_stats'})\n",
    "    statistics = []\n",
    "    url_list = []\n",
    "    link = 'https://www.basketball-reference.com'\n",
    "    \n",
    "    #scrape labels for column names\n",
    "    for label in table.find_all('thead'):\n",
    "        time.sleep(10)\n",
    "        header = {}\n",
    "        header = label.findAll('th')\n",
    "        labels = [i.text for i in header][1:]\n",
    "    \n",
    "    #scrape rows in dataframe\n",
    "    for row in table.find_all('tr')[1:]:\n",
    "        time.sleep(10)\n",
    "        numbers = [stat.text for stat in row.find_all('td')]\n",
    "        statistics.append(numbers)\n",
    "    \n",
    "    #scrape urls of players\n",
    "    for z in range(len(table.find_all('tr')[1:])):\n",
    "        time.sleep(10)\n",
    "        try:\n",
    "            player_page = link + table.find_all('tr')[1:][z].find('a')['href']\n",
    "            url_list.append(player_page)\n",
    "        except:\n",
    "            error = (f'Error on row {z}')\n",
    "            url_list.append(error)\n",
    "    \n",
    "    df = pd.DataFrame(statistics, columns = labels)\n",
    "    df['url_list'] = url_list\n",
    "#     for position in range(len(table.find_all('tr')[1:]))\n",
    "        \n",
    "    return df.drop_duplicates(subset = 'Player', keep = 'first')\n",
    "        \n",
    "\n",
    "season1516 = grab_stats('https://www.basketball-reference.com/leagues/NBA_2016_per_poss.html')"
   ]
  },
  {
   "cell_type": "code",
   "execution_count": null,
   "metadata": {},
   "outputs": [],
   "source": [
    "if columns = "
   ]
  },
  {
   "cell_type": "code",
   "execution_count": null,
   "metadata": {},
   "outputs": [],
   "source": [
    "season1516.shape"
   ]
  },
  {
   "cell_type": "code",
   "execution_count": null,
   "metadata": {},
   "outputs": [],
   "source": [
    "season1516.dropna(inplace = True)\n",
    "season1516.drop(columns = '', inplace = True)\n",
    "season1516.shape"
   ]
  },
  {
   "cell_type": "markdown",
   "metadata": {},
   "source": [
    "# Season '14 - '15 DataFrame "
   ]
  },
  {
   "cell_type": "code",
   "execution_count": null,
   "metadata": {},
   "outputs": [],
   "source": [
    "def grab_stats(year):\n",
    "    res = requests.get(year)\n",
    "    soup = BeautifulSoup(res.content, 'lxml')\n",
    "    table = soup.find('table', {'id' : 'per_poss_stats'})\n",
    "    statistics = []\n",
    "    url_list = []\n",
    "    link = 'https://www.basketball-reference.com'\n",
    "    \n",
    "    #creating list of column names\n",
    "    for label in table.find_all('thead'):\n",
    "        header = {}\n",
    "        header = label.findAll('th')\n",
    "        labels = [i.text for i in header][1:]\n",
    "\n",
    "    #appending row information\n",
    "    for row in table.find_all('tr')[1:]:\n",
    "        numbers = [stat.text for stat in row.find_all('td')]\n",
    "        statistics.append(numbers)\n",
    "        time.sleep(10)\n",
    "    \n",
    "    #create list for URL of player's page\n",
    "    for z in range(len(table.find_all('tr')[1:])):\n",
    "        time.sleep(10)\n",
    "        try:\n",
    "            player_page = link + table.find_all('tr')[1:][z].find('a')['href']\n",
    "            url_list.append(player_page)\n",
    "        except:\n",
    "            error = (f'Error on row {z}')\n",
    "            url_list.append(error)\n",
    "\n",
    "    df = pd.DataFrame(statistics, columns = labels)\n",
    "    df['url_list'] = url_list\n",
    "    \n",
    "    #making columns numeric\n",
    "    for z in (df.columns):\n",
    "        if z in numeric_cols:\n",
    "            df[z] = df[z].apply(pd.to_numeric)\n",
    "        else:\n",
    "            df[z] = df[z]\n",
    "    \n",
    "            \n",
    "    return df.drop_duplicates(subset = 'Player', keep = 'first')\n",
    "        \n",
    "\n",
    "season1415 = grab_stats('https://www.basketball-reference.com/leagues/NBA_2015_per_poss.html')"
   ]
  },
  {
   "cell_type": "code",
   "execution_count": null,
   "metadata": {},
   "outputs": [],
   "source": [
    "season1415.shape"
   ]
  },
  {
   "cell_type": "code",
   "execution_count": 7,
   "metadata": {},
   "outputs": [
    {
     "data": {
      "text/plain": [
       "(414, 31)"
      ]
     },
     "execution_count": 7,
     "metadata": {},
     "output_type": "execute_result"
    }
   ],
   "source": [
    "season1415.dropna(inplace = True)\n",
    "season1415.drop(columns = '', inplace = True)\n",
    "season1415.shape"
   ]
  },
  {
   "cell_type": "markdown",
   "metadata": {},
   "source": [
    "# Season"
   ]
  },
  {
   "cell_type": "code",
   "execution_count": null,
   "metadata": {
    "scrolled": true
   },
   "outputs": [],
   "source": [
    "season1819.head()"
   ]
  },
  {
   "cell_type": "code",
   "execution_count": null,
   "metadata": {},
   "outputs": [],
   "source": [
    "season1718.columns[]"
   ]
  },
  {
   "cell_type": "code",
   "execution_count": null,
   "metadata": {},
   "outputs": [],
   "source": [
    "season1718.iloc[: , 4:30]"
   ]
  },
  {
   "cell_type": "code",
   "execution_count": null,
   "metadata": {},
   "outputs": [],
   "source": []
  }
 ],
 "metadata": {
  "kernelspec": {
   "display_name": "Python 3",
   "language": "python",
   "name": "python3"
  },
  "language_info": {
   "codemirror_mode": {
    "name": "ipython",
    "version": 3
   },
   "file_extension": ".py",
   "mimetype": "text/x-python",
   "name": "python",
   "nbconvert_exporter": "python",
   "pygments_lexer": "ipython3",
   "version": "3.7.4"
  }
 },
 "nbformat": 4,
 "nbformat_minor": 2
}
